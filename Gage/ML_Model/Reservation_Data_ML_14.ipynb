{
 "cells": [
  {
   "cell_type": "markdown",
   "metadata": {},
   "source": [
    "# ML for Reservation Data & Correlation with Houston Census Figures\n",
    "\n",
    "import pandas as pd\n",
    "import numpy as np\n",
    "import xlrd\n",
    "import matplotlib.pyplot as plt\n",
    "import seaborn as sns"
   ]
  },
  {
   "cell_type": "code",
   "execution_count": 1,
   "metadata": {},
   "outputs": [],
   "source": [
    "import warnings\n",
    "warnings.simplefilter('ignore')\n",
    "\n",
    "# %matplotlib inline\n",
    "import matplotlib.pyplot as plt\n",
    "import numpy as np\n",
    "import pandas as pd\n",
    "import xlrd\n",
    "import seaborn as sns"
   ]
  },
  {
   "cell_type": "code",
   "execution_count": 2,
   "metadata": {},
   "outputs": [],
   "source": [
    "from sklearn import preprocessing\n",
    "import matplotlib.pyplot as plt \n",
    "plt.rc(\"font\", size=14)\n",
    "from sklearn.linear_model import LogisticRegression\n",
    "from sklearn.model_selection import train_test_split\n",
    "sns.set(style=\"white\")\n",
    "sns.set(style=\"whitegrid\", color_codes=True)"
   ]
  },
  {
   "cell_type": "markdown",
   "metadata": {},
   "source": [
    "# Reading in Census Data"
   ]
  },
  {
   "cell_type": "code",
   "execution_count": 3,
   "metadata": {},
   "outputs": [
    {
     "data": {
      "text/html": [
       "<div>\n",
       "<style scoped>\n",
       "    .dataframe tbody tr th:only-of-type {\n",
       "        vertical-align: middle;\n",
       "    }\n",
       "\n",
       "    .dataframe tbody tr th {\n",
       "        vertical-align: top;\n",
       "    }\n",
       "\n",
       "    .dataframe thead th {\n",
       "        text-align: right;\n",
       "    }\n",
       "</style>\n",
       "<table border=\"1\" class=\"dataframe\">\n",
       "  <thead>\n",
       "    <tr style=\"text-align: right;\">\n",
       "      <th></th>\n",
       "      <th>line_number</th>\n",
       "      <th>house_number</th>\n",
       "      <th>street_name</th>\n",
       "      <th>last_name</th>\n",
       "      <th>given_name</th>\n",
       "      <th>relation</th>\n",
       "      <th>color_race</th>\n",
       "      <th>sex</th>\n",
       "      <th>age_at_last_birthday</th>\n",
       "      <th>occupation</th>\n",
       "      <th>own_or_rent</th>\n",
       "      <th>owned_free_or_mortgage</th>\n",
       "      <th>house_or_farm</th>\n",
       "      <th>my_notes</th>\n",
       "      <th>file_name</th>\n",
       "      <th>census_year</th>\n",
       "      <th>grouped_occu</th>\n",
       "    </tr>\n",
       "  </thead>\n",
       "  <tbody>\n",
       "    <tr>\n",
       "      <th>0</th>\n",
       "      <td>65</td>\n",
       "      <td>830</td>\n",
       "      <td>Arthur St</td>\n",
       "      <td>Brown</td>\n",
       "      <td>Eliza</td>\n",
       "      <td>Boarder</td>\n",
       "      <td>B</td>\n",
       "      <td>F</td>\n",
       "      <td>26</td>\n",
       "      <td>Servant</td>\n",
       "      <td>Null</td>\n",
       "      <td>Null</td>\n",
       "      <td>Null</td>\n",
       "      <td>Null</td>\n",
       "      <td>1900 census ED 70 page 2</td>\n",
       "      <td>1900</td>\n",
       "      <td>Unskilled</td>\n",
       "    </tr>\n",
       "    <tr>\n",
       "      <th>1</th>\n",
       "      <td>63</td>\n",
       "      <td>830</td>\n",
       "      <td>Arthur St</td>\n",
       "      <td>Butcher</td>\n",
       "      <td>John H.</td>\n",
       "      <td>Boarder</td>\n",
       "      <td>B</td>\n",
       "      <td>M</td>\n",
       "      <td>27</td>\n",
       "      <td>Drayman</td>\n",
       "      <td>Null</td>\n",
       "      <td>Null</td>\n",
       "      <td>Null</td>\n",
       "      <td>Null</td>\n",
       "      <td>1900 census ED 70 page 2</td>\n",
       "      <td>1900</td>\n",
       "      <td>Unskilled</td>\n",
       "    </tr>\n",
       "    <tr>\n",
       "      <th>2</th>\n",
       "      <td>61</td>\n",
       "      <td>830</td>\n",
       "      <td>Arthur St</td>\n",
       "      <td>Olliver</td>\n",
       "      <td>Marsha</td>\n",
       "      <td>Head</td>\n",
       "      <td>B</td>\n",
       "      <td>F</td>\n",
       "      <td>25</td>\n",
       "      <td>Laundress</td>\n",
       "      <td>Rent</td>\n",
       "      <td>Null</td>\n",
       "      <td>House</td>\n",
       "      <td>Null</td>\n",
       "      <td>1900 census ED 70 page 2</td>\n",
       "      <td>1900</td>\n",
       "      <td>Unskilled</td>\n",
       "    </tr>\n",
       "    <tr>\n",
       "      <th>3</th>\n",
       "      <td>64</td>\n",
       "      <td>830</td>\n",
       "      <td>Arthur St</td>\n",
       "      <td>Spivey</td>\n",
       "      <td>Neata</td>\n",
       "      <td>Boarder</td>\n",
       "      <td>B</td>\n",
       "      <td>F</td>\n",
       "      <td>25</td>\n",
       "      <td>Servant</td>\n",
       "      <td>Null</td>\n",
       "      <td>Null</td>\n",
       "      <td>Null</td>\n",
       "      <td>Null</td>\n",
       "      <td>1900 census ED 70 page 2</td>\n",
       "      <td>1900</td>\n",
       "      <td>Unskilled</td>\n",
       "    </tr>\n",
       "    <tr>\n",
       "      <th>4</th>\n",
       "      <td>62</td>\n",
       "      <td>830</td>\n",
       "      <td>Arthur St</td>\n",
       "      <td>Wells</td>\n",
       "      <td>Ethel</td>\n",
       "      <td>Daughter</td>\n",
       "      <td>B</td>\n",
       "      <td>F</td>\n",
       "      <td>8</td>\n",
       "      <td>At School</td>\n",
       "      <td>Null</td>\n",
       "      <td>Null</td>\n",
       "      <td>Null</td>\n",
       "      <td>Null</td>\n",
       "      <td>1900 census ED 70 page 2</td>\n",
       "      <td>1900</td>\n",
       "      <td>Student</td>\n",
       "    </tr>\n",
       "  </tbody>\n",
       "</table>\n",
       "</div>"
      ],
      "text/plain": [
       "   line_number house_number street_name last_name given_name  relation  \\\n",
       "0           65          830   Arthur St     Brown      Eliza   Boarder   \n",
       "1           63          830   Arthur St   Butcher    John H.   Boarder   \n",
       "2           61          830   Arthur St   Olliver     Marsha      Head   \n",
       "3           64          830   Arthur St    Spivey      Neata   Boarder   \n",
       "4           62          830   Arthur St     Wells      Ethel  Daughter   \n",
       "\n",
       "  color_race sex age_at_last_birthday occupation own_or_rent  \\\n",
       "0          B   F                   26    Servant        Null   \n",
       "1          B   M                   27    Drayman        Null   \n",
       "2          B   F                   25  Laundress        Rent   \n",
       "3          B   F                   25    Servant        Null   \n",
       "4          B   F                    8  At School        Null   \n",
       "\n",
       "  owned_free_or_mortgage house_or_farm my_notes                 file_name  \\\n",
       "0                   Null          Null     Null  1900 census ED 70 page 2   \n",
       "1                   Null          Null     Null  1900 census ED 70 page 2   \n",
       "2                   Null         House     Null  1900 census ED 70 page 2   \n",
       "3                   Null          Null     Null  1900 census ED 70 page 2   \n",
       "4                   Null          Null     Null  1900 census ED 70 page 2   \n",
       "\n",
       "   census_year grouped_occu  \n",
       "0         1900    Unskilled  \n",
       "1         1900    Unskilled  \n",
       "2         1900    Unskilled  \n",
       "3         1900    Unskilled  \n",
       "4         1900      Student  "
      ]
     },
     "execution_count": 3,
     "metadata": {},
     "output_type": "execute_result"
    }
   ],
   "source": [
    "Census_Data = pd.read_csv('censuses.csv', index_col=None)\n",
    "Census_Data.head(5)"
   ]
  },
  {
   "cell_type": "code",
   "execution_count": 4,
   "metadata": {},
   "outputs": [
    {
     "data": {
      "text/plain": [
       "<matplotlib.axes._subplots.AxesSubplot at 0x150001a72e8>"
      ]
     },
     "execution_count": 4,
     "metadata": {},
     "output_type": "execute_result"
    },
    {
     "data": {
      "image/png": "[encoded data removed]",
      "text/plain": [
       "<Figure size 432x288 with 2 Axes>"
      ]
     },
     "metadata": {},
     "output_type": "display_data"
    }
   ],
   "source": [
    "sns.heatmap(Census_Data.isnull(),yticklabels=False,cbar=True,cmap='viridis')"
   ]
  },
  {
   "cell_type": "code",
   "execution_count": 5,
   "metadata": {},
   "outputs": [
    {
     "data": {
      "text/plain": [
       "line_number               False\n",
       "house_number               True\n",
       "street_name                True\n",
       "last_name                  True\n",
       "given_name                 True\n",
       "relation                   True\n",
       "color_race                False\n",
       "sex                       False\n",
       "age_at_last_birthday      False\n",
       "occupation                False\n",
       "own_or_rent                True\n",
       "owned_free_or_mortgage     True\n",
       "house_or_farm              True\n",
       "my_notes                   True\n",
       "file_name                  True\n",
       "census_year               False\n",
       "grouped_occu              False\n",
       "dtype: bool"
      ]
     },
     "execution_count": 5,
     "metadata": {},
     "output_type": "execute_result"
    }
   ],
   "source": [
    "Census_Data.isnull().any()"
   ]
  },
  {
   "cell_type": "code",
   "execution_count": 6,
   "metadata": {},
   "outputs": [
    {
     "data": {
      "text/plain": [
       "Index(['line_number', 'house_number', 'street_name', 'last_name', 'given_name',\n",
       "       'relation', 'color_race', 'sex', 'age_at_last_birthday', 'occupation',\n",
       "       'own_or_rent', 'owned_free_or_mortgage', 'house_or_farm', 'my_notes',\n",
       "       'file_name', 'census_year', 'grouped_occu'],\n",
       "      dtype='object')"
      ]
     },
     "execution_count": 6,
     "metadata": {},
     "output_type": "execute_result"
    }
   ],
   "source": [
    "Census_Data.columns"
   ]
  },
  {
   "cell_type": "code",
   "execution_count": 7,
   "metadata": {},
   "outputs": [],
   "source": [
    "Census_Data = Census_Data[['color_race', 'sex', 'age_at_last_birthday', 'occupation',\n",
    "       'census_year', 'grouped_occu']]"
   ]
  },
  {
   "cell_type": "code",
   "execution_count": 8,
   "metadata": {},
   "outputs": [
    {
     "data": {
      "text/plain": [
       "color_race              False\n",
       "sex                     False\n",
       "age_at_last_birthday    False\n",
       "occupation              False\n",
       "census_year             False\n",
       "grouped_occu            False\n",
       "dtype: bool"
      ]
     },
     "execution_count": 8,
     "metadata": {},
     "output_type": "execute_result"
    }
   ],
   "source": [
    "Census_Data.isnull().any()"
   ]
  },
  {
   "cell_type": "markdown",
   "metadata": {},
   "source": [
    "## Clean the Age Column"
   ]
  },
  {
   "cell_type": "code",
   "execution_count": 9,
   "metadata": {},
   "outputs": [
    {
     "data": {
      "text/plain": [
       "array(['26', '27', '25', '8', '46', '34', '19', '15', '12', '9', '21',\n",
       "       '5', '0', '2', '58', '35', '23', '18', '13', '56', '41', '20',\n",
       "       '39', '7', '24', '51', '43', '17', '14', '60', '22', '54', '48',\n",
       "       '10', '28', '30', '11', '32', '31', '29', '50', '49', '1', '63',\n",
       "       '33', '6', '64', '3', '37', '55', '36', '57', '53', '16', '87',\n",
       "       '81', '38', '4', '65', '45', '40', '76', '47', '44', '75', '42',\n",
       "       '52', '61', '68', '69', '77', '105', '59', '62', 'Null', '84',\n",
       "       '80', '5 and 0 months', '2 months', '2 and 3 month',\n",
       "       '5 and 1 month', '3 and 10 months', '11 months', '70', 'un - (80)',\n",
       "       '3 and 11 months', '9 months', '2 and 11 months', '5 months',\n",
       "       '5 and 11 months', '67', '4 and 0 months', 'Un.', '6 and 1 month',\n",
       "       '4 and 1 month', '2 and 6 months', '4 and 10 months',\n",
       "       '1 and 4 months', '1 month', '2 and 5 months', '8 months', '73',\n",
       "       '10 months', '2 and 10 months', '1 and 9 months', '4 months',\n",
       "       '2 and 3 months', '0 months', '3 and 2 months', '5 and 9 months',\n",
       "       '2 and 9 months', '3 months', '3 and 6 months', '7 and 10 month',\n",
       "       '3 and 8 months', '3 and 7 months', '71', '1 and 6 months',\n",
       "       '3 and 5 months', '66', '3 and 4 months', '1 and 11 months',\n",
       "       '3 and 3 months', '2 and 0 months', '90', '85', '1 and 0 months',\n",
       "       '2 and 4 months', '3 and 0 months', '1 and 5 months',\n",
       "       '1 and 8 months', '72', '7 months', '1 and 10 months',\n",
       "       '4 and 2 months', '2 and 2 months', '2 and 1 months',\n",
       "       '4 and 5 months', '3 and and 0 months', '3 and 1 month',\n",
       "       '2 and 8 months', '5 and 2 months', '92', '82', '4 and 7 months',\n",
       "       '4 and 9 months', '5 and 7 months', '83', '3 and 7 months ',\n",
       "       '4 and 11 months', '5 and 4 months', '1 and 1 month',\n",
       "       '3 and 1 months', '100', '78', '5 and 5 months', '5 and 8 months',\n",
       "       '3 and 9 months', '5 and 6 months', '4 and 8 months',\n",
       "       '6 and 0 months', '74', '6 months', '5 and 3 months',\n",
       "       '1 and 7 months', '2 and 4 months ', '4 and 4 months', '7 months ',\n",
       "       '1 and 2 months', '4 and 6 months', '2 and 1 month', '79',\n",
       "       '4 and 0 months ', '4 and 3 months'], dtype=object)"
      ]
     },
     "execution_count": 9,
     "metadata": {},
     "output_type": "execute_result"
    }
   ],
   "source": [
    "Census_Data['age_at_last_birthday'].unique()"
   ]
  },
  {
   "cell_type": "code",
   "execution_count": 10,
   "metadata": {},
   "outputs": [],
   "source": [
    "def age_clean(data,under_1_value = 1, pandas = 'yes'):\n",
    "    clean_age = []\n",
    "    if pandas == 'yes':\n",
    "        data_lst = data.tolist()\n",
    "    else:\n",
    "        data_lst = data\n",
    "    for datum in data_lst:\n",
    "        if 'month' in str(datum):\n",
    "            if 'and' in str(datum):\n",
    "                clean_age.append(str(datum).split(' ')[0])\n",
    "            else:\n",
    "                clean_age.append(str(under_1_value))\n",
    "        else:\n",
    "            clean_age.append(datum)\n",
    "    return clean_age"
   ]
  },
  {
   "cell_type": "code",
   "execution_count": 11,
   "metadata": {},
   "outputs": [],
   "source": [
    "dirty_age = Census_Data['age_at_last_birthday']\n",
    "#dirty_age\n",
    "clean_age = age_clean(dirty_age,under_1_value = 1, pandas = 'yes')"
   ]
  },
  {
   "cell_type": "code",
   "execution_count": 12,
   "metadata": {},
   "outputs": [],
   "source": [
    "Census_Data['Age'] = clean_age"
   ]
  },
  {
   "cell_type": "code",
   "execution_count": 13,
   "metadata": {},
   "outputs": [
    {
     "data": {
      "text/plain": [
       "array(['26', '27', '25', '8', '46', '34', '19', '15', '12', '9', '21',\n",
       "       '5', '0', '2', '58', '35', '23', '18', '13', '56', '41', '20',\n",
       "       '39', '7', '24', '51', '43', '17', '14', '60', '22', '54', '48',\n",
       "       '10', '28', '30', '11', '32', '31', '29', '50', '49', '1', '63',\n",
       "       '33', '6', '64', '3', '37', '55', '36', '57', '53', '16', '87',\n",
       "       '81', '38', '4', '65', '45', '40', '76', '47', '44', '75', '42',\n",
       "       '52', '61', '68', '69', '77', '105', '59', '62', 'Null', '84',\n",
       "       '80', '70', 'un - (80)', '67', 'Un.', '73', '71', '66', '90', '85',\n",
       "       '72', '92', '82', '83', '100', '78', '74', '79'], dtype=object)"
      ]
     },
     "execution_count": 13,
     "metadata": {},
     "output_type": "execute_result"
    }
   ],
   "source": [
    "Census_Data=Census_Data.dropna()\n",
    "Census_Data['Age'].unique()"
   ]
  },
  {
   "cell_type": "code",
   "execution_count": 14,
   "metadata": {},
   "outputs": [
    {
     "data": {
      "text/plain": [
       "(4244, 7)"
      ]
     },
     "execution_count": 14,
     "metadata": {},
     "output_type": "execute_result"
    }
   ],
   "source": [
    "Census_Data.shape"
   ]
  },
  {
   "cell_type": "code",
   "execution_count": 15,
   "metadata": {},
   "outputs": [
    {
     "name": "stdout",
     "output_type": "stream",
     "text": [
      "Empty DataFrame\n",
      "Columns: [color_race, sex, age_at_last_birthday, occupation, census_year, grouped_occu, Age]\n",
      "Index: []\n"
     ]
    }
   ],
   "source": [
    "print(Census_Data[Census_Data.isnull().any(axis=1)].head())"
   ]
  },
  {
   "cell_type": "code",
   "execution_count": 16,
   "metadata": {},
   "outputs": [],
   "source": [
    "Census_Data['Age'] = pd.to_numeric(Census_Data['Age'], errors='coerce')"
   ]
  },
  {
   "cell_type": "code",
   "execution_count": 17,
   "metadata": {},
   "outputs": [
    {
     "data": {
      "text/plain": [
       "array([ 26.,  27.,  25.,   8.,  46.,  34.,  19.,  15.,  12.,   9.,  21.,\n",
       "         5.,   0.,   2.,  58.,  35.,  23.,  18.,  13.,  56.,  41.,  20.,\n",
       "        39.,   7.,  24.,  51.,  43.,  17.,  14.,  60.,  22.,  54.,  48.,\n",
       "        10.,  28.,  30.,  11.,  32.,  31.,  29.,  50.,  49.,   1.,  63.,\n",
       "        33.,   6.,  64.,   3.,  37.,  55.,  36.,  57.,  53.,  16.,  87.,\n",
       "        81.,  38.,   4.,  65.,  45.,  40.,  76.,  47.,  44.,  75.,  42.,\n",
       "        52.,  61.,  68.,  69.,  77., 105.,  59.,  62.,  nan,  84.,  80.,\n",
       "        70.,  67.,  73.,  71.,  66.,  90.,  85.,  72.,  92.,  82.,  83.,\n",
       "       100.,  78.,  74.,  79.])"
      ]
     },
     "execution_count": 17,
     "metadata": {},
     "output_type": "execute_result"
    }
   ],
   "source": [
    "Census_Data['Age'].unique()"
   ]
  },
  {
   "cell_type": "code",
   "execution_count": 18,
   "metadata": {},
   "outputs": [
    {
     "data": {
      "text/plain": [
       "color_race              False\n",
       "sex                     False\n",
       "age_at_last_birthday    False\n",
       "occupation              False\n",
       "census_year             False\n",
       "grouped_occu            False\n",
       "Age                      True\n",
       "dtype: bool"
      ]
     },
     "execution_count": 18,
     "metadata": {},
     "output_type": "execute_result"
    }
   ],
   "source": [
    "Census_Data.isnull().any()"
   ]
  },
  {
   "cell_type": "code",
   "execution_count": 19,
   "metadata": {},
   "outputs": [],
   "source": [
    "Census_Data=Census_Data.dropna()"
   ]
  },
  {
   "cell_type": "code",
   "execution_count": 20,
   "metadata": {},
   "outputs": [
    {
     "data": {
      "text/plain": [
       "color_race              False\n",
       "sex                     False\n",
       "age_at_last_birthday    False\n",
       "occupation              False\n",
       "census_year             False\n",
       "grouped_occu            False\n",
       "Age                     False\n",
       "dtype: bool"
      ]
     },
     "execution_count": 20,
     "metadata": {},
     "output_type": "execute_result"
    }
   ],
   "source": [
    "Census_Data.isnull().any()"
   ]
  },
  {
   "cell_type": "code",
   "execution_count": 21,
   "metadata": {},
   "outputs": [
    {
     "data": {
      "text/plain": [
       "(4240, 7)"
      ]
     },
     "execution_count": 21,
     "metadata": {},
     "output_type": "execute_result"
    }
   ],
   "source": [
    "Census_Data.shape"
   ]
  },
  {
   "cell_type": "markdown",
   "metadata": {},
   "source": [
    "## Reduce the Race columns to B and W"
   ]
  },
  {
   "cell_type": "code",
   "execution_count": 22,
   "metadata": {},
   "outputs": [
    {
     "data": {
      "text/plain": [
       "array(['B', 'W', 'Mu', 'M', 'M/W', 'My', 'Jp'], dtype=object)"
      ]
     },
     "execution_count": 22,
     "metadata": {},
     "output_type": "execute_result"
    }
   ],
   "source": [
    "Census_Data['color_race'].unique()"
   ]
  },
  {
   "cell_type": "code",
   "execution_count": 23,
   "metadata": {},
   "outputs": [],
   "source": [
    "Census_Data['color_race'].replace(['Mu', 'M', 'M/W', 'My'], \"B\", inplace=True)"
   ]
  },
  {
   "cell_type": "code",
   "execution_count": 24,
   "metadata": {},
   "outputs": [
    {
     "data": {
      "text/plain": [
       "array(['B', 'W', 'Jp'], dtype=object)"
      ]
     },
     "execution_count": 24,
     "metadata": {},
     "output_type": "execute_result"
    }
   ],
   "source": [
    "Census_Data['color_race'].unique()"
   ]
  },
  {
   "cell_type": "code",
   "execution_count": 25,
   "metadata": {},
   "outputs": [
    {
     "data": {
      "text/plain": [
       "array(['B', 'W'], dtype=object)"
      ]
     },
     "execution_count": 25,
     "metadata": {},
     "output_type": "execute_result"
    }
   ],
   "source": [
    "Census_Data = Census_Data[Census_Data.color_race != 'Jp']\n",
    "Census_Data['color_race'].unique()"
   ]
  },
  {
   "cell_type": "markdown",
   "metadata": {},
   "source": [
    "## Clean the Gender column to ensure M and F only"
   ]
  },
  {
   "cell_type": "code",
   "execution_count": 26,
   "metadata": {},
   "outputs": [
    {
     "data": {
      "text/plain": [
       "array(['F', 'M', 'FM'], dtype=object)"
      ]
     },
     "execution_count": 26,
     "metadata": {},
     "output_type": "execute_result"
    }
   ],
   "source": [
    "Census_Data['sex'].unique()"
   ]
  },
  {
   "cell_type": "code",
   "execution_count": 27,
   "metadata": {},
   "outputs": [
    {
     "data": {
      "text/plain": [
       "array(['F', 'M'], dtype=object)"
      ]
     },
     "execution_count": 27,
     "metadata": {},
     "output_type": "execute_result"
    }
   ],
   "source": [
    "Census_Data = Census_Data[Census_Data.sex != 'FM']\n",
    "Census_Data['sex'].unique()"
   ]
  },
  {
   "cell_type": "code",
   "execution_count": 28,
   "metadata": {},
   "outputs": [
    {
     "data": {
      "text/plain": [
       "array([1900, 1920, 1910], dtype=int64)"
      ]
     },
     "execution_count": 28,
     "metadata": {},
     "output_type": "execute_result"
    }
   ],
   "source": [
    "Census_Data['census_year'].unique()"
   ]
  },
  {
   "cell_type": "code",
   "execution_count": 29,
   "metadata": {},
   "outputs": [
    {
     "data": {
      "text/plain": [
       "array(['Unskilled', 'Student', 'Missing Occupations', 'Skilled Labor',\n",
       "       'Skilled Professionals'], dtype=object)"
      ]
     },
     "execution_count": 29,
     "metadata": {},
     "output_type": "execute_result"
    }
   ],
   "source": [
    "Census_Data['grouped_occu'].unique()"
   ]
  },
  {
   "cell_type": "code",
   "execution_count": 30,
   "metadata": {},
   "outputs": [
    {
     "data": {
      "text/plain": [
       "(4236, 7)"
      ]
     },
     "execution_count": 30,
     "metadata": {},
     "output_type": "execute_result"
    }
   ],
   "source": [
    "Census_Data.shape"
   ]
  },
  {
   "cell_type": "code",
   "execution_count": 31,
   "metadata": {},
   "outputs": [],
   "source": [
    "Census_Data.rename(columns={'color_race': 'Race', 'sex': 'Sex', 'census_year':'Year',\n",
    "                           'grouped_occu':'Occ'}, inplace=True)"
   ]
  },
  {
   "cell_type": "code",
   "execution_count": 32,
   "metadata": {},
   "outputs": [
    {
     "data": {
      "text/html": [
       "<div>\n",
       "<style scoped>\n",
       "    .dataframe tbody tr th:only-of-type {\n",
       "        vertical-align: middle;\n",
       "    }\n",
       "\n",
       "    .dataframe tbody tr th {\n",
       "        vertical-align: top;\n",
       "    }\n",
       "\n",
       "    .dataframe thead th {\n",
       "        text-align: right;\n",
       "    }\n",
       "</style>\n",
       "<table border=\"1\" class=\"dataframe\">\n",
       "  <thead>\n",
       "    <tr style=\"text-align: right;\">\n",
       "      <th></th>\n",
       "      <th>Race</th>\n",
       "      <th>Sex</th>\n",
       "      <th>age_at_last_birthday</th>\n",
       "      <th>occupation</th>\n",
       "      <th>Year</th>\n",
       "      <th>Occ</th>\n",
       "      <th>Age</th>\n",
       "    </tr>\n",
       "  </thead>\n",
       "  <tbody>\n",
       "    <tr>\n",
       "      <th>0</th>\n",
       "      <td>B</td>\n",
       "      <td>F</td>\n",
       "      <td>26</td>\n",
       "      <td>Servant</td>\n",
       "      <td>1900</td>\n",
       "      <td>Unskilled</td>\n",
       "      <td>26.0</td>\n",
       "    </tr>\n",
       "    <tr>\n",
       "      <th>1</th>\n",
       "      <td>B</td>\n",
       "      <td>M</td>\n",
       "      <td>27</td>\n",
       "      <td>Drayman</td>\n",
       "      <td>1900</td>\n",
       "      <td>Unskilled</td>\n",
       "      <td>27.0</td>\n",
       "    </tr>\n",
       "    <tr>\n",
       "      <th>2</th>\n",
       "      <td>B</td>\n",
       "      <td>F</td>\n",
       "      <td>25</td>\n",
       "      <td>Laundress</td>\n",
       "      <td>1900</td>\n",
       "      <td>Unskilled</td>\n",
       "      <td>25.0</td>\n",
       "    </tr>\n",
       "    <tr>\n",
       "      <th>3</th>\n",
       "      <td>B</td>\n",
       "      <td>F</td>\n",
       "      <td>25</td>\n",
       "      <td>Servant</td>\n",
       "      <td>1900</td>\n",
       "      <td>Unskilled</td>\n",
       "      <td>25.0</td>\n",
       "    </tr>\n",
       "    <tr>\n",
       "      <th>4</th>\n",
       "      <td>B</td>\n",
       "      <td>F</td>\n",
       "      <td>8</td>\n",
       "      <td>At School</td>\n",
       "      <td>1900</td>\n",
       "      <td>Student</td>\n",
       "      <td>8.0</td>\n",
       "    </tr>\n",
       "    <tr>\n",
       "      <th>5</th>\n",
       "      <td>B</td>\n",
       "      <td>M</td>\n",
       "      <td>46</td>\n",
       "      <td>Day Laborer</td>\n",
       "      <td>1900</td>\n",
       "      <td>Unskilled</td>\n",
       "      <td>46.0</td>\n",
       "    </tr>\n",
       "    <tr>\n",
       "      <th>6</th>\n",
       "      <td>B</td>\n",
       "      <td>F</td>\n",
       "      <td>34</td>\n",
       "      <td>Null</td>\n",
       "      <td>1900</td>\n",
       "      <td>Missing Occupations</td>\n",
       "      <td>34.0</td>\n",
       "    </tr>\n",
       "    <tr>\n",
       "      <th>7</th>\n",
       "      <td>B</td>\n",
       "      <td>M</td>\n",
       "      <td>19</td>\n",
       "      <td>Drayman</td>\n",
       "      <td>1900</td>\n",
       "      <td>Unskilled</td>\n",
       "      <td>19.0</td>\n",
       "    </tr>\n",
       "    <tr>\n",
       "      <th>8</th>\n",
       "      <td>B</td>\n",
       "      <td>F</td>\n",
       "      <td>15</td>\n",
       "      <td>Null</td>\n",
       "      <td>1900</td>\n",
       "      <td>Missing Occupations</td>\n",
       "      <td>15.0</td>\n",
       "    </tr>\n",
       "    <tr>\n",
       "      <th>9</th>\n",
       "      <td>B</td>\n",
       "      <td>M</td>\n",
       "      <td>12</td>\n",
       "      <td>At School</td>\n",
       "      <td>1900</td>\n",
       "      <td>Student</td>\n",
       "      <td>12.0</td>\n",
       "    </tr>\n",
       "  </tbody>\n",
       "</table>\n",
       "</div>"
      ],
      "text/plain": [
       "  Race Sex age_at_last_birthday   occupation  Year                  Occ   Age\n",
       "0    B   F                   26      Servant  1900            Unskilled  26.0\n",
       "1    B   M                   27      Drayman  1900            Unskilled  27.0\n",
       "2    B   F                   25    Laundress  1900            Unskilled  25.0\n",
       "3    B   F                   25      Servant  1900            Unskilled  25.0\n",
       "4    B   F                    8    At School  1900              Student   8.0\n",
       "5    B   M                   46  Day Laborer  1900            Unskilled  46.0\n",
       "6    B   F                   34         Null  1900  Missing Occupations  34.0\n",
       "7    B   M                   19      Drayman  1900            Unskilled  19.0\n",
       "8    B   F                   15         Null  1900  Missing Occupations  15.0\n",
       "9    B   M                   12    At School  1900              Student  12.0"
      ]
     },
     "execution_count": 32,
     "metadata": {},
     "output_type": "execute_result"
    }
   ],
   "source": [
    "Census_Data.head(10)"
   ]
  },
  {
   "cell_type": "code",
   "execution_count": 33,
   "metadata": {},
   "outputs": [
    {
     "data": {
      "text/html": [
       "<div>\n",
       "<style scoped>\n",
       "    .dataframe tbody tr th:only-of-type {\n",
       "        vertical-align: middle;\n",
       "    }\n",
       "\n",
       "    .dataframe tbody tr th {\n",
       "        vertical-align: top;\n",
       "    }\n",
       "\n",
       "    .dataframe thead th {\n",
       "        text-align: right;\n",
       "    }\n",
       "</style>\n",
       "<table border=\"1\" class=\"dataframe\">\n",
       "  <thead>\n",
       "    <tr style=\"text-align: right;\">\n",
       "      <th></th>\n",
       "      <th>Race</th>\n",
       "      <th>Sex</th>\n",
       "      <th>occupation</th>\n",
       "      <th>Year</th>\n",
       "      <th>Occ</th>\n",
       "      <th>Age</th>\n",
       "    </tr>\n",
       "  </thead>\n",
       "  <tbody>\n",
       "    <tr>\n",
       "      <th>0</th>\n",
       "      <td>B</td>\n",
       "      <td>F</td>\n",
       "      <td>Servant</td>\n",
       "      <td>1900</td>\n",
       "      <td>Unskilled</td>\n",
       "      <td>26.0</td>\n",
       "    </tr>\n",
       "    <tr>\n",
       "      <th>1</th>\n",
       "      <td>B</td>\n",
       "      <td>M</td>\n",
       "      <td>Drayman</td>\n",
       "      <td>1900</td>\n",
       "      <td>Unskilled</td>\n",
       "      <td>27.0</td>\n",
       "    </tr>\n",
       "    <tr>\n",
       "      <th>2</th>\n",
       "      <td>B</td>\n",
       "      <td>F</td>\n",
       "      <td>Laundress</td>\n",
       "      <td>1900</td>\n",
       "      <td>Unskilled</td>\n",
       "      <td>25.0</td>\n",
       "    </tr>\n",
       "    <tr>\n",
       "      <th>3</th>\n",
       "      <td>B</td>\n",
       "      <td>F</td>\n",
       "      <td>Servant</td>\n",
       "      <td>1900</td>\n",
       "      <td>Unskilled</td>\n",
       "      <td>25.0</td>\n",
       "    </tr>\n",
       "    <tr>\n",
       "      <th>4</th>\n",
       "      <td>B</td>\n",
       "      <td>F</td>\n",
       "      <td>At School</td>\n",
       "      <td>1900</td>\n",
       "      <td>Student</td>\n",
       "      <td>8.0</td>\n",
       "    </tr>\n",
       "  </tbody>\n",
       "</table>\n",
       "</div>"
      ],
      "text/plain": [
       "  Race Sex occupation  Year        Occ   Age\n",
       "0    B   F    Servant  1900  Unskilled  26.0\n",
       "1    B   M    Drayman  1900  Unskilled  27.0\n",
       "2    B   F  Laundress  1900  Unskilled  25.0\n",
       "3    B   F    Servant  1900  Unskilled  25.0\n",
       "4    B   F  At School  1900    Student   8.0"
      ]
     },
     "execution_count": 33,
     "metadata": {},
     "output_type": "execute_result"
    }
   ],
   "source": [
    "del Census_Data['age_at_last_birthday']\n",
    "Census_Data.head(5)"
   ]
  },
  {
   "cell_type": "code",
   "execution_count": 34,
   "metadata": {},
   "outputs": [
    {
     "data": {
      "text/plain": [
       "(4236, 6)"
      ]
     },
     "execution_count": 34,
     "metadata": {},
     "output_type": "execute_result"
    }
   ],
   "source": [
    "Census_Data.shape"
   ]
  },
  {
   "cell_type": "markdown",
   "metadata": {},
   "source": [
    "## IF AGE <=14 AND OCC =\"MISSING OCCUPATIONS\" THEN OCC = 'STUDENT'"
   ]
  },
  {
   "cell_type": "code",
   "execution_count": 35,
   "metadata": {},
   "outputs": [],
   "source": [
    "Census_Data.loc[ (Census_Data.Age <= 14) & (Census_Data.Occ =='Missing Occupations'),'Occ'] = 'Student'"
   ]
  },
  {
   "cell_type": "code",
   "execution_count": 36,
   "metadata": {},
   "outputs": [
    {
     "data": {
      "text/plain": [
       "(4236, 6)"
      ]
     },
     "execution_count": 36,
     "metadata": {},
     "output_type": "execute_result"
    }
   ],
   "source": [
    "Census_Data.shape"
   ]
  },
  {
   "cell_type": "markdown",
   "metadata": {},
   "source": [
    "## Remove 'Missing Occupations'"
   ]
  },
  {
   "cell_type": "code",
   "execution_count": 37,
   "metadata": {},
   "outputs": [],
   "source": [
    "Census_Data = Census_Data[Census_Data.Occ != 'Missing Occupations']"
   ]
  },
  {
   "cell_type": "code",
   "execution_count": 38,
   "metadata": {},
   "outputs": [
    {
     "data": {
      "text/plain": [
       "(3625, 6)"
      ]
     },
     "execution_count": 38,
     "metadata": {},
     "output_type": "execute_result"
    }
   ],
   "source": [
    "Census_Data.shape"
   ]
  },
  {
   "cell_type": "code",
   "execution_count": 39,
   "metadata": {},
   "outputs": [
    {
     "data": {
      "text/html": [
       "<div>\n",
       "<style scoped>\n",
       "    .dataframe tbody tr th:only-of-type {\n",
       "        vertical-align: middle;\n",
       "    }\n",
       "\n",
       "    .dataframe tbody tr th {\n",
       "        vertical-align: top;\n",
       "    }\n",
       "\n",
       "    .dataframe thead th {\n",
       "        text-align: right;\n",
       "    }\n",
       "</style>\n",
       "<table border=\"1\" class=\"dataframe\">\n",
       "  <thead>\n",
       "    <tr style=\"text-align: right;\">\n",
       "      <th></th>\n",
       "      <th>Race</th>\n",
       "      <th>Sex</th>\n",
       "      <th>occupation</th>\n",
       "      <th>Year</th>\n",
       "      <th>Occ</th>\n",
       "      <th>Age</th>\n",
       "    </tr>\n",
       "  </thead>\n",
       "  <tbody>\n",
       "    <tr>\n",
       "      <th>0</th>\n",
       "      <td>B</td>\n",
       "      <td>F</td>\n",
       "      <td>Servant</td>\n",
       "      <td>1900</td>\n",
       "      <td>Unskilled</td>\n",
       "      <td>26.0</td>\n",
       "    </tr>\n",
       "    <tr>\n",
       "      <th>1</th>\n",
       "      <td>B</td>\n",
       "      <td>M</td>\n",
       "      <td>Drayman</td>\n",
       "      <td>1900</td>\n",
       "      <td>Unskilled</td>\n",
       "      <td>27.0</td>\n",
       "    </tr>\n",
       "    <tr>\n",
       "      <th>2</th>\n",
       "      <td>B</td>\n",
       "      <td>F</td>\n",
       "      <td>Laundress</td>\n",
       "      <td>1900</td>\n",
       "      <td>Unskilled</td>\n",
       "      <td>25.0</td>\n",
       "    </tr>\n",
       "    <tr>\n",
       "      <th>3</th>\n",
       "      <td>B</td>\n",
       "      <td>F</td>\n",
       "      <td>Servant</td>\n",
       "      <td>1900</td>\n",
       "      <td>Unskilled</td>\n",
       "      <td>25.0</td>\n",
       "    </tr>\n",
       "    <tr>\n",
       "      <th>4</th>\n",
       "      <td>B</td>\n",
       "      <td>F</td>\n",
       "      <td>At School</td>\n",
       "      <td>1900</td>\n",
       "      <td>Student</td>\n",
       "      <td>8.0</td>\n",
       "    </tr>\n",
       "  </tbody>\n",
       "</table>\n",
       "</div>"
      ],
      "text/plain": [
       "  Race Sex occupation  Year        Occ   Age\n",
       "0    B   F    Servant  1900  Unskilled  26.0\n",
       "1    B   M    Drayman  1900  Unskilled  27.0\n",
       "2    B   F  Laundress  1900  Unskilled  25.0\n",
       "3    B   F    Servant  1900  Unskilled  25.0\n",
       "4    B   F  At School  1900    Student   8.0"
      ]
     },
     "execution_count": 39,
     "metadata": {},
     "output_type": "execute_result"
    }
   ],
   "source": [
    "Census_Data.head(5)"
   ]
  },
  {
   "cell_type": "code",
   "execution_count": 40,
   "metadata": {},
   "outputs": [
    {
     "data": {
      "image/png": "[encoded data removed]",
      "text/plain": [
       "<Figure size 432x288 with 1 Axes>"
      ]
     },
     "metadata": {},
     "output_type": "display_data"
    }
   ],
   "source": [
    "sns.countplot(x = 'Race',data=Census_Data)\n",
    "plt.show()"
   ]
  },
  {
   "cell_type": "code",
   "execution_count": 41,
   "metadata": {},
   "outputs": [
    {
     "data": {
      "text/plain": [
       "<matplotlib.axes._subplots.AxesSubplot at 0x15000998d30>"
      ]
     },
     "execution_count": 41,
     "metadata": {},
     "output_type": "execute_result"
    },
    {
     "data": {
      "image/png": "[encoded data removed]",
      "text/plain": [
       "<Figure size 432x288 with 1 Axes>"
      ]
     },
     "metadata": {},
     "output_type": "display_data"
    }
   ],
   "source": [
    "sns.countplot(x='Year',hue='Race',data=Census_Data,palette='RdBu_r')"
   ]
  },
  {
   "cell_type": "code",
   "execution_count": 42,
   "metadata": {},
   "outputs": [
    {
     "data": {
      "image/png": "[encoded data removed]",
      "text/plain": [
       "<Figure size 432x288 with 1 Axes>"
      ]
     },
     "metadata": {},
     "output_type": "display_data"
    }
   ],
   "source": [
    "sns.countplot(x = 'Age',data=Census_Data)\n",
    "plt.show()\n",
    "\n"
   ]
  },
  {
   "cell_type": "code",
   "execution_count": 43,
   "metadata": {},
   "outputs": [
    {
     "data": {
      "text/plain": [
       "<matplotlib.axes._subplots.AxesSubplot at 0x15000918a58>"
      ]
     },
     "execution_count": 43,
     "metadata": {},
     "output_type": "execute_result"
    },
    {
     "data": {
      "image/png": "[encoded data removed]",
      "text/plain": [
       "<Figure size 432x288 with 1 Axes>"
      ]
     },
     "metadata": {},
     "output_type": "display_data"
    }
   ],
   "source": [
    "Census_Data['Age'].hist(bins=25,color='darkred',alpha=0.7)"
   ]
  },
  {
   "cell_type": "code",
   "execution_count": 44,
   "metadata": {},
   "outputs": [
    {
     "data": {
      "image/png": "[encoded data removed]",
      "text/plain": [
       "<Figure size 432x288 with 1 Axes>"
      ]
     },
     "metadata": {},
     "output_type": "display_data"
    }
   ],
   "source": [
    "sns.countplot(x = 'Sex',data=Census_Data)\n",
    "plt.show()"
   ]
  },
  {
   "cell_type": "code",
   "execution_count": 45,
   "metadata": {},
   "outputs": [
    {
     "data": {
      "image/png": "[encoded data removed]",
      "text/plain": [
       "<Figure size 432x288 with 1 Axes>"
      ]
     },
     "metadata": {},
     "output_type": "display_data"
    }
   ],
   "source": [
    "sns.countplot(x = 'Year',data=Census_Data)\n",
    "plt.show()"
   ]
  },
  {
   "cell_type": "markdown",
   "metadata": {},
   "source": [
    "## Group the Age column into Age Groups"
   ]
  },
  {
   "cell_type": "code",
   "execution_count": 46,
   "metadata": {},
   "outputs": [],
   "source": [
    "age_ranges= [0,15,55,110]\n",
    "age_labels = ['0-15','16-55','Above-56']\n",
    "Census_Data['Age'] = pd.cut(Census_Data['Age'], bins=age_ranges, labels=age_labels)"
   ]
  },
  {
   "cell_type": "code",
   "execution_count": 47,
   "metadata": {},
   "outputs": [
    {
     "data": {
      "text/html": [
       "<div>\n",
       "<style scoped>\n",
       "    .dataframe tbody tr th:only-of-type {\n",
       "        vertical-align: middle;\n",
       "    }\n",
       "\n",
       "    .dataframe tbody tr th {\n",
       "        vertical-align: top;\n",
       "    }\n",
       "\n",
       "    .dataframe thead th {\n",
       "        text-align: right;\n",
       "    }\n",
       "</style>\n",
       "<table border=\"1\" class=\"dataframe\">\n",
       "  <thead>\n",
       "    <tr style=\"text-align: right;\">\n",
       "      <th></th>\n",
       "      <th>Race</th>\n",
       "      <th>Sex</th>\n",
       "      <th>occupation</th>\n",
       "      <th>Year</th>\n",
       "      <th>Occ</th>\n",
       "      <th>Age</th>\n",
       "    </tr>\n",
       "  </thead>\n",
       "  <tbody>\n",
       "    <tr>\n",
       "      <th>0</th>\n",
       "      <td>B</td>\n",
       "      <td>F</td>\n",
       "      <td>Servant</td>\n",
       "      <td>1900</td>\n",
       "      <td>Unskilled</td>\n",
       "      <td>16-55</td>\n",
       "    </tr>\n",
       "    <tr>\n",
       "      <th>1</th>\n",
       "      <td>B</td>\n",
       "      <td>M</td>\n",
       "      <td>Drayman</td>\n",
       "      <td>1900</td>\n",
       "      <td>Unskilled</td>\n",
       "      <td>16-55</td>\n",
       "    </tr>\n",
       "    <tr>\n",
       "      <th>2</th>\n",
       "      <td>B</td>\n",
       "      <td>F</td>\n",
       "      <td>Laundress</td>\n",
       "      <td>1900</td>\n",
       "      <td>Unskilled</td>\n",
       "      <td>16-55</td>\n",
       "    </tr>\n",
       "    <tr>\n",
       "      <th>3</th>\n",
       "      <td>B</td>\n",
       "      <td>F</td>\n",
       "      <td>Servant</td>\n",
       "      <td>1900</td>\n",
       "      <td>Unskilled</td>\n",
       "      <td>16-55</td>\n",
       "    </tr>\n",
       "    <tr>\n",
       "      <th>4</th>\n",
       "      <td>B</td>\n",
       "      <td>F</td>\n",
       "      <td>At School</td>\n",
       "      <td>1900</td>\n",
       "      <td>Student</td>\n",
       "      <td>0-15</td>\n",
       "    </tr>\n",
       "  </tbody>\n",
       "</table>\n",
       "</div>"
      ],
      "text/plain": [
       "  Race Sex occupation  Year        Occ    Age\n",
       "0    B   F    Servant  1900  Unskilled  16-55\n",
       "1    B   M    Drayman  1900  Unskilled  16-55\n",
       "2    B   F  Laundress  1900  Unskilled  16-55\n",
       "3    B   F    Servant  1900  Unskilled  16-55\n",
       "4    B   F  At School  1900    Student   0-15"
      ]
     },
     "execution_count": 47,
     "metadata": {},
     "output_type": "execute_result"
    }
   ],
   "source": [
    "Census_Data.head(5)"
   ]
  },
  {
   "cell_type": "code",
   "execution_count": 48,
   "metadata": {},
   "outputs": [
    {
     "data": {
      "text/plain": [
       "<matplotlib.axes._subplots.AxesSubplot at 0x15000cf6780>"
      ]
     },
     "execution_count": 48,
     "metadata": {},
     "output_type": "execute_result"
    },
    {
     "data": {
      "image/png": "[encoded data removed]",
      "text/plain": [
       "<Figure size 432x288 with 1 Axes>"
      ]
     },
     "metadata": {},
     "output_type": "display_data"
    }
   ],
   "source": [
    "sns.countplot(x='Occ',hue='Race',data=Census_Data) #,palette='RdBu_r')"
   ]
  },
  {
   "cell_type": "code",
   "execution_count": 49,
   "metadata": {},
   "outputs": [
    {
     "data": {
      "text/plain": [
       "<matplotlib.axes._subplots.AxesSubplot at 0x15000ae5f60>"
      ]
     },
     "execution_count": 49,
     "metadata": {},
     "output_type": "execute_result"
    },
    {
     "data": {
      "image/png": "[encoded data removed]",
      "text/plain": [
       "<Figure size 432x288 with 1 Axes>"
      ]
     },
     "metadata": {},
     "output_type": "display_data"
    }
   ],
   "source": [
    "sns.countplot(x='Year',hue='Occ',data=Census_Data)"
   ]
  },
  {
   "cell_type": "code",
   "execution_count": 50,
   "metadata": {},
   "outputs": [
    {
     "data": {
      "image/png": "[encoded data removed]",
      "text/plain": [
       "<Figure size 432x288 with 1 Axes>"
      ]
     },
     "metadata": {},
     "output_type": "display_data"
    }
   ],
   "source": [
    "sns.countplot(x = 'Occ',hue='Age',data=Census_Data)\n",
    "plt.show()"
   ]
  },
  {
   "cell_type": "code",
   "execution_count": 51,
   "metadata": {},
   "outputs": [
    {
     "data": {
      "image/png": "[encoded data removed]",
      "text/plain": [
       "<Figure size 432x288 with 1 Axes>"
      ]
     },
     "metadata": {},
     "output_type": "display_data"
    }
   ],
   "source": [
    "sns.countplot(x = 'Occ',hue='Sex',data=Census_Data)\n",
    "plt.show()"
   ]
  },
  {
   "cell_type": "markdown",
   "metadata": {},
   "source": [
    "## Hot encode the Race, Sex, Year and Age columns"
   ]
  },
  {
   "cell_type": "code",
   "execution_count": 52,
   "metadata": {},
   "outputs": [
    {
     "data": {
      "text/plain": [
       "Index(['occupation', 'Occ', 'Race_B', 'Race_W', 'Sex_F', 'Sex_M', 'Year_1900',\n",
       "       'Year_1910', 'Year_1920', 'Age_0-15', 'Age_16-55', 'Age_Above-56'],\n",
       "      dtype='object')"
      ]
     },
     "execution_count": 52,
     "metadata": {},
     "output_type": "execute_result"
    }
   ],
   "source": [
    "data2 = pd.get_dummies(Census_Data, columns =['Race','Sex', 'Year','Age'])\n",
    "data2.columns"
   ]
  },
  {
   "cell_type": "code",
   "execution_count": 53,
   "metadata": {},
   "outputs": [
    {
     "data": {
      "text/html": [
       "<div>\n",
       "<style scoped>\n",
       "    .dataframe tbody tr th:only-of-type {\n",
       "        vertical-align: middle;\n",
       "    }\n",
       "\n",
       "    .dataframe tbody tr th {\n",
       "        vertical-align: top;\n",
       "    }\n",
       "\n",
       "    .dataframe thead th {\n",
       "        text-align: right;\n",
       "    }\n",
       "</style>\n",
       "<table border=\"1\" class=\"dataframe\">\n",
       "  <thead>\n",
       "    <tr style=\"text-align: right;\">\n",
       "      <th></th>\n",
       "      <th>occupation</th>\n",
       "      <th>Occ</th>\n",
       "      <th>Race_B</th>\n",
       "      <th>Race_W</th>\n",
       "      <th>Sex_F</th>\n",
       "      <th>Sex_M</th>\n",
       "      <th>Year_1900</th>\n",
       "      <th>Year_1910</th>\n",
       "      <th>Year_1920</th>\n",
       "      <th>Age_0-15</th>\n",
       "      <th>Age_16-55</th>\n",
       "      <th>Age_Above-56</th>\n",
       "    </tr>\n",
       "  </thead>\n",
       "  <tbody>\n",
       "    <tr>\n",
       "      <th>0</th>\n",
       "      <td>Servant</td>\n",
       "      <td>Unskilled</td>\n",
       "      <td>1</td>\n",
       "      <td>0</td>\n",
       "      <td>1</td>\n",
       "      <td>0</td>\n",
       "      <td>1</td>\n",
       "      <td>0</td>\n",
       "      <td>0</td>\n",
       "      <td>0</td>\n",
       "      <td>1</td>\n",
       "      <td>0</td>\n",
       "    </tr>\n",
       "    <tr>\n",
       "      <th>1</th>\n",
       "      <td>Drayman</td>\n",
       "      <td>Unskilled</td>\n",
       "      <td>1</td>\n",
       "      <td>0</td>\n",
       "      <td>0</td>\n",
       "      <td>1</td>\n",
       "      <td>1</td>\n",
       "      <td>0</td>\n",
       "      <td>0</td>\n",
       "      <td>0</td>\n",
       "      <td>1</td>\n",
       "      <td>0</td>\n",
       "    </tr>\n",
       "    <tr>\n",
       "      <th>2</th>\n",
       "      <td>Laundress</td>\n",
       "      <td>Unskilled</td>\n",
       "      <td>1</td>\n",
       "      <td>0</td>\n",
       "      <td>1</td>\n",
       "      <td>0</td>\n",
       "      <td>1</td>\n",
       "      <td>0</td>\n",
       "      <td>0</td>\n",
       "      <td>0</td>\n",
       "      <td>1</td>\n",
       "      <td>0</td>\n",
       "    </tr>\n",
       "    <tr>\n",
       "      <th>3</th>\n",
       "      <td>Servant</td>\n",
       "      <td>Unskilled</td>\n",
       "      <td>1</td>\n",
       "      <td>0</td>\n",
       "      <td>1</td>\n",
       "      <td>0</td>\n",
       "      <td>1</td>\n",
       "      <td>0</td>\n",
       "      <td>0</td>\n",
       "      <td>0</td>\n",
       "      <td>1</td>\n",
       "      <td>0</td>\n",
       "    </tr>\n",
       "    <tr>\n",
       "      <th>4</th>\n",
       "      <td>At School</td>\n",
       "      <td>Student</td>\n",
       "      <td>1</td>\n",
       "      <td>0</td>\n",
       "      <td>1</td>\n",
       "      <td>0</td>\n",
       "      <td>1</td>\n",
       "      <td>0</td>\n",
       "      <td>0</td>\n",
       "      <td>1</td>\n",
       "      <td>0</td>\n",
       "      <td>0</td>\n",
       "    </tr>\n",
       "  </tbody>\n",
       "</table>\n",
       "</div>"
      ],
      "text/plain": [
       "  occupation        Occ  Race_B  Race_W  Sex_F  Sex_M  Year_1900  Year_1910  \\\n",
       "0    Servant  Unskilled       1       0      1      0          1          0   \n",
       "1    Drayman  Unskilled       1       0      0      1          1          0   \n",
       "2  Laundress  Unskilled       1       0      1      0          1          0   \n",
       "3    Servant  Unskilled       1       0      1      0          1          0   \n",
       "4  At School    Student       1       0      1      0          1          0   \n",
       "\n",
       "   Year_1920  Age_0-15  Age_16-55  Age_Above-56  \n",
       "0          0         0          1             0  \n",
       "1          0         0          1             0  \n",
       "2          0         0          1             0  \n",
       "3          0         0          1             0  \n",
       "4          0         1          0             0  "
      ]
     },
     "execution_count": 53,
     "metadata": {},
     "output_type": "execute_result"
    }
   ],
   "source": [
    "data2.head()"
   ]
  },
  {
   "cell_type": "code",
   "execution_count": 54,
   "metadata": {},
   "outputs": [
    {
     "data": {
      "text/plain": [
       "Occ             object\n",
       "Race_B           uint8\n",
       "Race_W           uint8\n",
       "Sex_F            uint8\n",
       "Sex_M            uint8\n",
       "Year_1900        uint8\n",
       "Year_1910        uint8\n",
       "Year_1920        uint8\n",
       "Age_0-15         uint8\n",
       "Age_16-55        uint8\n",
       "Age_Above-56     uint8\n",
       "dtype: object"
      ]
     },
     "execution_count": 54,
     "metadata": {},
     "output_type": "execute_result"
    }
   ],
   "source": [
    "del data2['occupation']\n",
    "data2 = data2.apply(pd.to_numeric, errors='ignore')\n",
    "data2.dtypes"
   ]
  },
  {
   "cell_type": "code",
   "execution_count": 55,
   "metadata": {},
   "outputs": [
    {
     "data": {
      "text/plain": [
       "(3625, 11)"
      ]
     },
     "execution_count": 55,
     "metadata": {},
     "output_type": "execute_result"
    }
   ],
   "source": [
    "data2.shape"
   ]
  },
  {
   "cell_type": "markdown",
   "metadata": {},
   "source": [
    "## data2 dataframe"
   ]
  },
  {
   "cell_type": "code",
   "execution_count": 56,
   "metadata": {},
   "outputs": [
    {
     "data": {
      "text/html": [
       "<div>\n",
       "<style scoped>\n",
       "    .dataframe tbody tr th:only-of-type {\n",
       "        vertical-align: middle;\n",
       "    }\n",
       "\n",
       "    .dataframe tbody tr th {\n",
       "        vertical-align: top;\n",
       "    }\n",
       "\n",
       "    .dataframe thead th {\n",
       "        text-align: right;\n",
       "    }\n",
       "</style>\n",
       "<table border=\"1\" class=\"dataframe\">\n",
       "  <thead>\n",
       "    <tr style=\"text-align: right;\">\n",
       "      <th></th>\n",
       "      <th>Occ</th>\n",
       "      <th>Race_B</th>\n",
       "      <th>Race_W</th>\n",
       "      <th>Sex_F</th>\n",
       "      <th>Sex_M</th>\n",
       "      <th>Year_1900</th>\n",
       "      <th>Year_1910</th>\n",
       "      <th>Year_1920</th>\n",
       "      <th>Age_0-15</th>\n",
       "      <th>Age_16-55</th>\n",
       "      <th>Age_Above-56</th>\n",
       "    </tr>\n",
       "  </thead>\n",
       "  <tbody>\n",
       "    <tr>\n",
       "      <th>0</th>\n",
       "      <td>Unskilled</td>\n",
       "      <td>1</td>\n",
       "      <td>0</td>\n",
       "      <td>1</td>\n",
       "      <td>0</td>\n",
       "      <td>1</td>\n",
       "      <td>0</td>\n",
       "      <td>0</td>\n",
       "      <td>0</td>\n",
       "      <td>1</td>\n",
       "      <td>0</td>\n",
       "    </tr>\n",
       "    <tr>\n",
       "      <th>1</th>\n",
       "      <td>Unskilled</td>\n",
       "      <td>1</td>\n",
       "      <td>0</td>\n",
       "      <td>0</td>\n",
       "      <td>1</td>\n",
       "      <td>1</td>\n",
       "      <td>0</td>\n",
       "      <td>0</td>\n",
       "      <td>0</td>\n",
       "      <td>1</td>\n",
       "      <td>0</td>\n",
       "    </tr>\n",
       "    <tr>\n",
       "      <th>2</th>\n",
       "      <td>Unskilled</td>\n",
       "      <td>1</td>\n",
       "      <td>0</td>\n",
       "      <td>1</td>\n",
       "      <td>0</td>\n",
       "      <td>1</td>\n",
       "      <td>0</td>\n",
       "      <td>0</td>\n",
       "      <td>0</td>\n",
       "      <td>1</td>\n",
       "      <td>0</td>\n",
       "    </tr>\n",
       "    <tr>\n",
       "      <th>3</th>\n",
       "      <td>Unskilled</td>\n",
       "      <td>1</td>\n",
       "      <td>0</td>\n",
       "      <td>1</td>\n",
       "      <td>0</td>\n",
       "      <td>1</td>\n",
       "      <td>0</td>\n",
       "      <td>0</td>\n",
       "      <td>0</td>\n",
       "      <td>1</td>\n",
       "      <td>0</td>\n",
       "    </tr>\n",
       "    <tr>\n",
       "      <th>4</th>\n",
       "      <td>Student</td>\n",
       "      <td>1</td>\n",
       "      <td>0</td>\n",
       "      <td>1</td>\n",
       "      <td>0</td>\n",
       "      <td>1</td>\n",
       "      <td>0</td>\n",
       "      <td>0</td>\n",
       "      <td>1</td>\n",
       "      <td>0</td>\n",
       "      <td>0</td>\n",
       "    </tr>\n",
       "  </tbody>\n",
       "</table>\n",
       "</div>"
      ],
      "text/plain": [
       "         Occ  Race_B  Race_W  Sex_F  Sex_M  Year_1900  Year_1910  Year_1920  \\\n",
       "0  Unskilled       1       0      1      0          1          0          0   \n",
       "1  Unskilled       1       0      0      1          1          0          0   \n",
       "2  Unskilled       1       0      1      0          1          0          0   \n",
       "3  Unskilled       1       0      1      0          1          0          0   \n",
       "4    Student       1       0      1      0          1          0          0   \n",
       "\n",
       "   Age_0-15  Age_16-55  Age_Above-56  \n",
       "0         0          1             0  \n",
       "1         0          1             0  \n",
       "2         0          1             0  \n",
       "3         0          1             0  \n",
       "4         1          0             0  "
      ]
     },
     "execution_count": 56,
     "metadata": {},
     "output_type": "execute_result"
    }
   ],
   "source": [
    "data2.head()"
   ]
  },
  {
   "cell_type": "code",
   "execution_count": 57,
   "metadata": {},
   "outputs": [],
   "source": [
    "data3 = data2.copy()\n",
    "data3['Occ'][data3['Occ']=='Unskilled']=0\n",
    "data3['Occ'][data3['Occ']=='Skilled Labor']=1\n",
    "data3['Occ'][data3['Occ']=='Skilled Professionals']=2\n",
    "data3['Occ'][data3['Occ']=='Student']=3"
   ]
  },
  {
   "cell_type": "markdown",
   "metadata": {},
   "source": [
    "## data3 dataframe has Occ coded with 0,1,2,3:\n",
    "[data3['Occ']=='Unskilled']=0\n",
    "[data3['Occ']=='Skilled Labor']=1\n",
    "[data3['Occ']=='Skilled Professionals']=2\n",
    "[data3['Occ']=='Student']=3"
   ]
  },
  {
   "cell_type": "code",
   "execution_count": 167,
   "metadata": {},
   "outputs": [
    {
     "data": {
      "text/html": [
       "<div>\n",
       "<style scoped>\n",
       "    .dataframe tbody tr th:only-of-type {\n",
       "        vertical-align: middle;\n",
       "    }\n",
       "\n",
       "    .dataframe tbody tr th {\n",
       "        vertical-align: top;\n",
       "    }\n",
       "\n",
       "    .dataframe thead th {\n",
       "        text-align: right;\n",
       "    }\n",
       "</style>\n",
       "<table border=\"1\" class=\"dataframe\">\n",
       "  <thead>\n",
       "    <tr style=\"text-align: right;\">\n",
       "      <th></th>\n",
       "      <th>Occ</th>\n",
       "      <th>Race_B</th>\n",
       "      <th>Race_W</th>\n",
       "      <th>Sex_F</th>\n",
       "      <th>Sex_M</th>\n",
       "      <th>Year_1900</th>\n",
       "      <th>Year_1910</th>\n",
       "      <th>Year_1920</th>\n",
       "      <th>Age_0-15</th>\n",
       "      <th>Age_16-55</th>\n",
       "      <th>Age_Above-56</th>\n",
       "    </tr>\n",
       "  </thead>\n",
       "  <tbody>\n",
       "    <tr>\n",
       "      <th>0</th>\n",
       "      <td>0</td>\n",
       "      <td>1</td>\n",
       "      <td>0</td>\n",
       "      <td>1</td>\n",
       "      <td>0</td>\n",
       "      <td>1</td>\n",
       "      <td>0</td>\n",
       "      <td>0</td>\n",
       "      <td>0</td>\n",
       "      <td>1</td>\n",
       "      <td>0</td>\n",
       "    </tr>\n",
       "    <tr>\n",
       "      <th>1</th>\n",
       "      <td>0</td>\n",
       "      <td>1</td>\n",
       "      <td>0</td>\n",
       "      <td>0</td>\n",
       "      <td>1</td>\n",
       "      <td>1</td>\n",
       "      <td>0</td>\n",
       "      <td>0</td>\n",
       "      <td>0</td>\n",
       "      <td>1</td>\n",
       "      <td>0</td>\n",
       "    </tr>\n",
       "    <tr>\n",
       "      <th>2</th>\n",
       "      <td>0</td>\n",
       "      <td>1</td>\n",
       "      <td>0</td>\n",
       "      <td>1</td>\n",
       "      <td>0</td>\n",
       "      <td>1</td>\n",
       "      <td>0</td>\n",
       "      <td>0</td>\n",
       "      <td>0</td>\n",
       "      <td>1</td>\n",
       "      <td>0</td>\n",
       "    </tr>\n",
       "    <tr>\n",
       "      <th>3</th>\n",
       "      <td>0</td>\n",
       "      <td>1</td>\n",
       "      <td>0</td>\n",
       "      <td>1</td>\n",
       "      <td>0</td>\n",
       "      <td>1</td>\n",
       "      <td>0</td>\n",
       "      <td>0</td>\n",
       "      <td>0</td>\n",
       "      <td>1</td>\n",
       "      <td>0</td>\n",
       "    </tr>\n",
       "    <tr>\n",
       "      <th>4</th>\n",
       "      <td>3</td>\n",
       "      <td>1</td>\n",
       "      <td>0</td>\n",
       "      <td>1</td>\n",
       "      <td>0</td>\n",
       "      <td>1</td>\n",
       "      <td>0</td>\n",
       "      <td>0</td>\n",
       "      <td>1</td>\n",
       "      <td>0</td>\n",
       "      <td>0</td>\n",
       "    </tr>\n",
       "  </tbody>\n",
       "</table>\n",
       "</div>"
      ],
      "text/plain": [
       "  Occ  Race_B  Race_W  Sex_F  Sex_M  Year_1900  Year_1910  Year_1920  \\\n",
       "0   0       1       0      1      0          1          0          0   \n",
       "1   0       1       0      0      1          1          0          0   \n",
       "2   0       1       0      1      0          1          0          0   \n",
       "3   0       1       0      1      0          1          0          0   \n",
       "4   3       1       0      1      0          1          0          0   \n",
       "\n",
       "   Age_0-15  Age_16-55  Age_Above-56  \n",
       "0         0          1             0  \n",
       "1         0          1             0  \n",
       "2         0          1             0  \n",
       "3         0          1             0  \n",
       "4         1          0             0  "
      ]
     },
     "execution_count": 167,
     "metadata": {},
     "output_type": "execute_result"
    }
   ],
   "source": [
    "data3.head()"
   ]
  },
  {
   "cell_type": "code",
   "execution_count": 59,
   "metadata": {},
   "outputs": [
    {
     "data": {
      "text/html": [
       "<div>\n",
       "<style scoped>\n",
       "    .dataframe tbody tr th:only-of-type {\n",
       "        vertical-align: middle;\n",
       "    }\n",
       "\n",
       "    .dataframe tbody tr th {\n",
       "        vertical-align: top;\n",
       "    }\n",
       "\n",
       "    .dataframe thead th {\n",
       "        text-align: right;\n",
       "    }\n",
       "</style>\n",
       "<table border=\"1\" class=\"dataframe\">\n",
       "  <thead>\n",
       "    <tr style=\"text-align: right;\">\n",
       "      <th></th>\n",
       "      <th>Race_B</th>\n",
       "      <th>Race_W</th>\n",
       "      <th>Sex_F</th>\n",
       "      <th>Sex_M</th>\n",
       "      <th>Year_1900</th>\n",
       "      <th>Year_1910</th>\n",
       "      <th>Year_1920</th>\n",
       "      <th>Age_0-15</th>\n",
       "      <th>Age_16-55</th>\n",
       "      <th>Age_Above-56</th>\n",
       "    </tr>\n",
       "  </thead>\n",
       "  <tbody>\n",
       "    <tr>\n",
       "      <th>Race_B</th>\n",
       "      <td>1.000000</td>\n",
       "      <td>-1.000000</td>\n",
       "      <td>0.089266</td>\n",
       "      <td>-0.089266</td>\n",
       "      <td>0.103793</td>\n",
       "      <td>0.050228</td>\n",
       "      <td>-0.120083</td>\n",
       "      <td>-0.117005</td>\n",
       "      <td>0.111155</td>\n",
       "      <td>-0.000063</td>\n",
       "    </tr>\n",
       "    <tr>\n",
       "      <th>Race_W</th>\n",
       "      <td>-1.000000</td>\n",
       "      <td>1.000000</td>\n",
       "      <td>-0.089266</td>\n",
       "      <td>0.089266</td>\n",
       "      <td>-0.103793</td>\n",
       "      <td>-0.050228</td>\n",
       "      <td>0.120083</td>\n",
       "      <td>0.117005</td>\n",
       "      <td>-0.111155</td>\n",
       "      <td>0.000063</td>\n",
       "    </tr>\n",
       "    <tr>\n",
       "      <th>Sex_F</th>\n",
       "      <td>0.089266</td>\n",
       "      <td>-0.089266</td>\n",
       "      <td>1.000000</td>\n",
       "      <td>-1.000000</td>\n",
       "      <td>0.021048</td>\n",
       "      <td>0.001233</td>\n",
       "      <td>-0.020124</td>\n",
       "      <td>0.082898</td>\n",
       "      <td>-0.054751</td>\n",
       "      <td>-0.058491</td>\n",
       "    </tr>\n",
       "    <tr>\n",
       "      <th>Sex_M</th>\n",
       "      <td>-0.089266</td>\n",
       "      <td>0.089266</td>\n",
       "      <td>-1.000000</td>\n",
       "      <td>1.000000</td>\n",
       "      <td>-0.021048</td>\n",
       "      <td>-0.001233</td>\n",
       "      <td>0.020124</td>\n",
       "      <td>-0.082898</td>\n",
       "      <td>0.054751</td>\n",
       "      <td>0.058491</td>\n",
       "    </tr>\n",
       "    <tr>\n",
       "      <th>Year_1900</th>\n",
       "      <td>0.103793</td>\n",
       "      <td>-0.103793</td>\n",
       "      <td>0.021048</td>\n",
       "      <td>-0.021048</td>\n",
       "      <td>1.000000</td>\n",
       "      <td>-0.096920</td>\n",
       "      <td>-0.882686</td>\n",
       "      <td>0.183999</td>\n",
       "      <td>-0.181774</td>\n",
       "      <td>-0.003668</td>\n",
       "    </tr>\n",
       "    <tr>\n",
       "      <th>Year_1910</th>\n",
       "      <td>0.050228</td>\n",
       "      <td>-0.050228</td>\n",
       "      <td>0.001233</td>\n",
       "      <td>-0.001233</td>\n",
       "      <td>-0.096920</td>\n",
       "      <td>1.000000</td>\n",
       "      <td>-0.382201</td>\n",
       "      <td>-0.098659</td>\n",
       "      <td>0.084141</td>\n",
       "      <td>0.027996</td>\n",
       "    </tr>\n",
       "    <tr>\n",
       "      <th>Year_1920</th>\n",
       "      <td>-0.120083</td>\n",
       "      <td>0.120083</td>\n",
       "      <td>-0.020124</td>\n",
       "      <td>0.020124</td>\n",
       "      <td>-0.882686</td>\n",
       "      <td>-0.382201</td>\n",
       "      <td>1.000000</td>\n",
       "      <td>-0.124249</td>\n",
       "      <td>0.129038</td>\n",
       "      <td>-0.009813</td>\n",
       "    </tr>\n",
       "    <tr>\n",
       "      <th>Age_0-15</th>\n",
       "      <td>-0.117005</td>\n",
       "      <td>0.117005</td>\n",
       "      <td>0.082898</td>\n",
       "      <td>-0.082898</td>\n",
       "      <td>0.183999</td>\n",
       "      <td>-0.098659</td>\n",
       "      <td>-0.124249</td>\n",
       "      <td>1.000000</td>\n",
       "      <td>-0.912297</td>\n",
       "      <td>-0.117203</td>\n",
       "    </tr>\n",
       "    <tr>\n",
       "      <th>Age_16-55</th>\n",
       "      <td>0.111155</td>\n",
       "      <td>-0.111155</td>\n",
       "      <td>-0.054751</td>\n",
       "      <td>0.054751</td>\n",
       "      <td>-0.181774</td>\n",
       "      <td>0.084141</td>\n",
       "      <td>0.129038</td>\n",
       "      <td>-0.912297</td>\n",
       "      <td>1.000000</td>\n",
       "      <td>-0.291841</td>\n",
       "    </tr>\n",
       "    <tr>\n",
       "      <th>Age_Above-56</th>\n",
       "      <td>-0.000063</td>\n",
       "      <td>0.000063</td>\n",
       "      <td>-0.058491</td>\n",
       "      <td>0.058491</td>\n",
       "      <td>-0.003668</td>\n",
       "      <td>0.027996</td>\n",
       "      <td>-0.009813</td>\n",
       "      <td>-0.117203</td>\n",
       "      <td>-0.291841</td>\n",
       "      <td>1.000000</td>\n",
       "    </tr>\n",
       "  </tbody>\n",
       "</table>\n",
       "</div>"
      ],
      "text/plain": [
       "                Race_B    Race_W     Sex_F     Sex_M  Year_1900  Year_1910  \\\n",
       "Race_B        1.000000 -1.000000  0.089266 -0.089266   0.103793   0.050228   \n",
       "Race_W       -1.000000  1.000000 -0.089266  0.089266  -0.103793  -0.050228   \n",
       "Sex_F         0.089266 -0.089266  1.000000 -1.000000   0.021048   0.001233   \n",
       "Sex_M        -0.089266  0.089266 -1.000000  1.000000  -0.021048  -0.001233   \n",
       "Year_1900     0.103793 -0.103793  0.021048 -0.021048   1.000000  -0.096920   \n",
       "Year_1910     0.050228 -0.050228  0.001233 -0.001233  -0.096920   1.000000   \n",
       "Year_1920    -0.120083  0.120083 -0.020124  0.020124  -0.882686  -0.382201   \n",
       "Age_0-15     -0.117005  0.117005  0.082898 -0.082898   0.183999  -0.098659   \n",
       "Age_16-55     0.111155 -0.111155 -0.054751  0.054751  -0.181774   0.084141   \n",
       "Age_Above-56 -0.000063  0.000063 -0.058491  0.058491  -0.003668   0.027996   \n",
       "\n",
       "              Year_1920  Age_0-15  Age_16-55  Age_Above-56  \n",
       "Race_B        -0.120083 -0.117005   0.111155     -0.000063  \n",
       "Race_W         0.120083  0.117005  -0.111155      0.000063  \n",
       "Sex_F         -0.020124  0.082898  -0.054751     -0.058491  \n",
       "Sex_M          0.020124 -0.082898   0.054751      0.058491  \n",
       "Year_1900     -0.882686  0.183999  -0.181774     -0.003668  \n",
       "Year_1910     -0.382201 -0.098659   0.084141      0.027996  \n",
       "Year_1920      1.000000 -0.124249   0.129038     -0.009813  \n",
       "Age_0-15      -0.124249  1.000000  -0.912297     -0.117203  \n",
       "Age_16-55      0.129038 -0.912297   1.000000     -0.291841  \n",
       "Age_Above-56  -0.009813 -0.117203  -0.291841      1.000000  "
      ]
     },
     "execution_count": 59,
     "metadata": {},
     "output_type": "execute_result"
    }
   ],
   "source": [
    "data3.corr()"
   ]
  },
  {
   "cell_type": "markdown",
   "metadata": {},
   "source": [
    "## data4 dataframe has hot encoded Occ with 1 and 0's in seperate columns"
   ]
  },
  {
   "cell_type": "code",
   "execution_count": 60,
   "metadata": {},
   "outputs": [],
   "source": [
    "data4 = pd.get_dummies(data3, columns =['Occ'])"
   ]
  },
  {
   "cell_type": "code",
   "execution_count": 61,
   "metadata": {},
   "outputs": [
    {
     "data": {
      "text/plain": [
       "Index(['Race_B', 'Race_W', 'Sex_F', 'Sex_M', 'Year_1900', 'Year_1910',\n",
       "       'Year_1920', 'Age_0-15', 'Age_16-55', 'Age_Above-56', 'Occ_0', 'Occ_1',\n",
       "       'Occ_2', 'Occ_3'],\n",
       "      dtype='object')"
      ]
     },
     "execution_count": 61,
     "metadata": {},
     "output_type": "execute_result"
    }
   ],
   "source": [
    "data4.columns"
   ]
  },
  {
   "cell_type": "code",
   "execution_count": 62,
   "metadata": {},
   "outputs": [
    {
     "data": {
      "text/html": [
       "<div>\n",
       "<style scoped>\n",
       "    .dataframe tbody tr th:only-of-type {\n",
       "        vertical-align: middle;\n",
       "    }\n",
       "\n",
       "    .dataframe tbody tr th {\n",
       "        vertical-align: top;\n",
       "    }\n",
       "\n",
       "    .dataframe thead th {\n",
       "        text-align: right;\n",
       "    }\n",
       "</style>\n",
       "<table border=\"1\" class=\"dataframe\">\n",
       "  <thead>\n",
       "    <tr style=\"text-align: right;\">\n",
       "      <th></th>\n",
       "      <th>Race_B</th>\n",
       "      <th>Race_W</th>\n",
       "      <th>Sex_F</th>\n",
       "      <th>Sex_M</th>\n",
       "      <th>Year_1900</th>\n",
       "      <th>Year_1910</th>\n",
       "      <th>Year_1920</th>\n",
       "      <th>Age_0-15</th>\n",
       "      <th>Age_16-55</th>\n",
       "      <th>Age_Above-56</th>\n",
       "      <th>Occ_0</th>\n",
       "      <th>Occ_1</th>\n",
       "      <th>Occ_2</th>\n",
       "      <th>Occ_3</th>\n",
       "    </tr>\n",
       "  </thead>\n",
       "  <tbody>\n",
       "    <tr>\n",
       "      <th>0</th>\n",
       "      <td>1</td>\n",
       "      <td>0</td>\n",
       "      <td>1</td>\n",
       "      <td>0</td>\n",
       "      <td>1</td>\n",
       "      <td>0</td>\n",
       "      <td>0</td>\n",
       "      <td>0</td>\n",
       "      <td>1</td>\n",
       "      <td>0</td>\n",
       "      <td>1</td>\n",
       "      <td>0</td>\n",
       "      <td>0</td>\n",
       "      <td>0</td>\n",
       "    </tr>\n",
       "    <tr>\n",
       "      <th>1</th>\n",
       "      <td>1</td>\n",
       "      <td>0</td>\n",
       "      <td>0</td>\n",
       "      <td>1</td>\n",
       "      <td>1</td>\n",
       "      <td>0</td>\n",
       "      <td>0</td>\n",
       "      <td>0</td>\n",
       "      <td>1</td>\n",
       "      <td>0</td>\n",
       "      <td>1</td>\n",
       "      <td>0</td>\n",
       "      <td>0</td>\n",
       "      <td>0</td>\n",
       "    </tr>\n",
       "    <tr>\n",
       "      <th>2</th>\n",
       "      <td>1</td>\n",
       "      <td>0</td>\n",
       "      <td>1</td>\n",
       "      <td>0</td>\n",
       "      <td>1</td>\n",
       "      <td>0</td>\n",
       "      <td>0</td>\n",
       "      <td>0</td>\n",
       "      <td>1</td>\n",
       "      <td>0</td>\n",
       "      <td>1</td>\n",
       "      <td>0</td>\n",
       "      <td>0</td>\n",
       "      <td>0</td>\n",
       "    </tr>\n",
       "    <tr>\n",
       "      <th>3</th>\n",
       "      <td>1</td>\n",
       "      <td>0</td>\n",
       "      <td>1</td>\n",
       "      <td>0</td>\n",
       "      <td>1</td>\n",
       "      <td>0</td>\n",
       "      <td>0</td>\n",
       "      <td>0</td>\n",
       "      <td>1</td>\n",
       "      <td>0</td>\n",
       "      <td>1</td>\n",
       "      <td>0</td>\n",
       "      <td>0</td>\n",
       "      <td>0</td>\n",
       "    </tr>\n",
       "    <tr>\n",
       "      <th>4</th>\n",
       "      <td>1</td>\n",
       "      <td>0</td>\n",
       "      <td>1</td>\n",
       "      <td>0</td>\n",
       "      <td>1</td>\n",
       "      <td>0</td>\n",
       "      <td>0</td>\n",
       "      <td>1</td>\n",
       "      <td>0</td>\n",
       "      <td>0</td>\n",
       "      <td>0</td>\n",
       "      <td>0</td>\n",
       "      <td>0</td>\n",
       "      <td>1</td>\n",
       "    </tr>\n",
       "  </tbody>\n",
       "</table>\n",
       "</div>"
      ],
      "text/plain": [
       "   Race_B  Race_W  Sex_F  Sex_M  Year_1900  Year_1910  Year_1920  Age_0-15  \\\n",
       "0       1       0      1      0          1          0          0         0   \n",
       "1       1       0      0      1          1          0          0         0   \n",
       "2       1       0      1      0          1          0          0         0   \n",
       "3       1       0      1      0          1          0          0         0   \n",
       "4       1       0      1      0          1          0          0         1   \n",
       "\n",
       "   Age_16-55  Age_Above-56  Occ_0  Occ_1  Occ_2  Occ_3  \n",
       "0          1             0      1      0      0      0  \n",
       "1          1             0      1      0      0      0  \n",
       "2          1             0      1      0      0      0  \n",
       "3          1             0      1      0      0      0  \n",
       "4          0             0      0      0      0      1  "
      ]
     },
     "execution_count": 62,
     "metadata": {},
     "output_type": "execute_result"
    }
   ],
   "source": [
    "data4.head()"
   ]
  },
  {
   "cell_type": "code",
   "execution_count": 63,
   "metadata": {},
   "outputs": [
    {
     "data": {
      "text/html": [
       "<div>\n",
       "<style scoped>\n",
       "    .dataframe tbody tr th:only-of-type {\n",
       "        vertical-align: middle;\n",
       "    }\n",
       "\n",
       "    .dataframe tbody tr th {\n",
       "        vertical-align: top;\n",
       "    }\n",
       "\n",
       "    .dataframe thead th {\n",
       "        text-align: right;\n",
       "    }\n",
       "</style>\n",
       "<table border=\"1\" class=\"dataframe\">\n",
       "  <thead>\n",
       "    <tr style=\"text-align: right;\">\n",
       "      <th></th>\n",
       "      <th>Race_B</th>\n",
       "      <th>Race_W</th>\n",
       "      <th>Sex_F</th>\n",
       "      <th>Sex_M</th>\n",
       "      <th>Year_1900</th>\n",
       "      <th>Year_1910</th>\n",
       "      <th>Year_1920</th>\n",
       "      <th>Age_0-15</th>\n",
       "      <th>Age_16-55</th>\n",
       "      <th>Age_Above-56</th>\n",
       "      <th>Occ_0</th>\n",
       "      <th>Occ_1</th>\n",
       "      <th>Occ_2</th>\n",
       "      <th>Occ_3</th>\n",
       "    </tr>\n",
       "  </thead>\n",
       "  <tbody>\n",
       "    <tr>\n",
       "      <th>Race_B</th>\n",
       "      <td>1.000000</td>\n",
       "      <td>-1.000000</td>\n",
       "      <td>0.089266</td>\n",
       "      <td>-0.089266</td>\n",
       "      <td>0.103793</td>\n",
       "      <td>0.050228</td>\n",
       "      <td>-0.120083</td>\n",
       "      <td>-0.117005</td>\n",
       "      <td>0.111155</td>\n",
       "      <td>-0.000063</td>\n",
       "      <td>0.177371</td>\n",
       "      <td>-0.032419</td>\n",
       "      <td>-0.123178</td>\n",
       "      <td>-0.121342</td>\n",
       "    </tr>\n",
       "    <tr>\n",
       "      <th>Race_W</th>\n",
       "      <td>-1.000000</td>\n",
       "      <td>1.000000</td>\n",
       "      <td>-0.089266</td>\n",
       "      <td>0.089266</td>\n",
       "      <td>-0.103793</td>\n",
       "      <td>-0.050228</td>\n",
       "      <td>0.120083</td>\n",
       "      <td>0.117005</td>\n",
       "      <td>-0.111155</td>\n",
       "      <td>0.000063</td>\n",
       "      <td>-0.177371</td>\n",
       "      <td>0.032419</td>\n",
       "      <td>0.123178</td>\n",
       "      <td>0.121342</td>\n",
       "    </tr>\n",
       "    <tr>\n",
       "      <th>Sex_F</th>\n",
       "      <td>0.089266</td>\n",
       "      <td>-0.089266</td>\n",
       "      <td>1.000000</td>\n",
       "      <td>-1.000000</td>\n",
       "      <td>0.021048</td>\n",
       "      <td>0.001233</td>\n",
       "      <td>-0.020124</td>\n",
       "      <td>0.082898</td>\n",
       "      <td>-0.054751</td>\n",
       "      <td>-0.058491</td>\n",
       "      <td>-0.160214</td>\n",
       "      <td>0.094399</td>\n",
       "      <td>-0.019620</td>\n",
       "      <td>0.111534</td>\n",
       "    </tr>\n",
       "    <tr>\n",
       "      <th>Sex_M</th>\n",
       "      <td>-0.089266</td>\n",
       "      <td>0.089266</td>\n",
       "      <td>-1.000000</td>\n",
       "      <td>1.000000</td>\n",
       "      <td>-0.021048</td>\n",
       "      <td>-0.001233</td>\n",
       "      <td>0.020124</td>\n",
       "      <td>-0.082898</td>\n",
       "      <td>0.054751</td>\n",
       "      <td>0.058491</td>\n",
       "      <td>0.160214</td>\n",
       "      <td>-0.094399</td>\n",
       "      <td>0.019620</td>\n",
       "      <td>-0.111534</td>\n",
       "    </tr>\n",
       "    <tr>\n",
       "      <th>Year_1900</th>\n",
       "      <td>0.103793</td>\n",
       "      <td>-0.103793</td>\n",
       "      <td>0.021048</td>\n",
       "      <td>-0.021048</td>\n",
       "      <td>1.000000</td>\n",
       "      <td>-0.096920</td>\n",
       "      <td>-0.882686</td>\n",
       "      <td>0.183999</td>\n",
       "      <td>-0.181774</td>\n",
       "      <td>-0.003668</td>\n",
       "      <td>-0.119613</td>\n",
       "      <td>-0.051321</td>\n",
       "      <td>-0.075893</td>\n",
       "      <td>0.215250</td>\n",
       "    </tr>\n",
       "    <tr>\n",
       "      <th>Year_1910</th>\n",
       "      <td>0.050228</td>\n",
       "      <td>-0.050228</td>\n",
       "      <td>0.001233</td>\n",
       "      <td>-0.001233</td>\n",
       "      <td>-0.096920</td>\n",
       "      <td>1.000000</td>\n",
       "      <td>-0.382201</td>\n",
       "      <td>-0.098659</td>\n",
       "      <td>0.084141</td>\n",
       "      <td>0.027996</td>\n",
       "      <td>0.103150</td>\n",
       "      <td>-0.016573</td>\n",
       "      <td>-0.011679</td>\n",
       "      <td>-0.099090</td>\n",
       "    </tr>\n",
       "    <tr>\n",
       "      <th>Year_1920</th>\n",
       "      <td>-0.120083</td>\n",
       "      <td>0.120083</td>\n",
       "      <td>-0.020124</td>\n",
       "      <td>0.020124</td>\n",
       "      <td>-0.882686</td>\n",
       "      <td>-0.382201</td>\n",
       "      <td>1.000000</td>\n",
       "      <td>-0.124249</td>\n",
       "      <td>0.129038</td>\n",
       "      <td>-0.009813</td>\n",
       "      <td>0.062349</td>\n",
       "      <td>0.055475</td>\n",
       "      <td>0.075977</td>\n",
       "      <td>-0.153060</td>\n",
       "    </tr>\n",
       "    <tr>\n",
       "      <th>Age_0-15</th>\n",
       "      <td>-0.117005</td>\n",
       "      <td>0.117005</td>\n",
       "      <td>0.082898</td>\n",
       "      <td>-0.082898</td>\n",
       "      <td>0.183999</td>\n",
       "      <td>-0.098659</td>\n",
       "      <td>-0.124249</td>\n",
       "      <td>1.000000</td>\n",
       "      <td>-0.912297</td>\n",
       "      <td>-0.117203</td>\n",
       "      <td>-0.576988</td>\n",
       "      <td>-0.242815</td>\n",
       "      <td>-0.120867</td>\n",
       "      <td>0.925598</td>\n",
       "    </tr>\n",
       "    <tr>\n",
       "      <th>Age_16-55</th>\n",
       "      <td>0.111155</td>\n",
       "      <td>-0.111155</td>\n",
       "      <td>-0.054751</td>\n",
       "      <td>0.054751</td>\n",
       "      <td>-0.181774</td>\n",
       "      <td>0.084141</td>\n",
       "      <td>0.129038</td>\n",
       "      <td>-0.912297</td>\n",
       "      <td>1.000000</td>\n",
       "      <td>-0.291841</td>\n",
       "      <td>0.536729</td>\n",
       "      <td>0.226645</td>\n",
       "      <td>0.085711</td>\n",
       "      <td>-0.849840</td>\n",
       "    </tr>\n",
       "    <tr>\n",
       "      <th>Age_Above-56</th>\n",
       "      <td>-0.000063</td>\n",
       "      <td>0.000063</td>\n",
       "      <td>-0.058491</td>\n",
       "      <td>0.058491</td>\n",
       "      <td>-0.003668</td>\n",
       "      <td>0.027996</td>\n",
       "      <td>-0.009813</td>\n",
       "      <td>-0.117203</td>\n",
       "      <td>-0.291841</td>\n",
       "      <td>1.000000</td>\n",
       "      <td>0.052740</td>\n",
       "      <td>0.020205</td>\n",
       "      <td>0.076795</td>\n",
       "      <td>-0.112019</td>\n",
       "    </tr>\n",
       "    <tr>\n",
       "      <th>Occ_0</th>\n",
       "      <td>0.177371</td>\n",
       "      <td>-0.177371</td>\n",
       "      <td>-0.160214</td>\n",
       "      <td>0.160214</td>\n",
       "      <td>-0.119613</td>\n",
       "      <td>0.103150</td>\n",
       "      <td>0.062349</td>\n",
       "      <td>-0.576988</td>\n",
       "      <td>0.536729</td>\n",
       "      <td>0.052740</td>\n",
       "      <td>1.000000</td>\n",
       "      <td>-0.489080</td>\n",
       "      <td>-0.217981</td>\n",
       "      <td>-0.631528</td>\n",
       "    </tr>\n",
       "    <tr>\n",
       "      <th>Occ_1</th>\n",
       "      <td>-0.032419</td>\n",
       "      <td>0.032419</td>\n",
       "      <td>0.094399</td>\n",
       "      <td>-0.094399</td>\n",
       "      <td>-0.051321</td>\n",
       "      <td>-0.016573</td>\n",
       "      <td>0.055475</td>\n",
       "      <td>-0.242815</td>\n",
       "      <td>0.226645</td>\n",
       "      <td>0.020205</td>\n",
       "      <td>-0.489080</td>\n",
       "      <td>1.000000</td>\n",
       "      <td>-0.089464</td>\n",
       "      <td>-0.259192</td>\n",
       "    </tr>\n",
       "    <tr>\n",
       "      <th>Occ_2</th>\n",
       "      <td>-0.123178</td>\n",
       "      <td>0.123178</td>\n",
       "      <td>-0.019620</td>\n",
       "      <td>0.019620</td>\n",
       "      <td>-0.075893</td>\n",
       "      <td>-0.011679</td>\n",
       "      <td>0.075977</td>\n",
       "      <td>-0.120867</td>\n",
       "      <td>0.085711</td>\n",
       "      <td>0.076795</td>\n",
       "      <td>-0.217981</td>\n",
       "      <td>-0.089464</td>\n",
       "      <td>1.000000</td>\n",
       "      <td>-0.115521</td>\n",
       "    </tr>\n",
       "    <tr>\n",
       "      <th>Occ_3</th>\n",
       "      <td>-0.121342</td>\n",
       "      <td>0.121342</td>\n",
       "      <td>0.111534</td>\n",
       "      <td>-0.111534</td>\n",
       "      <td>0.215250</td>\n",
       "      <td>-0.099090</td>\n",
       "      <td>-0.153060</td>\n",
       "      <td>0.925598</td>\n",
       "      <td>-0.849840</td>\n",
       "      <td>-0.112019</td>\n",
       "      <td>-0.631528</td>\n",
       "      <td>-0.259192</td>\n",
       "      <td>-0.115521</td>\n",
       "      <td>1.000000</td>\n",
       "    </tr>\n",
       "  </tbody>\n",
       "</table>\n",
       "</div>"
      ],
      "text/plain": [
       "                Race_B    Race_W     Sex_F     Sex_M  Year_1900  Year_1910  \\\n",
       "Race_B        1.000000 -1.000000  0.089266 -0.089266   0.103793   0.050228   \n",
       "Race_W       -1.000000  1.000000 -0.089266  0.089266  -0.103793  -0.050228   \n",
       "Sex_F         0.089266 -0.089266  1.000000 -1.000000   0.021048   0.001233   \n",
       "Sex_M        -0.089266  0.089266 -1.000000  1.000000  -0.021048  -0.001233   \n",
       "Year_1900     0.103793 -0.103793  0.021048 -0.021048   1.000000  -0.096920   \n",
       "Year_1910     0.050228 -0.050228  0.001233 -0.001233  -0.096920   1.000000   \n",
       "Year_1920    -0.120083  0.120083 -0.020124  0.020124  -0.882686  -0.382201   \n",
       "Age_0-15     -0.117005  0.117005  0.082898 -0.082898   0.183999  -0.098659   \n",
       "Age_16-55     0.111155 -0.111155 -0.054751  0.054751  -0.181774   0.084141   \n",
       "Age_Above-56 -0.000063  0.000063 -0.058491  0.058491  -0.003668   0.027996   \n",
       "Occ_0         0.177371 -0.177371 -0.160214  0.160214  -0.119613   0.103150   \n",
       "Occ_1        -0.032419  0.032419  0.094399 -0.094399  -0.051321  -0.016573   \n",
       "Occ_2        -0.123178  0.123178 -0.019620  0.019620  -0.075893  -0.011679   \n",
       "Occ_3        -0.121342  0.121342  0.111534 -0.111534   0.215250  -0.099090   \n",
       "\n",
       "              Year_1920  Age_0-15  Age_16-55  Age_Above-56     Occ_0  \\\n",
       "Race_B        -0.120083 -0.117005   0.111155     -0.000063  0.177371   \n",
       "Race_W         0.120083  0.117005  -0.111155      0.000063 -0.177371   \n",
       "Sex_F         -0.020124  0.082898  -0.054751     -0.058491 -0.160214   \n",
       "Sex_M          0.020124 -0.082898   0.054751      0.058491  0.160214   \n",
       "Year_1900     -0.882686  0.183999  -0.181774     -0.003668 -0.119613   \n",
       "Year_1910     -0.382201 -0.098659   0.084141      0.027996  0.103150   \n",
       "Year_1920      1.000000 -0.124249   0.129038     -0.009813  0.062349   \n",
       "Age_0-15      -0.124249  1.000000  -0.912297     -0.117203 -0.576988   \n",
       "Age_16-55      0.129038 -0.912297   1.000000     -0.291841  0.536729   \n",
       "Age_Above-56  -0.009813 -0.117203  -0.291841      1.000000  0.052740   \n",
       "Occ_0          0.062349 -0.576988   0.536729      0.052740  1.000000   \n",
       "Occ_1          0.055475 -0.242815   0.226645      0.020205 -0.489080   \n",
       "Occ_2          0.075977 -0.120867   0.085711      0.076795 -0.217981   \n",
       "Occ_3         -0.153060  0.925598  -0.849840     -0.112019 -0.631528   \n",
       "\n",
       "                 Occ_1     Occ_2     Occ_3  \n",
       "Race_B       -0.032419 -0.123178 -0.121342  \n",
       "Race_W        0.032419  0.123178  0.121342  \n",
       "Sex_F         0.094399 -0.019620  0.111534  \n",
       "Sex_M        -0.094399  0.019620 -0.111534  \n",
       "Year_1900    -0.051321 -0.075893  0.215250  \n",
       "Year_1910    -0.016573 -0.011679 -0.099090  \n",
       "Year_1920     0.055475  0.075977 -0.153060  \n",
       "Age_0-15     -0.242815 -0.120867  0.925598  \n",
       "Age_16-55     0.226645  0.085711 -0.849840  \n",
       "Age_Above-56  0.020205  0.076795 -0.112019  \n",
       "Occ_0        -0.489080 -0.217981 -0.631528  \n",
       "Occ_1         1.000000 -0.089464 -0.259192  \n",
       "Occ_2        -0.089464  1.000000 -0.115521  \n",
       "Occ_3        -0.259192 -0.115521  1.000000  "
      ]
     },
     "execution_count": 63,
     "metadata": {},
     "output_type": "execute_result"
    }
   ],
   "source": [
    "data4.corr(method='spearman')"
   ]
  },
  {
   "cell_type": "markdown",
   "metadata": {},
   "source": [
    "## Filter Using Pearson Correlation"
   ]
  },
  {
   "cell_type": "code",
   "execution_count": 64,
   "metadata": {
    "scrolled": true
   },
   "outputs": [
    {
     "data": {
      "image/png": "[encoded data removed]",
      "text/plain": [
       "<Figure size 864x720 with 2 Axes>"
      ]
     },
     "metadata": {},
     "output_type": "display_data"
    }
   ],
   "source": [
    "#Using Pearson Correlation\n",
    "plt.figure(figsize=(12,10))\n",
    "cor = data4.corr()\n",
    "sns.heatmap(cor, annot=True, cmap=plt.cm.Reds)\n",
    "plt.show()"
   ]
  },
  {
   "cell_type": "code",
   "execution_count": 65,
   "metadata": {},
   "outputs": [
    {
     "name": "stdout",
     "output_type": "stream",
     "text": [
      "Age_0-15     0.576988\n",
      "Age_16-55    0.536729\n",
      "Occ_0        1.000000\n",
      "Occ_1        0.489080\n",
      "Occ_3        0.631528\n",
      "Name: Occ_0, dtype: float64\n",
      "--------\n",
      "Occ_0    0.489080\n",
      "Occ_1    1.000000\n",
      "Occ_3    0.259192\n",
      "Name: Occ_1, dtype: float64\n",
      "--------\n",
      "Occ_2    1.0\n",
      "Name: Occ_2, dtype: float64\n",
      "--------\n",
      "Age_0-15     0.925598\n",
      "Age_16-55    0.849840\n",
      "Occ_0        0.631528\n",
      "Occ_1        0.259192\n",
      "Occ_3        1.000000\n",
      "Name: Occ_3, dtype: float64\n",
      "--------\n"
     ]
    }
   ],
   "source": [
    "#Correlation with output variable\n",
    "Occupations = ['Occ_0', 'Occ_1', 'Occ_2','Occ_3']\n",
    "for i in Occupations:\n",
    "    cor_target = abs(cor[i])\n",
    "    #Selecting highly correlated features\n",
    "    relevant_features = cor_target[cor_target>0.25]\n",
    "    print(relevant_features)\n",
    "    print(\"--------\")"
   ]
  },
  {
   "cell_type": "markdown",
   "metadata": {},
   "source": [
    "## Machine learning"
   ]
  },
  {
   "cell_type": "code",
   "execution_count": 66,
   "metadata": {},
   "outputs": [],
   "source": [
    "#importing libraries\n",
    "import pandas as pd\n",
    "from matplotlib import pyplot as plt\n",
    "import seaborn as sns\n",
    "from sklearn.model_selection import train_test_split\n",
    "from sklearn.tree import DecisionTreeClassifier\n",
    "from sklearn import model_selection\n",
    "from sklearn.metrics import classification_report\n",
    "from sklearn.metrics import confusion_matrix\n",
    "from sklearn.metrics import accuracy_score\n",
    "from sklearn.linear_model import LogisticRegression\n",
    "from sklearn.neighbors import KNeighborsClassifier\n",
    "from sklearn.discriminant_analysis import LinearDiscriminantAnalysis\n",
    "from sklearn.naive_bayes import GaussianNB\n",
    "from sklearn.svm import SVC"
   ]
  },
  {
   "cell_type": "markdown",
   "metadata": {},
   "source": [
    "## Create train/test split of data using data2 dataframe"
   ]
  },
  {
   "cell_type": "code",
   "execution_count": 67,
   "metadata": {},
   "outputs": [],
   "source": [
    "train,test = train_test_split(data2,test_size=0.2,random_state=7)"
   ]
  },
  {
   "cell_type": "code",
   "execution_count": 68,
   "metadata": {},
   "outputs": [
    {
     "name": "stdout",
     "output_type": "stream",
     "text": [
      "train shape:   \n",
      "(2900, 11)\n",
      "test shape:    \n",
      "(725, 11)\n",
      "Unique classes with count : \n",
      "Unskilled                1571\n",
      "Student                   726\n",
      "Skilled Labor             486\n",
      "Skilled Professionals     117\n",
      "Name: Occ, dtype: int64\n",
      "data description : \n"
     ]
    }
   ],
   "source": [
    "print (\"train shape:   \")\n",
    "print(train.shape)\n",
    "print (\"test shape:    \")\n",
    "print(test.shape)\n",
    "print (\"Unique classes with count : \")\n",
    "print(pd.value_counts(train['Occ']))\n",
    "print (\"data description : \")\n",
    "#print(train.describe())"
   ]
  },
  {
   "cell_type": "code",
   "execution_count": 69,
   "metadata": {},
   "outputs": [
    {
     "name": "stdout",
     "output_type": "stream",
     "text": [
      "<class 'pandas.core.frame.DataFrame'>\n",
      "Int64Index: 2900 entries, 1172 to 207\n",
      "Data columns (total 11 columns):\n",
      "Occ             2900 non-null object\n",
      "Race_B          2900 non-null uint8\n",
      "Race_W          2900 non-null uint8\n",
      "Sex_F           2900 non-null uint8\n",
      "Sex_M           2900 non-null uint8\n",
      "Year_1900       2900 non-null uint8\n",
      "Year_1910       2900 non-null uint8\n",
      "Year_1920       2900 non-null uint8\n",
      "Age_0-15        2900 non-null uint8\n",
      "Age_16-55       2900 non-null uint8\n",
      "Age_Above-56    2900 non-null uint8\n",
      "dtypes: object(1), uint8(10)\n",
      "memory usage: 73.6+ KB\n",
      "None\n"
     ]
    }
   ],
   "source": [
    "#checking missing values\n",
    "print (train.info())\n",
    "#No null values"
   ]
  },
  {
   "cell_type": "code",
   "execution_count": 70,
   "metadata": {},
   "outputs": [],
   "source": [
    "#Modelling\n",
    "train['Occ'][train['Occ']=='Unskilled']=0\n",
    "train['Occ'][train['Occ']=='Skilled Labor']=1\n",
    "train['Occ'][train['Occ']=='Skilled Professionals']=2\n",
    "train['Occ'][train['Occ']=='Student']=3\n",
    "\n",
    "test['Occ'][test['Occ']=='Unskilled']=0\n",
    "test['Occ'][test['Occ']=='Skilled Labor']=1\n",
    "test['Occ'][test['Occ']=='Skilled Professionals']=2\n",
    "test['Occ'][test['Occ']=='Student']=3\n",
    "\n",
    "X = train.iloc[:,1:]\n",
    "y = train.iloc[:,0]\n",
    "y = pd.to_numeric(y)\n",
    "y_test=pd.to_numeric(test.iloc[:,0])\n"
   ]
  },
  {
   "cell_type": "code",
   "execution_count": 71,
   "metadata": {},
   "outputs": [],
   "source": [
    "# Spot Check Algorithms\n",
    "models = []\n",
    "models.append(('LogisticRegression', LogisticRegression()))\n",
    "models.append(('DecisionTreeClassifier', DecisionTreeClassifier()))\n",
    "models.append(('LinearDiscriminantAnalysis', LinearDiscriminantAnalysis()))\n",
    "models.append(('KNeighborsClassifier', KNeighborsClassifier()))\n",
    "models.append(('GaussianNB', GaussianNB()))\n",
    "models.append(('SVC', SVC()))\n",
    "# evaluate each model in turn\n",
    "scoring = 'accuracy'"
   ]
  },
  {
   "cell_type": "code",
   "execution_count": 72,
   "metadata": {},
   "outputs": [
    {
     "name": "stdout",
     "output_type": "stream",
     "text": [
      "LogisticRegression: 0.766207 (0.021245)\n",
      "DecisionTreeClassifier: 0.767931 (0.021315)\n",
      "LinearDiscriminantAnalysis: 0.767931 (0.020807)\n"
     ]
    },
    {
     "name": "stderr",
     "output_type": "stream",
     "text": [
      "C:\\Users\\User\\Miniconda3\\envs\\Tensorflow_11_Oct_2018\\lib\\site-packages\\sklearn\\discriminant_analysis.py:388: UserWarning: Variables are collinear.\n",
      "  warnings.warn(\"Variables are collinear.\")\n",
      "C:\\Users\\User\\Miniconda3\\envs\\Tensorflow_11_Oct_2018\\lib\\site-packages\\sklearn\\discriminant_analysis.py:388: UserWarning: Variables are collinear.\n",
      "  warnings.warn(\"Variables are collinear.\")\n",
      "C:\\Users\\User\\Miniconda3\\envs\\Tensorflow_11_Oct_2018\\lib\\site-packages\\sklearn\\discriminant_analysis.py:388: UserWarning: Variables are collinear.\n",
      "  warnings.warn(\"Variables are collinear.\")\n",
      "C:\\Users\\User\\Miniconda3\\envs\\Tensorflow_11_Oct_2018\\lib\\site-packages\\sklearn\\discriminant_analysis.py:388: UserWarning: Variables are collinear.\n",
      "  warnings.warn(\"Variables are collinear.\")\n",
      "C:\\Users\\User\\Miniconda3\\envs\\Tensorflow_11_Oct_2018\\lib\\site-packages\\sklearn\\discriminant_analysis.py:388: UserWarning: Variables are collinear.\n",
      "  warnings.warn(\"Variables are collinear.\")\n",
      "C:\\Users\\User\\Miniconda3\\envs\\Tensorflow_11_Oct_2018\\lib\\site-packages\\sklearn\\discriminant_analysis.py:388: UserWarning: Variables are collinear.\n",
      "  warnings.warn(\"Variables are collinear.\")\n",
      "C:\\Users\\User\\Miniconda3\\envs\\Tensorflow_11_Oct_2018\\lib\\site-packages\\sklearn\\discriminant_analysis.py:388: UserWarning: Variables are collinear.\n",
      "  warnings.warn(\"Variables are collinear.\")\n",
      "C:\\Users\\User\\Miniconda3\\envs\\Tensorflow_11_Oct_2018\\lib\\site-packages\\sklearn\\discriminant_analysis.py:388: UserWarning: Variables are collinear.\n",
      "  warnings.warn(\"Variables are collinear.\")\n",
      "C:\\Users\\User\\Miniconda3\\envs\\Tensorflow_11_Oct_2018\\lib\\site-packages\\sklearn\\discriminant_analysis.py:388: UserWarning: Variables are collinear.\n",
      "  warnings.warn(\"Variables are collinear.\")\n",
      "C:\\Users\\User\\Miniconda3\\envs\\Tensorflow_11_Oct_2018\\lib\\site-packages\\sklearn\\discriminant_analysis.py:388: UserWarning: Variables are collinear.\n",
      "  warnings.warn(\"Variables are collinear.\")\n"
     ]
    },
    {
     "name": "stdout",
     "output_type": "stream",
     "text": [
      "KNeighborsClassifier: 0.756897 (0.027163)\n",
      "GaussianNB: 0.383103 (0.020074)\n",
      "SVC: 0.766897 (0.019881)\n"
     ]
    }
   ],
   "source": [
    "results = []\n",
    "names = []\n",
    "for name, model in models:\n",
    "\tkfold = model_selection.KFold(n_splits=10, random_state=5)\n",
    "\tcv_results = model_selection.cross_val_score(model, X,y, cv=kfold, scoring=scoring)\n",
    "\tresults.append(cv_results)\n",
    "\tnames.append(name)\n",
    "\tmsg = \"%s: %f (%f)\" % (name, cv_results.mean(), cv_results.std())\n",
    "\tprint(msg)"
   ]
  },
  {
   "cell_type": "markdown",
   "metadata": {},
   "source": [
    "## Warning: Variables are collinear means that the predictors are correlated - Namely M/F and B/W"
   ]
  },
  {
   "cell_type": "markdown",
   "metadata": {},
   "source": [
    "## Remove one of the Collinear variables - both W and F"
   ]
  },
  {
   "cell_type": "code",
   "execution_count": 73,
   "metadata": {},
   "outputs": [
    {
     "data": {
      "text/plain": [
       "Index(['Occ', 'Race_B', 'Race_W', 'Sex_F', 'Sex_M', 'Year_1900', 'Year_1910',\n",
       "       'Year_1920', 'Age_0-15', 'Age_16-55', 'Age_Above-56'],\n",
       "      dtype='object')"
      ]
     },
     "execution_count": 73,
     "metadata": {},
     "output_type": "execute_result"
    }
   ],
   "source": [
    "data5 = data2.copy()\n",
    "data5.columns"
   ]
  },
  {
   "cell_type": "code",
   "execution_count": 74,
   "metadata": {},
   "outputs": [
    {
     "data": {
      "text/html": [
       "<div>\n",
       "<style scoped>\n",
       "    .dataframe tbody tr th:only-of-type {\n",
       "        vertical-align: middle;\n",
       "    }\n",
       "\n",
       "    .dataframe tbody tr th {\n",
       "        vertical-align: top;\n",
       "    }\n",
       "\n",
       "    .dataframe thead th {\n",
       "        text-align: right;\n",
       "    }\n",
       "</style>\n",
       "<table border=\"1\" class=\"dataframe\">\n",
       "  <thead>\n",
       "    <tr style=\"text-align: right;\">\n",
       "      <th></th>\n",
       "      <th>Occ</th>\n",
       "      <th>Race_B</th>\n",
       "      <th>Sex_M</th>\n",
       "      <th>Year_1900</th>\n",
       "      <th>Year_1910</th>\n",
       "      <th>Age_0-15</th>\n",
       "      <th>Age_16-55</th>\n",
       "    </tr>\n",
       "  </thead>\n",
       "  <tbody>\n",
       "    <tr>\n",
       "      <th>0</th>\n",
       "      <td>Unskilled</td>\n",
       "      <td>1</td>\n",
       "      <td>0</td>\n",
       "      <td>1</td>\n",
       "      <td>0</td>\n",
       "      <td>0</td>\n",
       "      <td>1</td>\n",
       "    </tr>\n",
       "    <tr>\n",
       "      <th>1</th>\n",
       "      <td>Unskilled</td>\n",
       "      <td>1</td>\n",
       "      <td>1</td>\n",
       "      <td>1</td>\n",
       "      <td>0</td>\n",
       "      <td>0</td>\n",
       "      <td>1</td>\n",
       "    </tr>\n",
       "    <tr>\n",
       "      <th>2</th>\n",
       "      <td>Unskilled</td>\n",
       "      <td>1</td>\n",
       "      <td>0</td>\n",
       "      <td>1</td>\n",
       "      <td>0</td>\n",
       "      <td>0</td>\n",
       "      <td>1</td>\n",
       "    </tr>\n",
       "    <tr>\n",
       "      <th>3</th>\n",
       "      <td>Unskilled</td>\n",
       "      <td>1</td>\n",
       "      <td>0</td>\n",
       "      <td>1</td>\n",
       "      <td>0</td>\n",
       "      <td>0</td>\n",
       "      <td>1</td>\n",
       "    </tr>\n",
       "    <tr>\n",
       "      <th>4</th>\n",
       "      <td>Student</td>\n",
       "      <td>1</td>\n",
       "      <td>0</td>\n",
       "      <td>1</td>\n",
       "      <td>0</td>\n",
       "      <td>1</td>\n",
       "      <td>0</td>\n",
       "    </tr>\n",
       "  </tbody>\n",
       "</table>\n",
       "</div>"
      ],
      "text/plain": [
       "         Occ  Race_B  Sex_M  Year_1900  Year_1910  Age_0-15  Age_16-55\n",
       "0  Unskilled       1      0          1          0         0          1\n",
       "1  Unskilled       1      1          1          0         0          1\n",
       "2  Unskilled       1      0          1          0         0          1\n",
       "3  Unskilled       1      0          1          0         0          1\n",
       "4    Student       1      0          1          0         1          0"
      ]
     },
     "execution_count": 74,
     "metadata": {},
     "output_type": "execute_result"
    }
   ],
   "source": [
    "columns = ['Occ', 'Race_B', 'Race_W', 'Sex_F', 'Sex_M', 'Year_1900', 'Year_1910',\n",
    "       'Year_1920', 'Age_0-15', 'Age_16-55', 'Age_Above-56']\n",
    "\n",
    "data5.drop(['Sex_F','Race_W','Year_1920','Age_Above-56'], axis=1, inplace=True)\n",
    "\n",
    "data5.head(5)"
   ]
  },
  {
   "cell_type": "code",
   "execution_count": 75,
   "metadata": {},
   "outputs": [],
   "source": [
    "train,test = train_test_split(data5,test_size=0.2,random_state=7)"
   ]
  },
  {
   "cell_type": "code",
   "execution_count": 76,
   "metadata": {},
   "outputs": [
    {
     "data": {
      "image/png": "[encoded data removed]",
      "text/plain": [
       "<Figure size 720x576 with 2 Axes>"
      ]
     },
     "metadata": {},
     "output_type": "display_data"
    }
   ],
   "source": [
    "correlation_matrix = train.corr()\n",
    "plt.figure(figsize=(10,8))\n",
    "ax = sns.heatmap(correlation_matrix, vmax=1, square=True, annot=True,fmt='.2f', cmap ='GnBu', cbar_kws={\"shrink\": .5}, robust=True)\n",
    "plt.title('Correlation matrix between the features', fontsize=20)\n",
    "plt.show()"
   ]
  },
  {
   "cell_type": "code",
   "execution_count": 77,
   "metadata": {},
   "outputs": [
    {
     "name": "stdout",
     "output_type": "stream",
     "text": [
      "train shape:   \n",
      "(2900, 7)\n",
      "test shape:    \n",
      "(725, 7)\n",
      "Unique classes with count : \n",
      "Unskilled                1571\n",
      "Student                   726\n",
      "Skilled Labor             486\n",
      "Skilled Professionals     117\n",
      "Name: Occ, dtype: int64\n",
      "data description : \n"
     ]
    }
   ],
   "source": [
    "print (\"train shape:   \")\n",
    "print(train.shape)\n",
    "print (\"test shape:    \")\n",
    "print(test.shape)\n",
    "print (\"Unique classes with count : \")\n",
    "print(pd.value_counts(train['Occ']))\n",
    "print (\"data description : \")\n",
    "#print(train.describe())"
   ]
  },
  {
   "cell_type": "code",
   "execution_count": 78,
   "metadata": {},
   "outputs": [],
   "source": [
    "#Modelling\n",
    "train['Occ'][train['Occ']=='Unskilled']=0\n",
    "train['Occ'][train['Occ']=='Skilled Labor']=1\n",
    "train['Occ'][train['Occ']=='Skilled Professionals']=2\n",
    "train['Occ'][train['Occ']=='Student']=3\n",
    "\n",
    "test['Occ'][test['Occ']=='Unskilled']=0\n",
    "test['Occ'][test['Occ']=='Skilled Labor']=1\n",
    "test['Occ'][test['Occ']=='Skilled Professionals']=2\n",
    "test['Occ'][test['Occ']=='Student']=3\n",
    "\n",
    "X = train.iloc[:,1:]\n",
    "y = train.iloc[:,0]\n",
    "y = pd.to_numeric(y)\n",
    "y_test=pd.to_numeric(test.iloc[:,0])\n"
   ]
  },
  {
   "cell_type": "markdown",
   "metadata": {},
   "source": [
    "## Compare the Results for different classifier models"
   ]
  },
  {
   "cell_type": "code",
   "execution_count": 79,
   "metadata": {},
   "outputs": [
    {
     "name": "stdout",
     "output_type": "stream",
     "text": [
      "LogisticRegression: 0.764133 (0.025946)\n",
      "DecisionTreeClassifier: 0.765166 (0.025759)\n",
      "LinearDiscriminantAnalysis: 0.765167 (0.024377)\n",
      "KNeighborsClassifier: 0.765511 (0.027552)\n",
      "GaussianNB: 0.379271 (0.039138)\n",
      "SVC: 0.766891 (0.024052)\n"
     ]
    }
   ],
   "source": [
    "results = []\n",
    "names = []\n",
    "for name, model in models:\n",
    "\tkfold = model_selection.KFold(n_splits=15, random_state=7)\n",
    "\tcv_results = model_selection.cross_val_score(model, X,y, cv=kfold, scoring=scoring)\n",
    "\tresults.append(cv_results)\n",
    "\tnames.append(name)\n",
    "\tmsg = \"%s: %f (%f)\" % (name, cv_results.mean(), cv_results.std())\n",
    "\tprint(msg)"
   ]
  },
  {
   "cell_type": "code",
   "execution_count": 80,
   "metadata": {},
   "outputs": [
    {
     "name": "stdout",
     "output_type": "stream",
     "text": [
      "LogisticRegression Performance\n",
      "0.783448275862069\n",
      "[[387   0   0  13]\n",
      " [118   0   0   2]\n",
      " [ 22   0   0   0]\n",
      " [  2   0   0 181]]\n",
      "              precision    recall  f1-score   support\n",
      "\n",
      "           0       0.73      0.97      0.83       400\n",
      "           1       0.00      0.00      0.00       120\n",
      "           2       0.00      0.00      0.00        22\n",
      "           3       0.92      0.99      0.96       183\n",
      "\n",
      "   micro avg       0.78      0.78      0.78       725\n",
      "   macro avg       0.41      0.49      0.45       725\n",
      "weighted avg       0.64      0.78      0.70       725\n",
      "\n"
     ]
    },
    {
     "name": "stderr",
     "output_type": "stream",
     "text": [
      "C:\\Users\\User\\Miniconda3\\envs\\Tensorflow_11_Oct_2018\\lib\\site-packages\\sklearn\\metrics\\classification.py:1143: UndefinedMetricWarning: Precision and F-score are ill-defined and being set to 0.0 in labels with no predicted samples.\n",
      "  'precision', 'predicted', average, warn_for)\n",
      "C:\\Users\\User\\Miniconda3\\envs\\Tensorflow_11_Oct_2018\\lib\\site-packages\\sklearn\\metrics\\classification.py:1143: UndefinedMetricWarning: Precision and F-score are ill-defined and being set to 0.0 in labels with no predicted samples.\n",
      "  'precision', 'predicted', average, warn_for)\n",
      "C:\\Users\\User\\Miniconda3\\envs\\Tensorflow_11_Oct_2018\\lib\\site-packages\\sklearn\\metrics\\classification.py:1143: UndefinedMetricWarning: Precision and F-score are ill-defined and being set to 0.0 in labels with no predicted samples.\n",
      "  'precision', 'predicted', average, warn_for)\n"
     ]
    }
   ],
   "source": [
    "# Make predictions on validation dataset\n",
    "print (\"LogisticRegression Performance\")\n",
    "LR = LogisticRegression()\n",
    "LR.fit(X,y)\n",
    "predictions = LR.predict(test.iloc[:,1:])\n",
    "print(accuracy_score(y_test, predictions))\n",
    "print(confusion_matrix(y_test, predictions))\n",
    "print(classification_report(y_test, predictions))\n"
   ]
  },
  {
   "cell_type": "code",
   "execution_count": 81,
   "metadata": {},
   "outputs": [
    {
     "name": "stdout",
     "output_type": "stream",
     "text": [
      "SVC Performance\n",
      "0.783448275862069\n",
      "[[387   0   0  13]\n",
      " [118   0   0   2]\n",
      " [ 22   0   0   0]\n",
      " [  2   0   0 181]]\n",
      "              precision    recall  f1-score   support\n",
      "\n",
      "           0       0.73      0.97      0.83       400\n",
      "           1       0.00      0.00      0.00       120\n",
      "           2       0.00      0.00      0.00        22\n",
      "           3       0.92      0.99      0.96       183\n",
      "\n",
      "   micro avg       0.78      0.78      0.78       725\n",
      "   macro avg       0.41      0.49      0.45       725\n",
      "weighted avg       0.64      0.78      0.70       725\n",
      "\n"
     ]
    },
    {
     "name": "stderr",
     "output_type": "stream",
     "text": [
      "C:\\Users\\User\\Miniconda3\\envs\\Tensorflow_11_Oct_2018\\lib\\site-packages\\sklearn\\metrics\\classification.py:1143: UndefinedMetricWarning: Precision and F-score are ill-defined and being set to 0.0 in labels with no predicted samples.\n",
      "  'precision', 'predicted', average, warn_for)\n",
      "C:\\Users\\User\\Miniconda3\\envs\\Tensorflow_11_Oct_2018\\lib\\site-packages\\sklearn\\metrics\\classification.py:1143: UndefinedMetricWarning: Precision and F-score are ill-defined and being set to 0.0 in labels with no predicted samples.\n",
      "  'precision', 'predicted', average, warn_for)\n",
      "C:\\Users\\User\\Miniconda3\\envs\\Tensorflow_11_Oct_2018\\lib\\site-packages\\sklearn\\metrics\\classification.py:1143: UndefinedMetricWarning: Precision and F-score are ill-defined and being set to 0.0 in labels with no predicted samples.\n",
      "  'precision', 'predicted', average, warn_for)\n"
     ]
    }
   ],
   "source": [
    "# Make predictions on validation dataset\n",
    "print (\"SVC Performance\")\n",
    "SVM = SVC()\n",
    "SVM.fit(X,y)\n",
    "predictions = SVM.predict(test.iloc[:,1:])\n",
    "print(accuracy_score(y_test, predictions))\n",
    "print(confusion_matrix(y_test, predictions))\n",
    "print(classification_report(y_test, predictions))\n"
   ]
  },
  {
   "cell_type": "code",
   "execution_count": 82,
   "metadata": {},
   "outputs": [
    {
     "name": "stdout",
     "output_type": "stream",
     "text": [
      "KNN Performance\n",
      "0.7448275862068966\n",
      "[[346  41   0  13]\n",
      " [105  13   0   2]\n",
      " [ 17   5   0   0]\n",
      " [  2   0   0 181]]\n",
      "              precision    recall  f1-score   support\n",
      "\n",
      "           0       0.74      0.86      0.80       400\n",
      "           1       0.22      0.11      0.15       120\n",
      "           2       0.00      0.00      0.00        22\n",
      "           3       0.92      0.99      0.96       183\n",
      "\n",
      "   micro avg       0.74      0.74      0.74       725\n",
      "   macro avg       0.47      0.49      0.47       725\n",
      "weighted avg       0.68      0.74      0.70       725\n",
      "\n"
     ]
    },
    {
     "name": "stderr",
     "output_type": "stream",
     "text": [
      "C:\\Users\\User\\Miniconda3\\envs\\Tensorflow_11_Oct_2018\\lib\\site-packages\\sklearn\\metrics\\classification.py:1143: UndefinedMetricWarning: Precision and F-score are ill-defined and being set to 0.0 in labels with no predicted samples.\n",
      "  'precision', 'predicted', average, warn_for)\n",
      "C:\\Users\\User\\Miniconda3\\envs\\Tensorflow_11_Oct_2018\\lib\\site-packages\\sklearn\\metrics\\classification.py:1143: UndefinedMetricWarning: Precision and F-score are ill-defined and being set to 0.0 in labels with no predicted samples.\n",
      "  'precision', 'predicted', average, warn_for)\n",
      "C:\\Users\\User\\Miniconda3\\envs\\Tensorflow_11_Oct_2018\\lib\\site-packages\\sklearn\\metrics\\classification.py:1143: UndefinedMetricWarning: Precision and F-score are ill-defined and being set to 0.0 in labels with no predicted samples.\n",
      "  'precision', 'predicted', average, warn_for)\n"
     ]
    }
   ],
   "source": [
    "print (\"KNN Performance\")\n",
    "KNN = KNeighborsClassifier()\n",
    "KNN.fit(X,y)\n",
    "predictions = KNN.predict(test.iloc[:,1:])\n",
    "print (accuracy_score(y_test, predictions))\n",
    "print (confusion_matrix(y_test, predictions))\n",
    "print (classification_report(y_test, predictions))"
   ]
  },
  {
   "cell_type": "markdown",
   "metadata": {},
   "source": [
    "## PCA Projection to 2D"
   ]
  },
  {
   "cell_type": "code",
   "execution_count": 168,
   "metadata": {},
   "outputs": [
    {
     "data": {
      "text/plain": [
       "Index(['Occ', 'Race_B', 'Race_W', 'Sex_F', 'Sex_M', 'Year_1900', 'Year_1910',\n",
       "       'Year_1920', 'Age_0-15', 'Age_16-55', 'Age_Above-56'],\n",
       "      dtype='object')"
      ]
     },
     "execution_count": 168,
     "metadata": {},
     "output_type": "execute_result"
    }
   ],
   "source": [
    "data3.columns"
   ]
  },
  {
   "cell_type": "code",
   "execution_count": 169,
   "metadata": {},
   "outputs": [],
   "source": [
    "features = ['Race_B', 'Race_W', 'Sex_F', 'Sex_M', 'Year_1900', 'Year_1910',\n",
    "       'Year_1920', 'Age_0-15', 'Age_16-55', 'Age_Above-56']"
   ]
  },
  {
   "cell_type": "code",
   "execution_count": 170,
   "metadata": {},
   "outputs": [],
   "source": [
    "x = data3.loc[:, features].values"
   ]
  },
  {
   "cell_type": "code",
   "execution_count": 211,
   "metadata": {},
   "outputs": [],
   "source": [
    "y = data3.loc[:,['Occ']].values\n",
    "y=y.astype('int')"
   ]
  },
  {
   "cell_type": "code",
   "execution_count": 212,
   "metadata": {},
   "outputs": [
    {
     "data": {
      "text/plain": [
       "(3625, 10)"
      ]
     },
     "execution_count": 212,
     "metadata": {},
     "output_type": "execute_result"
    }
   ],
   "source": [
    "np.shape(x)"
   ]
  },
  {
   "cell_type": "code",
   "execution_count": 213,
   "metadata": {},
   "outputs": [
    {
     "data": {
      "text/plain": [
       "(3625, 1)"
      ]
     },
     "execution_count": 213,
     "metadata": {},
     "output_type": "execute_result"
    }
   ],
   "source": [
    "np.shape(y)"
   ]
  },
  {
   "cell_type": "code",
   "execution_count": 214,
   "metadata": {},
   "outputs": [
    {
     "name": "stderr",
     "output_type": "stream",
     "text": [
      "C:\\Users\\User\\Miniconda3\\envs\\Tensorflow_11_Oct_2018\\lib\\site-packages\\sklearn\\utils\\validation.py:590: DataConversionWarning: Data with input dtype uint8 was converted to float64 by StandardScaler.\n",
      "  warnings.warn(msg, DataConversionWarning)\n",
      "C:\\Users\\User\\Miniconda3\\envs\\Tensorflow_11_Oct_2018\\lib\\site-packages\\sklearn\\utils\\validation.py:590: DataConversionWarning: Data with input dtype uint8 was converted to float64 by StandardScaler.\n",
      "  warnings.warn(msg, DataConversionWarning)\n"
     ]
    }
   ],
   "source": [
    "from sklearn.preprocessing import StandardScaler\n",
    "X_std = StandardScaler().fit_transform(x)"
   ]
  },
  {
   "cell_type": "code",
   "execution_count": 215,
   "metadata": {},
   "outputs": [
    {
     "data": {
      "text/plain": [
       "array([[ 0.46128104, -0.46128104,  1.20456647, ..., -0.60529141,\n",
       "         0.66348067, -0.19363069],\n",
       "       [ 0.46128104, -0.46128104, -0.83017419, ..., -0.60529141,\n",
       "         0.66348067, -0.19363069],\n",
       "       [ 0.46128104, -0.46128104,  1.20456647, ..., -0.60529141,\n",
       "         0.66348067, -0.19363069],\n",
       "       ...,\n",
       "       [ 0.46128104, -0.46128104, -0.83017419, ..., -0.60529141,\n",
       "         0.66348067, -0.19363069],\n",
       "       [ 0.46128104, -0.46128104, -0.83017419, ..., -0.60529141,\n",
       "         0.66348067, -0.19363069],\n",
       "       [ 0.46128104, -0.46128104, -0.83017419, ..., -0.60529141,\n",
       "         0.66348067, -0.19363069]])"
      ]
     },
     "execution_count": 215,
     "metadata": {},
     "output_type": "execute_result"
    }
   ],
   "source": [
    "X_std"
   ]
  },
  {
   "cell_type": "code",
   "execution_count": 216,
   "metadata": {},
   "outputs": [
    {
     "name": "stdout",
     "output_type": "stream",
     "text": [
      "Covariance matrix \n",
      "[[ 1.00027594e+00 -1.00027594e+00  8.92907759e-02 -8.92907759e-02\n",
      "   1.03821314e-01  5.02417340e-02 -1.20116381e-01 -1.17037101e-01\n",
      "   1.11185946e-01 -6.32678709e-05]\n",
      " [-1.00027594e+00  1.00027594e+00 -8.92907759e-02  8.92907759e-02\n",
      "  -1.03821314e-01 -5.02417340e-02  1.20116381e-01  1.17037101e-01\n",
      "  -1.11185946e-01  6.32678709e-05]\n",
      " [ 8.92907759e-02 -8.92907759e-02  1.00027594e+00 -1.00027594e+00\n",
      "   2.10536683e-02  1.23369837e-03 -2.01298217e-02  8.29209412e-02\n",
      "  -5.47660993e-02 -5.85068525e-02]\n",
      " [-8.92907759e-02  8.92907759e-02 -1.00027594e+00  1.00027594e+00\n",
      "  -2.10536683e-02 -1.23369837e-03  2.01298217e-02 -8.29209412e-02\n",
      "   5.47660993e-02  5.85068525e-02]\n",
      " [ 1.03821314e-01 -1.03821314e-01  2.10536683e-02 -2.10536683e-02\n",
      "   1.00027594e+00 -9.69467540e-02 -8.82929695e-01  1.84050180e-01\n",
      "  -1.81824518e-01 -3.66946720e-03]\n",
      " [ 5.02417340e-02 -5.02417340e-02  1.23369837e-03 -1.23369837e-03\n",
      "  -9.69467540e-02  1.00027594e+00 -3.82305988e-01 -9.86857673e-02\n",
      "   8.41637910e-02  2.80040393e-02]\n",
      " [-1.20116381e-01  1.20116381e-01 -2.01298217e-02  2.01298217e-02\n",
      "  -8.82929695e-01 -3.82305988e-01  1.00027594e+00 -1.24283430e-01\n",
      "   1.29074086e-01 -9.81619551e-03]\n",
      " [-1.17037101e-01  1.17037101e-01  8.29209412e-02 -8.29209412e-02\n",
      "   1.84050180e-01 -9.86857673e-02 -1.24283430e-01  1.00027594e+00\n",
      "  -9.12548713e-01 -1.17235334e-01]\n",
      " [ 1.11185946e-01 -1.11185946e-01 -5.47660993e-02  5.47660993e-02\n",
      "  -1.81824518e-01  8.41637910e-02  1.29074086e-01 -9.12548713e-01\n",
      "   1.00027594e+00 -2.91921275e-01]\n",
      " [-6.32678709e-05  6.32678709e-05 -5.85068525e-02  5.85068525e-02\n",
      "  -3.66946720e-03  2.80040393e-02 -9.81619551e-03 -1.17235334e-01\n",
      "  -2.91921275e-01  1.00027594e+00]]\n"
     ]
    }
   ],
   "source": [
    "mean_vec = np.mean(X_std, axis=0)\n",
    "cov_mat = (X_std - mean_vec).T.dot((X_std - mean_vec)) / (X_std.shape[0]-1)\n",
    "print('Covariance matrix \\n%s' %cov_mat)"
   ]
  },
  {
   "cell_type": "code",
   "execution_count": 217,
   "metadata": {},
   "outputs": [
    {
     "name": "stdout",
     "output_type": "stream",
     "text": [
      "NumPy covariance matrix: \n",
      "[[ 1.00027594e+00 -1.00027594e+00  8.92907759e-02 -8.92907759e-02\n",
      "   1.03821314e-01  5.02417340e-02 -1.20116381e-01 -1.17037101e-01\n",
      "   1.11185946e-01 -6.32678709e-05]\n",
      " [-1.00027594e+00  1.00027594e+00 -8.92907759e-02  8.92907759e-02\n",
      "  -1.03821314e-01 -5.02417340e-02  1.20116381e-01  1.17037101e-01\n",
      "  -1.11185946e-01  6.32678709e-05]\n",
      " [ 8.92907759e-02 -8.92907759e-02  1.00027594e+00 -1.00027594e+00\n",
      "   2.10536683e-02  1.23369837e-03 -2.01298217e-02  8.29209412e-02\n",
      "  -5.47660993e-02 -5.85068525e-02]\n",
      " [-8.92907759e-02  8.92907759e-02 -1.00027594e+00  1.00027594e+00\n",
      "  -2.10536683e-02 -1.23369837e-03  2.01298217e-02 -8.29209412e-02\n",
      "   5.47660993e-02  5.85068525e-02]\n",
      " [ 1.03821314e-01 -1.03821314e-01  2.10536683e-02 -2.10536683e-02\n",
      "   1.00027594e+00 -9.69467540e-02 -8.82929695e-01  1.84050180e-01\n",
      "  -1.81824518e-01 -3.66946720e-03]\n",
      " [ 5.02417340e-02 -5.02417340e-02  1.23369837e-03 -1.23369837e-03\n",
      "  -9.69467540e-02  1.00027594e+00 -3.82305988e-01 -9.86857673e-02\n",
      "   8.41637910e-02  2.80040393e-02]\n",
      " [-1.20116381e-01  1.20116381e-01 -2.01298217e-02  2.01298217e-02\n",
      "  -8.82929695e-01 -3.82305988e-01  1.00027594e+00 -1.24283430e-01\n",
      "   1.29074086e-01 -9.81619551e-03]\n",
      " [-1.17037101e-01  1.17037101e-01  8.29209412e-02 -8.29209412e-02\n",
      "   1.84050180e-01 -9.86857673e-02 -1.24283430e-01  1.00027594e+00\n",
      "  -9.12548713e-01 -1.17235334e-01]\n",
      " [ 1.11185946e-01 -1.11185946e-01 -5.47660993e-02  5.47660993e-02\n",
      "  -1.81824518e-01  8.41637910e-02  1.29074086e-01 -9.12548713e-01\n",
      "   1.00027594e+00 -2.91921275e-01]\n",
      " [-6.32678709e-05  6.32678709e-05 -5.85068525e-02  5.85068525e-02\n",
      "  -3.66946720e-03  2.80040393e-02 -9.81619551e-03 -1.17235334e-01\n",
      "  -2.91921275e-01  1.00027594e+00]]\n"
     ]
    }
   ],
   "source": [
    "print('NumPy covariance matrix: \\n%s' %np.cov(X_std.T))"
   ]
  },
  {
   "cell_type": "code",
   "execution_count": 218,
   "metadata": {},
   "outputs": [
    {
     "data": {
      "text/plain": [
       "Text(0.5, 1.0, 'Correlation between different features')"
      ]
     },
     "execution_count": 218,
     "metadata": {},
     "output_type": "execute_result"
    },
    {
     "data": {
      "image/png": "[encoded data removed]",
      "text/plain": [
       "<Figure size 576x576 with 2 Axes>"
      ]
     },
     "metadata": {},
     "output_type": "display_data"
    }
   ],
   "source": [
    "plt.figure(figsize=(8,8))\n",
    "sns.heatmap(cov_mat, vmax=1, square=True,annot=True,cmap='cubehelix')\n",
    "\n",
    "plt.title('Correlation between different features')"
   ]
  },
  {
   "cell_type": "code",
   "execution_count": 219,
   "metadata": {},
   "outputs": [
    {
     "name": "stdout",
     "output_type": "stream",
     "text": [
      "Eigenvectors \n",
      "[[ 3.68496991e-01 -4.42652003e-01  1.34516605e-01  3.81878895e-01\n",
      "  -6.41926674e-02 -1.49052870e-02 -3.13775369e-04 -3.05395830e-01\n",
      "  -3.31917736e-01 -1.05556269e-01]\n",
      " [-3.68496991e-01  4.42652003e-01 -1.34516605e-01 -3.81878895e-01\n",
      "   6.41926674e-02  1.49052870e-02  3.13775369e-04 -3.05395830e-01\n",
      "  -3.31917736e-01 -1.05556269e-01]\n",
      " [ 3.67503268e-01 -2.66180971e-02 -5.72036416e-01 -1.70505402e-01\n",
      "   6.63574830e-02  5.94264139e-02  5.08141347e-04  5.91388888e-01\n",
      "  -5.17842144e-01 -4.59982833e-01]\n",
      " [-3.67503268e-01  2.66180971e-02  5.72036416e-01  1.70505402e-01\n",
      "  -6.63574830e-02 -5.94264139e-02 -5.08141347e-04  5.91388888e-01\n",
      "  -5.17842144e-01 -4.59982833e-01]\n",
      " [ 4.12747551e-01  1.74661259e-01  3.53403917e-01 -2.69839761e-01\n",
      "   3.57299330e-01 -2.45586913e-01 -2.52915174e-03  2.17086046e-01\n",
      "  -3.17186559e-01  4.78825312e-01]\n",
      " [ 9.21323798e-02 -8.95729510e-02  1.42055516e-01 -3.33805524e-01\n",
      "  -6.68369383e-01  5.46102396e-01  9.32696371e-04  1.10404369e-01\n",
      "  -1.61312910e-01  2.43518215e-01]\n",
      " [-4.26719242e-01 -1.19869227e-01 -3.95194624e-01  4.08151110e-01\n",
      "  -1.61400751e-02 -2.98466098e-02  1.90778582e-03  2.33815449e-01\n",
      "  -3.41630054e-01  5.15725250e-01]\n",
      " [ 2.23788019e-01  5.16874512e-01 -3.30395636e-02  3.33589447e-01\n",
      "  -3.28262887e-01 -1.41096189e-01 -6.65373183e-01 -2.68346124e-14\n",
      "   4.93262038e-14 -8.64164620e-14]\n",
      " [-2.17446885e-01 -5.29647242e-01 -5.28916640e-03 -3.93657950e-01\n",
      "   9.45388386e-02 -1.72550012e-01 -6.91726099e-01 -2.78400820e-14\n",
      "   5.12693687e-14 -8.95946119e-14]\n",
      " [-4.22838346e-04  7.82138089e-02  8.35868834e-02  1.81981819e-01\n",
      "   5.40015659e-01  7.63792804e-01 -2.80681157e-01 -1.11039859e-14\n",
      "   2.06341041e-14 -3.62368799e-14]]\n",
      "\n",
      "Eigenvalues \n",
      "[ 2.30991030e+00  2.21767448e+00  1.94416967e+00  1.45827544e+00\n",
      "  9.69276452e-01  1.10036576e+00  3.08728518e-03 -3.99106090e-17\n",
      " -1.12510208e-16  1.99275307e-16]\n"
     ]
    }
   ],
   "source": [
    "eig_vals, eig_vecs = np.linalg.eig(cov_mat)\n",
    "\n",
    "print('Eigenvectors \\n%s' %eig_vecs)\n",
    "print('\\nEigenvalues \\n%s' %eig_vals)"
   ]
  },
  {
   "cell_type": "code",
   "execution_count": 220,
   "metadata": {},
   "outputs": [
    {
     "name": "stdout",
     "output_type": "stream",
     "text": [
      "Eigenvalues in descending order:\n",
      "2.3099102961016342\n",
      "2.217674478551775\n",
      "1.9441696725320012\n",
      "1.4582754369394817\n",
      "1.1003657601778967\n",
      "0.9692764524159562\n",
      "0.003087285179717544\n",
      "1.992753069377295e-16\n",
      "1.1251020814844301e-16\n",
      "3.991060898204589e-17\n"
     ]
    }
   ],
   "source": [
    "# Make a list of (eigenvalue, eigenvector) tuples\n",
    "eig_pairs = [(np.abs(eig_vals[i]), eig_vecs[:,i]) for i in range(len(eig_vals))]\n",
    "\n",
    "# Sort the (eigenvalue, eigenvector) tuples from high to low\n",
    "eig_pairs.sort(key=lambda x: x[0], reverse=True)\n",
    "\n",
    "# Visually confirm that the list is correctly sorted by decreasing eigenvalues\n",
    "print('Eigenvalues in descending order:')\n",
    "for i in eig_pairs:\n",
    "    print(i[0])"
   ]
  },
  {
   "cell_type": "code",
   "execution_count": 221,
   "metadata": {},
   "outputs": [],
   "source": [
    "tot = sum(eig_vals)\n",
    "var_exp = [(i / tot)*100 for i in sorted(eig_vals, reverse=True)]"
   ]
  },
  {
   "cell_type": "code",
   "execution_count": 287,
   "metadata": {
    "scrolled": true
   },
   "outputs": [
    {
     "data": {
      "image/png": "[encoded data removed]",
      "text/plain": [
       "<Figure size 432x288 with 1 Axes>"
      ]
     },
     "metadata": {},
     "output_type": "display_data"
    }
   ],
   "source": [
    "with plt.style.context('dark_background'):\n",
    "    plt.figure(figsize=(6, 4))\n",
    "\n",
    "    plt.bar(range(10), var_exp, alpha=0.8, align='center',\n",
    "            label='individual explained variance')\n",
    "    plt.ylabel('Explained variance ratio')\n",
    "    plt.xlabel('Principal components')\n",
    "    plt.legend(loc='best')\n",
    "    plt.tight_layout()"
   ]
  },
  {
   "cell_type": "code",
   "execution_count": 223,
   "metadata": {},
   "outputs": [
    {
     "data": {
      "text/plain": [
       "array([[ 2.59534461, -0.5407507 ,  0.20148335,  1.82025989, -0.62283356,\n",
       "        -1.17974067],\n",
       "       [ 1.09979692, -0.43242885,  2.52937487,  1.12639134, -0.86466825,\n",
       "        -0.90970013],\n",
       "       [ 2.59534461, -0.5407507 ,  0.20148335,  1.82025989, -0.62283356,\n",
       "        -1.17974067],\n",
       "       ...,\n",
       "       [ 0.50072722, -1.33983571,  2.33773927,  2.1262209 ,  2.54826588,\n",
       "         3.41409893],\n",
       "       [ 0.50072722, -1.33983571,  2.33773927,  2.1262209 ,  2.54826588,\n",
       "         3.41409893],\n",
       "       [ 0.50072722, -1.33983571,  2.33773927,  2.1262209 ,  2.54826588,\n",
       "         3.41409893]])"
      ]
     },
     "execution_count": 223,
     "metadata": {},
     "output_type": "execute_result"
    }
   ],
   "source": [
    "pca=PCA(n_components=6)\n",
    "X_new=pca.fit_transform(X_std)\n",
    "X_new"
   ]
  },
  {
   "cell_type": "code",
   "execution_count": 224,
   "metadata": {},
   "outputs": [
    {
     "data": {
      "text/plain": [
       "array([[ 1.00066185e+00, -9.99890027e-01,  8.92907762e-02,\n",
       "        -8.92907762e-02,  1.03821313e-01,  5.02417347e-02,\n",
       "        -1.20116380e-01, -1.17037585e-01,  1.11185443e-01,\n",
       "        -6.34717958e-05],\n",
       "       [-9.99890027e-01,  1.00066185e+00, -8.92907762e-02,\n",
       "         8.92907762e-02, -1.03821313e-01, -5.02417347e-02,\n",
       "         1.20116380e-01,  1.17037585e-01, -1.11185443e-01,\n",
       "         6.34717958e-05],\n",
       "       [ 8.92907762e-02, -8.92907762e-02,  1.00066185e+00,\n",
       "        -9.99890027e-01,  2.10536713e-02,  1.23369727e-03,\n",
       "        -2.01298239e-02,  8.29217240e-02, -5.47652855e-02,\n",
       "        -5.85065222e-02],\n",
       "       [-8.92907762e-02,  8.92907762e-02, -9.99890027e-01,\n",
       "         1.00066185e+00, -2.10536713e-02, -1.23369727e-03,\n",
       "         2.01298239e-02, -8.29217240e-02,  5.47652855e-02,\n",
       "         5.85065222e-02],\n",
       "       [ 1.03821313e-01, -1.03821313e-01,  2.10536713e-02,\n",
       "        -2.10536713e-02,  1.00059503e+00, -9.67844604e-02,\n",
       "        -8.82585989e-01,  1.84046283e-01, -1.81828569e-01,\n",
       "        -3.67111091e-03],\n",
       "       [ 5.02417347e-02, -5.02417347e-02,  1.23369727e-03,\n",
       "        -1.23369727e-03, -9.67844604e-02,  1.00035847e+00,\n",
       "        -3.82131197e-01, -9.86843304e-02,  8.41652849e-02,\n",
       "         2.80046455e-02],\n",
       "       [-1.20116380e-01,  1.20116380e-01, -2.01298239e-02,\n",
       "         2.01298239e-02, -8.82585989e-01, -3.82131197e-01,\n",
       "         1.00064611e+00, -1.24280491e-01,  1.29077142e-01,\n",
       "        -9.81495563e-03],\n",
       "       [-1.17037585e-01,  1.17037585e-01,  8.29217240e-02,\n",
       "        -8.29217240e-02,  1.84046283e-01, -9.86843304e-02,\n",
       "        -1.24280491e-01,  9.99250833e-01, -9.13614419e-01,\n",
       "        -1.17667765e-01],\n",
       "       [ 1.11185443e-01, -1.11185443e-01, -5.47652855e-02,\n",
       "         5.47652855e-02, -1.81828569e-01,  8.41652849e-02,\n",
       "         1.29077142e-01, -9.13614419e-01,  9.99168023e-01,\n",
       "        -2.92370833e-01],\n",
       "       [-6.34717958e-05,  6.34717958e-05, -5.85065222e-02,\n",
       "         5.85065222e-02, -3.67111091e-03,  2.80046455e-02,\n",
       "        -9.81495563e-03, -1.17667765e-01, -2.92370833e-01,\n",
       "         1.00009352e+00]])"
      ]
     },
     "execution_count": 224,
     "metadata": {},
     "output_type": "execute_result"
    }
   ],
   "source": [
    "pca.get_covariance()"
   ]
  },
  {
   "cell_type": "code",
   "execution_count": 225,
   "metadata": {},
   "outputs": [
    {
     "data": {
      "text/plain": [
       "array([0.23092731, 0.22170627, 0.19436333, 0.14578732, 0.11000622,\n",
       "       0.09690091])"
      ]
     },
     "execution_count": 225,
     "metadata": {},
     "output_type": "execute_result"
    }
   ],
   "source": [
    "explained_variance=pca.explained_variance_ratio_\n",
    "explained_variance"
   ]
  },
  {
   "cell_type": "code",
   "execution_count": 308,
   "metadata": {},
   "outputs": [
    {
     "data": {
      "image/png": "[encoded data removed]",
      "text/plain": [
       "<Figure size 576x216 with 1 Axes>"
      ]
     },
     "metadata": {},
     "output_type": "display_data"
    }
   ],
   "source": [
    "with plt.style.context('dark_background'):\n",
    "    plt.figure(figsize=(8, 3))\n",
    "\n",
    "    plt.bar(range(6), explained_variance, alpha=0.9, align='center',\n",
    "            label='individual explained variance')\n",
    "    plt.ylabel('Explained variance ratio', fontsize = 18)\n",
    "    plt.xlabel('Principal components', fontsize = 18)\n",
    "    plt.legend(loc='best')\n",
    "    plt.tight_layout()"
   ]
  },
  {
   "cell_type": "code",
   "execution_count": 227,
   "metadata": {},
   "outputs": [
    {
     "data": {
      "text/plain": [
       "(2900, 10)"
      ]
     },
     "execution_count": 227,
     "metadata": {},
     "output_type": "execute_result"
    }
   ],
   "source": [
    "from sklearn.model_selection import train_test_split\n",
    "X_train, X_test, y_train, y_test = train_test_split(X_std, y, test_size=0.2, random_state=1)\n",
    "X_train.shape"
   ]
  },
  {
   "cell_type": "code",
   "execution_count": 228,
   "metadata": {},
   "outputs": [
    {
     "data": {
      "text/plain": [
       "(2900, 1)"
      ]
     },
     "execution_count": 228,
     "metadata": {},
     "output_type": "execute_result"
    }
   ],
   "source": [
    "y_train.shape"
   ]
  },
  {
   "cell_type": "code",
   "execution_count": 229,
   "metadata": {},
   "outputs": [
    {
     "data": {
      "text/plain": [
       "(725, 10)"
      ]
     },
     "execution_count": 229,
     "metadata": {},
     "output_type": "execute_result"
    }
   ],
   "source": [
    "X_test.shape"
   ]
  },
  {
   "cell_type": "code",
   "execution_count": 230,
   "metadata": {},
   "outputs": [
    {
     "data": {
      "text/plain": [
       "(725, 1)"
      ]
     },
     "execution_count": 230,
     "metadata": {},
     "output_type": "execute_result"
    }
   ],
   "source": [
    "y_test.shape"
   ]
  },
  {
   "cell_type": "code",
   "execution_count": 231,
   "metadata": {},
   "outputs": [
    {
     "data": {
      "text/plain": [
       "array([[0],\n",
       "       [3],\n",
       "       [0],\n",
       "       ...,\n",
       "       [2],\n",
       "       [3],\n",
       "       [0]])"
      ]
     },
     "execution_count": 231,
     "metadata": {},
     "output_type": "execute_result"
    }
   ],
   "source": [
    "y_train"
   ]
  },
  {
   "cell_type": "code",
   "execution_count": 232,
   "metadata": {},
   "outputs": [],
   "source": [
    "# Establish model\n",
    "from sklearn.ensemble import RandomForestRegressor\n",
    "model = RandomForestRegressor()"
   ]
  },
  {
   "cell_type": "code",
   "execution_count": 233,
   "metadata": {},
   "outputs": [
    {
     "name": "stdout",
     "output_type": "stream",
     "text": [
      "[0.7795221825113662, 0.7780501872578489, 0.779073372146584, 0.7786328372187292, 0.7786978807944244, 0.7787482396169918, 0.7790375001591253, 0.778648503688327, 0.7787467957959091, 0.7791443601161757, 0.7790199282557497, 0.778903726935441, 0.7788487972440398, 0.7788685043983152, 0.7785565785159536, 0.7789808486704792, 0.7786903735654684, 0.7787708762787333, 0.7788656794282821]\n"
     ]
    }
   ],
   "source": [
    "# Try different numbers of n_estimators - this will take a minute or so\n",
    "estimators = np.arange(10, 200, 10)\n",
    "scores = []\n",
    "for n in estimators:\n",
    "    model.set_params(n_estimators=n)\n",
    "    model.fit(X_train, y_train.ravel())\n",
    "    scores.append(model.score(X_test, y_test.ravel()))\n",
    "print(scores)"
   ]
  },
  {
   "cell_type": "code",
   "execution_count": 234,
   "metadata": {},
   "outputs": [
    {
     "data": {
      "text/plain": [
       "[<matplotlib.lines.Line2D at 0x15002e28358>]"
      ]
     },
     "execution_count": 234,
     "metadata": {},
     "output_type": "execute_result"
    },
    {
     "data": {
      "image/png": "[encoded data removed]",
      "text/plain": [
       "<Figure size 576x360 with 1 Axes>"
      ]
     },
     "metadata": {},
     "output_type": "display_data"
    }
   ],
   "source": [
    "plt.title(\"Effect of n_estimators\")\n",
    "plt.xlabel(\"n_estimator\")\n",
    "plt.ylabel(\"score\")\n",
    "plt.plot(estimators, scores)"
   ]
  },
  {
   "cell_type": "code",
   "execution_count": 235,
   "metadata": {},
   "outputs": [
    {
     "data": {
      "text/plain": [
       "(2900, 6)"
      ]
     },
     "execution_count": 235,
     "metadata": {},
     "output_type": "execute_result"
    }
   ],
   "source": [
    "from sklearn.model_selection import train_test_split\n",
    "X_train, X_test, y_train, y_test = train_test_split(X_new, y, test_size=0.2, random_state=1)\n",
    "X_train.shape"
   ]
  },
  {
   "cell_type": "code",
   "execution_count": 236,
   "metadata": {},
   "outputs": [],
   "source": [
    "# Establish model\n",
    "from sklearn.ensemble import RandomForestRegressor\n",
    "model = RandomForestRegressor()"
   ]
  },
  {
   "cell_type": "code",
   "execution_count": 237,
   "metadata": {},
   "outputs": [
    {
     "name": "stdout",
     "output_type": "stream",
     "text": [
      "[0.778959257822404, 0.779588540834155, 0.7781244831729074, 0.7788776376008919, 0.7788721338251992, 0.7788735982378232, 0.7790460377375379, 0.7791656616437855, 0.7788673968544655, 0.779009994300474, 0.7787759180950904, 0.7787297446718673, 0.7789038124809595, 0.7790228192683577, 0.7787450782972288, 0.7787871159649191, 0.7791214144526842, 0.7786911320295868, 0.7789745247856344]\n"
     ]
    }
   ],
   "source": [
    "# Try different numbers of n_estimators - this will take a minute or so\n",
    "estimators = np.arange(10, 200, 10)\n",
    "scores = []\n",
    "for n in estimators:\n",
    "    model.set_params(n_estimators=n)\n",
    "    model.fit(X_train, y_train.ravel())\n",
    "    scores.append(model.score(X_test, y_test))\n",
    "print(scores)"
   ]
  },
  {
   "cell_type": "code",
   "execution_count": 238,
   "metadata": {},
   "outputs": [
    {
     "data": {
      "text/plain": [
       "[<matplotlib.lines.Line2D at 0x15002e2fcc0>]"
      ]
     },
     "execution_count": 238,
     "metadata": {},
     "output_type": "execute_result"
    },
    {
     "data": {
      "image/png": "[encoded data removed]",
      "text/plain": [
       "<Figure size 576x360 with 1 Axes>"
      ]
     },
     "metadata": {},
     "output_type": "display_data"
    }
   ],
   "source": [
    "plt.title(\"Effect of n_estimators\")\n",
    "plt.xlabel(\"n_estimator\")\n",
    "plt.ylabel(\"score\")\n",
    "plt.plot(estimators, scores)"
   ]
  },
  {
   "cell_type": "code",
   "execution_count": 279,
   "metadata": {},
   "outputs": [],
   "source": [
    "# Spot Check Algorithms\n",
    "models = []\n",
    "models.append(('LogisticRegression', LogisticRegression()))\n",
    "models.append(('DecisionTreeClassifier', DecisionTreeClassifier()))\n",
    "models.append(('LinearDiscriminantAnalysis', LinearDiscriminantAnalysis()))\n",
    "models.append(('KNeighborsClassifier', KNeighborsClassifier()))\n",
    "models.append(('GaussianNB', GaussianNB()))\n",
    "#models.append(('RandomForestRegressor', RandomForestRegressor()))\n",
    "models.append(('SVC', SVC()))\n",
    "# evaluate each model in turn\n",
    "scoring = 'accuracy'"
   ]
  },
  {
   "cell_type": "code",
   "execution_count": 280,
   "metadata": {},
   "outputs": [
    {
     "data": {
      "text/plain": [
       "(2900, 10)"
      ]
     },
     "execution_count": 280,
     "metadata": {},
     "output_type": "execute_result"
    }
   ],
   "source": [
    "from sklearn.model_selection import train_test_split\n",
    "X_train, X_test, y_train, y_test = train_test_split(X_std, y, test_size=0.2, random_state=1)\n",
    "X_train.shape"
   ]
  },
  {
   "cell_type": "code",
   "execution_count": 281,
   "metadata": {},
   "outputs": [
    {
     "data": {
      "text/plain": [
       "(2900, 1)"
      ]
     },
     "execution_count": 281,
     "metadata": {},
     "output_type": "execute_result"
    }
   ],
   "source": [
    "y_train.shape"
   ]
  },
  {
   "cell_type": "code",
   "execution_count": 282,
   "metadata": {},
   "outputs": [
    {
     "name": "stdout",
     "output_type": "stream",
     "text": [
      "LogisticRegression: 0.766207 (0.021523)\n",
      "DecisionTreeClassifier: 0.766552 (0.021757)\n",
      "LinearDiscriminantAnalysis: 0.764138 (0.024000)\n"
     ]
    },
    {
     "name": "stderr",
     "output_type": "stream",
     "text": [
      "C:\\Users\\User\\Miniconda3\\envs\\Tensorflow_11_Oct_2018\\lib\\site-packages\\sklearn\\discriminant_analysis.py:388: UserWarning: Variables are collinear.\n",
      "  warnings.warn(\"Variables are collinear.\")\n",
      "C:\\Users\\User\\Miniconda3\\envs\\Tensorflow_11_Oct_2018\\lib\\site-packages\\sklearn\\discriminant_analysis.py:388: UserWarning: Variables are collinear.\n",
      "  warnings.warn(\"Variables are collinear.\")\n",
      "C:\\Users\\User\\Miniconda3\\envs\\Tensorflow_11_Oct_2018\\lib\\site-packages\\sklearn\\discriminant_analysis.py:388: UserWarning: Variables are collinear.\n",
      "  warnings.warn(\"Variables are collinear.\")\n",
      "C:\\Users\\User\\Miniconda3\\envs\\Tensorflow_11_Oct_2018\\lib\\site-packages\\sklearn\\discriminant_analysis.py:388: UserWarning: Variables are collinear.\n",
      "  warnings.warn(\"Variables are collinear.\")\n",
      "C:\\Users\\User\\Miniconda3\\envs\\Tensorflow_11_Oct_2018\\lib\\site-packages\\sklearn\\discriminant_analysis.py:388: UserWarning: Variables are collinear.\n",
      "  warnings.warn(\"Variables are collinear.\")\n",
      "C:\\Users\\User\\Miniconda3\\envs\\Tensorflow_11_Oct_2018\\lib\\site-packages\\sklearn\\discriminant_analysis.py:388: UserWarning: Variables are collinear.\n",
      "  warnings.warn(\"Variables are collinear.\")\n",
      "C:\\Users\\User\\Miniconda3\\envs\\Tensorflow_11_Oct_2018\\lib\\site-packages\\sklearn\\discriminant_analysis.py:388: UserWarning: Variables are collinear.\n",
      "  warnings.warn(\"Variables are collinear.\")\n",
      "C:\\Users\\User\\Miniconda3\\envs\\Tensorflow_11_Oct_2018\\lib\\site-packages\\sklearn\\discriminant_analysis.py:388: UserWarning: Variables are collinear.\n",
      "  warnings.warn(\"Variables are collinear.\")\n",
      "C:\\Users\\User\\Miniconda3\\envs\\Tensorflow_11_Oct_2018\\lib\\site-packages\\sklearn\\discriminant_analysis.py:388: UserWarning: Variables are collinear.\n",
      "  warnings.warn(\"Variables are collinear.\")\n",
      "C:\\Users\\User\\Miniconda3\\envs\\Tensorflow_11_Oct_2018\\lib\\site-packages\\sklearn\\discriminant_analysis.py:388: UserWarning: Variables are collinear.\n",
      "  warnings.warn(\"Variables are collinear.\")\n"
     ]
    },
    {
     "name": "stdout",
     "output_type": "stream",
     "text": [
      "KNeighborsClassifier: 0.767241 (0.021326)\n",
      "GaussianNB: 0.376207 (0.020074)\n",
      "SVC: 0.768966 (0.021424)\n"
     ]
    }
   ],
   "source": [
    "results = []\n",
    "names = []\n",
    "for name, model in models:\n",
    "\tkfold = model_selection.KFold(n_splits=10, random_state=7)\n",
    "\tcv_results = model_selection.cross_val_score(model, X_train,y_train.ravel(), cv=kfold, scoring=scoring)\n",
    "\tresults.append(cv_results)\n",
    "\tnames.append(name)\n",
    "\tmsg = \"%s: %f (%f)\" % (name, cv_results.mean(), cv_results.std())\n",
    "\tprint(msg)"
   ]
  },
  {
   "cell_type": "code",
   "execution_count": 283,
   "metadata": {},
   "outputs": [
    {
     "data": {
      "text/plain": [
       "(2900, 6)"
      ]
     },
     "execution_count": 283,
     "metadata": {},
     "output_type": "execute_result"
    }
   ],
   "source": [
    "from sklearn.model_selection import train_test_split\n",
    "X_train, X_test, y_train, y_test = train_test_split(X_new, y, test_size=0.2, random_state=1)\n",
    "X_train.shape"
   ]
  },
  {
   "cell_type": "code",
   "execution_count": 286,
   "metadata": {},
   "outputs": [
    {
     "name": "stdout",
     "output_type": "stream",
     "text": [
      "LogisticRegression: 0.764483 (0.021647) \n",
      "[]\n",
      "DecisionTreeClassifier: 0.767931 (0.021147) \n",
      "[]\n",
      "LinearDiscriminantAnalysis: 0.762759 (0.024275) \n",
      "[]\n",
      "KNeighborsClassifier: 0.732069 (0.035032) \n",
      "[]\n",
      "GaussianNB: 0.748276 (0.024722) \n",
      "[]\n",
      "SVC: 0.768276 (0.020563) \n",
      "[]\n"
     ]
    }
   ],
   "source": [
    "results = []\n",
    "scores = []\n",
    "names = []\n",
    "for name, model in models:\n",
    "        kfold = model_selection.KFold(n_splits=10, random_state=7)\n",
    "        cv_results = model_selection.cross_val_score(model, X_train,y_train.ravel(), cv=kfold, scoring=scoring)\n",
    "        results.append(cv_results)\n",
    "        names.append(name)\n",
    "        msg = \"%s: %f (%f) \" % (name, cv_results.mean(), cv_results.std() )\n",
    "        print(msg)\n",
    "        print(scores)"
   ]
  },
  {
   "cell_type": "code",
   "execution_count": 285,
   "metadata": {},
   "outputs": [
    {
     "name": "stdout",
     "output_type": "stream",
     "text": [
      "LogisticRegression Performance\n",
      "0.44\n",
      "[[213   0   0 185]\n",
      " [ 55   0   0  56]\n",
      " [ 14   0   0  12]\n",
      " [ 84   0   0 106]]\n",
      "              precision    recall  f1-score   support\n",
      "\n",
      "           0       0.58      0.54      0.56       398\n",
      "           1       0.00      0.00      0.00       111\n",
      "           2       0.00      0.00      0.00        26\n",
      "           3       0.30      0.56      0.39       190\n",
      "\n",
      "   micro avg       0.44      0.44      0.44       725\n",
      "   macro avg       0.22      0.27      0.24       725\n",
      "weighted avg       0.40      0.44      0.41       725\n",
      "\n"
     ]
    },
    {
     "name": "stderr",
     "output_type": "stream",
     "text": [
      "C:\\Users\\User\\Miniconda3\\envs\\Tensorflow_11_Oct_2018\\lib\\site-packages\\sklearn\\utils\\validation.py:752: DataConversionWarning: A column-vector y was passed when a 1d array was expected. Please change the shape of y to (n_samples, ), for example using ravel().\n",
      "  y = column_or_1d(y, warn=True)\n",
      "C:\\Users\\User\\Miniconda3\\envs\\Tensorflow_11_Oct_2018\\lib\\site-packages\\sklearn\\metrics\\classification.py:1143: UndefinedMetricWarning: Precision and F-score are ill-defined and being set to 0.0 in labels with no predicted samples.\n",
      "  'precision', 'predicted', average, warn_for)\n",
      "C:\\Users\\User\\Miniconda3\\envs\\Tensorflow_11_Oct_2018\\lib\\site-packages\\sklearn\\metrics\\classification.py:1143: UndefinedMetricWarning: Precision and F-score are ill-defined and being set to 0.0 in labels with no predicted samples.\n",
      "  'precision', 'predicted', average, warn_for)\n",
      "C:\\Users\\User\\Miniconda3\\envs\\Tensorflow_11_Oct_2018\\lib\\site-packages\\sklearn\\metrics\\classification.py:1143: UndefinedMetricWarning: Precision and F-score are ill-defined and being set to 0.0 in labels with no predicted samples.\n",
      "  'precision', 'predicted', average, warn_for)\n"
     ]
    }
   ],
   "source": [
    "# Make predictions on validation dataset\n",
    "print (\"LogisticRegression Performance\")\n",
    "LR = LogisticRegression()\n",
    "LR.fit(X_new,y)\n",
    "predictions = LR.predict(test.iloc[:,1:])\n",
    "print(accuracy_score(y_test, predictions))\n",
    "print(confusion_matrix(y_test, predictions))\n",
    "print(classification_report(y_test, predictions))\n"
   ]
  },
  {
   "cell_type": "code",
   "execution_count": null,
   "metadata": {},
   "outputs": [],
   "source": []
  },
  {
   "cell_type": "code",
   "execution_count": 288,
   "metadata": {},
   "outputs": [
    {
     "data": {
      "text/html": [
       "<div>\n",
       "<style scoped>\n",
       "    .dataframe tbody tr th:only-of-type {\n",
       "        vertical-align: middle;\n",
       "    }\n",
       "\n",
       "    .dataframe tbody tr th {\n",
       "        vertical-align: top;\n",
       "    }\n",
       "\n",
       "    .dataframe thead th {\n",
       "        text-align: right;\n",
       "    }\n",
       "</style>\n",
       "<table border=\"1\" class=\"dataframe\">\n",
       "  <thead>\n",
       "    <tr style=\"text-align: right;\">\n",
       "      <th></th>\n",
       "      <th>Race_B</th>\n",
       "      <th>Race_W</th>\n",
       "      <th>Sex_F</th>\n",
       "      <th>Sex_M</th>\n",
       "      <th>Year_1900</th>\n",
       "      <th>Year_1910</th>\n",
       "      <th>Year_1920</th>\n",
       "      <th>Age_0-15</th>\n",
       "      <th>Age_16-55</th>\n",
       "      <th>Age_Above-56</th>\n",
       "    </tr>\n",
       "  </thead>\n",
       "  <tbody>\n",
       "    <tr>\n",
       "      <th>0</th>\n",
       "      <td>1</td>\n",
       "      <td>0</td>\n",
       "      <td>1</td>\n",
       "      <td>0</td>\n",
       "      <td>1</td>\n",
       "      <td>0</td>\n",
       "      <td>0</td>\n",
       "      <td>0</td>\n",
       "      <td>1</td>\n",
       "      <td>0</td>\n",
       "    </tr>\n",
       "    <tr>\n",
       "      <th>1</th>\n",
       "      <td>1</td>\n",
       "      <td>0</td>\n",
       "      <td>0</td>\n",
       "      <td>1</td>\n",
       "      <td>1</td>\n",
       "      <td>0</td>\n",
       "      <td>0</td>\n",
       "      <td>0</td>\n",
       "      <td>1</td>\n",
       "      <td>0</td>\n",
       "    </tr>\n",
       "    <tr>\n",
       "      <th>2</th>\n",
       "      <td>1</td>\n",
       "      <td>0</td>\n",
       "      <td>1</td>\n",
       "      <td>0</td>\n",
       "      <td>1</td>\n",
       "      <td>0</td>\n",
       "      <td>0</td>\n",
       "      <td>0</td>\n",
       "      <td>1</td>\n",
       "      <td>0</td>\n",
       "    </tr>\n",
       "    <tr>\n",
       "      <th>3</th>\n",
       "      <td>1</td>\n",
       "      <td>0</td>\n",
       "      <td>1</td>\n",
       "      <td>0</td>\n",
       "      <td>1</td>\n",
       "      <td>0</td>\n",
       "      <td>0</td>\n",
       "      <td>0</td>\n",
       "      <td>1</td>\n",
       "      <td>0</td>\n",
       "    </tr>\n",
       "    <tr>\n",
       "      <th>4</th>\n",
       "      <td>1</td>\n",
       "      <td>0</td>\n",
       "      <td>1</td>\n",
       "      <td>0</td>\n",
       "      <td>1</td>\n",
       "      <td>0</td>\n",
       "      <td>0</td>\n",
       "      <td>1</td>\n",
       "      <td>0</td>\n",
       "      <td>0</td>\n",
       "    </tr>\n",
       "  </tbody>\n",
       "</table>\n",
       "</div>"
      ],
      "text/plain": [
       "   Race_B  Race_W  Sex_F  Sex_M  Year_1900  Year_1910  Year_1920  Age_0-15  \\\n",
       "0       1       0      1      0          1          0          0         0   \n",
       "1       1       0      0      1          1          0          0         0   \n",
       "2       1       0      1      0          1          0          0         0   \n",
       "3       1       0      1      0          1          0          0         0   \n",
       "4       1       0      1      0          1          0          0         1   \n",
       "\n",
       "   Age_16-55  Age_Above-56  \n",
       "0          1             0  \n",
       "1          1             0  \n",
       "2          1             0  \n",
       "3          1             0  \n",
       "4          0             0  "
      ]
     },
     "execution_count": 288,
     "metadata": {},
     "output_type": "execute_result"
    }
   ],
   "source": [
    "pd.DataFrame(data = x, columns = features).head()"
   ]
  },
  {
   "cell_type": "code",
   "execution_count": 289,
   "metadata": {},
   "outputs": [],
   "source": [
    "from sklearn.decomposition import PCA\n",
    "pca = PCA(n_components=2)"
   ]
  },
  {
   "cell_type": "code",
   "execution_count": 290,
   "metadata": {},
   "outputs": [],
   "source": [
    "principalComponents = pca.fit_transform(x)"
   ]
  },
  {
   "cell_type": "code",
   "execution_count": 291,
   "metadata": {},
   "outputs": [],
   "source": [
    "X_2D = pca.transform(x)"
   ]
  },
  {
   "cell_type": "code",
   "execution_count": 292,
   "metadata": {},
   "outputs": [],
   "source": [
    "principalDf = pd.DataFrame(data = principalComponents\n",
    "             , columns = ['principal component 1', 'principal component 2'])"
   ]
  },
  {
   "cell_type": "code",
   "execution_count": 293,
   "metadata": {},
   "outputs": [
    {
     "data": {
      "text/html": [
       "<div>\n",
       "<style scoped>\n",
       "    .dataframe tbody tr th:only-of-type {\n",
       "        vertical-align: middle;\n",
       "    }\n",
       "\n",
       "    .dataframe tbody tr th {\n",
       "        vertical-align: top;\n",
       "    }\n",
       "\n",
       "    .dataframe thead th {\n",
       "        text-align: right;\n",
       "    }\n",
       "</style>\n",
       "<table border=\"1\" class=\"dataframe\">\n",
       "  <thead>\n",
       "    <tr style=\"text-align: right;\">\n",
       "      <th></th>\n",
       "      <th>principal component 1</th>\n",
       "      <th>principal component 2</th>\n",
       "    </tr>\n",
       "  </thead>\n",
       "  <tbody>\n",
       "    <tr>\n",
       "      <th>0</th>\n",
       "      <td>0.857131</td>\n",
       "      <td>-0.284596</td>\n",
       "    </tr>\n",
       "    <tr>\n",
       "      <th>1</th>\n",
       "      <td>-0.468065</td>\n",
       "      <td>0.123636</td>\n",
       "    </tr>\n",
       "    <tr>\n",
       "      <th>2</th>\n",
       "      <td>0.857131</td>\n",
       "      <td>-0.284596</td>\n",
       "    </tr>\n",
       "    <tr>\n",
       "      <th>3</th>\n",
       "      <td>0.857131</td>\n",
       "      <td>-0.284596</td>\n",
       "    </tr>\n",
       "    <tr>\n",
       "      <th>4</th>\n",
       "      <td>1.274473</td>\n",
       "      <td>0.931921</td>\n",
       "    </tr>\n",
       "  </tbody>\n",
       "</table>\n",
       "</div>"
      ],
      "text/plain": [
       "   principal component 1  principal component 2\n",
       "0               0.857131              -0.284596\n",
       "1              -0.468065               0.123636\n",
       "2               0.857131              -0.284596\n",
       "3               0.857131              -0.284596\n",
       "4               1.274473               0.931921"
      ]
     },
     "execution_count": 293,
     "metadata": {},
     "output_type": "execute_result"
    }
   ],
   "source": [
    "principalDf.head(5)"
   ]
  },
  {
   "cell_type": "code",
   "execution_count": 294,
   "metadata": {},
   "outputs": [
    {
     "data": {
      "text/html": [
       "<div>\n",
       "<style scoped>\n",
       "    .dataframe tbody tr th:only-of-type {\n",
       "        vertical-align: middle;\n",
       "    }\n",
       "\n",
       "    .dataframe tbody tr th {\n",
       "        vertical-align: top;\n",
       "    }\n",
       "\n",
       "    .dataframe thead th {\n",
       "        text-align: right;\n",
       "    }\n",
       "</style>\n",
       "<table border=\"1\" class=\"dataframe\">\n",
       "  <thead>\n",
       "    <tr style=\"text-align: right;\">\n",
       "      <th></th>\n",
       "      <th>Occ</th>\n",
       "    </tr>\n",
       "  </thead>\n",
       "  <tbody>\n",
       "    <tr>\n",
       "      <th>0</th>\n",
       "      <td>Unskilled</td>\n",
       "    </tr>\n",
       "    <tr>\n",
       "      <th>1</th>\n",
       "      <td>Unskilled</td>\n",
       "    </tr>\n",
       "    <tr>\n",
       "      <th>2</th>\n",
       "      <td>Unskilled</td>\n",
       "    </tr>\n",
       "    <tr>\n",
       "      <th>3</th>\n",
       "      <td>Unskilled</td>\n",
       "    </tr>\n",
       "    <tr>\n",
       "      <th>4</th>\n",
       "      <td>Student</td>\n",
       "    </tr>\n",
       "  </tbody>\n",
       "</table>\n",
       "</div>"
      ],
      "text/plain": [
       "         Occ\n",
       "0  Unskilled\n",
       "1  Unskilled\n",
       "2  Unskilled\n",
       "3  Unskilled\n",
       "4    Student"
      ]
     },
     "execution_count": 294,
     "metadata": {},
     "output_type": "execute_result"
    }
   ],
   "source": [
    "data2[['Occ']].head()"
   ]
  },
  {
   "cell_type": "code",
   "execution_count": 295,
   "metadata": {},
   "outputs": [
    {
     "data": {
      "text/html": [
       "<div>\n",
       "<style scoped>\n",
       "    .dataframe tbody tr th:only-of-type {\n",
       "        vertical-align: middle;\n",
       "    }\n",
       "\n",
       "    .dataframe tbody tr th {\n",
       "        vertical-align: top;\n",
       "    }\n",
       "\n",
       "    .dataframe thead th {\n",
       "        text-align: right;\n",
       "    }\n",
       "</style>\n",
       "<table border=\"1\" class=\"dataframe\">\n",
       "  <thead>\n",
       "    <tr style=\"text-align: right;\">\n",
       "      <th></th>\n",
       "      <th>principal component 1</th>\n",
       "      <th>principal component 2</th>\n",
       "      <th>Occ</th>\n",
       "    </tr>\n",
       "  </thead>\n",
       "  <tbody>\n",
       "    <tr>\n",
       "      <th>0</th>\n",
       "      <td>0.857131</td>\n",
       "      <td>-0.284596</td>\n",
       "      <td>Unskilled</td>\n",
       "    </tr>\n",
       "    <tr>\n",
       "      <th>1</th>\n",
       "      <td>-0.468065</td>\n",
       "      <td>0.123636</td>\n",
       "      <td>Unskilled</td>\n",
       "    </tr>\n",
       "    <tr>\n",
       "      <th>2</th>\n",
       "      <td>0.857131</td>\n",
       "      <td>-0.284596</td>\n",
       "      <td>Unskilled</td>\n",
       "    </tr>\n",
       "    <tr>\n",
       "      <th>3</th>\n",
       "      <td>0.857131</td>\n",
       "      <td>-0.284596</td>\n",
       "      <td>Unskilled</td>\n",
       "    </tr>\n",
       "    <tr>\n",
       "      <th>4</th>\n",
       "      <td>1.274473</td>\n",
       "      <td>0.931921</td>\n",
       "      <td>Student</td>\n",
       "    </tr>\n",
       "  </tbody>\n",
       "</table>\n",
       "</div>"
      ],
      "text/plain": [
       "   principal component 1  principal component 2        Occ\n",
       "0               0.857131              -0.284596  Unskilled\n",
       "1              -0.468065               0.123636  Unskilled\n",
       "2               0.857131              -0.284596  Unskilled\n",
       "3               0.857131              -0.284596  Unskilled\n",
       "4               1.274473               0.931921    Student"
      ]
     },
     "execution_count": 295,
     "metadata": {},
     "output_type": "execute_result"
    }
   ],
   "source": [
    "finalDf = pd.concat([principalDf, data2[['Occ']]], axis = 1)\n",
    "finalDf.head(5)"
   ]
  },
  {
   "cell_type": "code",
   "execution_count": 301,
   "metadata": {
    "scrolled": true
   },
   "outputs": [
    {
     "data": {
      "image/png": "[encoded data removed]",
      "text/plain": [
       "<Figure size 864x360 with 1 Axes>"
      ]
     },
     "metadata": {},
     "output_type": "display_data"
    }
   ],
   "source": [
    "fig = plt.figure(figsize = (12,5))\n",
    "ax = fig.add_subplot(1,1,1) \n",
    "ax.set_xlabel('Principal Component 1', fontsize = 18)\n",
    "ax.set_ylabel('Principal Component 2', fontsize = 18)\n",
    "#ax.set_title('2 Component PCA', fontsize = 20)\n",
    "\n",
    "\n",
    "targets = ['Unskilled', 'Student', 'Skilled Labor','Skilled Professionals']\n",
    "colors = ['b', 'r','g','orange']\n",
    "for target, color in zip(targets,colors):\n",
    "    indicesToKeep = finalDf['Occ'] == target\n",
    "    ax.scatter(finalDf.loc[indicesToKeep, 'principal component 1']\n",
    "               , finalDf.loc[indicesToKeep, 'principal component 2']\n",
    "               , c = color\n",
    "               , s = 50)\n",
    "ax.legend(targets)\n",
    "ax.grid()"
   ]
  },
  {
   "cell_type": "code",
   "execution_count": 302,
   "metadata": {},
   "outputs": [
    {
     "name": "stdout",
     "output_type": "stream",
     "text": [
      "[[ 8.34321358e-02 -8.34321358e-02  6.62598131e-01 -6.62598131e-01\n",
      "   1.02191839e-01 -3.90214441e-04 -1.01801625e-01  2.12981014e-01\n",
      "  -2.04360995e-01 -8.62371487e-03]\n",
      " [-1.82225136e-01  1.82225136e-01 -2.04115998e-01  2.04115998e-01\n",
      "   2.40636541e-01 -1.58972696e-02 -2.24739271e-01  5.91000447e-01\n",
      "  -6.25516217e-01  3.22930995e-02]]\n"
     ]
    }
   ],
   "source": [
    "print(pca.components_)"
   ]
  },
  {
   "cell_type": "code",
   "execution_count": 303,
   "metadata": {},
   "outputs": [
    {
     "data": {
      "text/plain": [
       "array([0.31589317, 0.26264131])"
      ]
     },
     "execution_count": 303,
     "metadata": {},
     "output_type": "execute_result"
    }
   ],
   "source": [
    "pca.explained_variance_ratio_"
   ]
  },
  {
   "cell_type": "code",
   "execution_count": 304,
   "metadata": {},
   "outputs": [
    {
     "data": {
      "image/png": "[encoded data removed]",
      "text/plain": [
       "<Figure size 864x216 with 1 Axes>"
      ]
     },
     "metadata": {},
     "output_type": "display_data"
    }
   ],
   "source": [
    "pca = PCA().fit(x)\n",
    "fig = plt.figure(figsize=(12, 3))\n",
    "plt.plot(np.cumsum(pca.explained_variance_ratio_))\n",
    "plt.xlabel('number of components', fontsize = 18)\n",
    "plt.ylabel('cumulative explained variance', fontsize = 18);"
   ]
  },
  {
   "cell_type": "code",
   "execution_count": 101,
   "metadata": {},
   "outputs": [
    {
     "data": {
      "image/png": "[encoded data removed]",
      "text/plain": [
       "<Figure size 432x288 with 1 Axes>"
      ]
     },
     "metadata": {},
     "output_type": "display_data"
    }
   ],
   "source": [
    "sns.heatmap(np.log(pca.inverse_transform(np.eye(x.shape[1]))), cmap=\"hot\", cbar=False)\n",
    "plt.ylabel('principal component', fontsize=12);\n",
    "plt.xlabel('original feature index', fontsize=12);\n"
   ]
  },
  {
   "cell_type": "code",
   "execution_count": 305,
   "metadata": {},
   "outputs": [
    {
     "data": {
      "text/plain": [
       "<matplotlib.legend.Legend at 0x15002e2f9e8>"
      ]
     },
     "execution_count": 305,
     "metadata": {},
     "output_type": "execute_result"
    },
    {
     "data": {
      "image/png": "[encoded data removed]",
      "text/plain": [
       "<Figure size 864x432 with 1 Axes>"
      ]
     },
     "metadata": {},
     "output_type": "display_data"
    }
   ],
   "source": [
    "pca_inv_data = pca.inverse_transform(np.eye(x.shape[1]))\n",
    "\n",
    "fig = plt.figure(figsize=(12, 6))\n",
    "plt.plot(pca_inv_data.mean(axis=0), '--o', label = 'mean')\n",
    "plt.plot(np.square(pca_inv_data.std(axis=0)), '--o', label = 'variance')\n",
    "plt.legend(loc='lower right')\n",
    "plt.ylabel('feature contribution', fontsize=18);\n",
    "plt.xlabel('feature column id', fontsize=18);\n",
    "plt.tick_params(axis='both', which='major', labelsize=12);\n",
    "plt.tick_params(axis='both', which='minor', labelsize=12);\n",
    "#plt.xlim([0, 7])\n",
    "plt.legend(loc='upper left', fontsize=12)"
   ]
  },
  {
   "cell_type": "code",
   "execution_count": 103,
   "metadata": {},
   "outputs": [
    {
     "data": {
      "text/plain": [
       "['Race_B', 'Sex_M', 'Age_0-15', 'Age_16-55', 'Age_Above-56']"
      ]
     },
     "execution_count": 103,
     "metadata": {},
     "output_type": "execute_result"
    }
   ],
   "source": [
    "features"
   ]
  },
  {
   "cell_type": "code",
   "execution_count": 104,
   "metadata": {},
   "outputs": [
    {
     "name": "stdout",
     "output_type": "stream",
     "text": [
      "original shape:    (3625, 5)\n",
      "transformed shape: (3625, 2)\n"
     ]
    }
   ],
   "source": [
    "#x_pca = pca.transform(x)\n",
    "print(\"original shape:   \", x.shape)\n",
    "print(\"transformed shape:\", principalComponents.shape)"
   ]
  },
  {
   "cell_type": "markdown",
   "metadata": {},
   "source": [
    "## Receiver Operating Characteristic (ROC)"
   ]
  },
  {
   "cell_type": "markdown",
   "metadata": {},
   "source": [
    "Example of Receiver Operating Characteristic (ROC) metric to evaluate classifier output quality.\n",
    "\n",
    "ROC curves typically feature true positive rate on the Y axis, and false positive rate on the X axis. This means that the top left corner of the plot is the “ideal” point - a false positive rate of zero, and a true positive rate of one. This is not very realistic, but it does mean that a larger area under the curve (AUC) is usually better.\n",
    "\n",
    "The “steepness” of ROC curves is also important, since it is ideal to maximize the true positive rate while minimizing the false positive rate."
   ]
  },
  {
   "cell_type": "code",
   "execution_count": 106,
   "metadata": {},
   "outputs": [
    {
     "data": {
      "text/html": [
       "<div>\n",
       "<style scoped>\n",
       "    .dataframe tbody tr th:only-of-type {\n",
       "        vertical-align: middle;\n",
       "    }\n",
       "\n",
       "    .dataframe tbody tr th {\n",
       "        vertical-align: top;\n",
       "    }\n",
       "\n",
       "    .dataframe thead th {\n",
       "        text-align: right;\n",
       "    }\n",
       "</style>\n",
       "<table border=\"1\" class=\"dataframe\">\n",
       "  <thead>\n",
       "    <tr style=\"text-align: right;\">\n",
       "      <th></th>\n",
       "      <th>Occ</th>\n",
       "      <th>Race_B</th>\n",
       "      <th>Race_W</th>\n",
       "      <th>Sex_F</th>\n",
       "      <th>Sex_M</th>\n",
       "      <th>Year_1900</th>\n",
       "      <th>Year_1910</th>\n",
       "      <th>Year_1920</th>\n",
       "      <th>Age_0-15</th>\n",
       "      <th>Age_16-55</th>\n",
       "      <th>Age_Above-56</th>\n",
       "    </tr>\n",
       "  </thead>\n",
       "  <tbody>\n",
       "    <tr>\n",
       "      <th>0</th>\n",
       "      <td>Unskilled</td>\n",
       "      <td>1</td>\n",
       "      <td>0</td>\n",
       "      <td>1</td>\n",
       "      <td>0</td>\n",
       "      <td>1</td>\n",
       "      <td>0</td>\n",
       "      <td>0</td>\n",
       "      <td>0</td>\n",
       "      <td>1</td>\n",
       "      <td>0</td>\n",
       "    </tr>\n",
       "    <tr>\n",
       "      <th>1</th>\n",
       "      <td>Unskilled</td>\n",
       "      <td>1</td>\n",
       "      <td>0</td>\n",
       "      <td>0</td>\n",
       "      <td>1</td>\n",
       "      <td>1</td>\n",
       "      <td>0</td>\n",
       "      <td>0</td>\n",
       "      <td>0</td>\n",
       "      <td>1</td>\n",
       "      <td>0</td>\n",
       "    </tr>\n",
       "    <tr>\n",
       "      <th>2</th>\n",
       "      <td>Unskilled</td>\n",
       "      <td>1</td>\n",
       "      <td>0</td>\n",
       "      <td>1</td>\n",
       "      <td>0</td>\n",
       "      <td>1</td>\n",
       "      <td>0</td>\n",
       "      <td>0</td>\n",
       "      <td>0</td>\n",
       "      <td>1</td>\n",
       "      <td>0</td>\n",
       "    </tr>\n",
       "    <tr>\n",
       "      <th>3</th>\n",
       "      <td>Unskilled</td>\n",
       "      <td>1</td>\n",
       "      <td>0</td>\n",
       "      <td>1</td>\n",
       "      <td>0</td>\n",
       "      <td>1</td>\n",
       "      <td>0</td>\n",
       "      <td>0</td>\n",
       "      <td>0</td>\n",
       "      <td>1</td>\n",
       "      <td>0</td>\n",
       "    </tr>\n",
       "    <tr>\n",
       "      <th>4</th>\n",
       "      <td>Student</td>\n",
       "      <td>1</td>\n",
       "      <td>0</td>\n",
       "      <td>1</td>\n",
       "      <td>0</td>\n",
       "      <td>1</td>\n",
       "      <td>0</td>\n",
       "      <td>0</td>\n",
       "      <td>1</td>\n",
       "      <td>0</td>\n",
       "      <td>0</td>\n",
       "    </tr>\n",
       "  </tbody>\n",
       "</table>\n",
       "</div>"
      ],
      "text/plain": [
       "         Occ  Race_B  Race_W  Sex_F  Sex_M  Year_1900  Year_1910  Year_1920  \\\n",
       "0  Unskilled       1       0      1      0          1          0          0   \n",
       "1  Unskilled       1       0      0      1          1          0          0   \n",
       "2  Unskilled       1       0      1      0          1          0          0   \n",
       "3  Unskilled       1       0      1      0          1          0          0   \n",
       "4    Student       1       0      1      0          1          0          0   \n",
       "\n",
       "   Age_0-15  Age_16-55  Age_Above-56  \n",
       "0         0          1             0  \n",
       "1         0          1             0  \n",
       "2         0          1             0  \n",
       "3         0          1             0  \n",
       "4         1          0             0  "
      ]
     },
     "execution_count": 106,
     "metadata": {},
     "output_type": "execute_result"
    }
   ],
   "source": [
    "data2.head()"
   ]
  },
  {
   "cell_type": "code",
   "execution_count": 107,
   "metadata": {},
   "outputs": [
    {
     "data": {
      "text/plain": [
       "Index(['Race_B', 'Race_W', 'Sex_F', 'Sex_M', 'Year_1900', 'Year_1910',\n",
       "       'Year_1920', 'Age_0-15', 'Age_16-55', 'Age_Above-56',\n",
       "       'Occ_Skilled Labor', 'Occ_Skilled Professionals', 'Occ_Student',\n",
       "       'Occ_Unskilled'],\n",
       "      dtype='object')"
      ]
     },
     "execution_count": 107,
     "metadata": {},
     "output_type": "execute_result"
    }
   ],
   "source": [
    "#data2[\"Occ\"]=data2[\"Occ\"].astype(int)\n",
    "data6 = pd.get_dummies(data2, columns =['Occ'])\n",
    "data6.columns"
   ]
  },
  {
   "cell_type": "code",
   "execution_count": 108,
   "metadata": {},
   "outputs": [],
   "source": [
    "import numpy as np\n",
    "import matplotlib.pyplot as plt\n",
    "from itertools import cycle\n",
    "\n",
    "from sklearn import svm, datasets\n",
    "from sklearn.metrics import roc_curve, auc\n",
    "from sklearn.model_selection import train_test_split\n",
    "from sklearn.preprocessing import label_binarize\n",
    "from sklearn.multiclass import OneVsRestClassifier\n",
    "from scipy import interp\n"
   ]
  },
  {
   "cell_type": "code",
   "execution_count": 109,
   "metadata": {},
   "outputs": [],
   "source": [
    "X = data6.iloc[:,:-4].values\n",
    "y = data6.iloc[:,-4:].values"
   ]
  },
  {
   "cell_type": "code",
   "execution_count": 110,
   "metadata": {},
   "outputs": [
    {
     "data": {
      "text/plain": [
       "array([[1, 0, 1, ..., 0, 1, 0],\n",
       "       [1, 0, 0, ..., 0, 1, 0],\n",
       "       [1, 0, 1, ..., 0, 1, 0],\n",
       "       ...,\n",
       "       [1, 0, 0, ..., 0, 1, 0],\n",
       "       [1, 0, 0, ..., 0, 1, 0],\n",
       "       [1, 0, 0, ..., 0, 1, 0]], dtype=uint8)"
      ]
     },
     "execution_count": 110,
     "metadata": {},
     "output_type": "execute_result"
    }
   ],
   "source": [
    "X"
   ]
  },
  {
   "cell_type": "code",
   "execution_count": 111,
   "metadata": {},
   "outputs": [
    {
     "data": {
      "text/plain": [
       "array([[0, 0, 0, 1],\n",
       "       [0, 0, 0, 1],\n",
       "       [0, 0, 0, 1],\n",
       "       ...,\n",
       "       [0, 0, 0, 1],\n",
       "       [0, 0, 0, 1],\n",
       "       [0, 0, 0, 1]], dtype=uint8)"
      ]
     },
     "execution_count": 111,
     "metadata": {},
     "output_type": "execute_result"
    }
   ],
   "source": [
    "y"
   ]
  },
  {
   "cell_type": "code",
   "execution_count": 112,
   "metadata": {},
   "outputs": [],
   "source": [
    "n_classes = 4"
   ]
  },
  {
   "cell_type": "code",
   "execution_count": 113,
   "metadata": {},
   "outputs": [],
   "source": [
    "# Add noisy features to make the problem harder\n",
    "random_state = np.random.RandomState(0)\n",
    "n_samples, n_features = X.shape\n",
    "X = np.c_[X, random_state.randn(n_samples, 200 * n_features)]\n",
    "\n",
    "\n",
    "# shuffle and split training and test sets\n",
    "X_train, X_test, y_train, y_test = train_test_split(X, y, test_size=.5,\n",
    "                                                    random_state=0)\n",
    "\n",
    "# Learn to predict each class against the other\n",
    "classifier = OneVsRestClassifier(svm.SVC(kernel='linear', probability=True,\n",
    "                                 random_state=random_state))\n",
    "y_score = classifier.fit(X_train, y_train).decision_function(X_test)\n",
    "\n",
    "# Compute ROC curve and ROC area for each class\n",
    "fpr = dict()\n",
    "tpr = dict()\n",
    "roc_auc = dict()\n",
    "for i in range(n_classes):\n",
    "    fpr[i], tpr[i], _ = roc_curve(y_test[:, i], y_score[:, i])\n",
    "    roc_auc[i] = auc(fpr[i], tpr[i])\n",
    "\n",
    "# Compute micro-average ROC curve and ROC area\n",
    "fpr[\"micro\"], tpr[\"micro\"], _ = roc_curve(y_test.ravel(), y_score.ravel())\n",
    "roc_auc[\"micro\"] = auc(fpr[\"micro\"], tpr[\"micro\"])"
   ]
  },
  {
   "cell_type": "code",
   "execution_count": 114,
   "metadata": {},
   "outputs": [
    {
     "data": {
      "text/plain": [
       "<Figure size 864x432 with 0 Axes>"
      ]
     },
     "metadata": {},
     "output_type": "display_data"
    },
    {
     "data": {
      "text/plain": [
       "<Figure size 432x288 with 0 Axes>"
      ]
     },
     "metadata": {},
     "output_type": "display_data"
    },
    {
     "data": {
      "image/png": "[encoded data removed]",
      "text/plain": [
       "<Figure size 864x432 with 1 Axes>"
      ]
     },
     "metadata": {},
     "output_type": "display_data"
    }
   ],
   "source": [
    "# Compute macro-average ROC curve and ROC area\n",
    "fig = plt.figure(figsize=(12, 6))\n",
    "lw = 2\n",
    "# First aggregate all false positive rates\n",
    "all_fpr = np.unique(np.concatenate([fpr[i] for i in range(n_classes)]))\n",
    "\n",
    "# Then interpolate all ROC curves at this points\n",
    "mean_tpr = np.zeros_like(all_fpr)\n",
    "for i in range(n_classes):\n",
    "    mean_tpr += interp(all_fpr, fpr[i], tpr[i])\n",
    "\n",
    "# Finally average it and compute AUC\n",
    "mean_tpr /= n_classes\n",
    "\n",
    "fpr[\"macro\"] = all_fpr\n",
    "tpr[\"macro\"] = mean_tpr\n",
    "roc_auc[\"macro\"] = auc(fpr[\"macro\"], tpr[\"macro\"])\n",
    "\n",
    "# Plot all ROC curves\n",
    "plt.figure()\n",
    "fig = plt.figure(figsize=(12, 6))\n",
    "plt.plot(fpr[\"micro\"], tpr[\"micro\"],\n",
    "         label='micro-average ROC curve (area = {0:0.2f})'\n",
    "               ''.format(roc_auc[\"micro\"]),\n",
    "         color='deeppink', linestyle=':', linewidth=4)\n",
    "\n",
    "plt.plot(fpr[\"macro\"], tpr[\"macro\"],\n",
    "         label='macro-average ROC curve (area = {0:0.2f})'\n",
    "               ''.format(roc_auc[\"macro\"]),\n",
    "         color='navy', linestyle=':', linewidth=4)\n",
    "\n",
    "colors = cycle(['aqua', 'darkorange', 'cornflowerblue','green'])\n",
    "for i, color in zip(range(n_classes), colors):\n",
    "    plt.plot(fpr[i], tpr[i], color=color, lw=lw,\n",
    "             label='ROC curve of class {0} (area = {1:0.2f})'\n",
    "             ''.format(i, roc_auc[i]))\n",
    "\n",
    "plt.plot([0, 1], [0, 1], 'k--', lw=lw)\n",
    "plt.xlim([0.0, 1.0])\n",
    "plt.ylim([0.0, 1.05])\n",
    "plt.xlabel('False Positive Rate', fontsize = 14)\n",
    "plt.ylabel('True Positive Rate', fontsize = 14)\n",
    "plt.title('Receiver Operating Characteristic to Multi-Class', fontsize = 16)\n",
    "plt.legend(loc=\"lower right\")\n",
    "plt.show()\n"
   ]
  },
  {
   "cell_type": "markdown",
   "metadata": {},
   "source": [
    "## Backward Elimination"
   ]
  },
  {
   "cell_type": "code",
   "execution_count": 115,
   "metadata": {},
   "outputs": [
    {
     "data": {
      "text/html": [
       "<div>\n",
       "<style scoped>\n",
       "    .dataframe tbody tr th:only-of-type {\n",
       "        vertical-align: middle;\n",
       "    }\n",
       "\n",
       "    .dataframe tbody tr th {\n",
       "        vertical-align: top;\n",
       "    }\n",
       "\n",
       "    .dataframe thead th {\n",
       "        text-align: right;\n",
       "    }\n",
       "</style>\n",
       "<table border=\"1\" class=\"dataframe\">\n",
       "  <thead>\n",
       "    <tr style=\"text-align: right;\">\n",
       "      <th></th>\n",
       "      <th>Occ</th>\n",
       "      <th>Race_B</th>\n",
       "      <th>Race_W</th>\n",
       "      <th>Sex_F</th>\n",
       "      <th>Sex_M</th>\n",
       "      <th>Year_1900</th>\n",
       "      <th>Year_1910</th>\n",
       "      <th>Year_1920</th>\n",
       "      <th>Age_0-15</th>\n",
       "      <th>Age_16-55</th>\n",
       "      <th>Age_Above-56</th>\n",
       "    </tr>\n",
       "  </thead>\n",
       "  <tbody>\n",
       "    <tr>\n",
       "      <th>0</th>\n",
       "      <td>0</td>\n",
       "      <td>1</td>\n",
       "      <td>0</td>\n",
       "      <td>1</td>\n",
       "      <td>0</td>\n",
       "      <td>1</td>\n",
       "      <td>0</td>\n",
       "      <td>0</td>\n",
       "      <td>0</td>\n",
       "      <td>1</td>\n",
       "      <td>0</td>\n",
       "    </tr>\n",
       "    <tr>\n",
       "      <th>1</th>\n",
       "      <td>0</td>\n",
       "      <td>1</td>\n",
       "      <td>0</td>\n",
       "      <td>0</td>\n",
       "      <td>1</td>\n",
       "      <td>1</td>\n",
       "      <td>0</td>\n",
       "      <td>0</td>\n",
       "      <td>0</td>\n",
       "      <td>1</td>\n",
       "      <td>0</td>\n",
       "    </tr>\n",
       "    <tr>\n",
       "      <th>2</th>\n",
       "      <td>0</td>\n",
       "      <td>1</td>\n",
       "      <td>0</td>\n",
       "      <td>1</td>\n",
       "      <td>0</td>\n",
       "      <td>1</td>\n",
       "      <td>0</td>\n",
       "      <td>0</td>\n",
       "      <td>0</td>\n",
       "      <td>1</td>\n",
       "      <td>0</td>\n",
       "    </tr>\n",
       "    <tr>\n",
       "      <th>3</th>\n",
       "      <td>0</td>\n",
       "      <td>1</td>\n",
       "      <td>0</td>\n",
       "      <td>1</td>\n",
       "      <td>0</td>\n",
       "      <td>1</td>\n",
       "      <td>0</td>\n",
       "      <td>0</td>\n",
       "      <td>0</td>\n",
       "      <td>1</td>\n",
       "      <td>0</td>\n",
       "    </tr>\n",
       "    <tr>\n",
       "      <th>4</th>\n",
       "      <td>3</td>\n",
       "      <td>1</td>\n",
       "      <td>0</td>\n",
       "      <td>1</td>\n",
       "      <td>0</td>\n",
       "      <td>1</td>\n",
       "      <td>0</td>\n",
       "      <td>0</td>\n",
       "      <td>1</td>\n",
       "      <td>0</td>\n",
       "      <td>0</td>\n",
       "    </tr>\n",
       "  </tbody>\n",
       "</table>\n",
       "</div>"
      ],
      "text/plain": [
       "  Occ  Race_B  Race_W  Sex_F  Sex_M  Year_1900  Year_1910  Year_1920  \\\n",
       "0   0       1       0      1      0          1          0          0   \n",
       "1   0       1       0      0      1          1          0          0   \n",
       "2   0       1       0      1      0          1          0          0   \n",
       "3   0       1       0      1      0          1          0          0   \n",
       "4   3       1       0      1      0          1          0          0   \n",
       "\n",
       "   Age_0-15  Age_16-55  Age_Above-56  \n",
       "0         0          1             0  \n",
       "1         0          1             0  \n",
       "2         0          1             0  \n",
       "3         0          1             0  \n",
       "4         1          0             0  "
      ]
     },
     "execution_count": 115,
     "metadata": {},
     "output_type": "execute_result"
    }
   ],
   "source": [
    "data3.head()"
   ]
  },
  {
   "cell_type": "code",
   "execution_count": 116,
   "metadata": {},
   "outputs": [],
   "source": [
    "XG = data3.drop(\"Occ\",1) # feature matrix"
   ]
  },
  {
   "cell_type": "code",
   "execution_count": 117,
   "metadata": {},
   "outputs": [
    {
     "data": {
      "text/html": [
       "<div>\n",
       "<style scoped>\n",
       "    .dataframe tbody tr th:only-of-type {\n",
       "        vertical-align: middle;\n",
       "    }\n",
       "\n",
       "    .dataframe tbody tr th {\n",
       "        vertical-align: top;\n",
       "    }\n",
       "\n",
       "    .dataframe thead th {\n",
       "        text-align: right;\n",
       "    }\n",
       "</style>\n",
       "<table border=\"1\" class=\"dataframe\">\n",
       "  <thead>\n",
       "    <tr style=\"text-align: right;\">\n",
       "      <th></th>\n",
       "      <th>Race_B</th>\n",
       "      <th>Race_W</th>\n",
       "      <th>Sex_F</th>\n",
       "      <th>Sex_M</th>\n",
       "      <th>Year_1900</th>\n",
       "      <th>Year_1910</th>\n",
       "      <th>Year_1920</th>\n",
       "      <th>Age_0-15</th>\n",
       "      <th>Age_16-55</th>\n",
       "      <th>Age_Above-56</th>\n",
       "    </tr>\n",
       "  </thead>\n",
       "  <tbody>\n",
       "    <tr>\n",
       "      <th>0</th>\n",
       "      <td>1</td>\n",
       "      <td>0</td>\n",
       "      <td>1</td>\n",
       "      <td>0</td>\n",
       "      <td>1</td>\n",
       "      <td>0</td>\n",
       "      <td>0</td>\n",
       "      <td>0</td>\n",
       "      <td>1</td>\n",
       "      <td>0</td>\n",
       "    </tr>\n",
       "    <tr>\n",
       "      <th>1</th>\n",
       "      <td>1</td>\n",
       "      <td>0</td>\n",
       "      <td>0</td>\n",
       "      <td>1</td>\n",
       "      <td>1</td>\n",
       "      <td>0</td>\n",
       "      <td>0</td>\n",
       "      <td>0</td>\n",
       "      <td>1</td>\n",
       "      <td>0</td>\n",
       "    </tr>\n",
       "    <tr>\n",
       "      <th>2</th>\n",
       "      <td>1</td>\n",
       "      <td>0</td>\n",
       "      <td>1</td>\n",
       "      <td>0</td>\n",
       "      <td>1</td>\n",
       "      <td>0</td>\n",
       "      <td>0</td>\n",
       "      <td>0</td>\n",
       "      <td>1</td>\n",
       "      <td>0</td>\n",
       "    </tr>\n",
       "    <tr>\n",
       "      <th>3</th>\n",
       "      <td>1</td>\n",
       "      <td>0</td>\n",
       "      <td>1</td>\n",
       "      <td>0</td>\n",
       "      <td>1</td>\n",
       "      <td>0</td>\n",
       "      <td>0</td>\n",
       "      <td>0</td>\n",
       "      <td>1</td>\n",
       "      <td>0</td>\n",
       "    </tr>\n",
       "    <tr>\n",
       "      <th>4</th>\n",
       "      <td>1</td>\n",
       "      <td>0</td>\n",
       "      <td>1</td>\n",
       "      <td>0</td>\n",
       "      <td>1</td>\n",
       "      <td>0</td>\n",
       "      <td>0</td>\n",
       "      <td>1</td>\n",
       "      <td>0</td>\n",
       "      <td>0</td>\n",
       "    </tr>\n",
       "  </tbody>\n",
       "</table>\n",
       "</div>"
      ],
      "text/plain": [
       "   Race_B  Race_W  Sex_F  Sex_M  Year_1900  Year_1910  Year_1920  Age_0-15  \\\n",
       "0       1       0      1      0          1          0          0         0   \n",
       "1       1       0      0      1          1          0          0         0   \n",
       "2       1       0      1      0          1          0          0         0   \n",
       "3       1       0      1      0          1          0          0         0   \n",
       "4       1       0      1      0          1          0          0         1   \n",
       "\n",
       "   Age_16-55  Age_Above-56  \n",
       "0          1             0  \n",
       "1          1             0  \n",
       "2          1             0  \n",
       "3          1             0  \n",
       "4          0             0  "
      ]
     },
     "execution_count": 117,
     "metadata": {},
     "output_type": "execute_result"
    }
   ],
   "source": [
    "XG.head()"
   ]
  },
  {
   "cell_type": "code",
   "execution_count": 118,
   "metadata": {},
   "outputs": [
    {
     "data": {
      "text/plain": [
       "0    0\n",
       "1    0\n",
       "2    0\n",
       "3    0\n",
       "4    3\n",
       "Name: Occ, dtype: object"
      ]
     },
     "execution_count": 118,
     "metadata": {},
     "output_type": "execute_result"
    }
   ],
   "source": [
    "yG = data3[\"Occ\"]\n",
    "yG.head()"
   ]
  },
  {
   "cell_type": "code",
   "execution_count": 119,
   "metadata": {},
   "outputs": [
    {
     "data": {
      "text/html": [
       "<div>\n",
       "<style scoped>\n",
       "    .dataframe tbody tr th:only-of-type {\n",
       "        vertical-align: middle;\n",
       "    }\n",
       "\n",
       "    .dataframe tbody tr th {\n",
       "        vertical-align: top;\n",
       "    }\n",
       "\n",
       "    .dataframe thead th {\n",
       "        text-align: right;\n",
       "    }\n",
       "</style>\n",
       "<table border=\"1\" class=\"dataframe\">\n",
       "  <thead>\n",
       "    <tr style=\"text-align: right;\">\n",
       "      <th></th>\n",
       "      <th>const</th>\n",
       "      <th>Race_B</th>\n",
       "      <th>Race_W</th>\n",
       "      <th>Sex_F</th>\n",
       "      <th>Sex_M</th>\n",
       "      <th>Year_1900</th>\n",
       "      <th>Year_1910</th>\n",
       "      <th>Year_1920</th>\n",
       "      <th>Age_0-15</th>\n",
       "      <th>Age_16-55</th>\n",
       "      <th>Age_Above-56</th>\n",
       "    </tr>\n",
       "  </thead>\n",
       "  <tbody>\n",
       "    <tr>\n",
       "      <th>0</th>\n",
       "      <td>1.0</td>\n",
       "      <td>1</td>\n",
       "      <td>0</td>\n",
       "      <td>1</td>\n",
       "      <td>0</td>\n",
       "      <td>1</td>\n",
       "      <td>0</td>\n",
       "      <td>0</td>\n",
       "      <td>0</td>\n",
       "      <td>1</td>\n",
       "      <td>0</td>\n",
       "    </tr>\n",
       "    <tr>\n",
       "      <th>1</th>\n",
       "      <td>1.0</td>\n",
       "      <td>1</td>\n",
       "      <td>0</td>\n",
       "      <td>0</td>\n",
       "      <td>1</td>\n",
       "      <td>1</td>\n",
       "      <td>0</td>\n",
       "      <td>0</td>\n",
       "      <td>0</td>\n",
       "      <td>1</td>\n",
       "      <td>0</td>\n",
       "    </tr>\n",
       "    <tr>\n",
       "      <th>2</th>\n",
       "      <td>1.0</td>\n",
       "      <td>1</td>\n",
       "      <td>0</td>\n",
       "      <td>1</td>\n",
       "      <td>0</td>\n",
       "      <td>1</td>\n",
       "      <td>0</td>\n",
       "      <td>0</td>\n",
       "      <td>0</td>\n",
       "      <td>1</td>\n",
       "      <td>0</td>\n",
       "    </tr>\n",
       "    <tr>\n",
       "      <th>3</th>\n",
       "      <td>1.0</td>\n",
       "      <td>1</td>\n",
       "      <td>0</td>\n",
       "      <td>1</td>\n",
       "      <td>0</td>\n",
       "      <td>1</td>\n",
       "      <td>0</td>\n",
       "      <td>0</td>\n",
       "      <td>0</td>\n",
       "      <td>1</td>\n",
       "      <td>0</td>\n",
       "    </tr>\n",
       "    <tr>\n",
       "      <th>4</th>\n",
       "      <td>1.0</td>\n",
       "      <td>1</td>\n",
       "      <td>0</td>\n",
       "      <td>1</td>\n",
       "      <td>0</td>\n",
       "      <td>1</td>\n",
       "      <td>0</td>\n",
       "      <td>0</td>\n",
       "      <td>1</td>\n",
       "      <td>0</td>\n",
       "      <td>0</td>\n",
       "    </tr>\n",
       "  </tbody>\n",
       "</table>\n",
       "</div>"
      ],
      "text/plain": [
       "   const  Race_B  Race_W  Sex_F  Sex_M  Year_1900  Year_1910  Year_1920  \\\n",
       "0    1.0       1       0      1      0          1          0          0   \n",
       "1    1.0       1       0      0      1          1          0          0   \n",
       "2    1.0       1       0      1      0          1          0          0   \n",
       "3    1.0       1       0      1      0          1          0          0   \n",
       "4    1.0       1       0      1      0          1          0          0   \n",
       "\n",
       "   Age_0-15  Age_16-55  Age_Above-56  \n",
       "0         0          1             0  \n",
       "1         0          1             0  \n",
       "2         0          1             0  \n",
       "3         0          1             0  \n",
       "4         1          0             0  "
      ]
     },
     "execution_count": 119,
     "metadata": {},
     "output_type": "execute_result"
    }
   ],
   "source": [
    "import statsmodels.api as sm\n",
    "#Adding constant column of ones, mandatory for sm.OLS model\n",
    "X_1 = sm.add_constant(XG)\n",
    "X_1.head()"
   ]
  },
  {
   "cell_type": "code",
   "execution_count": 120,
   "metadata": {},
   "outputs": [
    {
     "data": {
      "text/plain": [
       "const           5.230420e-26\n",
       "Race_B          3.130230e-16\n",
       "Race_W          6.203208e-35\n",
       "Sex_F           1.646078e-32\n",
       "Sex_M           6.674133e-19\n",
       "Year_1900       6.694301e-32\n",
       "Year_1910       5.643252e-08\n",
       "Year_1920       1.521042e-22\n",
       "Age_0-15        3.085159e-01\n",
       "Age_16-55       1.375432e-19\n",
       "Age_Above-56    1.435256e-17\n",
       "dtype: float64"
      ]
     },
     "execution_count": 120,
     "metadata": {},
     "output_type": "execute_result"
    }
   ],
   "source": [
    "#Fitting sm.OLS model\n",
    "#model = sm.OLS(yG,X_1).fit()\n",
    "est = sm.OLS(yG.astype(float), X_1.astype(float)).fit()\n",
    "est.pvalues"
   ]
  },
  {
   "cell_type": "code",
   "execution_count": 121,
   "metadata": {},
   "outputs": [
    {
     "name": "stdout",
     "output_type": "stream",
     "text": [
      "['Race_B', 'Race_W', 'Sex_F', 'Sex_M', 'Year_1900', 'Year_1910', 'Year_1920', 'Age_16-55', 'Age_Above-56']\n"
     ]
    }
   ],
   "source": [
    "#Backward Elimination\n",
    "cols = list(XG.columns)\n",
    "pmax = 1\n",
    "while (len(cols)>0):\n",
    "    p= []\n",
    "    X_1 = XG[cols]\n",
    "    X_1 = sm.add_constant(X_1)\n",
    "    model = sm.OLS(yG.astype(float),X_1.astype(float)).fit()\n",
    "    p = pd.Series(model.pvalues.values[1:],index = cols)      \n",
    "    pmax = max(p)\n",
    "    feature_with_p_max = p.idxmax()\n",
    "    if(pmax>0.05):\n",
    "        cols.remove(feature_with_p_max)\n",
    "    else:\n",
    "        break\n",
    "selected_features_BE = cols\n",
    "print(selected_features_BE)"
   ]
  },
  {
   "cell_type": "markdown",
   "metadata": {},
   "source": [
    "## Embedded Method"
   ]
  },
  {
   "cell_type": "markdown",
   "metadata": {},
   "source": [
    "Embedded methods are iterative in a sense that takes care of each iteration of the model training process and carefully extract those features which contribute the most to the training for a particular iteration. Regularization methods are the most commonly used embedded methods which penalize a feature given a coefficient threshold.\n",
    "\n",
    "Here we will do feature selection using Lasso regularization. If the feature is irrelevant, lasso penalizes it’s coefficient and make it 0. Hence the features with coefficient = 0 are removed and the rest are taken."
   ]
  },
  {
   "cell_type": "code",
   "execution_count": 122,
   "metadata": {},
   "outputs": [
    {
     "name": "stdout",
     "output_type": "stream",
     "text": [
      "Best alpha using built-in LassoCV: 0.001547\n",
      "Best score using built-in LassoCV: 0.735768\n"
     ]
    }
   ],
   "source": [
    "from sklearn.linear_model import RidgeCV, LassoCV, Ridge, Lasso\n",
    "reg = LassoCV()\n",
    "reg.fit(XG, yG)\n",
    "print(\"Best alpha using built-in LassoCV: %f\" % reg.alpha_)\n",
    "print(\"Best score using built-in LassoCV: %f\" %reg.score(XG,yG))\n",
    "coef = pd.Series(reg.coef_, index = XG.columns)"
   ]
  },
  {
   "cell_type": "code",
   "execution_count": 123,
   "metadata": {},
   "outputs": [
    {
     "name": "stdout",
     "output_type": "stream",
     "text": [
      "Lasso picked 9 variables and eliminated the other 1 variables\n"
     ]
    }
   ],
   "source": [
    "print(\"Lasso picked \" + str(sum(coef != 0)) + \" variables and eliminated the other \" +  str(sum(coef == 0)) + \" variables\")"
   ]
  },
  {
   "cell_type": "code",
   "execution_count": 124,
   "metadata": {},
   "outputs": [
    {
     "data": {
      "text/plain": [
       "Text(0.5, 1.0, 'Feature importance using Lasso Model')"
      ]
     },
     "execution_count": 124,
     "metadata": {},
     "output_type": "execute_result"
    },
    {
     "data": {
      "image/png": "[encoded data removed]",
      "text/plain": [
       "<Figure size 576x360 with 1 Axes>"
      ]
     },
     "metadata": {},
     "output_type": "display_data"
    }
   ],
   "source": [
    "imp_coef = coef.sort_values()\n",
    "import matplotlib\n",
    "matplotlib.rcParams['figure.figsize'] = (8.0, 5.0)\n",
    "imp_coef.plot(kind = \"barh\")\n",
    "plt.title(\"Feature importance using Lasso Model\")"
   ]
  }
 ],
 "metadata": {
  "kernelspec": {
   "display_name": "Python 3",
   "language": "python",
   "name": "python3"
  },
  "language_info": {
   "codemirror_mode": {
    "name": "ipython",
    "version": 3
   },
   "file_extension": ".py",
   "mimetype": "text/x-python",
   "name": "python",
   "nbconvert_exporter": "python",
   "pygments_lexer": "ipython3",
   "version": "3.6.6"
  }
 },
 "nbformat": 4,
 "nbformat_minor": 2
}
