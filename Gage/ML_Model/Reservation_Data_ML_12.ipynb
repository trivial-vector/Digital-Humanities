{
 "cells": [
  {
   "cell_type": "markdown",
   "metadata": {},
   "source": [
    "# ML for Reservation Data & Correlation with Houston Census Figures\n",
    "\n",
    "import pandas as pd\n",
    "import numpy as np\n",
    "import xlrd\n",
    "import matplotlib.pyplot as plt\n",
    "import seaborn as sns"
   ]
  },
  {
   "cell_type": "code",
   "execution_count": 51,
   "metadata": {},
   "outputs": [],
   "source": [
    "import warnings\n",
    "warnings.simplefilter('ignore')\n",
    "\n",
    "# %matplotlib inline\n",
    "import matplotlib.pyplot as plt\n",
    "import numpy as np\n",
    "import pandas as pd\n",
    "import xlrd\n",
    "import seaborn as sns"
   ]
  },
  {
   "cell_type": "code",
   "execution_count": 52,
   "metadata": {},
   "outputs": [],
   "source": [
    "from sklearn import preprocessing\n",
    "import matplotlib.pyplot as plt \n",
    "plt.rc(\"font\", size=14)\n",
    "from sklearn.linear_model import LogisticRegression\n",
    "from sklearn.model_selection import train_test_split\n",
    "sns.set(style=\"white\")\n",
    "sns.set(style=\"whitegrid\", color_codes=True)"
   ]
  },
  {
   "cell_type": "markdown",
   "metadata": {},
   "source": [
    "# Reading in Census Data"
   ]
  },
  {
   "cell_type": "code",
   "execution_count": 53,
   "metadata": {},
   "outputs": [
    {
     "data": {
      "text/html": [
       "<div>\n",
       "<style scoped>\n",
       "    .dataframe tbody tr th:only-of-type {\n",
       "        vertical-align: middle;\n",
       "    }\n",
       "\n",
       "    .dataframe tbody tr th {\n",
       "        vertical-align: top;\n",
       "    }\n",
       "\n",
       "    .dataframe thead th {\n",
       "        text-align: right;\n",
       "    }\n",
       "</style>\n",
       "<table border=\"1\" class=\"dataframe\">\n",
       "  <thead>\n",
       "    <tr style=\"text-align: right;\">\n",
       "      <th></th>\n",
       "      <th>line_number</th>\n",
       "      <th>house_number</th>\n",
       "      <th>street_name</th>\n",
       "      <th>last_name</th>\n",
       "      <th>given_name</th>\n",
       "      <th>relation</th>\n",
       "      <th>color_race</th>\n",
       "      <th>sex</th>\n",
       "      <th>age_at_last_birthday</th>\n",
       "      <th>occupation</th>\n",
       "      <th>own_or_rent</th>\n",
       "      <th>owned_free_or_mortgage</th>\n",
       "      <th>house_or_farm</th>\n",
       "      <th>my_notes</th>\n",
       "      <th>file_name</th>\n",
       "      <th>census_year</th>\n",
       "      <th>grouped_occu</th>\n",
       "    </tr>\n",
       "  </thead>\n",
       "  <tbody>\n",
       "    <tr>\n",
       "      <th>0</th>\n",
       "      <td>65</td>\n",
       "      <td>830</td>\n",
       "      <td>Arthur St</td>\n",
       "      <td>Brown</td>\n",
       "      <td>Eliza</td>\n",
       "      <td>Boarder</td>\n",
       "      <td>B</td>\n",
       "      <td>F</td>\n",
       "      <td>26</td>\n",
       "      <td>Servant</td>\n",
       "      <td>Null</td>\n",
       "      <td>Null</td>\n",
       "      <td>Null</td>\n",
       "      <td>Null</td>\n",
       "      <td>1900 census ED 70 page 2</td>\n",
       "      <td>1900</td>\n",
       "      <td>Unskilled</td>\n",
       "    </tr>\n",
       "    <tr>\n",
       "      <th>1</th>\n",
       "      <td>63</td>\n",
       "      <td>830</td>\n",
       "      <td>Arthur St</td>\n",
       "      <td>Butcher</td>\n",
       "      <td>John H.</td>\n",
       "      <td>Boarder</td>\n",
       "      <td>B</td>\n",
       "      <td>M</td>\n",
       "      <td>27</td>\n",
       "      <td>Drayman</td>\n",
       "      <td>Null</td>\n",
       "      <td>Null</td>\n",
       "      <td>Null</td>\n",
       "      <td>Null</td>\n",
       "      <td>1900 census ED 70 page 2</td>\n",
       "      <td>1900</td>\n",
       "      <td>Unskilled</td>\n",
       "    </tr>\n",
       "    <tr>\n",
       "      <th>2</th>\n",
       "      <td>61</td>\n",
       "      <td>830</td>\n",
       "      <td>Arthur St</td>\n",
       "      <td>Olliver</td>\n",
       "      <td>Marsha</td>\n",
       "      <td>Head</td>\n",
       "      <td>B</td>\n",
       "      <td>F</td>\n",
       "      <td>25</td>\n",
       "      <td>Laundress</td>\n",
       "      <td>Rent</td>\n",
       "      <td>Null</td>\n",
       "      <td>House</td>\n",
       "      <td>Null</td>\n",
       "      <td>1900 census ED 70 page 2</td>\n",
       "      <td>1900</td>\n",
       "      <td>Unskilled</td>\n",
       "    </tr>\n",
       "    <tr>\n",
       "      <th>3</th>\n",
       "      <td>64</td>\n",
       "      <td>830</td>\n",
       "      <td>Arthur St</td>\n",
       "      <td>Spivey</td>\n",
       "      <td>Neata</td>\n",
       "      <td>Boarder</td>\n",
       "      <td>B</td>\n",
       "      <td>F</td>\n",
       "      <td>25</td>\n",
       "      <td>Servant</td>\n",
       "      <td>Null</td>\n",
       "      <td>Null</td>\n",
       "      <td>Null</td>\n",
       "      <td>Null</td>\n",
       "      <td>1900 census ED 70 page 2</td>\n",
       "      <td>1900</td>\n",
       "      <td>Unskilled</td>\n",
       "    </tr>\n",
       "    <tr>\n",
       "      <th>4</th>\n",
       "      <td>62</td>\n",
       "      <td>830</td>\n",
       "      <td>Arthur St</td>\n",
       "      <td>Wells</td>\n",
       "      <td>Ethel</td>\n",
       "      <td>Daughter</td>\n",
       "      <td>B</td>\n",
       "      <td>F</td>\n",
       "      <td>8</td>\n",
       "      <td>At School</td>\n",
       "      <td>Null</td>\n",
       "      <td>Null</td>\n",
       "      <td>Null</td>\n",
       "      <td>Null</td>\n",
       "      <td>1900 census ED 70 page 2</td>\n",
       "      <td>1900</td>\n",
       "      <td>Student</td>\n",
       "    </tr>\n",
       "  </tbody>\n",
       "</table>\n",
       "</div>"
      ],
      "text/plain": [
       "   line_number house_number street_name last_name given_name  relation  \\\n",
       "0           65          830   Arthur St     Brown      Eliza   Boarder   \n",
       "1           63          830   Arthur St   Butcher    John H.   Boarder   \n",
       "2           61          830   Arthur St   Olliver     Marsha      Head   \n",
       "3           64          830   Arthur St    Spivey      Neata   Boarder   \n",
       "4           62          830   Arthur St     Wells      Ethel  Daughter   \n",
       "\n",
       "  color_race sex age_at_last_birthday occupation own_or_rent  \\\n",
       "0          B   F                   26    Servant        Null   \n",
       "1          B   M                   27    Drayman        Null   \n",
       "2          B   F                   25  Laundress        Rent   \n",
       "3          B   F                   25    Servant        Null   \n",
       "4          B   F                    8  At School        Null   \n",
       "\n",
       "  owned_free_or_mortgage house_or_farm my_notes                 file_name  \\\n",
       "0                   Null          Null     Null  1900 census ED 70 page 2   \n",
       "1                   Null          Null     Null  1900 census ED 70 page 2   \n",
       "2                   Null         House     Null  1900 census ED 70 page 2   \n",
       "3                   Null          Null     Null  1900 census ED 70 page 2   \n",
       "4                   Null          Null     Null  1900 census ED 70 page 2   \n",
       "\n",
       "   census_year grouped_occu  \n",
       "0         1900    Unskilled  \n",
       "1         1900    Unskilled  \n",
       "2         1900    Unskilled  \n",
       "3         1900    Unskilled  \n",
       "4         1900      Student  "
      ]
     },
     "execution_count": 53,
     "metadata": {},
     "output_type": "execute_result"
    }
   ],
   "source": [
    "Census_Data = pd.read_csv('censuses.csv', index_col=None)\n",
    "Census_Data.head(5)"
   ]
  },
  {
   "cell_type": "code",
   "execution_count": 54,
   "metadata": {},
   "outputs": [
    {
     "data": {
      "text/plain": [
       "<matplotlib.axes._subplots.AxesSubplot at 0x19151d629e8>"
      ]
     },
     "execution_count": 54,
     "metadata": {},
     "output_type": "execute_result"
    },
    {
     "data": {
      "image/png": "[encoded data removed]",
      "text/plain": [
       "<Figure size 432x288 with 2 Axes>"
      ]
     },
     "metadata": {},
     "output_type": "display_data"
    }
   ],
   "source": [
    "sns.heatmap(Census_Data.isnull(),yticklabels=False,cbar=True,cmap='viridis')"
   ]
  },
  {
   "cell_type": "code",
   "execution_count": 55,
   "metadata": {},
   "outputs": [
    {
     "data": {
      "text/plain": [
       "line_number               False\n",
       "house_number               True\n",
       "street_name                True\n",
       "last_name                  True\n",
       "given_name                 True\n",
       "relation                   True\n",
       "color_race                False\n",
       "sex                       False\n",
       "age_at_last_birthday      False\n",
       "occupation                False\n",
       "own_or_rent                True\n",
       "owned_free_or_mortgage     True\n",
       "house_or_farm              True\n",
       "my_notes                   True\n",
       "file_name                  True\n",
       "census_year               False\n",
       "grouped_occu              False\n",
       "dtype: bool"
      ]
     },
     "execution_count": 55,
     "metadata": {},
     "output_type": "execute_result"
    }
   ],
   "source": [
    "Census_Data.isnull().any()"
   ]
  },
  {
   "cell_type": "code",
   "execution_count": 56,
   "metadata": {},
   "outputs": [
    {
     "data": {
      "text/plain": [
       "Index(['line_number', 'house_number', 'street_name', 'last_name', 'given_name',\n",
       "       'relation', 'color_race', 'sex', 'age_at_last_birthday', 'occupation',\n",
       "       'own_or_rent', 'owned_free_or_mortgage', 'house_or_farm', 'my_notes',\n",
       "       'file_name', 'census_year', 'grouped_occu'],\n",
       "      dtype='object')"
      ]
     },
     "execution_count": 56,
     "metadata": {},
     "output_type": "execute_result"
    }
   ],
   "source": [
    "Census_Data.columns"
   ]
  },
  {
   "cell_type": "code",
   "execution_count": 57,
   "metadata": {},
   "outputs": [],
   "source": [
    "Census_Data = Census_Data[['color_race', 'sex', 'age_at_last_birthday', 'occupation',\n",
    "       'census_year', 'grouped_occu']]"
   ]
  },
  {
   "cell_type": "code",
   "execution_count": 58,
   "metadata": {},
   "outputs": [
    {
     "data": {
      "text/plain": [
       "color_race              False\n",
       "sex                     False\n",
       "age_at_last_birthday    False\n",
       "occupation              False\n",
       "census_year             False\n",
       "grouped_occu            False\n",
       "dtype: bool"
      ]
     },
     "execution_count": 58,
     "metadata": {},
     "output_type": "execute_result"
    }
   ],
   "source": [
    "Census_Data.isnull().any()"
   ]
  },
  {
   "cell_type": "markdown",
   "metadata": {},
   "source": [
    "## Clean the Age Column"
   ]
  },
  {
   "cell_type": "code",
   "execution_count": 59,
   "metadata": {},
   "outputs": [
    {
     "data": {
      "text/plain": [
       "array(['26', '27', '25', '8', '46', '34', '19', '15', '12', '9', '21',\n",
       "       '5', '0', '2', '58', '35', '23', '18', '13', '56', '41', '20',\n",
       "       '39', '7', '24', '51', '43', '17', '14', '60', '22', '54', '48',\n",
       "       '10', '28', '30', '11', '32', '31', '29', '50', '49', '1', '63',\n",
       "       '33', '6', '64', '3', '37', '55', '36', '57', '53', '16', '87',\n",
       "       '81', '38', '4', '65', '45', '40', '76', '47', '44', '75', '42',\n",
       "       '52', '61', '68', '69', '77', '105', '59', '62', 'Null', '84',\n",
       "       '80', '5 and 0 months', '2 months', '2 and 3 month',\n",
       "       '5 and 1 month', '3 and 10 months', '11 months', '70', 'un - (80)',\n",
       "       '3 and 11 months', '9 months', '2 and 11 months', '5 months',\n",
       "       '5 and 11 months', '67', '4 and 0 months', 'Un.', '6 and 1 month',\n",
       "       '4 and 1 month', '2 and 6 months', '4 and 10 months',\n",
       "       '1 and 4 months', '1 month', '2 and 5 months', '8 months', '73',\n",
       "       '10 months', '2 and 10 months', '1 and 9 months', '4 months',\n",
       "       '2 and 3 months', '0 months', '3 and 2 months', '5 and 9 months',\n",
       "       '2 and 9 months', '3 months', '3 and 6 months', '7 and 10 month',\n",
       "       '3 and 8 months', '3 and 7 months', '71', '1 and 6 months',\n",
       "       '3 and 5 months', '66', '3 and 4 months', '1 and 11 months',\n",
       "       '3 and 3 months', '2 and 0 months', '90', '85', '1 and 0 months',\n",
       "       '2 and 4 months', '3 and 0 months', '1 and 5 months',\n",
       "       '1 and 8 months', '72', '7 months', '1 and 10 months',\n",
       "       '4 and 2 months', '2 and 2 months', '2 and 1 months',\n",
       "       '4 and 5 months', '3 and and 0 months', '3 and 1 month',\n",
       "       '2 and 8 months', '5 and 2 months', '92', '82', '4 and 7 months',\n",
       "       '4 and 9 months', '5 and 7 months', '83', '3 and 7 months ',\n",
       "       '4 and 11 months', '5 and 4 months', '1 and 1 month',\n",
       "       '3 and 1 months', '100', '78', '5 and 5 months', '5 and 8 months',\n",
       "       '3 and 9 months', '5 and 6 months', '4 and 8 months',\n",
       "       '6 and 0 months', '74', '6 months', '5 and 3 months',\n",
       "       '1 and 7 months', '2 and 4 months ', '4 and 4 months', '7 months ',\n",
       "       '1 and 2 months', '4 and 6 months', '2 and 1 month', '79',\n",
       "       '4 and 0 months ', '4 and 3 months'], dtype=object)"
      ]
     },
     "execution_count": 59,
     "metadata": {},
     "output_type": "execute_result"
    }
   ],
   "source": [
    "Census_Data['age_at_last_birthday'].unique()"
   ]
  },
  {
   "cell_type": "code",
   "execution_count": 60,
   "metadata": {},
   "outputs": [],
   "source": [
    "def age_clean(data,under_1_value = 1, pandas = 'yes'):\n",
    "    clean_age = []\n",
    "    if pandas == 'yes':\n",
    "        data_lst = data.tolist()\n",
    "    else:\n",
    "        data_lst = data\n",
    "    for datum in data_lst:\n",
    "        if 'month' in str(datum):\n",
    "            if 'and' in str(datum):\n",
    "                clean_age.append(str(datum).split(' ')[0])\n",
    "            else:\n",
    "                clean_age.append(str(under_1_value))\n",
    "        else:\n",
    "            clean_age.append(datum)\n",
    "    return clean_age"
   ]
  },
  {
   "cell_type": "code",
   "execution_count": 61,
   "metadata": {},
   "outputs": [],
   "source": [
    "dirty_age = Census_Data['age_at_last_birthday']\n",
    "#dirty_age\n",
    "clean_age = age_clean(dirty_age,under_1_value = 1, pandas = 'yes')"
   ]
  },
  {
   "cell_type": "code",
   "execution_count": 62,
   "metadata": {},
   "outputs": [],
   "source": [
    "Census_Data['Age'] = clean_age"
   ]
  },
  {
   "cell_type": "code",
   "execution_count": 63,
   "metadata": {},
   "outputs": [
    {
     "data": {
      "text/plain": [
       "array(['26', '27', '25', '8', '46', '34', '19', '15', '12', '9', '21',\n",
       "       '5', '0', '2', '58', '35', '23', '18', '13', '56', '41', '20',\n",
       "       '39', '7', '24', '51', '43', '17', '14', '60', '22', '54', '48',\n",
       "       '10', '28', '30', '11', '32', '31', '29', '50', '49', '1', '63',\n",
       "       '33', '6', '64', '3', '37', '55', '36', '57', '53', '16', '87',\n",
       "       '81', '38', '4', '65', '45', '40', '76', '47', '44', '75', '42',\n",
       "       '52', '61', '68', '69', '77', '105', '59', '62', 'Null', '84',\n",
       "       '80', '70', 'un - (80)', '67', 'Un.', '73', '71', '66', '90', '85',\n",
       "       '72', '92', '82', '83', '100', '78', '74', '79'], dtype=object)"
      ]
     },
     "execution_count": 63,
     "metadata": {},
     "output_type": "execute_result"
    }
   ],
   "source": [
    "Census_Data=Census_Data.dropna()\n",
    "Census_Data['Age'].unique()"
   ]
  },
  {
   "cell_type": "code",
   "execution_count": 64,
   "metadata": {},
   "outputs": [
    {
     "data": {
      "text/plain": [
       "(4244, 7)"
      ]
     },
     "execution_count": 64,
     "metadata": {},
     "output_type": "execute_result"
    }
   ],
   "source": [
    "Census_Data.shape"
   ]
  },
  {
   "cell_type": "code",
   "execution_count": 65,
   "metadata": {},
   "outputs": [
    {
     "name": "stdout",
     "output_type": "stream",
     "text": [
      "Empty DataFrame\n",
      "Columns: [color_race, sex, age_at_last_birthday, occupation, census_year, grouped_occu, Age]\n",
      "Index: []\n"
     ]
    }
   ],
   "source": [
    "print(Census_Data[Census_Data.isnull().any(axis=1)].head())"
   ]
  },
  {
   "cell_type": "code",
   "execution_count": 66,
   "metadata": {},
   "outputs": [],
   "source": [
    "Census_Data['Age'] = pd.to_numeric(Census_Data['Age'], errors='coerce')"
   ]
  },
  {
   "cell_type": "code",
   "execution_count": 67,
   "metadata": {},
   "outputs": [
    {
     "data": {
      "text/plain": [
       "array([ 26.,  27.,  25.,   8.,  46.,  34.,  19.,  15.,  12.,   9.,  21.,\n",
       "         5.,   0.,   2.,  58.,  35.,  23.,  18.,  13.,  56.,  41.,  20.,\n",
       "        39.,   7.,  24.,  51.,  43.,  17.,  14.,  60.,  22.,  54.,  48.,\n",
       "        10.,  28.,  30.,  11.,  32.,  31.,  29.,  50.,  49.,   1.,  63.,\n",
       "        33.,   6.,  64.,   3.,  37.,  55.,  36.,  57.,  53.,  16.,  87.,\n",
       "        81.,  38.,   4.,  65.,  45.,  40.,  76.,  47.,  44.,  75.,  42.,\n",
       "        52.,  61.,  68.,  69.,  77., 105.,  59.,  62.,  nan,  84.,  80.,\n",
       "        70.,  67.,  73.,  71.,  66.,  90.,  85.,  72.,  92.,  82.,  83.,\n",
       "       100.,  78.,  74.,  79.])"
      ]
     },
     "execution_count": 67,
     "metadata": {},
     "output_type": "execute_result"
    }
   ],
   "source": [
    "Census_Data['Age'].unique()"
   ]
  },
  {
   "cell_type": "code",
   "execution_count": 68,
   "metadata": {},
   "outputs": [
    {
     "data": {
      "text/plain": [
       "color_race              False\n",
       "sex                     False\n",
       "age_at_last_birthday    False\n",
       "occupation              False\n",
       "census_year             False\n",
       "grouped_occu            False\n",
       "Age                      True\n",
       "dtype: bool"
      ]
     },
     "execution_count": 68,
     "metadata": {},
     "output_type": "execute_result"
    }
   ],
   "source": [
    "Census_Data.isnull().any()"
   ]
  },
  {
   "cell_type": "code",
   "execution_count": 69,
   "metadata": {},
   "outputs": [],
   "source": [
    "Census_Data=Census_Data.dropna()"
   ]
  },
  {
   "cell_type": "code",
   "execution_count": 70,
   "metadata": {},
   "outputs": [
    {
     "data": {
      "text/plain": [
       "color_race              False\n",
       "sex                     False\n",
       "age_at_last_birthday    False\n",
       "occupation              False\n",
       "census_year             False\n",
       "grouped_occu            False\n",
       "Age                     False\n",
       "dtype: bool"
      ]
     },
     "execution_count": 70,
     "metadata": {},
     "output_type": "execute_result"
    }
   ],
   "source": [
    "Census_Data.isnull().any()"
   ]
  },
  {
   "cell_type": "code",
   "execution_count": 71,
   "metadata": {},
   "outputs": [
    {
     "data": {
      "text/plain": [
       "(4240, 7)"
      ]
     },
     "execution_count": 71,
     "metadata": {},
     "output_type": "execute_result"
    }
   ],
   "source": [
    "Census_Data.shape"
   ]
  },
  {
   "cell_type": "markdown",
   "metadata": {},
   "source": [
    "## Reduce the Race columns to B and W"
   ]
  },
  {
   "cell_type": "code",
   "execution_count": 72,
   "metadata": {},
   "outputs": [
    {
     "data": {
      "text/plain": [
       "array(['B', 'W', 'Mu', 'M', 'M/W', 'My', 'Jp'], dtype=object)"
      ]
     },
     "execution_count": 72,
     "metadata": {},
     "output_type": "execute_result"
    }
   ],
   "source": [
    "Census_Data['color_race'].unique()"
   ]
  },
  {
   "cell_type": "code",
   "execution_count": 73,
   "metadata": {},
   "outputs": [],
   "source": [
    "Census_Data['color_race'].replace(['Mu', 'M', 'M/W', 'My'], \"B\", inplace=True)"
   ]
  },
  {
   "cell_type": "code",
   "execution_count": 74,
   "metadata": {},
   "outputs": [
    {
     "data": {
      "text/plain": [
       "array(['B', 'W', 'Jp'], dtype=object)"
      ]
     },
     "execution_count": 74,
     "metadata": {},
     "output_type": "execute_result"
    }
   ],
   "source": [
    "Census_Data['color_race'].unique()"
   ]
  },
  {
   "cell_type": "code",
   "execution_count": 75,
   "metadata": {},
   "outputs": [
    {
     "data": {
      "text/plain": [
       "array(['B', 'W'], dtype=object)"
      ]
     },
     "execution_count": 75,
     "metadata": {},
     "output_type": "execute_result"
    }
   ],
   "source": [
    "Census_Data = Census_Data[Census_Data.color_race != 'Jp']\n",
    "Census_Data['color_race'].unique()"
   ]
  },
  {
   "cell_type": "markdown",
   "metadata": {},
   "source": [
    "## Clean the Gender column to ensure M and F only"
   ]
  },
  {
   "cell_type": "code",
   "execution_count": 76,
   "metadata": {},
   "outputs": [
    {
     "data": {
      "text/plain": [
       "array(['F', 'M', 'FM'], dtype=object)"
      ]
     },
     "execution_count": 76,
     "metadata": {},
     "output_type": "execute_result"
    }
   ],
   "source": [
    "Census_Data['sex'].unique()"
   ]
  },
  {
   "cell_type": "code",
   "execution_count": 77,
   "metadata": {},
   "outputs": [
    {
     "data": {
      "text/plain": [
       "array(['F', 'M'], dtype=object)"
      ]
     },
     "execution_count": 77,
     "metadata": {},
     "output_type": "execute_result"
    }
   ],
   "source": [
    "Census_Data = Census_Data[Census_Data.sex != 'FM']\n",
    "Census_Data['sex'].unique()"
   ]
  },
  {
   "cell_type": "code",
   "execution_count": 78,
   "metadata": {},
   "outputs": [
    {
     "data": {
      "text/plain": [
       "array([1900, 1920, 1910], dtype=int64)"
      ]
     },
     "execution_count": 78,
     "metadata": {},
     "output_type": "execute_result"
    }
   ],
   "source": [
    "Census_Data['census_year'].unique()"
   ]
  },
  {
   "cell_type": "code",
   "execution_count": 79,
   "metadata": {},
   "outputs": [
    {
     "data": {
      "text/plain": [
       "array(['Unskilled', 'Student', 'Missing Occupations', 'Skilled Labor',\n",
       "       'Skilled Professionals'], dtype=object)"
      ]
     },
     "execution_count": 79,
     "metadata": {},
     "output_type": "execute_result"
    }
   ],
   "source": [
    "Census_Data['grouped_occu'].unique()"
   ]
  },
  {
   "cell_type": "code",
   "execution_count": 80,
   "metadata": {},
   "outputs": [
    {
     "data": {
      "text/plain": [
       "(4236, 7)"
      ]
     },
     "execution_count": 80,
     "metadata": {},
     "output_type": "execute_result"
    }
   ],
   "source": [
    "Census_Data.shape"
   ]
  },
  {
   "cell_type": "code",
   "execution_count": 81,
   "metadata": {},
   "outputs": [],
   "source": [
    "Census_Data.rename(columns={'color_race': 'Race', 'sex': 'Sex', 'census_year':'Year',\n",
    "                           'grouped_occu':'Occ'}, inplace=True)"
   ]
  },
  {
   "cell_type": "code",
   "execution_count": 82,
   "metadata": {},
   "outputs": [
    {
     "data": {
      "text/html": [
       "<div>\n",
       "<style scoped>\n",
       "    .dataframe tbody tr th:only-of-type {\n",
       "        vertical-align: middle;\n",
       "    }\n",
       "\n",
       "    .dataframe tbody tr th {\n",
       "        vertical-align: top;\n",
       "    }\n",
       "\n",
       "    .dataframe thead th {\n",
       "        text-align: right;\n",
       "    }\n",
       "</style>\n",
       "<table border=\"1\" class=\"dataframe\">\n",
       "  <thead>\n",
       "    <tr style=\"text-align: right;\">\n",
       "      <th></th>\n",
       "      <th>Race</th>\n",
       "      <th>Sex</th>\n",
       "      <th>age_at_last_birthday</th>\n",
       "      <th>occupation</th>\n",
       "      <th>Year</th>\n",
       "      <th>Occ</th>\n",
       "      <th>Age</th>\n",
       "    </tr>\n",
       "  </thead>\n",
       "  <tbody>\n",
       "    <tr>\n",
       "      <th>0</th>\n",
       "      <td>B</td>\n",
       "      <td>F</td>\n",
       "      <td>26</td>\n",
       "      <td>Servant</td>\n",
       "      <td>1900</td>\n",
       "      <td>Unskilled</td>\n",
       "      <td>26.0</td>\n",
       "    </tr>\n",
       "    <tr>\n",
       "      <th>1</th>\n",
       "      <td>B</td>\n",
       "      <td>M</td>\n",
       "      <td>27</td>\n",
       "      <td>Drayman</td>\n",
       "      <td>1900</td>\n",
       "      <td>Unskilled</td>\n",
       "      <td>27.0</td>\n",
       "    </tr>\n",
       "    <tr>\n",
       "      <th>2</th>\n",
       "      <td>B</td>\n",
       "      <td>F</td>\n",
       "      <td>25</td>\n",
       "      <td>Laundress</td>\n",
       "      <td>1900</td>\n",
       "      <td>Unskilled</td>\n",
       "      <td>25.0</td>\n",
       "    </tr>\n",
       "    <tr>\n",
       "      <th>3</th>\n",
       "      <td>B</td>\n",
       "      <td>F</td>\n",
       "      <td>25</td>\n",
       "      <td>Servant</td>\n",
       "      <td>1900</td>\n",
       "      <td>Unskilled</td>\n",
       "      <td>25.0</td>\n",
       "    </tr>\n",
       "    <tr>\n",
       "      <th>4</th>\n",
       "      <td>B</td>\n",
       "      <td>F</td>\n",
       "      <td>8</td>\n",
       "      <td>At School</td>\n",
       "      <td>1900</td>\n",
       "      <td>Student</td>\n",
       "      <td>8.0</td>\n",
       "    </tr>\n",
       "    <tr>\n",
       "      <th>5</th>\n",
       "      <td>B</td>\n",
       "      <td>M</td>\n",
       "      <td>46</td>\n",
       "      <td>Day Laborer</td>\n",
       "      <td>1900</td>\n",
       "      <td>Unskilled</td>\n",
       "      <td>46.0</td>\n",
       "    </tr>\n",
       "    <tr>\n",
       "      <th>6</th>\n",
       "      <td>B</td>\n",
       "      <td>F</td>\n",
       "      <td>34</td>\n",
       "      <td>Null</td>\n",
       "      <td>1900</td>\n",
       "      <td>Missing Occupations</td>\n",
       "      <td>34.0</td>\n",
       "    </tr>\n",
       "    <tr>\n",
       "      <th>7</th>\n",
       "      <td>B</td>\n",
       "      <td>M</td>\n",
       "      <td>19</td>\n",
       "      <td>Drayman</td>\n",
       "      <td>1900</td>\n",
       "      <td>Unskilled</td>\n",
       "      <td>19.0</td>\n",
       "    </tr>\n",
       "    <tr>\n",
       "      <th>8</th>\n",
       "      <td>B</td>\n",
       "      <td>F</td>\n",
       "      <td>15</td>\n",
       "      <td>Null</td>\n",
       "      <td>1900</td>\n",
       "      <td>Missing Occupations</td>\n",
       "      <td>15.0</td>\n",
       "    </tr>\n",
       "    <tr>\n",
       "      <th>9</th>\n",
       "      <td>B</td>\n",
       "      <td>M</td>\n",
       "      <td>12</td>\n",
       "      <td>At School</td>\n",
       "      <td>1900</td>\n",
       "      <td>Student</td>\n",
       "      <td>12.0</td>\n",
       "    </tr>\n",
       "  </tbody>\n",
       "</table>\n",
       "</div>"
      ],
      "text/plain": [
       "  Race Sex age_at_last_birthday   occupation  Year                  Occ   Age\n",
       "0    B   F                   26      Servant  1900            Unskilled  26.0\n",
       "1    B   M                   27      Drayman  1900            Unskilled  27.0\n",
       "2    B   F                   25    Laundress  1900            Unskilled  25.0\n",
       "3    B   F                   25      Servant  1900            Unskilled  25.0\n",
       "4    B   F                    8    At School  1900              Student   8.0\n",
       "5    B   M                   46  Day Laborer  1900            Unskilled  46.0\n",
       "6    B   F                   34         Null  1900  Missing Occupations  34.0\n",
       "7    B   M                   19      Drayman  1900            Unskilled  19.0\n",
       "8    B   F                   15         Null  1900  Missing Occupations  15.0\n",
       "9    B   M                   12    At School  1900              Student  12.0"
      ]
     },
     "execution_count": 82,
     "metadata": {},
     "output_type": "execute_result"
    }
   ],
   "source": [
    "Census_Data.head(10)"
   ]
  },
  {
   "cell_type": "code",
   "execution_count": 83,
   "metadata": {},
   "outputs": [
    {
     "data": {
      "text/html": [
       "<div>\n",
       "<style scoped>\n",
       "    .dataframe tbody tr th:only-of-type {\n",
       "        vertical-align: middle;\n",
       "    }\n",
       "\n",
       "    .dataframe tbody tr th {\n",
       "        vertical-align: top;\n",
       "    }\n",
       "\n",
       "    .dataframe thead th {\n",
       "        text-align: right;\n",
       "    }\n",
       "</style>\n",
       "<table border=\"1\" class=\"dataframe\">\n",
       "  <thead>\n",
       "    <tr style=\"text-align: right;\">\n",
       "      <th></th>\n",
       "      <th>Race</th>\n",
       "      <th>Sex</th>\n",
       "      <th>occupation</th>\n",
       "      <th>Year</th>\n",
       "      <th>Occ</th>\n",
       "      <th>Age</th>\n",
       "    </tr>\n",
       "  </thead>\n",
       "  <tbody>\n",
       "    <tr>\n",
       "      <th>0</th>\n",
       "      <td>B</td>\n",
       "      <td>F</td>\n",
       "      <td>Servant</td>\n",
       "      <td>1900</td>\n",
       "      <td>Unskilled</td>\n",
       "      <td>26.0</td>\n",
       "    </tr>\n",
       "    <tr>\n",
       "      <th>1</th>\n",
       "      <td>B</td>\n",
       "      <td>M</td>\n",
       "      <td>Drayman</td>\n",
       "      <td>1900</td>\n",
       "      <td>Unskilled</td>\n",
       "      <td>27.0</td>\n",
       "    </tr>\n",
       "    <tr>\n",
       "      <th>2</th>\n",
       "      <td>B</td>\n",
       "      <td>F</td>\n",
       "      <td>Laundress</td>\n",
       "      <td>1900</td>\n",
       "      <td>Unskilled</td>\n",
       "      <td>25.0</td>\n",
       "    </tr>\n",
       "    <tr>\n",
       "      <th>3</th>\n",
       "      <td>B</td>\n",
       "      <td>F</td>\n",
       "      <td>Servant</td>\n",
       "      <td>1900</td>\n",
       "      <td>Unskilled</td>\n",
       "      <td>25.0</td>\n",
       "    </tr>\n",
       "    <tr>\n",
       "      <th>4</th>\n",
       "      <td>B</td>\n",
       "      <td>F</td>\n",
       "      <td>At School</td>\n",
       "      <td>1900</td>\n",
       "      <td>Student</td>\n",
       "      <td>8.0</td>\n",
       "    </tr>\n",
       "  </tbody>\n",
       "</table>\n",
       "</div>"
      ],
      "text/plain": [
       "  Race Sex occupation  Year        Occ   Age\n",
       "0    B   F    Servant  1900  Unskilled  26.0\n",
       "1    B   M    Drayman  1900  Unskilled  27.0\n",
       "2    B   F  Laundress  1900  Unskilled  25.0\n",
       "3    B   F    Servant  1900  Unskilled  25.0\n",
       "4    B   F  At School  1900    Student   8.0"
      ]
     },
     "execution_count": 83,
     "metadata": {},
     "output_type": "execute_result"
    }
   ],
   "source": [
    "del Census_Data['age_at_last_birthday']\n",
    "Census_Data.head(5)"
   ]
  },
  {
   "cell_type": "code",
   "execution_count": 84,
   "metadata": {},
   "outputs": [
    {
     "data": {
      "text/plain": [
       "(4236, 6)"
      ]
     },
     "execution_count": 84,
     "metadata": {},
     "output_type": "execute_result"
    }
   ],
   "source": [
    "Census_Data.shape"
   ]
  },
  {
   "cell_type": "markdown",
   "metadata": {},
   "source": [
    "## IF AGE <=14 AND OCC =\"MISSING OCCUPATIONS\" THEN OCC = 'STUDENT'"
   ]
  },
  {
   "cell_type": "code",
   "execution_count": 85,
   "metadata": {},
   "outputs": [],
   "source": [
    "Census_Data.loc[ (Census_Data.Age <= 14) & (Census_Data.Occ =='Missing Occupations'),'Occ'] = 'Student'"
   ]
  },
  {
   "cell_type": "code",
   "execution_count": 86,
   "metadata": {},
   "outputs": [
    {
     "data": {
      "text/plain": [
       "(4236, 6)"
      ]
     },
     "execution_count": 86,
     "metadata": {},
     "output_type": "execute_result"
    }
   ],
   "source": [
    "Census_Data.shape"
   ]
  },
  {
   "cell_type": "markdown",
   "metadata": {},
   "source": [
    "## Remove 'Missing Occupations'"
   ]
  },
  {
   "cell_type": "code",
   "execution_count": 87,
   "metadata": {},
   "outputs": [],
   "source": [
    "Census_Data = Census_Data[Census_Data.Occ != 'Missing Occupations']"
   ]
  },
  {
   "cell_type": "code",
   "execution_count": 88,
   "metadata": {},
   "outputs": [
    {
     "data": {
      "text/plain": [
       "(3625, 6)"
      ]
     },
     "execution_count": 88,
     "metadata": {},
     "output_type": "execute_result"
    }
   ],
   "source": [
    "Census_Data.shape"
   ]
  },
  {
   "cell_type": "code",
   "execution_count": 89,
   "metadata": {},
   "outputs": [
    {
     "data": {
      "text/html": [
       "<div>\n",
       "<style scoped>\n",
       "    .dataframe tbody tr th:only-of-type {\n",
       "        vertical-align: middle;\n",
       "    }\n",
       "\n",
       "    .dataframe tbody tr th {\n",
       "        vertical-align: top;\n",
       "    }\n",
       "\n",
       "    .dataframe thead th {\n",
       "        text-align: right;\n",
       "    }\n",
       "</style>\n",
       "<table border=\"1\" class=\"dataframe\">\n",
       "  <thead>\n",
       "    <tr style=\"text-align: right;\">\n",
       "      <th></th>\n",
       "      <th>Race</th>\n",
       "      <th>Sex</th>\n",
       "      <th>occupation</th>\n",
       "      <th>Year</th>\n",
       "      <th>Occ</th>\n",
       "      <th>Age</th>\n",
       "    </tr>\n",
       "  </thead>\n",
       "  <tbody>\n",
       "    <tr>\n",
       "      <th>0</th>\n",
       "      <td>B</td>\n",
       "      <td>F</td>\n",
       "      <td>Servant</td>\n",
       "      <td>1900</td>\n",
       "      <td>Unskilled</td>\n",
       "      <td>26.0</td>\n",
       "    </tr>\n",
       "    <tr>\n",
       "      <th>1</th>\n",
       "      <td>B</td>\n",
       "      <td>M</td>\n",
       "      <td>Drayman</td>\n",
       "      <td>1900</td>\n",
       "      <td>Unskilled</td>\n",
       "      <td>27.0</td>\n",
       "    </tr>\n",
       "    <tr>\n",
       "      <th>2</th>\n",
       "      <td>B</td>\n",
       "      <td>F</td>\n",
       "      <td>Laundress</td>\n",
       "      <td>1900</td>\n",
       "      <td>Unskilled</td>\n",
       "      <td>25.0</td>\n",
       "    </tr>\n",
       "    <tr>\n",
       "      <th>3</th>\n",
       "      <td>B</td>\n",
       "      <td>F</td>\n",
       "      <td>Servant</td>\n",
       "      <td>1900</td>\n",
       "      <td>Unskilled</td>\n",
       "      <td>25.0</td>\n",
       "    </tr>\n",
       "    <tr>\n",
       "      <th>4</th>\n",
       "      <td>B</td>\n",
       "      <td>F</td>\n",
       "      <td>At School</td>\n",
       "      <td>1900</td>\n",
       "      <td>Student</td>\n",
       "      <td>8.0</td>\n",
       "    </tr>\n",
       "  </tbody>\n",
       "</table>\n",
       "</div>"
      ],
      "text/plain": [
       "  Race Sex occupation  Year        Occ   Age\n",
       "0    B   F    Servant  1900  Unskilled  26.0\n",
       "1    B   M    Drayman  1900  Unskilled  27.0\n",
       "2    B   F  Laundress  1900  Unskilled  25.0\n",
       "3    B   F    Servant  1900  Unskilled  25.0\n",
       "4    B   F  At School  1900    Student   8.0"
      ]
     },
     "execution_count": 89,
     "metadata": {},
     "output_type": "execute_result"
    }
   ],
   "source": [
    "Census_Data.head(5)"
   ]
  },
  {
   "cell_type": "code",
   "execution_count": 90,
   "metadata": {},
   "outputs": [
    {
     "data": {
      "image/png": "[encoded data removed]",
      "text/plain": [
       "<Figure size 432x288 with 1 Axes>"
      ]
     },
     "metadata": {},
     "output_type": "display_data"
    }
   ],
   "source": [
    "sns.countplot(x = 'Race',data=Census_Data)\n",
    "plt.show()"
   ]
  },
  {
   "cell_type": "code",
   "execution_count": 91,
   "metadata": {},
   "outputs": [
    {
     "data": {
      "text/plain": [
       "<matplotlib.axes._subplots.AxesSubplot at 0x19151cb1128>"
      ]
     },
     "execution_count": 91,
     "metadata": {},
     "output_type": "execute_result"
    },
    {
     "data": {
      "image/png": "[encoded data removed]",
      "text/plain": [
       "<Figure size 432x288 with 1 Axes>"
      ]
     },
     "metadata": {},
     "output_type": "display_data"
    }
   ],
   "source": [
    "sns.countplot(x='Year',hue='Race',data=Census_Data,palette='RdBu_r')"
   ]
  },
  {
   "cell_type": "code",
   "execution_count": 92,
   "metadata": {},
   "outputs": [
    {
     "data": {
      "image/png": "[encoded data removed]",
      "text/plain": [
       "<Figure size 432x288 with 1 Axes>"
      ]
     },
     "metadata": {},
     "output_type": "display_data"
    }
   ],
   "source": [
    "sns.countplot(x = 'Age',data=Census_Data)\n",
    "plt.show()\n",
    "\n"
   ]
  },
  {
   "cell_type": "code",
   "execution_count": 93,
   "metadata": {},
   "outputs": [
    {
     "data": {
      "text/plain": [
       "<matplotlib.axes._subplots.AxesSubplot at 0x19151bf1240>"
      ]
     },
     "execution_count": 93,
     "metadata": {},
     "output_type": "execute_result"
    },
    {
     "data": {
      "image/png": "[encoded data removed]",
      "text/plain": [
       "<Figure size 432x288 with 1 Axes>"
      ]
     },
     "metadata": {},
     "output_type": "display_data"
    }
   ],
   "source": [
    "Census_Data['Age'].hist(bins=25,color='darkred',alpha=0.7)"
   ]
  },
  {
   "cell_type": "code",
   "execution_count": 94,
   "metadata": {},
   "outputs": [
    {
     "data": {
      "image/png": "[encoded data removed]",
      "text/plain": [
       "<Figure size 432x288 with 1 Axes>"
      ]
     },
     "metadata": {},
     "output_type": "display_data"
    }
   ],
   "source": [
    "sns.countplot(x = 'Sex',data=Census_Data)\n",
    "plt.show()"
   ]
  },
  {
   "cell_type": "code",
   "execution_count": 95,
   "metadata": {},
   "outputs": [
    {
     "data": {
      "image/png": "[encoded data removed]",
      "text/plain": [
       "<Figure size 432x288 with 1 Axes>"
      ]
     },
     "metadata": {},
     "output_type": "display_data"
    }
   ],
   "source": [
    "sns.countplot(x = 'Year',data=Census_Data)\n",
    "plt.show()"
   ]
  },
  {
   "cell_type": "markdown",
   "metadata": {},
   "source": [
    "## Group the Age column into Age Groups"
   ]
  },
  {
   "cell_type": "code",
   "execution_count": 96,
   "metadata": {},
   "outputs": [],
   "source": [
    "age_ranges= [0,15,55,110]\n",
    "age_labels = ['0-15','16-55','Above-56']\n",
    "Census_Data['Age'] = pd.cut(Census_Data['Age'], bins=age_ranges, labels=age_labels)"
   ]
  },
  {
   "cell_type": "code",
   "execution_count": 97,
   "metadata": {},
   "outputs": [
    {
     "data": {
      "text/html": [
       "<div>\n",
       "<style scoped>\n",
       "    .dataframe tbody tr th:only-of-type {\n",
       "        vertical-align: middle;\n",
       "    }\n",
       "\n",
       "    .dataframe tbody tr th {\n",
       "        vertical-align: top;\n",
       "    }\n",
       "\n",
       "    .dataframe thead th {\n",
       "        text-align: right;\n",
       "    }\n",
       "</style>\n",
       "<table border=\"1\" class=\"dataframe\">\n",
       "  <thead>\n",
       "    <tr style=\"text-align: right;\">\n",
       "      <th></th>\n",
       "      <th>Race</th>\n",
       "      <th>Sex</th>\n",
       "      <th>occupation</th>\n",
       "      <th>Year</th>\n",
       "      <th>Occ</th>\n",
       "      <th>Age</th>\n",
       "    </tr>\n",
       "  </thead>\n",
       "  <tbody>\n",
       "    <tr>\n",
       "      <th>0</th>\n",
       "      <td>B</td>\n",
       "      <td>F</td>\n",
       "      <td>Servant</td>\n",
       "      <td>1900</td>\n",
       "      <td>Unskilled</td>\n",
       "      <td>16-55</td>\n",
       "    </tr>\n",
       "    <tr>\n",
       "      <th>1</th>\n",
       "      <td>B</td>\n",
       "      <td>M</td>\n",
       "      <td>Drayman</td>\n",
       "      <td>1900</td>\n",
       "      <td>Unskilled</td>\n",
       "      <td>16-55</td>\n",
       "    </tr>\n",
       "    <tr>\n",
       "      <th>2</th>\n",
       "      <td>B</td>\n",
       "      <td>F</td>\n",
       "      <td>Laundress</td>\n",
       "      <td>1900</td>\n",
       "      <td>Unskilled</td>\n",
       "      <td>16-55</td>\n",
       "    </tr>\n",
       "    <tr>\n",
       "      <th>3</th>\n",
       "      <td>B</td>\n",
       "      <td>F</td>\n",
       "      <td>Servant</td>\n",
       "      <td>1900</td>\n",
       "      <td>Unskilled</td>\n",
       "      <td>16-55</td>\n",
       "    </tr>\n",
       "    <tr>\n",
       "      <th>4</th>\n",
       "      <td>B</td>\n",
       "      <td>F</td>\n",
       "      <td>At School</td>\n",
       "      <td>1900</td>\n",
       "      <td>Student</td>\n",
       "      <td>0-15</td>\n",
       "    </tr>\n",
       "  </tbody>\n",
       "</table>\n",
       "</div>"
      ],
      "text/plain": [
       "  Race Sex occupation  Year        Occ    Age\n",
       "0    B   F    Servant  1900  Unskilled  16-55\n",
       "1    B   M    Drayman  1900  Unskilled  16-55\n",
       "2    B   F  Laundress  1900  Unskilled  16-55\n",
       "3    B   F    Servant  1900  Unskilled  16-55\n",
       "4    B   F  At School  1900    Student   0-15"
      ]
     },
     "execution_count": 97,
     "metadata": {},
     "output_type": "execute_result"
    }
   ],
   "source": [
    "Census_Data.head(5)"
   ]
  },
  {
   "cell_type": "code",
   "execution_count": 98,
   "metadata": {},
   "outputs": [
    {
     "data": {
      "text/plain": [
       "<matplotlib.axes._subplots.AxesSubplot at 0x19152522b70>"
      ]
     },
     "execution_count": 98,
     "metadata": {},
     "output_type": "execute_result"
    },
    {
     "data": {
      "image/png": "[encoded data removed]",
      "text/plain": [
       "<Figure size 432x288 with 1 Axes>"
      ]
     },
     "metadata": {},
     "output_type": "display_data"
    }
   ],
   "source": [
    "sns.countplot(x='Occ',hue='Race',data=Census_Data) #,palette='RdBu_r')"
   ]
  },
  {
   "cell_type": "code",
   "execution_count": 99,
   "metadata": {},
   "outputs": [
    {
     "data": {
      "text/plain": [
       "<matplotlib.axes._subplots.AxesSubplot at 0x19152389438>"
      ]
     },
     "execution_count": 99,
     "metadata": {},
     "output_type": "execute_result"
    },
    {
     "data": {
      "image/png": "[encoded data removed]",
      "text/plain": [
       "<Figure size 432x288 with 1 Axes>"
      ]
     },
     "metadata": {},
     "output_type": "display_data"
    }
   ],
   "source": [
    "sns.countplot(x='Year',hue='Occ',data=Census_Data)"
   ]
  },
  {
   "cell_type": "code",
   "execution_count": 100,
   "metadata": {},
   "outputs": [
    {
     "data": {
      "image/png": "[encoded data removed]",
      "text/plain": [
       "<Figure size 432x288 with 1 Axes>"
      ]
     },
     "metadata": {},
     "output_type": "display_data"
    }
   ],
   "source": [
    "sns.countplot(x = 'Occ',hue='Age',data=Census_Data)\n",
    "plt.show()"
   ]
  },
  {
   "cell_type": "code",
   "execution_count": 102,
   "metadata": {},
   "outputs": [
    {
     "data": {
      "image/png": "[encoded data removed]",
      "text/plain": [
       "<Figure size 432x288 with 1 Axes>"
      ]
     },
     "metadata": {},
     "output_type": "display_data"
    }
   ],
   "source": [
    "sns.countplot(x = 'Occ',hue='Sex',data=Census_Data)\n",
    "plt.show()"
   ]
  },
  {
   "cell_type": "markdown",
   "metadata": {},
   "source": [
    "## Hot encode the Race, Sex, Year and Age columns"
   ]
  },
  {
   "cell_type": "code",
   "execution_count": 103,
   "metadata": {},
   "outputs": [
    {
     "data": {
      "text/plain": [
       "Index(['occupation', 'Occ', 'Race_B', 'Race_W', 'Sex_F', 'Sex_M', 'Year_1900',\n",
       "       'Year_1910', 'Year_1920', 'Age_0-15', 'Age_16-55', 'Age_Above-56'],\n",
       "      dtype='object')"
      ]
     },
     "execution_count": 103,
     "metadata": {},
     "output_type": "execute_result"
    }
   ],
   "source": [
    "data2 = pd.get_dummies(Census_Data, columns =['Race','Sex', 'Year','Age'])\n",
    "data2.columns"
   ]
  },
  {
   "cell_type": "code",
   "execution_count": 104,
   "metadata": {},
   "outputs": [
    {
     "data": {
      "text/html": [
       "<div>\n",
       "<style scoped>\n",
       "    .dataframe tbody tr th:only-of-type {\n",
       "        vertical-align: middle;\n",
       "    }\n",
       "\n",
       "    .dataframe tbody tr th {\n",
       "        vertical-align: top;\n",
       "    }\n",
       "\n",
       "    .dataframe thead th {\n",
       "        text-align: right;\n",
       "    }\n",
       "</style>\n",
       "<table border=\"1\" class=\"dataframe\">\n",
       "  <thead>\n",
       "    <tr style=\"text-align: right;\">\n",
       "      <th></th>\n",
       "      <th>occupation</th>\n",
       "      <th>Occ</th>\n",
       "      <th>Race_B</th>\n",
       "      <th>Race_W</th>\n",
       "      <th>Sex_F</th>\n",
       "      <th>Sex_M</th>\n",
       "      <th>Year_1900</th>\n",
       "      <th>Year_1910</th>\n",
       "      <th>Year_1920</th>\n",
       "      <th>Age_0-15</th>\n",
       "      <th>Age_16-55</th>\n",
       "      <th>Age_Above-56</th>\n",
       "    </tr>\n",
       "  </thead>\n",
       "  <tbody>\n",
       "    <tr>\n",
       "      <th>0</th>\n",
       "      <td>Servant</td>\n",
       "      <td>Unskilled</td>\n",
       "      <td>1</td>\n",
       "      <td>0</td>\n",
       "      <td>1</td>\n",
       "      <td>0</td>\n",
       "      <td>1</td>\n",
       "      <td>0</td>\n",
       "      <td>0</td>\n",
       "      <td>0</td>\n",
       "      <td>1</td>\n",
       "      <td>0</td>\n",
       "    </tr>\n",
       "    <tr>\n",
       "      <th>1</th>\n",
       "      <td>Drayman</td>\n",
       "      <td>Unskilled</td>\n",
       "      <td>1</td>\n",
       "      <td>0</td>\n",
       "      <td>0</td>\n",
       "      <td>1</td>\n",
       "      <td>1</td>\n",
       "      <td>0</td>\n",
       "      <td>0</td>\n",
       "      <td>0</td>\n",
       "      <td>1</td>\n",
       "      <td>0</td>\n",
       "    </tr>\n",
       "    <tr>\n",
       "      <th>2</th>\n",
       "      <td>Laundress</td>\n",
       "      <td>Unskilled</td>\n",
       "      <td>1</td>\n",
       "      <td>0</td>\n",
       "      <td>1</td>\n",
       "      <td>0</td>\n",
       "      <td>1</td>\n",
       "      <td>0</td>\n",
       "      <td>0</td>\n",
       "      <td>0</td>\n",
       "      <td>1</td>\n",
       "      <td>0</td>\n",
       "    </tr>\n",
       "    <tr>\n",
       "      <th>3</th>\n",
       "      <td>Servant</td>\n",
       "      <td>Unskilled</td>\n",
       "      <td>1</td>\n",
       "      <td>0</td>\n",
       "      <td>1</td>\n",
       "      <td>0</td>\n",
       "      <td>1</td>\n",
       "      <td>0</td>\n",
       "      <td>0</td>\n",
       "      <td>0</td>\n",
       "      <td>1</td>\n",
       "      <td>0</td>\n",
       "    </tr>\n",
       "    <tr>\n",
       "      <th>4</th>\n",
       "      <td>At School</td>\n",
       "      <td>Student</td>\n",
       "      <td>1</td>\n",
       "      <td>0</td>\n",
       "      <td>1</td>\n",
       "      <td>0</td>\n",
       "      <td>1</td>\n",
       "      <td>0</td>\n",
       "      <td>0</td>\n",
       "      <td>1</td>\n",
       "      <td>0</td>\n",
       "      <td>0</td>\n",
       "    </tr>\n",
       "  </tbody>\n",
       "</table>\n",
       "</div>"
      ],
      "text/plain": [
       "  occupation        Occ  Race_B  Race_W  Sex_F  Sex_M  Year_1900  Year_1910  \\\n",
       "0    Servant  Unskilled       1       0      1      0          1          0   \n",
       "1    Drayman  Unskilled       1       0      0      1          1          0   \n",
       "2  Laundress  Unskilled       1       0      1      0          1          0   \n",
       "3    Servant  Unskilled       1       0      1      0          1          0   \n",
       "4  At School    Student       1       0      1      0          1          0   \n",
       "\n",
       "   Year_1920  Age_0-15  Age_16-55  Age_Above-56  \n",
       "0          0         0          1             0  \n",
       "1          0         0          1             0  \n",
       "2          0         0          1             0  \n",
       "3          0         0          1             0  \n",
       "4          0         1          0             0  "
      ]
     },
     "execution_count": 104,
     "metadata": {},
     "output_type": "execute_result"
    }
   ],
   "source": [
    "data2.head()"
   ]
  },
  {
   "cell_type": "code",
   "execution_count": 105,
   "metadata": {},
   "outputs": [
    {
     "data": {
      "text/plain": [
       "Occ             object\n",
       "Race_B           uint8\n",
       "Race_W           uint8\n",
       "Sex_F            uint8\n",
       "Sex_M            uint8\n",
       "Year_1900        uint8\n",
       "Year_1910        uint8\n",
       "Year_1920        uint8\n",
       "Age_0-15         uint8\n",
       "Age_16-55        uint8\n",
       "Age_Above-56     uint8\n",
       "dtype: object"
      ]
     },
     "execution_count": 105,
     "metadata": {},
     "output_type": "execute_result"
    }
   ],
   "source": [
    "del data2['occupation']\n",
    "data2 = data2.apply(pd.to_numeric, errors='ignore')\n",
    "data2.dtypes"
   ]
  },
  {
   "cell_type": "code",
   "execution_count": 106,
   "metadata": {},
   "outputs": [
    {
     "data": {
      "text/plain": [
       "(3625, 11)"
      ]
     },
     "execution_count": 106,
     "metadata": {},
     "output_type": "execute_result"
    }
   ],
   "source": [
    "data2.shape"
   ]
  },
  {
   "cell_type": "markdown",
   "metadata": {},
   "source": [
    "## data2 dataframe"
   ]
  },
  {
   "cell_type": "code",
   "execution_count": 107,
   "metadata": {},
   "outputs": [
    {
     "data": {
      "text/html": [
       "<div>\n",
       "<style scoped>\n",
       "    .dataframe tbody tr th:only-of-type {\n",
       "        vertical-align: middle;\n",
       "    }\n",
       "\n",
       "    .dataframe tbody tr th {\n",
       "        vertical-align: top;\n",
       "    }\n",
       "\n",
       "    .dataframe thead th {\n",
       "        text-align: right;\n",
       "    }\n",
       "</style>\n",
       "<table border=\"1\" class=\"dataframe\">\n",
       "  <thead>\n",
       "    <tr style=\"text-align: right;\">\n",
       "      <th></th>\n",
       "      <th>Occ</th>\n",
       "      <th>Race_B</th>\n",
       "      <th>Race_W</th>\n",
       "      <th>Sex_F</th>\n",
       "      <th>Sex_M</th>\n",
       "      <th>Year_1900</th>\n",
       "      <th>Year_1910</th>\n",
       "      <th>Year_1920</th>\n",
       "      <th>Age_0-15</th>\n",
       "      <th>Age_16-55</th>\n",
       "      <th>Age_Above-56</th>\n",
       "    </tr>\n",
       "  </thead>\n",
       "  <tbody>\n",
       "    <tr>\n",
       "      <th>0</th>\n",
       "      <td>Unskilled</td>\n",
       "      <td>1</td>\n",
       "      <td>0</td>\n",
       "      <td>1</td>\n",
       "      <td>0</td>\n",
       "      <td>1</td>\n",
       "      <td>0</td>\n",
       "      <td>0</td>\n",
       "      <td>0</td>\n",
       "      <td>1</td>\n",
       "      <td>0</td>\n",
       "    </tr>\n",
       "    <tr>\n",
       "      <th>1</th>\n",
       "      <td>Unskilled</td>\n",
       "      <td>1</td>\n",
       "      <td>0</td>\n",
       "      <td>0</td>\n",
       "      <td>1</td>\n",
       "      <td>1</td>\n",
       "      <td>0</td>\n",
       "      <td>0</td>\n",
       "      <td>0</td>\n",
       "      <td>1</td>\n",
       "      <td>0</td>\n",
       "    </tr>\n",
       "    <tr>\n",
       "      <th>2</th>\n",
       "      <td>Unskilled</td>\n",
       "      <td>1</td>\n",
       "      <td>0</td>\n",
       "      <td>1</td>\n",
       "      <td>0</td>\n",
       "      <td>1</td>\n",
       "      <td>0</td>\n",
       "      <td>0</td>\n",
       "      <td>0</td>\n",
       "      <td>1</td>\n",
       "      <td>0</td>\n",
       "    </tr>\n",
       "    <tr>\n",
       "      <th>3</th>\n",
       "      <td>Unskilled</td>\n",
       "      <td>1</td>\n",
       "      <td>0</td>\n",
       "      <td>1</td>\n",
       "      <td>0</td>\n",
       "      <td>1</td>\n",
       "      <td>0</td>\n",
       "      <td>0</td>\n",
       "      <td>0</td>\n",
       "      <td>1</td>\n",
       "      <td>0</td>\n",
       "    </tr>\n",
       "    <tr>\n",
       "      <th>4</th>\n",
       "      <td>Student</td>\n",
       "      <td>1</td>\n",
       "      <td>0</td>\n",
       "      <td>1</td>\n",
       "      <td>0</td>\n",
       "      <td>1</td>\n",
       "      <td>0</td>\n",
       "      <td>0</td>\n",
       "      <td>1</td>\n",
       "      <td>0</td>\n",
       "      <td>0</td>\n",
       "    </tr>\n",
       "  </tbody>\n",
       "</table>\n",
       "</div>"
      ],
      "text/plain": [
       "         Occ  Race_B  Race_W  Sex_F  Sex_M  Year_1900  Year_1910  Year_1920  \\\n",
       "0  Unskilled       1       0      1      0          1          0          0   \n",
       "1  Unskilled       1       0      0      1          1          0          0   \n",
       "2  Unskilled       1       0      1      0          1          0          0   \n",
       "3  Unskilled       1       0      1      0          1          0          0   \n",
       "4    Student       1       0      1      0          1          0          0   \n",
       "\n",
       "   Age_0-15  Age_16-55  Age_Above-56  \n",
       "0         0          1             0  \n",
       "1         0          1             0  \n",
       "2         0          1             0  \n",
       "3         0          1             0  \n",
       "4         1          0             0  "
      ]
     },
     "execution_count": 107,
     "metadata": {},
     "output_type": "execute_result"
    }
   ],
   "source": [
    "data2.head()"
   ]
  },
  {
   "cell_type": "code",
   "execution_count": 108,
   "metadata": {},
   "outputs": [],
   "source": [
    "data3 = data2.copy()\n",
    "data3['Occ'][data3['Occ']=='Unskilled']=0\n",
    "data3['Occ'][data3['Occ']=='Skilled Labor']=1\n",
    "data3['Occ'][data3['Occ']=='Skilled Professionals']=2\n",
    "data3['Occ'][data3['Occ']=='Student']=3"
   ]
  },
  {
   "cell_type": "markdown",
   "metadata": {},
   "source": [
    "## data3 dataframe has Occ coded with 0,1,2,3:\n",
    "[data3['Occ']=='Unskilled']=0\n",
    "[data3['Occ']=='Skilled Labor']=1\n",
    "[data3['Occ']=='Skilled Professionals']=2\n",
    "[data3['Occ']=='Student']=3"
   ]
  },
  {
   "cell_type": "code",
   "execution_count": 109,
   "metadata": {},
   "outputs": [
    {
     "data": {
      "text/html": [
       "<div>\n",
       "<style scoped>\n",
       "    .dataframe tbody tr th:only-of-type {\n",
       "        vertical-align: middle;\n",
       "    }\n",
       "\n",
       "    .dataframe tbody tr th {\n",
       "        vertical-align: top;\n",
       "    }\n",
       "\n",
       "    .dataframe thead th {\n",
       "        text-align: right;\n",
       "    }\n",
       "</style>\n",
       "<table border=\"1\" class=\"dataframe\">\n",
       "  <thead>\n",
       "    <tr style=\"text-align: right;\">\n",
       "      <th></th>\n",
       "      <th>Occ</th>\n",
       "      <th>Race_B</th>\n",
       "      <th>Race_W</th>\n",
       "      <th>Sex_F</th>\n",
       "      <th>Sex_M</th>\n",
       "      <th>Year_1900</th>\n",
       "      <th>Year_1910</th>\n",
       "      <th>Year_1920</th>\n",
       "      <th>Age_0-15</th>\n",
       "      <th>Age_16-55</th>\n",
       "      <th>Age_Above-56</th>\n",
       "    </tr>\n",
       "  </thead>\n",
       "  <tbody>\n",
       "    <tr>\n",
       "      <th>0</th>\n",
       "      <td>0</td>\n",
       "      <td>1</td>\n",
       "      <td>0</td>\n",
       "      <td>1</td>\n",
       "      <td>0</td>\n",
       "      <td>1</td>\n",
       "      <td>0</td>\n",
       "      <td>0</td>\n",
       "      <td>0</td>\n",
       "      <td>1</td>\n",
       "      <td>0</td>\n",
       "    </tr>\n",
       "    <tr>\n",
       "      <th>1</th>\n",
       "      <td>0</td>\n",
       "      <td>1</td>\n",
       "      <td>0</td>\n",
       "      <td>0</td>\n",
       "      <td>1</td>\n",
       "      <td>1</td>\n",
       "      <td>0</td>\n",
       "      <td>0</td>\n",
       "      <td>0</td>\n",
       "      <td>1</td>\n",
       "      <td>0</td>\n",
       "    </tr>\n",
       "    <tr>\n",
       "      <th>2</th>\n",
       "      <td>0</td>\n",
       "      <td>1</td>\n",
       "      <td>0</td>\n",
       "      <td>1</td>\n",
       "      <td>0</td>\n",
       "      <td>1</td>\n",
       "      <td>0</td>\n",
       "      <td>0</td>\n",
       "      <td>0</td>\n",
       "      <td>1</td>\n",
       "      <td>0</td>\n",
       "    </tr>\n",
       "    <tr>\n",
       "      <th>3</th>\n",
       "      <td>0</td>\n",
       "      <td>1</td>\n",
       "      <td>0</td>\n",
       "      <td>1</td>\n",
       "      <td>0</td>\n",
       "      <td>1</td>\n",
       "      <td>0</td>\n",
       "      <td>0</td>\n",
       "      <td>0</td>\n",
       "      <td>1</td>\n",
       "      <td>0</td>\n",
       "    </tr>\n",
       "    <tr>\n",
       "      <th>4</th>\n",
       "      <td>3</td>\n",
       "      <td>1</td>\n",
       "      <td>0</td>\n",
       "      <td>1</td>\n",
       "      <td>0</td>\n",
       "      <td>1</td>\n",
       "      <td>0</td>\n",
       "      <td>0</td>\n",
       "      <td>1</td>\n",
       "      <td>0</td>\n",
       "      <td>0</td>\n",
       "    </tr>\n",
       "  </tbody>\n",
       "</table>\n",
       "</div>"
      ],
      "text/plain": [
       "  Occ  Race_B  Race_W  Sex_F  Sex_M  Year_1900  Year_1910  Year_1920  \\\n",
       "0   0       1       0      1      0          1          0          0   \n",
       "1   0       1       0      0      1          1          0          0   \n",
       "2   0       1       0      1      0          1          0          0   \n",
       "3   0       1       0      1      0          1          0          0   \n",
       "4   3       1       0      1      0          1          0          0   \n",
       "\n",
       "   Age_0-15  Age_16-55  Age_Above-56  \n",
       "0         0          1             0  \n",
       "1         0          1             0  \n",
       "2         0          1             0  \n",
       "3         0          1             0  \n",
       "4         1          0             0  "
      ]
     },
     "execution_count": 109,
     "metadata": {},
     "output_type": "execute_result"
    }
   ],
   "source": [
    "data3.head()"
   ]
  },
  {
   "cell_type": "code",
   "execution_count": 110,
   "metadata": {},
   "outputs": [
    {
     "data": {
      "text/html": [
       "<div>\n",
       "<style scoped>\n",
       "    .dataframe tbody tr th:only-of-type {\n",
       "        vertical-align: middle;\n",
       "    }\n",
       "\n",
       "    .dataframe tbody tr th {\n",
       "        vertical-align: top;\n",
       "    }\n",
       "\n",
       "    .dataframe thead th {\n",
       "        text-align: right;\n",
       "    }\n",
       "</style>\n",
       "<table border=\"1\" class=\"dataframe\">\n",
       "  <thead>\n",
       "    <tr style=\"text-align: right;\">\n",
       "      <th></th>\n",
       "      <th>Race_B</th>\n",
       "      <th>Race_W</th>\n",
       "      <th>Sex_F</th>\n",
       "      <th>Sex_M</th>\n",
       "      <th>Year_1900</th>\n",
       "      <th>Year_1910</th>\n",
       "      <th>Year_1920</th>\n",
       "      <th>Age_0-15</th>\n",
       "      <th>Age_16-55</th>\n",
       "      <th>Age_Above-56</th>\n",
       "    </tr>\n",
       "  </thead>\n",
       "  <tbody>\n",
       "    <tr>\n",
       "      <th>Race_B</th>\n",
       "      <td>1.000000</td>\n",
       "      <td>-1.000000</td>\n",
       "      <td>0.089266</td>\n",
       "      <td>-0.089266</td>\n",
       "      <td>0.103793</td>\n",
       "      <td>0.050228</td>\n",
       "      <td>-0.120083</td>\n",
       "      <td>-0.117005</td>\n",
       "      <td>0.111155</td>\n",
       "      <td>-0.000063</td>\n",
       "    </tr>\n",
       "    <tr>\n",
       "      <th>Race_W</th>\n",
       "      <td>-1.000000</td>\n",
       "      <td>1.000000</td>\n",
       "      <td>-0.089266</td>\n",
       "      <td>0.089266</td>\n",
       "      <td>-0.103793</td>\n",
       "      <td>-0.050228</td>\n",
       "      <td>0.120083</td>\n",
       "      <td>0.117005</td>\n",
       "      <td>-0.111155</td>\n",
       "      <td>0.000063</td>\n",
       "    </tr>\n",
       "    <tr>\n",
       "      <th>Sex_F</th>\n",
       "      <td>0.089266</td>\n",
       "      <td>-0.089266</td>\n",
       "      <td>1.000000</td>\n",
       "      <td>-1.000000</td>\n",
       "      <td>0.021048</td>\n",
       "      <td>0.001233</td>\n",
       "      <td>-0.020124</td>\n",
       "      <td>0.082898</td>\n",
       "      <td>-0.054751</td>\n",
       "      <td>-0.058491</td>\n",
       "    </tr>\n",
       "    <tr>\n",
       "      <th>Sex_M</th>\n",
       "      <td>-0.089266</td>\n",
       "      <td>0.089266</td>\n",
       "      <td>-1.000000</td>\n",
       "      <td>1.000000</td>\n",
       "      <td>-0.021048</td>\n",
       "      <td>-0.001233</td>\n",
       "      <td>0.020124</td>\n",
       "      <td>-0.082898</td>\n",
       "      <td>0.054751</td>\n",
       "      <td>0.058491</td>\n",
       "    </tr>\n",
       "    <tr>\n",
       "      <th>Year_1900</th>\n",
       "      <td>0.103793</td>\n",
       "      <td>-0.103793</td>\n",
       "      <td>0.021048</td>\n",
       "      <td>-0.021048</td>\n",
       "      <td>1.000000</td>\n",
       "      <td>-0.096920</td>\n",
       "      <td>-0.882686</td>\n",
       "      <td>0.183999</td>\n",
       "      <td>-0.181774</td>\n",
       "      <td>-0.003668</td>\n",
       "    </tr>\n",
       "    <tr>\n",
       "      <th>Year_1910</th>\n",
       "      <td>0.050228</td>\n",
       "      <td>-0.050228</td>\n",
       "      <td>0.001233</td>\n",
       "      <td>-0.001233</td>\n",
       "      <td>-0.096920</td>\n",
       "      <td>1.000000</td>\n",
       "      <td>-0.382201</td>\n",
       "      <td>-0.098659</td>\n",
       "      <td>0.084141</td>\n",
       "      <td>0.027996</td>\n",
       "    </tr>\n",
       "    <tr>\n",
       "      <th>Year_1920</th>\n",
       "      <td>-0.120083</td>\n",
       "      <td>0.120083</td>\n",
       "      <td>-0.020124</td>\n",
       "      <td>0.020124</td>\n",
       "      <td>-0.882686</td>\n",
       "      <td>-0.382201</td>\n",
       "      <td>1.000000</td>\n",
       "      <td>-0.124249</td>\n",
       "      <td>0.129038</td>\n",
       "      <td>-0.009813</td>\n",
       "    </tr>\n",
       "    <tr>\n",
       "      <th>Age_0-15</th>\n",
       "      <td>-0.117005</td>\n",
       "      <td>0.117005</td>\n",
       "      <td>0.082898</td>\n",
       "      <td>-0.082898</td>\n",
       "      <td>0.183999</td>\n",
       "      <td>-0.098659</td>\n",
       "      <td>-0.124249</td>\n",
       "      <td>1.000000</td>\n",
       "      <td>-0.912297</td>\n",
       "      <td>-0.117203</td>\n",
       "    </tr>\n",
       "    <tr>\n",
       "      <th>Age_16-55</th>\n",
       "      <td>0.111155</td>\n",
       "      <td>-0.111155</td>\n",
       "      <td>-0.054751</td>\n",
       "      <td>0.054751</td>\n",
       "      <td>-0.181774</td>\n",
       "      <td>0.084141</td>\n",
       "      <td>0.129038</td>\n",
       "      <td>-0.912297</td>\n",
       "      <td>1.000000</td>\n",
       "      <td>-0.291841</td>\n",
       "    </tr>\n",
       "    <tr>\n",
       "      <th>Age_Above-56</th>\n",
       "      <td>-0.000063</td>\n",
       "      <td>0.000063</td>\n",
       "      <td>-0.058491</td>\n",
       "      <td>0.058491</td>\n",
       "      <td>-0.003668</td>\n",
       "      <td>0.027996</td>\n",
       "      <td>-0.009813</td>\n",
       "      <td>-0.117203</td>\n",
       "      <td>-0.291841</td>\n",
       "      <td>1.000000</td>\n",
       "    </tr>\n",
       "  </tbody>\n",
       "</table>\n",
       "</div>"
      ],
      "text/plain": [
       "                Race_B    Race_W     Sex_F     Sex_M  Year_1900  Year_1910  \\\n",
       "Race_B        1.000000 -1.000000  0.089266 -0.089266   0.103793   0.050228   \n",
       "Race_W       -1.000000  1.000000 -0.089266  0.089266  -0.103793  -0.050228   \n",
       "Sex_F         0.089266 -0.089266  1.000000 -1.000000   0.021048   0.001233   \n",
       "Sex_M        -0.089266  0.089266 -1.000000  1.000000  -0.021048  -0.001233   \n",
       "Year_1900     0.103793 -0.103793  0.021048 -0.021048   1.000000  -0.096920   \n",
       "Year_1910     0.050228 -0.050228  0.001233 -0.001233  -0.096920   1.000000   \n",
       "Year_1920    -0.120083  0.120083 -0.020124  0.020124  -0.882686  -0.382201   \n",
       "Age_0-15     -0.117005  0.117005  0.082898 -0.082898   0.183999  -0.098659   \n",
       "Age_16-55     0.111155 -0.111155 -0.054751  0.054751  -0.181774   0.084141   \n",
       "Age_Above-56 -0.000063  0.000063 -0.058491  0.058491  -0.003668   0.027996   \n",
       "\n",
       "              Year_1920  Age_0-15  Age_16-55  Age_Above-56  \n",
       "Race_B        -0.120083 -0.117005   0.111155     -0.000063  \n",
       "Race_W         0.120083  0.117005  -0.111155      0.000063  \n",
       "Sex_F         -0.020124  0.082898  -0.054751     -0.058491  \n",
       "Sex_M          0.020124 -0.082898   0.054751      0.058491  \n",
       "Year_1900     -0.882686  0.183999  -0.181774     -0.003668  \n",
       "Year_1910     -0.382201 -0.098659   0.084141      0.027996  \n",
       "Year_1920      1.000000 -0.124249   0.129038     -0.009813  \n",
       "Age_0-15      -0.124249  1.000000  -0.912297     -0.117203  \n",
       "Age_16-55      0.129038 -0.912297   1.000000     -0.291841  \n",
       "Age_Above-56  -0.009813 -0.117203  -0.291841      1.000000  "
      ]
     },
     "execution_count": 110,
     "metadata": {},
     "output_type": "execute_result"
    }
   ],
   "source": [
    "data3.corr()"
   ]
  },
  {
   "cell_type": "markdown",
   "metadata": {},
   "source": [
    "## data4 dataframe has hot encoded Occ with 1 and 0's in seperate columns"
   ]
  },
  {
   "cell_type": "code",
   "execution_count": 111,
   "metadata": {},
   "outputs": [],
   "source": [
    "data4 = pd.get_dummies(data3, columns =['Occ'])"
   ]
  },
  {
   "cell_type": "code",
   "execution_count": 112,
   "metadata": {},
   "outputs": [
    {
     "data": {
      "text/plain": [
       "Index(['Race_B', 'Race_W', 'Sex_F', 'Sex_M', 'Year_1900', 'Year_1910',\n",
       "       'Year_1920', 'Age_0-15', 'Age_16-55', 'Age_Above-56', 'Occ_0', 'Occ_1',\n",
       "       'Occ_2', 'Occ_3'],\n",
       "      dtype='object')"
      ]
     },
     "execution_count": 112,
     "metadata": {},
     "output_type": "execute_result"
    }
   ],
   "source": [
    "data4.columns"
   ]
  },
  {
   "cell_type": "code",
   "execution_count": 113,
   "metadata": {},
   "outputs": [
    {
     "data": {
      "text/html": [
       "<div>\n",
       "<style scoped>\n",
       "    .dataframe tbody tr th:only-of-type {\n",
       "        vertical-align: middle;\n",
       "    }\n",
       "\n",
       "    .dataframe tbody tr th {\n",
       "        vertical-align: top;\n",
       "    }\n",
       "\n",
       "    .dataframe thead th {\n",
       "        text-align: right;\n",
       "    }\n",
       "</style>\n",
       "<table border=\"1\" class=\"dataframe\">\n",
       "  <thead>\n",
       "    <tr style=\"text-align: right;\">\n",
       "      <th></th>\n",
       "      <th>Race_B</th>\n",
       "      <th>Race_W</th>\n",
       "      <th>Sex_F</th>\n",
       "      <th>Sex_M</th>\n",
       "      <th>Year_1900</th>\n",
       "      <th>Year_1910</th>\n",
       "      <th>Year_1920</th>\n",
       "      <th>Age_0-15</th>\n",
       "      <th>Age_16-55</th>\n",
       "      <th>Age_Above-56</th>\n",
       "      <th>Occ_0</th>\n",
       "      <th>Occ_1</th>\n",
       "      <th>Occ_2</th>\n",
       "      <th>Occ_3</th>\n",
       "    </tr>\n",
       "  </thead>\n",
       "  <tbody>\n",
       "    <tr>\n",
       "      <th>0</th>\n",
       "      <td>1</td>\n",
       "      <td>0</td>\n",
       "      <td>1</td>\n",
       "      <td>0</td>\n",
       "      <td>1</td>\n",
       "      <td>0</td>\n",
       "      <td>0</td>\n",
       "      <td>0</td>\n",
       "      <td>1</td>\n",
       "      <td>0</td>\n",
       "      <td>1</td>\n",
       "      <td>0</td>\n",
       "      <td>0</td>\n",
       "      <td>0</td>\n",
       "    </tr>\n",
       "    <tr>\n",
       "      <th>1</th>\n",
       "      <td>1</td>\n",
       "      <td>0</td>\n",
       "      <td>0</td>\n",
       "      <td>1</td>\n",
       "      <td>1</td>\n",
       "      <td>0</td>\n",
       "      <td>0</td>\n",
       "      <td>0</td>\n",
       "      <td>1</td>\n",
       "      <td>0</td>\n",
       "      <td>1</td>\n",
       "      <td>0</td>\n",
       "      <td>0</td>\n",
       "      <td>0</td>\n",
       "    </tr>\n",
       "    <tr>\n",
       "      <th>2</th>\n",
       "      <td>1</td>\n",
       "      <td>0</td>\n",
       "      <td>1</td>\n",
       "      <td>0</td>\n",
       "      <td>1</td>\n",
       "      <td>0</td>\n",
       "      <td>0</td>\n",
       "      <td>0</td>\n",
       "      <td>1</td>\n",
       "      <td>0</td>\n",
       "      <td>1</td>\n",
       "      <td>0</td>\n",
       "      <td>0</td>\n",
       "      <td>0</td>\n",
       "    </tr>\n",
       "    <tr>\n",
       "      <th>3</th>\n",
       "      <td>1</td>\n",
       "      <td>0</td>\n",
       "      <td>1</td>\n",
       "      <td>0</td>\n",
       "      <td>1</td>\n",
       "      <td>0</td>\n",
       "      <td>0</td>\n",
       "      <td>0</td>\n",
       "      <td>1</td>\n",
       "      <td>0</td>\n",
       "      <td>1</td>\n",
       "      <td>0</td>\n",
       "      <td>0</td>\n",
       "      <td>0</td>\n",
       "    </tr>\n",
       "    <tr>\n",
       "      <th>4</th>\n",
       "      <td>1</td>\n",
       "      <td>0</td>\n",
       "      <td>1</td>\n",
       "      <td>0</td>\n",
       "      <td>1</td>\n",
       "      <td>0</td>\n",
       "      <td>0</td>\n",
       "      <td>1</td>\n",
       "      <td>0</td>\n",
       "      <td>0</td>\n",
       "      <td>0</td>\n",
       "      <td>0</td>\n",
       "      <td>0</td>\n",
       "      <td>1</td>\n",
       "    </tr>\n",
       "  </tbody>\n",
       "</table>\n",
       "</div>"
      ],
      "text/plain": [
       "   Race_B  Race_W  Sex_F  Sex_M  Year_1900  Year_1910  Year_1920  Age_0-15  \\\n",
       "0       1       0      1      0          1          0          0         0   \n",
       "1       1       0      0      1          1          0          0         0   \n",
       "2       1       0      1      0          1          0          0         0   \n",
       "3       1       0      1      0          1          0          0         0   \n",
       "4       1       0      1      0          1          0          0         1   \n",
       "\n",
       "   Age_16-55  Age_Above-56  Occ_0  Occ_1  Occ_2  Occ_3  \n",
       "0          1             0      1      0      0      0  \n",
       "1          1             0      1      0      0      0  \n",
       "2          1             0      1      0      0      0  \n",
       "3          1             0      1      0      0      0  \n",
       "4          0             0      0      0      0      1  "
      ]
     },
     "execution_count": 113,
     "metadata": {},
     "output_type": "execute_result"
    }
   ],
   "source": [
    "data4.head()"
   ]
  },
  {
   "cell_type": "code",
   "execution_count": 114,
   "metadata": {},
   "outputs": [
    {
     "data": {
      "text/html": [
       "<div>\n",
       "<style scoped>\n",
       "    .dataframe tbody tr th:only-of-type {\n",
       "        vertical-align: middle;\n",
       "    }\n",
       "\n",
       "    .dataframe tbody tr th {\n",
       "        vertical-align: top;\n",
       "    }\n",
       "\n",
       "    .dataframe thead th {\n",
       "        text-align: right;\n",
       "    }\n",
       "</style>\n",
       "<table border=\"1\" class=\"dataframe\">\n",
       "  <thead>\n",
       "    <tr style=\"text-align: right;\">\n",
       "      <th></th>\n",
       "      <th>Race_B</th>\n",
       "      <th>Race_W</th>\n",
       "      <th>Sex_F</th>\n",
       "      <th>Sex_M</th>\n",
       "      <th>Year_1900</th>\n",
       "      <th>Year_1910</th>\n",
       "      <th>Year_1920</th>\n",
       "      <th>Age_0-15</th>\n",
       "      <th>Age_16-55</th>\n",
       "      <th>Age_Above-56</th>\n",
       "      <th>Occ_0</th>\n",
       "      <th>Occ_1</th>\n",
       "      <th>Occ_2</th>\n",
       "      <th>Occ_3</th>\n",
       "    </tr>\n",
       "  </thead>\n",
       "  <tbody>\n",
       "    <tr>\n",
       "      <th>Race_B</th>\n",
       "      <td>1.000000</td>\n",
       "      <td>-1.000000</td>\n",
       "      <td>0.089266</td>\n",
       "      <td>-0.089266</td>\n",
       "      <td>0.103793</td>\n",
       "      <td>0.050228</td>\n",
       "      <td>-0.120083</td>\n",
       "      <td>-0.117005</td>\n",
       "      <td>0.111155</td>\n",
       "      <td>-0.000063</td>\n",
       "      <td>0.177371</td>\n",
       "      <td>-0.032419</td>\n",
       "      <td>-0.123178</td>\n",
       "      <td>-0.121342</td>\n",
       "    </tr>\n",
       "    <tr>\n",
       "      <th>Race_W</th>\n",
       "      <td>-1.000000</td>\n",
       "      <td>1.000000</td>\n",
       "      <td>-0.089266</td>\n",
       "      <td>0.089266</td>\n",
       "      <td>-0.103793</td>\n",
       "      <td>-0.050228</td>\n",
       "      <td>0.120083</td>\n",
       "      <td>0.117005</td>\n",
       "      <td>-0.111155</td>\n",
       "      <td>0.000063</td>\n",
       "      <td>-0.177371</td>\n",
       "      <td>0.032419</td>\n",
       "      <td>0.123178</td>\n",
       "      <td>0.121342</td>\n",
       "    </tr>\n",
       "    <tr>\n",
       "      <th>Sex_F</th>\n",
       "      <td>0.089266</td>\n",
       "      <td>-0.089266</td>\n",
       "      <td>1.000000</td>\n",
       "      <td>-1.000000</td>\n",
       "      <td>0.021048</td>\n",
       "      <td>0.001233</td>\n",
       "      <td>-0.020124</td>\n",
       "      <td>0.082898</td>\n",
       "      <td>-0.054751</td>\n",
       "      <td>-0.058491</td>\n",
       "      <td>-0.160214</td>\n",
       "      <td>0.094399</td>\n",
       "      <td>-0.019620</td>\n",
       "      <td>0.111534</td>\n",
       "    </tr>\n",
       "    <tr>\n",
       "      <th>Sex_M</th>\n",
       "      <td>-0.089266</td>\n",
       "      <td>0.089266</td>\n",
       "      <td>-1.000000</td>\n",
       "      <td>1.000000</td>\n",
       "      <td>-0.021048</td>\n",
       "      <td>-0.001233</td>\n",
       "      <td>0.020124</td>\n",
       "      <td>-0.082898</td>\n",
       "      <td>0.054751</td>\n",
       "      <td>0.058491</td>\n",
       "      <td>0.160214</td>\n",
       "      <td>-0.094399</td>\n",
       "      <td>0.019620</td>\n",
       "      <td>-0.111534</td>\n",
       "    </tr>\n",
       "    <tr>\n",
       "      <th>Year_1900</th>\n",
       "      <td>0.103793</td>\n",
       "      <td>-0.103793</td>\n",
       "      <td>0.021048</td>\n",
       "      <td>-0.021048</td>\n",
       "      <td>1.000000</td>\n",
       "      <td>-0.096920</td>\n",
       "      <td>-0.882686</td>\n",
       "      <td>0.183999</td>\n",
       "      <td>-0.181774</td>\n",
       "      <td>-0.003668</td>\n",
       "      <td>-0.119613</td>\n",
       "      <td>-0.051321</td>\n",
       "      <td>-0.075893</td>\n",
       "      <td>0.215250</td>\n",
       "    </tr>\n",
       "    <tr>\n",
       "      <th>Year_1910</th>\n",
       "      <td>0.050228</td>\n",
       "      <td>-0.050228</td>\n",
       "      <td>0.001233</td>\n",
       "      <td>-0.001233</td>\n",
       "      <td>-0.096920</td>\n",
       "      <td>1.000000</td>\n",
       "      <td>-0.382201</td>\n",
       "      <td>-0.098659</td>\n",
       "      <td>0.084141</td>\n",
       "      <td>0.027996</td>\n",
       "      <td>0.103150</td>\n",
       "      <td>-0.016573</td>\n",
       "      <td>-0.011679</td>\n",
       "      <td>-0.099090</td>\n",
       "    </tr>\n",
       "    <tr>\n",
       "      <th>Year_1920</th>\n",
       "      <td>-0.120083</td>\n",
       "      <td>0.120083</td>\n",
       "      <td>-0.020124</td>\n",
       "      <td>0.020124</td>\n",
       "      <td>-0.882686</td>\n",
       "      <td>-0.382201</td>\n",
       "      <td>1.000000</td>\n",
       "      <td>-0.124249</td>\n",
       "      <td>0.129038</td>\n",
       "      <td>-0.009813</td>\n",
       "      <td>0.062349</td>\n",
       "      <td>0.055475</td>\n",
       "      <td>0.075977</td>\n",
       "      <td>-0.153060</td>\n",
       "    </tr>\n",
       "    <tr>\n",
       "      <th>Age_0-15</th>\n",
       "      <td>-0.117005</td>\n",
       "      <td>0.117005</td>\n",
       "      <td>0.082898</td>\n",
       "      <td>-0.082898</td>\n",
       "      <td>0.183999</td>\n",
       "      <td>-0.098659</td>\n",
       "      <td>-0.124249</td>\n",
       "      <td>1.000000</td>\n",
       "      <td>-0.912297</td>\n",
       "      <td>-0.117203</td>\n",
       "      <td>-0.576988</td>\n",
       "      <td>-0.242815</td>\n",
       "      <td>-0.120867</td>\n",
       "      <td>0.925598</td>\n",
       "    </tr>\n",
       "    <tr>\n",
       "      <th>Age_16-55</th>\n",
       "      <td>0.111155</td>\n",
       "      <td>-0.111155</td>\n",
       "      <td>-0.054751</td>\n",
       "      <td>0.054751</td>\n",
       "      <td>-0.181774</td>\n",
       "      <td>0.084141</td>\n",
       "      <td>0.129038</td>\n",
       "      <td>-0.912297</td>\n",
       "      <td>1.000000</td>\n",
       "      <td>-0.291841</td>\n",
       "      <td>0.536729</td>\n",
       "      <td>0.226645</td>\n",
       "      <td>0.085711</td>\n",
       "      <td>-0.849840</td>\n",
       "    </tr>\n",
       "    <tr>\n",
       "      <th>Age_Above-56</th>\n",
       "      <td>-0.000063</td>\n",
       "      <td>0.000063</td>\n",
       "      <td>-0.058491</td>\n",
       "      <td>0.058491</td>\n",
       "      <td>-0.003668</td>\n",
       "      <td>0.027996</td>\n",
       "      <td>-0.009813</td>\n",
       "      <td>-0.117203</td>\n",
       "      <td>-0.291841</td>\n",
       "      <td>1.000000</td>\n",
       "      <td>0.052740</td>\n",
       "      <td>0.020205</td>\n",
       "      <td>0.076795</td>\n",
       "      <td>-0.112019</td>\n",
       "    </tr>\n",
       "    <tr>\n",
       "      <th>Occ_0</th>\n",
       "      <td>0.177371</td>\n",
       "      <td>-0.177371</td>\n",
       "      <td>-0.160214</td>\n",
       "      <td>0.160214</td>\n",
       "      <td>-0.119613</td>\n",
       "      <td>0.103150</td>\n",
       "      <td>0.062349</td>\n",
       "      <td>-0.576988</td>\n",
       "      <td>0.536729</td>\n",
       "      <td>0.052740</td>\n",
       "      <td>1.000000</td>\n",
       "      <td>-0.489080</td>\n",
       "      <td>-0.217981</td>\n",
       "      <td>-0.631528</td>\n",
       "    </tr>\n",
       "    <tr>\n",
       "      <th>Occ_1</th>\n",
       "      <td>-0.032419</td>\n",
       "      <td>0.032419</td>\n",
       "      <td>0.094399</td>\n",
       "      <td>-0.094399</td>\n",
       "      <td>-0.051321</td>\n",
       "      <td>-0.016573</td>\n",
       "      <td>0.055475</td>\n",
       "      <td>-0.242815</td>\n",
       "      <td>0.226645</td>\n",
       "      <td>0.020205</td>\n",
       "      <td>-0.489080</td>\n",
       "      <td>1.000000</td>\n",
       "      <td>-0.089464</td>\n",
       "      <td>-0.259192</td>\n",
       "    </tr>\n",
       "    <tr>\n",
       "      <th>Occ_2</th>\n",
       "      <td>-0.123178</td>\n",
       "      <td>0.123178</td>\n",
       "      <td>-0.019620</td>\n",
       "      <td>0.019620</td>\n",
       "      <td>-0.075893</td>\n",
       "      <td>-0.011679</td>\n",
       "      <td>0.075977</td>\n",
       "      <td>-0.120867</td>\n",
       "      <td>0.085711</td>\n",
       "      <td>0.076795</td>\n",
       "      <td>-0.217981</td>\n",
       "      <td>-0.089464</td>\n",
       "      <td>1.000000</td>\n",
       "      <td>-0.115521</td>\n",
       "    </tr>\n",
       "    <tr>\n",
       "      <th>Occ_3</th>\n",
       "      <td>-0.121342</td>\n",
       "      <td>0.121342</td>\n",
       "      <td>0.111534</td>\n",
       "      <td>-0.111534</td>\n",
       "      <td>0.215250</td>\n",
       "      <td>-0.099090</td>\n",
       "      <td>-0.153060</td>\n",
       "      <td>0.925598</td>\n",
       "      <td>-0.849840</td>\n",
       "      <td>-0.112019</td>\n",
       "      <td>-0.631528</td>\n",
       "      <td>-0.259192</td>\n",
       "      <td>-0.115521</td>\n",
       "      <td>1.000000</td>\n",
       "    </tr>\n",
       "  </tbody>\n",
       "</table>\n",
       "</div>"
      ],
      "text/plain": [
       "                Race_B    Race_W     Sex_F     Sex_M  Year_1900  Year_1910  \\\n",
       "Race_B        1.000000 -1.000000  0.089266 -0.089266   0.103793   0.050228   \n",
       "Race_W       -1.000000  1.000000 -0.089266  0.089266  -0.103793  -0.050228   \n",
       "Sex_F         0.089266 -0.089266  1.000000 -1.000000   0.021048   0.001233   \n",
       "Sex_M        -0.089266  0.089266 -1.000000  1.000000  -0.021048  -0.001233   \n",
       "Year_1900     0.103793 -0.103793  0.021048 -0.021048   1.000000  -0.096920   \n",
       "Year_1910     0.050228 -0.050228  0.001233 -0.001233  -0.096920   1.000000   \n",
       "Year_1920    -0.120083  0.120083 -0.020124  0.020124  -0.882686  -0.382201   \n",
       "Age_0-15     -0.117005  0.117005  0.082898 -0.082898   0.183999  -0.098659   \n",
       "Age_16-55     0.111155 -0.111155 -0.054751  0.054751  -0.181774   0.084141   \n",
       "Age_Above-56 -0.000063  0.000063 -0.058491  0.058491  -0.003668   0.027996   \n",
       "Occ_0         0.177371 -0.177371 -0.160214  0.160214  -0.119613   0.103150   \n",
       "Occ_1        -0.032419  0.032419  0.094399 -0.094399  -0.051321  -0.016573   \n",
       "Occ_2        -0.123178  0.123178 -0.019620  0.019620  -0.075893  -0.011679   \n",
       "Occ_3        -0.121342  0.121342  0.111534 -0.111534   0.215250  -0.099090   \n",
       "\n",
       "              Year_1920  Age_0-15  Age_16-55  Age_Above-56     Occ_0  \\\n",
       "Race_B        -0.120083 -0.117005   0.111155     -0.000063  0.177371   \n",
       "Race_W         0.120083  0.117005  -0.111155      0.000063 -0.177371   \n",
       "Sex_F         -0.020124  0.082898  -0.054751     -0.058491 -0.160214   \n",
       "Sex_M          0.020124 -0.082898   0.054751      0.058491  0.160214   \n",
       "Year_1900     -0.882686  0.183999  -0.181774     -0.003668 -0.119613   \n",
       "Year_1910     -0.382201 -0.098659   0.084141      0.027996  0.103150   \n",
       "Year_1920      1.000000 -0.124249   0.129038     -0.009813  0.062349   \n",
       "Age_0-15      -0.124249  1.000000  -0.912297     -0.117203 -0.576988   \n",
       "Age_16-55      0.129038 -0.912297   1.000000     -0.291841  0.536729   \n",
       "Age_Above-56  -0.009813 -0.117203  -0.291841      1.000000  0.052740   \n",
       "Occ_0          0.062349 -0.576988   0.536729      0.052740  1.000000   \n",
       "Occ_1          0.055475 -0.242815   0.226645      0.020205 -0.489080   \n",
       "Occ_2          0.075977 -0.120867   0.085711      0.076795 -0.217981   \n",
       "Occ_3         -0.153060  0.925598  -0.849840     -0.112019 -0.631528   \n",
       "\n",
       "                 Occ_1     Occ_2     Occ_3  \n",
       "Race_B       -0.032419 -0.123178 -0.121342  \n",
       "Race_W        0.032419  0.123178  0.121342  \n",
       "Sex_F         0.094399 -0.019620  0.111534  \n",
       "Sex_M        -0.094399  0.019620 -0.111534  \n",
       "Year_1900    -0.051321 -0.075893  0.215250  \n",
       "Year_1910    -0.016573 -0.011679 -0.099090  \n",
       "Year_1920     0.055475  0.075977 -0.153060  \n",
       "Age_0-15     -0.242815 -0.120867  0.925598  \n",
       "Age_16-55     0.226645  0.085711 -0.849840  \n",
       "Age_Above-56  0.020205  0.076795 -0.112019  \n",
       "Occ_0        -0.489080 -0.217981 -0.631528  \n",
       "Occ_1         1.000000 -0.089464 -0.259192  \n",
       "Occ_2        -0.089464  1.000000 -0.115521  \n",
       "Occ_3        -0.259192 -0.115521  1.000000  "
      ]
     },
     "execution_count": 114,
     "metadata": {},
     "output_type": "execute_result"
    }
   ],
   "source": [
    "data4.corr(method='spearman')"
   ]
  },
  {
   "cell_type": "markdown",
   "metadata": {},
   "source": [
    "## Filter Using Pearson Correlation"
   ]
  },
  {
   "cell_type": "code",
   "execution_count": 159,
   "metadata": {},
   "outputs": [
    {
     "data": {
      "image/png": "[encoded data removed]",
      "text/plain": [
       "<Figure size 864x720 with 2 Axes>"
      ]
     },
     "metadata": {},
     "output_type": "display_data"
    }
   ],
   "source": [
    "#Using Pearson Correlation\n",
    "plt.figure(figsize=(12,10))\n",
    "cor = data4.corr()\n",
    "sns.heatmap(cor, annot=True, cmap=plt.cm.Reds)\n",
    "plt.show()"
   ]
  },
  {
   "cell_type": "code",
   "execution_count": 160,
   "metadata": {},
   "outputs": [
    {
     "name": "stdout",
     "output_type": "stream",
     "text": [
      "Age_0-15     0.576988\n",
      "Age_16-55    0.536729\n",
      "Occ_0        1.000000\n",
      "Occ_1        0.489080\n",
      "Occ_3        0.631528\n",
      "Name: Occ_0, dtype: float64\n",
      "--------\n",
      "Occ_0    0.489080\n",
      "Occ_1    1.000000\n",
      "Occ_3    0.259192\n",
      "Name: Occ_1, dtype: float64\n",
      "--------\n",
      "Occ_2    1.0\n",
      "Name: Occ_2, dtype: float64\n",
      "--------\n",
      "Age_0-15     0.925598\n",
      "Age_16-55    0.849840\n",
      "Occ_0        0.631528\n",
      "Occ_1        0.259192\n",
      "Occ_3        1.000000\n",
      "Name: Occ_3, dtype: float64\n",
      "--------\n"
     ]
    }
   ],
   "source": [
    "#Correlation with output variable\n",
    "Occupations = ['Occ_0', 'Occ_1', 'Occ_2','Occ_3']\n",
    "for i in Occupations:\n",
    "    cor_target = abs(cor[i])\n",
    "    #Selecting highly correlated features\n",
    "    relevant_features = cor_target[cor_target>0.25]\n",
    "    print(relevant_features)\n",
    "    print(\"--------\")"
   ]
  },
  {
   "cell_type": "markdown",
   "metadata": {},
   "source": [
    "## Machine learning"
   ]
  },
  {
   "cell_type": "code",
   "execution_count": 117,
   "metadata": {},
   "outputs": [],
   "source": [
    "#importing libraries\n",
    "import pandas as pd\n",
    "from matplotlib import pyplot as plt\n",
    "import seaborn as sns\n",
    "from sklearn.model_selection import train_test_split\n",
    "from sklearn.tree import DecisionTreeClassifier\n",
    "from sklearn import model_selection\n",
    "from sklearn.metrics import classification_report\n",
    "from sklearn.metrics import confusion_matrix\n",
    "from sklearn.metrics import accuracy_score\n",
    "from sklearn.linear_model import LogisticRegression\n",
    "from sklearn.neighbors import KNeighborsClassifier\n",
    "from sklearn.discriminant_analysis import LinearDiscriminantAnalysis\n",
    "from sklearn.naive_bayes import GaussianNB\n",
    "from sklearn.svm import SVC"
   ]
  },
  {
   "cell_type": "markdown",
   "metadata": {},
   "source": [
    "## Create train/test split of data using data2 dataframe"
   ]
  },
  {
   "cell_type": "code",
   "execution_count": 118,
   "metadata": {},
   "outputs": [],
   "source": [
    "train,test = train_test_split(data2,test_size=0.2,random_state=7)"
   ]
  },
  {
   "cell_type": "code",
   "execution_count": 119,
   "metadata": {},
   "outputs": [
    {
     "name": "stdout",
     "output_type": "stream",
     "text": [
      "train shape:   \n",
      "(2900, 11)\n",
      "test shape:    \n",
      "(725, 11)\n",
      "Unique classes with count : \n",
      "Unskilled                1571\n",
      "Student                   726\n",
      "Skilled Labor             486\n",
      "Skilled Professionals     117\n",
      "Name: Occ, dtype: int64\n",
      "data description : \n"
     ]
    }
   ],
   "source": [
    "print (\"train shape:   \")\n",
    "print(train.shape)\n",
    "print (\"test shape:    \")\n",
    "print(test.shape)\n",
    "print (\"Unique classes with count : \")\n",
    "print(pd.value_counts(train['Occ']))\n",
    "print (\"data description : \")\n",
    "#print(train.describe())"
   ]
  },
  {
   "cell_type": "code",
   "execution_count": 120,
   "metadata": {},
   "outputs": [
    {
     "name": "stdout",
     "output_type": "stream",
     "text": [
      "<class 'pandas.core.frame.DataFrame'>\n",
      "Int64Index: 2900 entries, 1172 to 207\n",
      "Data columns (total 11 columns):\n",
      "Occ             2900 non-null object\n",
      "Race_B          2900 non-null uint8\n",
      "Race_W          2900 non-null uint8\n",
      "Sex_F           2900 non-null uint8\n",
      "Sex_M           2900 non-null uint8\n",
      "Year_1900       2900 non-null uint8\n",
      "Year_1910       2900 non-null uint8\n",
      "Year_1920       2900 non-null uint8\n",
      "Age_0-15        2900 non-null uint8\n",
      "Age_16-55       2900 non-null uint8\n",
      "Age_Above-56    2900 non-null uint8\n",
      "dtypes: object(1), uint8(10)\n",
      "memory usage: 73.6+ KB\n",
      "None\n"
     ]
    }
   ],
   "source": [
    "#checking missing values\n",
    "print (train.info())\n",
    "#No null values"
   ]
  },
  {
   "cell_type": "code",
   "execution_count": 121,
   "metadata": {},
   "outputs": [],
   "source": [
    "#Modelling\n",
    "train['Occ'][train['Occ']=='Unskilled']=0\n",
    "train['Occ'][train['Occ']=='Skilled Labor']=1\n",
    "train['Occ'][train['Occ']=='Skilled Professionals']=2\n",
    "train['Occ'][train['Occ']=='Student']=3\n",
    "\n",
    "test['Occ'][test['Occ']=='Unskilled']=0\n",
    "test['Occ'][test['Occ']=='Skilled Labor']=1\n",
    "test['Occ'][test['Occ']=='Skilled Professionals']=2\n",
    "test['Occ'][test['Occ']=='Student']=3\n",
    "\n",
    "X = train.iloc[:,1:]\n",
    "y = train.iloc[:,0]\n",
    "y = pd.to_numeric(y)\n",
    "y_test=pd.to_numeric(test.iloc[:,0])\n"
   ]
  },
  {
   "cell_type": "code",
   "execution_count": 122,
   "metadata": {},
   "outputs": [],
   "source": [
    "# Spot Check Algorithms\n",
    "models = []\n",
    "models.append(('LogisticRegression', LogisticRegression()))\n",
    "models.append(('DecisionTreeClassifier', DecisionTreeClassifier()))\n",
    "models.append(('LinearDiscriminantAnalysis', LinearDiscriminantAnalysis()))\n",
    "models.append(('KNeighborsClassifier', KNeighborsClassifier()))\n",
    "models.append(('GaussianNB', GaussianNB()))\n",
    "models.append(('SVC', SVC()))\n",
    "# evaluate each model in turn\n",
    "scoring = 'accuracy'"
   ]
  },
  {
   "cell_type": "code",
   "execution_count": 123,
   "metadata": {},
   "outputs": [
    {
     "name": "stdout",
     "output_type": "stream",
     "text": [
      "LogisticRegression: 0.766207 (0.021245)\n",
      "DecisionTreeClassifier: 0.767931 (0.021315)\n",
      "LinearDiscriminantAnalysis: 0.767931 (0.020807)\n",
      "KNeighborsClassifier: 0.756897 (0.027163)\n",
      "GaussianNB: 0.383103 (0.020074)\n",
      "SVC: 0.766897 (0.019881)\n"
     ]
    }
   ],
   "source": [
    "results = []\n",
    "names = []\n",
    "for name, model in models:\n",
    "\tkfold = model_selection.KFold(n_splits=10, random_state=5)\n",
    "\tcv_results = model_selection.cross_val_score(model, X,y, cv=kfold, scoring=scoring)\n",
    "\tresults.append(cv_results)\n",
    "\tnames.append(name)\n",
    "\tmsg = \"%s: %f (%f)\" % (name, cv_results.mean(), cv_results.std())\n",
    "\tprint(msg)"
   ]
  },
  {
   "cell_type": "markdown",
   "metadata": {},
   "source": [
    "## Warning: Variables are collinear means that the predictors are correlated - Namely M/F and B/W"
   ]
  },
  {
   "cell_type": "markdown",
   "metadata": {},
   "source": [
    "## Remove one of the Collinear variables - both W and F"
   ]
  },
  {
   "cell_type": "code",
   "execution_count": 162,
   "metadata": {},
   "outputs": [
    {
     "data": {
      "text/plain": [
       "Index(['Occ', 'Race_B', 'Race_W', 'Sex_F', 'Sex_M', 'Year_1900', 'Year_1910',\n",
       "       'Year_1920', 'Age_0-15', 'Age_16-55', 'Age_Above-56'],\n",
       "      dtype='object')"
      ]
     },
     "execution_count": 162,
     "metadata": {},
     "output_type": "execute_result"
    }
   ],
   "source": [
    "data5 = data2.copy()\n",
    "data5.columns"
   ]
  },
  {
   "cell_type": "code",
   "execution_count": 163,
   "metadata": {},
   "outputs": [
    {
     "data": {
      "text/html": [
       "<div>\n",
       "<style scoped>\n",
       "    .dataframe tbody tr th:only-of-type {\n",
       "        vertical-align: middle;\n",
       "    }\n",
       "\n",
       "    .dataframe tbody tr th {\n",
       "        vertical-align: top;\n",
       "    }\n",
       "\n",
       "    .dataframe thead th {\n",
       "        text-align: right;\n",
       "    }\n",
       "</style>\n",
       "<table border=\"1\" class=\"dataframe\">\n",
       "  <thead>\n",
       "    <tr style=\"text-align: right;\">\n",
       "      <th></th>\n",
       "      <th>Occ</th>\n",
       "      <th>Race_B</th>\n",
       "      <th>Sex_M</th>\n",
       "      <th>Year_1900</th>\n",
       "      <th>Year_1910</th>\n",
       "      <th>Age_0-15</th>\n",
       "      <th>Age_16-55</th>\n",
       "    </tr>\n",
       "  </thead>\n",
       "  <tbody>\n",
       "    <tr>\n",
       "      <th>0</th>\n",
       "      <td>Unskilled</td>\n",
       "      <td>1</td>\n",
       "      <td>0</td>\n",
       "      <td>1</td>\n",
       "      <td>0</td>\n",
       "      <td>0</td>\n",
       "      <td>1</td>\n",
       "    </tr>\n",
       "    <tr>\n",
       "      <th>1</th>\n",
       "      <td>Unskilled</td>\n",
       "      <td>1</td>\n",
       "      <td>1</td>\n",
       "      <td>1</td>\n",
       "      <td>0</td>\n",
       "      <td>0</td>\n",
       "      <td>1</td>\n",
       "    </tr>\n",
       "    <tr>\n",
       "      <th>2</th>\n",
       "      <td>Unskilled</td>\n",
       "      <td>1</td>\n",
       "      <td>0</td>\n",
       "      <td>1</td>\n",
       "      <td>0</td>\n",
       "      <td>0</td>\n",
       "      <td>1</td>\n",
       "    </tr>\n",
       "    <tr>\n",
       "      <th>3</th>\n",
       "      <td>Unskilled</td>\n",
       "      <td>1</td>\n",
       "      <td>0</td>\n",
       "      <td>1</td>\n",
       "      <td>0</td>\n",
       "      <td>0</td>\n",
       "      <td>1</td>\n",
       "    </tr>\n",
       "    <tr>\n",
       "      <th>4</th>\n",
       "      <td>Student</td>\n",
       "      <td>1</td>\n",
       "      <td>0</td>\n",
       "      <td>1</td>\n",
       "      <td>0</td>\n",
       "      <td>1</td>\n",
       "      <td>0</td>\n",
       "    </tr>\n",
       "  </tbody>\n",
       "</table>\n",
       "</div>"
      ],
      "text/plain": [
       "         Occ  Race_B  Sex_M  Year_1900  Year_1910  Age_0-15  Age_16-55\n",
       "0  Unskilled       1      0          1          0         0          1\n",
       "1  Unskilled       1      1          1          0         0          1\n",
       "2  Unskilled       1      0          1          0         0          1\n",
       "3  Unskilled       1      0          1          0         0          1\n",
       "4    Student       1      0          1          0         1          0"
      ]
     },
     "execution_count": 163,
     "metadata": {},
     "output_type": "execute_result"
    }
   ],
   "source": [
    "columns = ['Occ', 'Race_B', 'Race_W', 'Sex_F', 'Sex_M', 'Year_1900', 'Year_1910',\n",
    "       'Year_1920', 'Age_0-15', 'Age_16-55', 'Age_Above-56']\n",
    "\n",
    "data5.drop(['Sex_F','Race_W','Year_1920','Age_Above-56'], axis=1, inplace=True)\n",
    "\n",
    "data5.head(5)"
   ]
  },
  {
   "cell_type": "code",
   "execution_count": 164,
   "metadata": {},
   "outputs": [],
   "source": [
    "train,test = train_test_split(data5,test_size=0.2,random_state=7)"
   ]
  },
  {
   "cell_type": "code",
   "execution_count": 165,
   "metadata": {},
   "outputs": [
    {
     "data": {
      "image/png": "[encoded data removed]",
      "text/plain": [
       "<Figure size 720x576 with 2 Axes>"
      ]
     },
     "metadata": {},
     "output_type": "display_data"
    }
   ],
   "source": [
    "correlation_matrix = train.corr()\n",
    "plt.figure(figsize=(10,8))\n",
    "ax = sns.heatmap(correlation_matrix, vmax=1, square=True, annot=True,fmt='.2f', cmap ='GnBu', cbar_kws={\"shrink\": .5}, robust=True)\n",
    "plt.title('Correlation matrix between the features', fontsize=20)\n",
    "plt.show()"
   ]
  },
  {
   "cell_type": "code",
   "execution_count": 166,
   "metadata": {},
   "outputs": [
    {
     "name": "stdout",
     "output_type": "stream",
     "text": [
      "train shape:   \n",
      "(2900, 7)\n",
      "test shape:    \n",
      "(725, 7)\n",
      "Unique classes with count : \n",
      "Unskilled                1571\n",
      "Student                   726\n",
      "Skilled Labor             486\n",
      "Skilled Professionals     117\n",
      "Name: Occ, dtype: int64\n",
      "data description : \n"
     ]
    }
   ],
   "source": [
    "print (\"train shape:   \")\n",
    "print(train.shape)\n",
    "print (\"test shape:    \")\n",
    "print(test.shape)\n",
    "print (\"Unique classes with count : \")\n",
    "print(pd.value_counts(train['Occ']))\n",
    "print (\"data description : \")\n",
    "#print(train.describe())"
   ]
  },
  {
   "cell_type": "code",
   "execution_count": 167,
   "metadata": {},
   "outputs": [],
   "source": [
    "#Modelling\n",
    "train['Occ'][train['Occ']=='Unskilled']=0\n",
    "train['Occ'][train['Occ']=='Skilled Labor']=1\n",
    "train['Occ'][train['Occ']=='Skilled Professionals']=2\n",
    "train['Occ'][train['Occ']=='Student']=3\n",
    "\n",
    "test['Occ'][test['Occ']=='Unskilled']=0\n",
    "test['Occ'][test['Occ']=='Skilled Labor']=1\n",
    "test['Occ'][test['Occ']=='Skilled Professionals']=2\n",
    "test['Occ'][test['Occ']=='Student']=3\n",
    "\n",
    "X = train.iloc[:,1:]\n",
    "y = train.iloc[:,0]\n",
    "y = pd.to_numeric(y)\n",
    "y_test=pd.to_numeric(test.iloc[:,0])\n"
   ]
  },
  {
   "cell_type": "markdown",
   "metadata": {},
   "source": [
    "## Compare the Results for different classifier models"
   ]
  },
  {
   "cell_type": "code",
   "execution_count": 168,
   "metadata": {},
   "outputs": [
    {
     "name": "stdout",
     "output_type": "stream",
     "text": [
      "LogisticRegression: 0.764133 (0.025946)\n",
      "DecisionTreeClassifier: 0.765166 (0.025759)\n",
      "LinearDiscriminantAnalysis: 0.765167 (0.024377)\n",
      "KNeighborsClassifier: 0.765511 (0.027552)\n",
      "GaussianNB: 0.379271 (0.039138)\n",
      "SVC: 0.766891 (0.024052)\n"
     ]
    }
   ],
   "source": [
    "results = []\n",
    "names = []\n",
    "for name, model in models:\n",
    "\tkfold = model_selection.KFold(n_splits=15, random_state=7)\n",
    "\tcv_results = model_selection.cross_val_score(model, X,y, cv=kfold, scoring=scoring)\n",
    "\tresults.append(cv_results)\n",
    "\tnames.append(name)\n",
    "\tmsg = \"%s: %f (%f)\" % (name, cv_results.mean(), cv_results.std())\n",
    "\tprint(msg)"
   ]
  },
  {
   "cell_type": "code",
   "execution_count": 169,
   "metadata": {},
   "outputs": [
    {
     "name": "stdout",
     "output_type": "stream",
     "text": [
      "LogisticRegression Performance\n",
      "0.783448275862069\n",
      "[[387   0   0  13]\n",
      " [118   0   0   2]\n",
      " [ 22   0   0   0]\n",
      " [  2   0   0 181]]\n",
      "              precision    recall  f1-score   support\n",
      "\n",
      "           0       0.73      0.97      0.83       400\n",
      "           1       0.00      0.00      0.00       120\n",
      "           2       0.00      0.00      0.00        22\n",
      "           3       0.92      0.99      0.96       183\n",
      "\n",
      "   micro avg       0.78      0.78      0.78       725\n",
      "   macro avg       0.41      0.49      0.45       725\n",
      "weighted avg       0.64      0.78      0.70       725\n",
      "\n"
     ]
    }
   ],
   "source": [
    "# Make predictions on validation dataset\n",
    "print (\"LogisticRegression Performance\")\n",
    "LR = LogisticRegression()\n",
    "LR.fit(X,y)\n",
    "predictions = LR.predict(test.iloc[:,1:])\n",
    "print(accuracy_score(y_test, predictions))\n",
    "print(confusion_matrix(y_test, predictions))\n",
    "print(classification_report(y_test, predictions))\n"
   ]
  },
  {
   "cell_type": "code",
   "execution_count": 170,
   "metadata": {},
   "outputs": [
    {
     "name": "stdout",
     "output_type": "stream",
     "text": [
      "SVC Performance\n",
      "0.783448275862069\n",
      "[[387   0   0  13]\n",
      " [118   0   0   2]\n",
      " [ 22   0   0   0]\n",
      " [  2   0   0 181]]\n",
      "              precision    recall  f1-score   support\n",
      "\n",
      "           0       0.73      0.97      0.83       400\n",
      "           1       0.00      0.00      0.00       120\n",
      "           2       0.00      0.00      0.00        22\n",
      "           3       0.92      0.99      0.96       183\n",
      "\n",
      "   micro avg       0.78      0.78      0.78       725\n",
      "   macro avg       0.41      0.49      0.45       725\n",
      "weighted avg       0.64      0.78      0.70       725\n",
      "\n"
     ]
    }
   ],
   "source": [
    "# Make predictions on validation dataset\n",
    "print (\"SVC Performance\")\n",
    "SVM = SVC()\n",
    "SVM.fit(X,y)\n",
    "predictions = SVM.predict(test.iloc[:,1:])\n",
    "print(accuracy_score(y_test, predictions))\n",
    "print(confusion_matrix(y_test, predictions))\n",
    "print(classification_report(y_test, predictions))\n"
   ]
  },
  {
   "cell_type": "code",
   "execution_count": 171,
   "metadata": {},
   "outputs": [
    {
     "name": "stdout",
     "output_type": "stream",
     "text": [
      "KNN Performance\n",
      "0.7448275862068966\n",
      "[[346  41   0  13]\n",
      " [105  13   0   2]\n",
      " [ 17   5   0   0]\n",
      " [  2   0   0 181]]\n",
      "              precision    recall  f1-score   support\n",
      "\n",
      "           0       0.74      0.86      0.80       400\n",
      "           1       0.22      0.11      0.15       120\n",
      "           2       0.00      0.00      0.00        22\n",
      "           3       0.92      0.99      0.96       183\n",
      "\n",
      "   micro avg       0.74      0.74      0.74       725\n",
      "   macro avg       0.47      0.49      0.47       725\n",
      "weighted avg       0.68      0.74      0.70       725\n",
      "\n"
     ]
    }
   ],
   "source": [
    "print (\"KNN Performance\")\n",
    "KNN = KNeighborsClassifier()\n",
    "KNN.fit(X,y)\n",
    "predictions = KNN.predict(test.iloc[:,1:])\n",
    "print (accuracy_score(y_test, predictions))\n",
    "print (confusion_matrix(y_test, predictions))\n",
    "print (classification_report(y_test, predictions))"
   ]
  },
  {
   "cell_type": "markdown",
   "metadata": {},
   "source": [
    "## PCA Projection to 2D"
   ]
  },
  {
   "cell_type": "code",
   "execution_count": 322,
   "metadata": {},
   "outputs": [
    {
     "data": {
      "text/plain": [
       "Index(['Occ', 'Race_B', 'Race_W', 'Sex_F', 'Sex_M', 'Year_1900', 'Year_1910',\n",
       "       'Year_1920', 'Age_0-15', 'Age_16-55', 'Age_Above-56'],\n",
       "      dtype='object')"
      ]
     },
     "execution_count": 322,
     "metadata": {},
     "output_type": "execute_result"
    }
   ],
   "source": [
    "data2.columns"
   ]
  },
  {
   "cell_type": "code",
   "execution_count": 323,
   "metadata": {},
   "outputs": [],
   "source": [
    "features = ['Race_B','Race_W', 'Sex_M', 'Year_1900','Year_1920','Age_0-15','Age_16-55']"
   ]
  },
  {
   "cell_type": "code",
   "execution_count": 324,
   "metadata": {},
   "outputs": [],
   "source": [
    "x = data2.loc[:, features].values"
   ]
  },
  {
   "cell_type": "code",
   "execution_count": 325,
   "metadata": {},
   "outputs": [],
   "source": [
    "y = data2.loc[:,['Occ']].values"
   ]
  },
  {
   "cell_type": "code",
   "execution_count": 326,
   "metadata": {},
   "outputs": [
    {
     "data": {
      "text/html": [
       "<div>\n",
       "<style scoped>\n",
       "    .dataframe tbody tr th:only-of-type {\n",
       "        vertical-align: middle;\n",
       "    }\n",
       "\n",
       "    .dataframe tbody tr th {\n",
       "        vertical-align: top;\n",
       "    }\n",
       "\n",
       "    .dataframe thead th {\n",
       "        text-align: right;\n",
       "    }\n",
       "</style>\n",
       "<table border=\"1\" class=\"dataframe\">\n",
       "  <thead>\n",
       "    <tr style=\"text-align: right;\">\n",
       "      <th></th>\n",
       "      <th>Race_B</th>\n",
       "      <th>Race_W</th>\n",
       "      <th>Sex_M</th>\n",
       "      <th>Year_1900</th>\n",
       "      <th>Year_1920</th>\n",
       "      <th>Age_0-15</th>\n",
       "      <th>Age_16-55</th>\n",
       "    </tr>\n",
       "  </thead>\n",
       "  <tbody>\n",
       "    <tr>\n",
       "      <th>0</th>\n",
       "      <td>1</td>\n",
       "      <td>0</td>\n",
       "      <td>0</td>\n",
       "      <td>1</td>\n",
       "      <td>0</td>\n",
       "      <td>0</td>\n",
       "      <td>1</td>\n",
       "    </tr>\n",
       "    <tr>\n",
       "      <th>1</th>\n",
       "      <td>1</td>\n",
       "      <td>0</td>\n",
       "      <td>1</td>\n",
       "      <td>1</td>\n",
       "      <td>0</td>\n",
       "      <td>0</td>\n",
       "      <td>1</td>\n",
       "    </tr>\n",
       "    <tr>\n",
       "      <th>2</th>\n",
       "      <td>1</td>\n",
       "      <td>0</td>\n",
       "      <td>0</td>\n",
       "      <td>1</td>\n",
       "      <td>0</td>\n",
       "      <td>0</td>\n",
       "      <td>1</td>\n",
       "    </tr>\n",
       "    <tr>\n",
       "      <th>3</th>\n",
       "      <td>1</td>\n",
       "      <td>0</td>\n",
       "      <td>0</td>\n",
       "      <td>1</td>\n",
       "      <td>0</td>\n",
       "      <td>0</td>\n",
       "      <td>1</td>\n",
       "    </tr>\n",
       "    <tr>\n",
       "      <th>4</th>\n",
       "      <td>1</td>\n",
       "      <td>0</td>\n",
       "      <td>0</td>\n",
       "      <td>1</td>\n",
       "      <td>0</td>\n",
       "      <td>1</td>\n",
       "      <td>0</td>\n",
       "    </tr>\n",
       "  </tbody>\n",
       "</table>\n",
       "</div>"
      ],
      "text/plain": [
       "   Race_B  Race_W  Sex_M  Year_1900  Year_1920  Age_0-15  Age_16-55\n",
       "0       1       0      0          1          0         0          1\n",
       "1       1       0      1          1          0         0          1\n",
       "2       1       0      0          1          0         0          1\n",
       "3       1       0      0          1          0         0          1\n",
       "4       1       0      0          1          0         1          0"
      ]
     },
     "execution_count": 326,
     "metadata": {},
     "output_type": "execute_result"
    }
   ],
   "source": [
    "pd.DataFrame(data = x, columns = features).head()"
   ]
  },
  {
   "cell_type": "code",
   "execution_count": 327,
   "metadata": {},
   "outputs": [],
   "source": [
    "from sklearn.decomposition import PCA\n",
    "pca = PCA(n_components=2)"
   ]
  },
  {
   "cell_type": "code",
   "execution_count": 328,
   "metadata": {},
   "outputs": [],
   "source": [
    "principalComponents = pca.fit_transform(x)"
   ]
  },
  {
   "cell_type": "code",
   "execution_count": 329,
   "metadata": {},
   "outputs": [],
   "source": [
    "principalDf = pd.DataFrame(data = principalComponents\n",
    "             , columns = ['principal component 1', 'principal component 2'])"
   ]
  },
  {
   "cell_type": "code",
   "execution_count": 330,
   "metadata": {},
   "outputs": [
    {
     "data": {
      "text/html": [
       "<div>\n",
       "<style scoped>\n",
       "    .dataframe tbody tr th:only-of-type {\n",
       "        vertical-align: middle;\n",
       "    }\n",
       "\n",
       "    .dataframe tbody tr th {\n",
       "        vertical-align: top;\n",
       "    }\n",
       "\n",
       "    .dataframe thead th {\n",
       "        text-align: right;\n",
       "    }\n",
       "</style>\n",
       "<table border=\"1\" class=\"dataframe\">\n",
       "  <thead>\n",
       "    <tr style=\"text-align: right;\">\n",
       "      <th></th>\n",
       "      <th>principal component 1</th>\n",
       "      <th>principal component 2</th>\n",
       "    </tr>\n",
       "  </thead>\n",
       "  <tbody>\n",
       "    <tr>\n",
       "      <th>0</th>\n",
       "      <td>0.086434</td>\n",
       "      <td>-1.060887</td>\n",
       "    </tr>\n",
       "    <tr>\n",
       "      <th>1</th>\n",
       "      <td>-0.013208</td>\n",
       "      <td>-0.867206</td>\n",
       "    </tr>\n",
       "    <tr>\n",
       "      <th>2</th>\n",
       "      <td>0.086434</td>\n",
       "      <td>-1.060887</td>\n",
       "    </tr>\n",
       "    <tr>\n",
       "      <th>3</th>\n",
       "      <td>0.086434</td>\n",
       "      <td>-1.060887</td>\n",
       "    </tr>\n",
       "    <tr>\n",
       "      <th>4</th>\n",
       "      <td>1.367202</td>\n",
       "      <td>-0.834175</td>\n",
       "    </tr>\n",
       "  </tbody>\n",
       "</table>\n",
       "</div>"
      ],
      "text/plain": [
       "   principal component 1  principal component 2\n",
       "0               0.086434              -1.060887\n",
       "1              -0.013208              -0.867206\n",
       "2               0.086434              -1.060887\n",
       "3               0.086434              -1.060887\n",
       "4               1.367202              -0.834175"
      ]
     },
     "execution_count": 330,
     "metadata": {},
     "output_type": "execute_result"
    }
   ],
   "source": [
    "principalDf.head(5)"
   ]
  },
  {
   "cell_type": "code",
   "execution_count": 331,
   "metadata": {},
   "outputs": [
    {
     "data": {
      "text/html": [
       "<div>\n",
       "<style scoped>\n",
       "    .dataframe tbody tr th:only-of-type {\n",
       "        vertical-align: middle;\n",
       "    }\n",
       "\n",
       "    .dataframe tbody tr th {\n",
       "        vertical-align: top;\n",
       "    }\n",
       "\n",
       "    .dataframe thead th {\n",
       "        text-align: right;\n",
       "    }\n",
       "</style>\n",
       "<table border=\"1\" class=\"dataframe\">\n",
       "  <thead>\n",
       "    <tr style=\"text-align: right;\">\n",
       "      <th></th>\n",
       "      <th>Occ</th>\n",
       "    </tr>\n",
       "  </thead>\n",
       "  <tbody>\n",
       "    <tr>\n",
       "      <th>0</th>\n",
       "      <td>Unskilled</td>\n",
       "    </tr>\n",
       "    <tr>\n",
       "      <th>1</th>\n",
       "      <td>Unskilled</td>\n",
       "    </tr>\n",
       "    <tr>\n",
       "      <th>2</th>\n",
       "      <td>Unskilled</td>\n",
       "    </tr>\n",
       "    <tr>\n",
       "      <th>3</th>\n",
       "      <td>Unskilled</td>\n",
       "    </tr>\n",
       "    <tr>\n",
       "      <th>4</th>\n",
       "      <td>Student</td>\n",
       "    </tr>\n",
       "  </tbody>\n",
       "</table>\n",
       "</div>"
      ],
      "text/plain": [
       "         Occ\n",
       "0  Unskilled\n",
       "1  Unskilled\n",
       "2  Unskilled\n",
       "3  Unskilled\n",
       "4    Student"
      ]
     },
     "execution_count": 331,
     "metadata": {},
     "output_type": "execute_result"
    }
   ],
   "source": [
    "data2[['Occ']].head()"
   ]
  },
  {
   "cell_type": "code",
   "execution_count": 332,
   "metadata": {},
   "outputs": [
    {
     "data": {
      "text/html": [
       "<div>\n",
       "<style scoped>\n",
       "    .dataframe tbody tr th:only-of-type {\n",
       "        vertical-align: middle;\n",
       "    }\n",
       "\n",
       "    .dataframe tbody tr th {\n",
       "        vertical-align: top;\n",
       "    }\n",
       "\n",
       "    .dataframe thead th {\n",
       "        text-align: right;\n",
       "    }\n",
       "</style>\n",
       "<table border=\"1\" class=\"dataframe\">\n",
       "  <thead>\n",
       "    <tr style=\"text-align: right;\">\n",
       "      <th></th>\n",
       "      <th>principal component 1</th>\n",
       "      <th>principal component 2</th>\n",
       "      <th>Occ</th>\n",
       "    </tr>\n",
       "  </thead>\n",
       "  <tbody>\n",
       "    <tr>\n",
       "      <th>0</th>\n",
       "      <td>0.086434</td>\n",
       "      <td>-1.060887</td>\n",
       "      <td>Unskilled</td>\n",
       "    </tr>\n",
       "    <tr>\n",
       "      <th>1</th>\n",
       "      <td>-0.013208</td>\n",
       "      <td>-0.867206</td>\n",
       "      <td>Unskilled</td>\n",
       "    </tr>\n",
       "    <tr>\n",
       "      <th>2</th>\n",
       "      <td>0.086434</td>\n",
       "      <td>-1.060887</td>\n",
       "      <td>Unskilled</td>\n",
       "    </tr>\n",
       "    <tr>\n",
       "      <th>3</th>\n",
       "      <td>0.086434</td>\n",
       "      <td>-1.060887</td>\n",
       "      <td>Unskilled</td>\n",
       "    </tr>\n",
       "    <tr>\n",
       "      <th>4</th>\n",
       "      <td>1.367202</td>\n",
       "      <td>-0.834175</td>\n",
       "      <td>Student</td>\n",
       "    </tr>\n",
       "  </tbody>\n",
       "</table>\n",
       "</div>"
      ],
      "text/plain": [
       "   principal component 1  principal component 2        Occ\n",
       "0               0.086434              -1.060887  Unskilled\n",
       "1              -0.013208              -0.867206  Unskilled\n",
       "2               0.086434              -1.060887  Unskilled\n",
       "3               0.086434              -1.060887  Unskilled\n",
       "4               1.367202              -0.834175    Student"
      ]
     },
     "execution_count": 332,
     "metadata": {},
     "output_type": "execute_result"
    }
   ],
   "source": [
    "finalDf = pd.concat([principalDf, data2[['Occ']]], axis = 1)\n",
    "finalDf.head(5)"
   ]
  },
  {
   "cell_type": "code",
   "execution_count": 333,
   "metadata": {},
   "outputs": [
    {
     "data": {
      "image/png": "[encoded data removed]",
      "text/plain": [
       "<Figure size 576x576 with 1 Axes>"
      ]
     },
     "metadata": {},
     "output_type": "display_data"
    }
   ],
   "source": [
    "fig = plt.figure(figsize = (8,8))\n",
    "ax = fig.add_subplot(1,1,1) \n",
    "ax.set_xlabel('Principal Component 1', fontsize = 15)\n",
    "ax.set_ylabel('Principal Component 2', fontsize = 15)\n",
    "ax.set_title('2 Component PCA', fontsize = 20)\n",
    "\n",
    "\n",
    "targets = ['Unskilled', 'Student', 'Skilled Labor','Skilled Professionals']\n",
    "colors = ['b', 'r','g','orange']\n",
    "for target, color in zip(targets,colors):\n",
    "    indicesToKeep = finalDf['Occ'] == target\n",
    "    ax.scatter(finalDf.loc[indicesToKeep, 'principal component 1']\n",
    "               , finalDf.loc[indicesToKeep, 'principal component 2']\n",
    "               , c = color\n",
    "               , s = 50)\n",
    "ax.legend(targets)\n",
    "ax.grid()"
   ]
  },
  {
   "cell_type": "code",
   "execution_count": 337,
   "metadata": {},
   "outputs": [
    {
     "data": {
      "text/plain": [
       "array([3.35232295e-01, 2.63584174e-01, 2.02084789e-01, 1.70335593e-01,\n",
       "       1.49760451e-02, 1.37871047e-02, 4.74728440e-34])"
      ]
     },
     "execution_count": 337,
     "metadata": {},
     "output_type": "execute_result"
    }
   ],
   "source": [
    "pca.explained_variance_ratio_"
   ]
  },
  {
   "cell_type": "code",
   "execution_count": 336,
   "metadata": {},
   "outputs": [
    {
     "data": {
      "image/png": "[encoded data removed]",
      "text/plain": [
       "<Figure size 432x288 with 1 Axes>"
      ]
     },
     "metadata": {},
     "output_type": "display_data"
    }
   ],
   "source": [
    "pca = PCA().fit(x)\n",
    "plt.plot(np.cumsum(pca.explained_variance_ratio_))\n",
    "plt.xlabel('number of components')\n",
    "plt.ylabel('cumulative explained variance');"
   ]
  },
  {
   "cell_type": "code",
   "execution_count": 319,
   "metadata": {},
   "outputs": [
    {
     "data": {
      "image/png": "[encoded data removed]",
      "text/plain": [
       "<Figure size 432x288 with 1 Axes>"
      ]
     },
     "metadata": {},
     "output_type": "display_data"
    }
   ],
   "source": [
    "sns.heatmap(np.log(pca.inverse_transform(np.eye(x.shape[1]))), cmap=\"hot\", cbar=False)\n",
    "plt.ylabel('principal component', fontsize=12);\n",
    "plt.xlabel('original feature index', fontsize=12);\n"
   ]
  },
  {
   "cell_type": "code",
   "execution_count": 320,
   "metadata": {},
   "outputs": [
    {
     "data": {
      "text/plain": [
       "<matplotlib.legend.Legend at 0x191535a6780>"
      ]
     },
     "execution_count": 320,
     "metadata": {},
     "output_type": "execute_result"
    },
    {
     "data": {
      "image/png": "[encoded data removed]",
      "text/plain": [
       "<Figure size 720x468 with 1 Axes>"
      ]
     },
     "metadata": {},
     "output_type": "display_data"
    }
   ],
   "source": [
    "pca_inv_data = pca.inverse_transform(np.eye(x.shape[1]))\n",
    "\n",
    "fig = plt.figure(figsize=(10, 6.5))\n",
    "plt.plot(pca_inv_data.mean(axis=0), '--o', label = 'mean')\n",
    "plt.plot(np.square(pca_inv_data.std(axis=0)), '--o', label = 'variance')\n",
    "plt.legend(loc='lower right')\n",
    "plt.ylabel('feature contribution', fontsize=12);\n",
    "plt.xlabel('feature index', fontsize=12);\n",
    "plt.tick_params(axis='both', which='major', labelsize=12);\n",
    "plt.tick_params(axis='both', which='minor', labelsize=12);\n",
    "#plt.xlim([0, 7])\n",
    "plt.legend(loc='upper left', fontsize=12)"
   ]
  },
  {
   "cell_type": "code",
   "execution_count": 298,
   "metadata": {},
   "outputs": [
    {
     "data": {
      "text/plain": [
       "['Race_B', 'Sex_M', 'Year_1900', 'Year_1920', 'Age_0-15', 'Age_16-55']"
      ]
     },
     "execution_count": 298,
     "metadata": {},
     "output_type": "execute_result"
    }
   ],
   "source": [
    "features"
   ]
  },
  {
   "cell_type": "markdown",
   "metadata": {},
   "source": [
    "## Receiver Operating Characteristic (ROC)"
   ]
  },
  {
   "cell_type": "markdown",
   "metadata": {},
   "source": [
    "Example of Receiver Operating Characteristic (ROC) metric to evaluate classifier output quality.\n",
    "\n",
    "ROC curves typically feature true positive rate on the Y axis, and false positive rate on the X axis. This means that the top left corner of the plot is the “ideal” point - a false positive rate of zero, and a true positive rate of one. This is not very realistic, but it does mean that a larger area under the curve (AUC) is usually better.\n",
    "\n",
    "The “steepness” of ROC curves is also important, since it is ideal to maximize the true positive rate while minimizing the false positive rate."
   ]
  },
  {
   "cell_type": "code",
   "execution_count": 222,
   "metadata": {},
   "outputs": [
    {
     "data": {
      "text/html": [
       "<div>\n",
       "<style scoped>\n",
       "    .dataframe tbody tr th:only-of-type {\n",
       "        vertical-align: middle;\n",
       "    }\n",
       "\n",
       "    .dataframe tbody tr th {\n",
       "        vertical-align: top;\n",
       "    }\n",
       "\n",
       "    .dataframe thead th {\n",
       "        text-align: right;\n",
       "    }\n",
       "</style>\n",
       "<table border=\"1\" class=\"dataframe\">\n",
       "  <thead>\n",
       "    <tr style=\"text-align: right;\">\n",
       "      <th></th>\n",
       "      <th>Occ</th>\n",
       "      <th>Race_B</th>\n",
       "      <th>Race_W</th>\n",
       "      <th>Sex_F</th>\n",
       "      <th>Sex_M</th>\n",
       "      <th>Year_1900</th>\n",
       "      <th>Year_1910</th>\n",
       "      <th>Year_1920</th>\n",
       "      <th>Age_0-15</th>\n",
       "      <th>Age_16-55</th>\n",
       "      <th>Age_Above-56</th>\n",
       "    </tr>\n",
       "  </thead>\n",
       "  <tbody>\n",
       "    <tr>\n",
       "      <th>0</th>\n",
       "      <td>Unskilled</td>\n",
       "      <td>1</td>\n",
       "      <td>0</td>\n",
       "      <td>1</td>\n",
       "      <td>0</td>\n",
       "      <td>1</td>\n",
       "      <td>0</td>\n",
       "      <td>0</td>\n",
       "      <td>0</td>\n",
       "      <td>1</td>\n",
       "      <td>0</td>\n",
       "    </tr>\n",
       "    <tr>\n",
       "      <th>1</th>\n",
       "      <td>Unskilled</td>\n",
       "      <td>1</td>\n",
       "      <td>0</td>\n",
       "      <td>0</td>\n",
       "      <td>1</td>\n",
       "      <td>1</td>\n",
       "      <td>0</td>\n",
       "      <td>0</td>\n",
       "      <td>0</td>\n",
       "      <td>1</td>\n",
       "      <td>0</td>\n",
       "    </tr>\n",
       "    <tr>\n",
       "      <th>2</th>\n",
       "      <td>Unskilled</td>\n",
       "      <td>1</td>\n",
       "      <td>0</td>\n",
       "      <td>1</td>\n",
       "      <td>0</td>\n",
       "      <td>1</td>\n",
       "      <td>0</td>\n",
       "      <td>0</td>\n",
       "      <td>0</td>\n",
       "      <td>1</td>\n",
       "      <td>0</td>\n",
       "    </tr>\n",
       "    <tr>\n",
       "      <th>3</th>\n",
       "      <td>Unskilled</td>\n",
       "      <td>1</td>\n",
       "      <td>0</td>\n",
       "      <td>1</td>\n",
       "      <td>0</td>\n",
       "      <td>1</td>\n",
       "      <td>0</td>\n",
       "      <td>0</td>\n",
       "      <td>0</td>\n",
       "      <td>1</td>\n",
       "      <td>0</td>\n",
       "    </tr>\n",
       "    <tr>\n",
       "      <th>4</th>\n",
       "      <td>Student</td>\n",
       "      <td>1</td>\n",
       "      <td>0</td>\n",
       "      <td>1</td>\n",
       "      <td>0</td>\n",
       "      <td>1</td>\n",
       "      <td>0</td>\n",
       "      <td>0</td>\n",
       "      <td>1</td>\n",
       "      <td>0</td>\n",
       "      <td>0</td>\n",
       "    </tr>\n",
       "  </tbody>\n",
       "</table>\n",
       "</div>"
      ],
      "text/plain": [
       "         Occ  Race_B  Race_W  Sex_F  Sex_M  Year_1900  Year_1910  Year_1920  \\\n",
       "0  Unskilled       1       0      1      0          1          0          0   \n",
       "1  Unskilled       1       0      0      1          1          0          0   \n",
       "2  Unskilled       1       0      1      0          1          0          0   \n",
       "3  Unskilled       1       0      1      0          1          0          0   \n",
       "4    Student       1       0      1      0          1          0          0   \n",
       "\n",
       "   Age_0-15  Age_16-55  Age_Above-56  \n",
       "0         0          1             0  \n",
       "1         0          1             0  \n",
       "2         0          1             0  \n",
       "3         0          1             0  \n",
       "4         1          0             0  "
      ]
     },
     "execution_count": 222,
     "metadata": {},
     "output_type": "execute_result"
    }
   ],
   "source": [
    "data2.head()"
   ]
  },
  {
   "cell_type": "code",
   "execution_count": 223,
   "metadata": {},
   "outputs": [
    {
     "data": {
      "text/plain": [
       "Index(['Race_B', 'Race_W', 'Sex_F', 'Sex_M', 'Year_1900', 'Year_1910',\n",
       "       'Year_1920', 'Age_0-15', 'Age_16-55', 'Age_Above-56',\n",
       "       'Occ_Skilled Labor', 'Occ_Skilled Professionals', 'Occ_Student',\n",
       "       'Occ_Unskilled'],\n",
       "      dtype='object')"
      ]
     },
     "execution_count": 223,
     "metadata": {},
     "output_type": "execute_result"
    }
   ],
   "source": [
    "#data2[\"Occ\"]=data2[\"Occ\"].astype(int)\n",
    "data6 = pd.get_dummies(data2, columns =['Occ'])\n",
    "data6.columns"
   ]
  },
  {
   "cell_type": "code",
   "execution_count": 224,
   "metadata": {},
   "outputs": [],
   "source": [
    "import numpy as np\n",
    "import matplotlib.pyplot as plt\n",
    "from itertools import cycle\n",
    "\n",
    "from sklearn import svm, datasets\n",
    "from sklearn.metrics import roc_curve, auc\n",
    "from sklearn.model_selection import train_test_split\n",
    "from sklearn.preprocessing import label_binarize\n",
    "from sklearn.multiclass import OneVsRestClassifier\n",
    "from scipy import interp\n"
   ]
  },
  {
   "cell_type": "code",
   "execution_count": 225,
   "metadata": {},
   "outputs": [],
   "source": [
    "X = data6.iloc[:,:-4].values\n",
    "y = data6.iloc[:,-4:].values"
   ]
  },
  {
   "cell_type": "code",
   "execution_count": 226,
   "metadata": {},
   "outputs": [
    {
     "data": {
      "text/plain": [
       "array([[1, 0, 1, ..., 0, 1, 0],\n",
       "       [1, 0, 0, ..., 0, 1, 0],\n",
       "       [1, 0, 1, ..., 0, 1, 0],\n",
       "       ...,\n",
       "       [1, 0, 0, ..., 0, 1, 0],\n",
       "       [1, 0, 0, ..., 0, 1, 0],\n",
       "       [1, 0, 0, ..., 0, 1, 0]], dtype=uint8)"
      ]
     },
     "execution_count": 226,
     "metadata": {},
     "output_type": "execute_result"
    }
   ],
   "source": [
    "X"
   ]
  },
  {
   "cell_type": "code",
   "execution_count": 227,
   "metadata": {},
   "outputs": [
    {
     "data": {
      "text/plain": [
       "array([[0, 0, 0, 1],\n",
       "       [0, 0, 0, 1],\n",
       "       [0, 0, 0, 1],\n",
       "       ...,\n",
       "       [0, 0, 0, 1],\n",
       "       [0, 0, 0, 1],\n",
       "       [0, 0, 0, 1]], dtype=uint8)"
      ]
     },
     "execution_count": 227,
     "metadata": {},
     "output_type": "execute_result"
    }
   ],
   "source": [
    "y"
   ]
  },
  {
   "cell_type": "code",
   "execution_count": 228,
   "metadata": {},
   "outputs": [],
   "source": [
    "n_classes = 4"
   ]
  },
  {
   "cell_type": "code",
   "execution_count": 229,
   "metadata": {},
   "outputs": [],
   "source": [
    "# Add noisy features to make the problem harder\n",
    "random_state = np.random.RandomState(0)\n",
    "n_samples, n_features = X.shape\n",
    "X = np.c_[X, random_state.randn(n_samples, 200 * n_features)]\n",
    "\n",
    "\n",
    "# shuffle and split training and test sets\n",
    "X_train, X_test, y_train, y_test = train_test_split(X, y, test_size=.5,\n",
    "                                                    random_state=0)\n",
    "\n",
    "# Learn to predict each class against the other\n",
    "classifier = OneVsRestClassifier(svm.SVC(kernel='linear', probability=True,\n",
    "                                 random_state=random_state))\n",
    "y_score = classifier.fit(X_train, y_train).decision_function(X_test)\n",
    "\n",
    "# Compute ROC curve and ROC area for each class\n",
    "fpr = dict()\n",
    "tpr = dict()\n",
    "roc_auc = dict()\n",
    "for i in range(n_classes):\n",
    "    fpr[i], tpr[i], _ = roc_curve(y_test[:, i], y_score[:, i])\n",
    "    roc_auc[i] = auc(fpr[i], tpr[i])\n",
    "\n",
    "# Compute micro-average ROC curve and ROC area\n",
    "fpr[\"micro\"], tpr[\"micro\"], _ = roc_curve(y_test.ravel(), y_score.ravel())\n",
    "roc_auc[\"micro\"] = auc(fpr[\"micro\"], tpr[\"micro\"])"
   ]
  },
  {
   "cell_type": "code",
   "execution_count": 230,
   "metadata": {},
   "outputs": [
    {
     "data": {
      "image/png": "[encoded data removed]",
      "text/plain": [
       "<Figure size 432x288 with 1 Axes>"
      ]
     },
     "metadata": {},
     "output_type": "display_data"
    }
   ],
   "source": [
    "# Compute macro-average ROC curve and ROC area\n",
    "lw = 2\n",
    "# First aggregate all false positive rates\n",
    "all_fpr = np.unique(np.concatenate([fpr[i] for i in range(n_classes)]))\n",
    "\n",
    "# Then interpolate all ROC curves at this points\n",
    "mean_tpr = np.zeros_like(all_fpr)\n",
    "for i in range(n_classes):\n",
    "    mean_tpr += interp(all_fpr, fpr[i], tpr[i])\n",
    "\n",
    "# Finally average it and compute AUC\n",
    "mean_tpr /= n_classes\n",
    "\n",
    "fpr[\"macro\"] = all_fpr\n",
    "tpr[\"macro\"] = mean_tpr\n",
    "roc_auc[\"macro\"] = auc(fpr[\"macro\"], tpr[\"macro\"])\n",
    "\n",
    "# Plot all ROC curves\n",
    "plt.figure()\n",
    "plt.plot(fpr[\"micro\"], tpr[\"micro\"],\n",
    "         label='micro-average ROC curve (area = {0:0.2f})'\n",
    "               ''.format(roc_auc[\"micro\"]),\n",
    "         color='deeppink', linestyle=':', linewidth=4)\n",
    "\n",
    "plt.plot(fpr[\"macro\"], tpr[\"macro\"],\n",
    "         label='macro-average ROC curve (area = {0:0.2f})'\n",
    "               ''.format(roc_auc[\"macro\"]),\n",
    "         color='navy', linestyle=':', linewidth=4)\n",
    "\n",
    "colors = cycle(['aqua', 'darkorange', 'cornflowerblue','green'])\n",
    "for i, color in zip(range(n_classes), colors):\n",
    "    plt.plot(fpr[i], tpr[i], color=color, lw=lw,\n",
    "             label='ROC curve of class {0} (area = {1:0.2f})'\n",
    "             ''.format(i, roc_auc[i]))\n",
    "\n",
    "plt.plot([0, 1], [0, 1], 'k--', lw=lw)\n",
    "plt.xlim([0.0, 1.0])\n",
    "plt.ylim([0.0, 1.05])\n",
    "plt.xlabel('False Positive Rate')\n",
    "plt.ylabel('True Positive Rate')\n",
    "plt.title('Some extension of Receiver operating characteristic to multi-class')\n",
    "plt.legend(loc=\"lower right\")\n",
    "plt.show()\n"
   ]
  },
  {
   "cell_type": "code",
   "execution_count": null,
   "metadata": {},
   "outputs": [],
   "source": []
  },
  {
   "cell_type": "code",
   "execution_count": null,
   "metadata": {},
   "outputs": [],
   "source": []
  }
 ],
 "metadata": {
  "kernelspec": {
   "display_name": "Python 3",
   "language": "python",
   "name": "python3"
  },
  "language_info": {
   "codemirror_mode": {
    "name": "ipython",
    "version": 3
   },
   "file_extension": ".py",
   "mimetype": "text/x-python",
   "name": "python",
   "nbconvert_exporter": "python",
   "pygments_lexer": "ipython3",
   "version": "3.6.6"
  }
 },
 "nbformat": 4,
 "nbformat_minor": 2
}
