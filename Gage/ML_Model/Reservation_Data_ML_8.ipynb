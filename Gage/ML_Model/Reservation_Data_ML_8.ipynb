{
 "cells": [
  {
   "cell_type": "markdown",
   "metadata": {},
   "source": [
    "# ML for Reservation Data & Correlation with Houston Census Figures\n",
    "\n",
    "import pandas as pd\n",
    "import numpy as np\n",
    "import xlrd\n",
    "import matplotlib.pyplot as plt\n",
    "import seaborn as sns"
   ]
  },
  {
   "cell_type": "code",
   "execution_count": 1,
   "metadata": {},
   "outputs": [],
   "source": [
    "import warnings\n",
    "warnings.simplefilter('ignore')\n",
    "\n",
    "# %matplotlib inline\n",
    "import matplotlib.pyplot as plt\n",
    "import numpy as np\n",
    "import pandas as pd\n",
    "import xlrd\n",
    "import seaborn as sns"
   ]
  },
  {
   "cell_type": "code",
   "execution_count": 2,
   "metadata": {},
   "outputs": [],
   "source": [
    "from sklearn import preprocessing\n",
    "import matplotlib.pyplot as plt \n",
    "plt.rc(\"font\", size=14)\n",
    "from sklearn.linear_model import LogisticRegression\n",
    "from sklearn.model_selection import train_test_split\n",
    "sns.set(style=\"white\")\n",
    "sns.set(style=\"whitegrid\", color_codes=True)"
   ]
  },
  {
   "cell_type": "markdown",
   "metadata": {},
   "source": [
    "# Reading in Census Data"
   ]
  },
  {
   "cell_type": "code",
   "execution_count": 3,
   "metadata": {},
   "outputs": [
    {
     "data": {
      "text/html": [
       "<div>\n",
       "<style scoped>\n",
       "    .dataframe tbody tr th:only-of-type {\n",
       "        vertical-align: middle;\n",
       "    }\n",
       "\n",
       "    .dataframe tbody tr th {\n",
       "        vertical-align: top;\n",
       "    }\n",
       "\n",
       "    .dataframe thead th {\n",
       "        text-align: right;\n",
       "    }\n",
       "</style>\n",
       "<table border=\"1\" class=\"dataframe\">\n",
       "  <thead>\n",
       "    <tr style=\"text-align: right;\">\n",
       "      <th></th>\n",
       "      <th>line_number</th>\n",
       "      <th>house_number</th>\n",
       "      <th>street_name</th>\n",
       "      <th>last_name</th>\n",
       "      <th>given_name</th>\n",
       "      <th>relation</th>\n",
       "      <th>color_race</th>\n",
       "      <th>sex</th>\n",
       "      <th>age_at_last_birthday</th>\n",
       "      <th>occupation</th>\n",
       "      <th>own_or_rent</th>\n",
       "      <th>owned_free_or_mortgage</th>\n",
       "      <th>house_or_farm</th>\n",
       "      <th>my_notes</th>\n",
       "      <th>file_name</th>\n",
       "      <th>census_year</th>\n",
       "      <th>grouped_occu</th>\n",
       "    </tr>\n",
       "  </thead>\n",
       "  <tbody>\n",
       "    <tr>\n",
       "      <th>0</th>\n",
       "      <td>65</td>\n",
       "      <td>830</td>\n",
       "      <td>Arthur St</td>\n",
       "      <td>Brown</td>\n",
       "      <td>Eliza</td>\n",
       "      <td>Boarder</td>\n",
       "      <td>B</td>\n",
       "      <td>F</td>\n",
       "      <td>26</td>\n",
       "      <td>Servant</td>\n",
       "      <td>Null</td>\n",
       "      <td>Null</td>\n",
       "      <td>Null</td>\n",
       "      <td>Null</td>\n",
       "      <td>1900 census ED 70 page 2</td>\n",
       "      <td>1900</td>\n",
       "      <td>Unskilled</td>\n",
       "    </tr>\n",
       "    <tr>\n",
       "      <th>1</th>\n",
       "      <td>63</td>\n",
       "      <td>830</td>\n",
       "      <td>Arthur St</td>\n",
       "      <td>Butcher</td>\n",
       "      <td>John H.</td>\n",
       "      <td>Boarder</td>\n",
       "      <td>B</td>\n",
       "      <td>M</td>\n",
       "      <td>27</td>\n",
       "      <td>Drayman</td>\n",
       "      <td>Null</td>\n",
       "      <td>Null</td>\n",
       "      <td>Null</td>\n",
       "      <td>Null</td>\n",
       "      <td>1900 census ED 70 page 2</td>\n",
       "      <td>1900</td>\n",
       "      <td>Unskilled</td>\n",
       "    </tr>\n",
       "    <tr>\n",
       "      <th>2</th>\n",
       "      <td>61</td>\n",
       "      <td>830</td>\n",
       "      <td>Arthur St</td>\n",
       "      <td>Olliver</td>\n",
       "      <td>Marsha</td>\n",
       "      <td>Head</td>\n",
       "      <td>B</td>\n",
       "      <td>F</td>\n",
       "      <td>25</td>\n",
       "      <td>Laundress</td>\n",
       "      <td>Rent</td>\n",
       "      <td>Null</td>\n",
       "      <td>House</td>\n",
       "      <td>Null</td>\n",
       "      <td>1900 census ED 70 page 2</td>\n",
       "      <td>1900</td>\n",
       "      <td>Unskilled</td>\n",
       "    </tr>\n",
       "    <tr>\n",
       "      <th>3</th>\n",
       "      <td>64</td>\n",
       "      <td>830</td>\n",
       "      <td>Arthur St</td>\n",
       "      <td>Spivey</td>\n",
       "      <td>Neata</td>\n",
       "      <td>Boarder</td>\n",
       "      <td>B</td>\n",
       "      <td>F</td>\n",
       "      <td>25</td>\n",
       "      <td>Servant</td>\n",
       "      <td>Null</td>\n",
       "      <td>Null</td>\n",
       "      <td>Null</td>\n",
       "      <td>Null</td>\n",
       "      <td>1900 census ED 70 page 2</td>\n",
       "      <td>1900</td>\n",
       "      <td>Unskilled</td>\n",
       "    </tr>\n",
       "    <tr>\n",
       "      <th>4</th>\n",
       "      <td>62</td>\n",
       "      <td>830</td>\n",
       "      <td>Arthur St</td>\n",
       "      <td>Wells</td>\n",
       "      <td>Ethel</td>\n",
       "      <td>Daughter</td>\n",
       "      <td>B</td>\n",
       "      <td>F</td>\n",
       "      <td>8</td>\n",
       "      <td>At School</td>\n",
       "      <td>Null</td>\n",
       "      <td>Null</td>\n",
       "      <td>Null</td>\n",
       "      <td>Null</td>\n",
       "      <td>1900 census ED 70 page 2</td>\n",
       "      <td>1900</td>\n",
       "      <td>Student</td>\n",
       "    </tr>\n",
       "  </tbody>\n",
       "</table>\n",
       "</div>"
      ],
      "text/plain": [
       "   line_number house_number street_name last_name given_name  relation  \\\n",
       "0           65          830   Arthur St     Brown      Eliza   Boarder   \n",
       "1           63          830   Arthur St   Butcher    John H.   Boarder   \n",
       "2           61          830   Arthur St   Olliver     Marsha      Head   \n",
       "3           64          830   Arthur St    Spivey      Neata   Boarder   \n",
       "4           62          830   Arthur St     Wells      Ethel  Daughter   \n",
       "\n",
       "  color_race sex age_at_last_birthday occupation own_or_rent  \\\n",
       "0          B   F                   26    Servant        Null   \n",
       "1          B   M                   27    Drayman        Null   \n",
       "2          B   F                   25  Laundress        Rent   \n",
       "3          B   F                   25    Servant        Null   \n",
       "4          B   F                    8  At School        Null   \n",
       "\n",
       "  owned_free_or_mortgage house_or_farm my_notes                 file_name  \\\n",
       "0                   Null          Null     Null  1900 census ED 70 page 2   \n",
       "1                   Null          Null     Null  1900 census ED 70 page 2   \n",
       "2                   Null         House     Null  1900 census ED 70 page 2   \n",
       "3                   Null          Null     Null  1900 census ED 70 page 2   \n",
       "4                   Null          Null     Null  1900 census ED 70 page 2   \n",
       "\n",
       "   census_year grouped_occu  \n",
       "0         1900    Unskilled  \n",
       "1         1900    Unskilled  \n",
       "2         1900    Unskilled  \n",
       "3         1900    Unskilled  \n",
       "4         1900      Student  "
      ]
     },
     "execution_count": 3,
     "metadata": {},
     "output_type": "execute_result"
    }
   ],
   "source": [
    "Census_Data = pd.read_csv('censuses.csv', index_col=None)\n",
    "Census_Data.head(5)"
   ]
  },
  {
   "cell_type": "code",
   "execution_count": 4,
   "metadata": {},
   "outputs": [
    {
     "data": {
      "text/plain": [
       "<matplotlib.axes._subplots.AxesSubplot at 0x279d07962b0>"
      ]
     },
     "execution_count": 4,
     "metadata": {},
     "output_type": "execute_result"
    },
    {
     "data": {
      "image/png": "[encoded data removed]",
      "text/plain": [
       "<Figure size 432x288 with 2 Axes>"
      ]
     },
     "metadata": {},
     "output_type": "display_data"
    }
   ],
   "source": [
    "sns.heatmap(Census_Data.isnull(),yticklabels=False,cbar=True,cmap='viridis')"
   ]
  },
  {
   "cell_type": "code",
   "execution_count": 5,
   "metadata": {},
   "outputs": [
    {
     "data": {
      "text/plain": [
       "line_number               False\n",
       "house_number               True\n",
       "street_name                True\n",
       "last_name                  True\n",
       "given_name                 True\n",
       "relation                   True\n",
       "color_race                False\n",
       "sex                       False\n",
       "age_at_last_birthday      False\n",
       "occupation                False\n",
       "own_or_rent                True\n",
       "owned_free_or_mortgage     True\n",
       "house_or_farm              True\n",
       "my_notes                   True\n",
       "file_name                  True\n",
       "census_year               False\n",
       "grouped_occu              False\n",
       "dtype: bool"
      ]
     },
     "execution_count": 5,
     "metadata": {},
     "output_type": "execute_result"
    }
   ],
   "source": [
    "Census_Data.isnull().any()"
   ]
  },
  {
   "cell_type": "code",
   "execution_count": 6,
   "metadata": {},
   "outputs": [
    {
     "data": {
      "text/plain": [
       "Index(['line_number', 'house_number', 'street_name', 'last_name', 'given_name',\n",
       "       'relation', 'color_race', 'sex', 'age_at_last_birthday', 'occupation',\n",
       "       'own_or_rent', 'owned_free_or_mortgage', 'house_or_farm', 'my_notes',\n",
       "       'file_name', 'census_year', 'grouped_occu'],\n",
       "      dtype='object')"
      ]
     },
     "execution_count": 6,
     "metadata": {},
     "output_type": "execute_result"
    }
   ],
   "source": [
    "Census_Data.columns"
   ]
  },
  {
   "cell_type": "code",
   "execution_count": 7,
   "metadata": {},
   "outputs": [],
   "source": [
    "Census_Data = Census_Data[['color_race', 'sex', 'age_at_last_birthday', 'occupation',\n",
    "       'census_year', 'grouped_occu']]"
   ]
  },
  {
   "cell_type": "code",
   "execution_count": 8,
   "metadata": {},
   "outputs": [
    {
     "data": {
      "text/plain": [
       "color_race              False\n",
       "sex                     False\n",
       "age_at_last_birthday    False\n",
       "occupation              False\n",
       "census_year             False\n",
       "grouped_occu            False\n",
       "dtype: bool"
      ]
     },
     "execution_count": 8,
     "metadata": {},
     "output_type": "execute_result"
    }
   ],
   "source": [
    "Census_Data.isnull().any()"
   ]
  },
  {
   "cell_type": "code",
   "execution_count": 9,
   "metadata": {},
   "outputs": [
    {
     "data": {
      "text/plain": [
       "array(['26', '27', '25', '8', '46', '34', '19', '15', '12', '9', '21',\n",
       "       '5', '0', '2', '58', '35', '23', '18', '13', '56', '41', '20',\n",
       "       '39', '7', '24', '51', '43', '17', '14', '60', '22', '54', '48',\n",
       "       '10', '28', '30', '11', '32', '31', '29', '50', '49', '1', '63',\n",
       "       '33', '6', '64', '3', '37', '55', '36', '57', '53', '16', '87',\n",
       "       '81', '38', '4', '65', '45', '40', '76', '47', '44', '75', '42',\n",
       "       '52', '61', '68', '69', '77', '105', '59', '62', 'Null', '84',\n",
       "       '80', '5 and 0 months', '2 months', '2 and 3 month',\n",
       "       '5 and 1 month', '3 and 10 months', '11 months', '70', 'un - (80)',\n",
       "       '3 and 11 months', '9 months', '2 and 11 months', '5 months',\n",
       "       '5 and 11 months', '67', '4 and 0 months', 'Un.', '6 and 1 month',\n",
       "       '4 and 1 month', '2 and 6 months', '4 and 10 months',\n",
       "       '1 and 4 months', '1 month', '2 and 5 months', '8 months', '73',\n",
       "       '10 months', '2 and 10 months', '1 and 9 months', '4 months',\n",
       "       '2 and 3 months', '0 months', '3 and 2 months', '5 and 9 months',\n",
       "       '2 and 9 months', '3 months', '3 and 6 months', '7 and 10 month',\n",
       "       '3 and 8 months', '3 and 7 months', '71', '1 and 6 months',\n",
       "       '3 and 5 months', '66', '3 and 4 months', '1 and 11 months',\n",
       "       '3 and 3 months', '2 and 0 months', '90', '85', '1 and 0 months',\n",
       "       '2 and 4 months', '3 and 0 months', '1 and 5 months',\n",
       "       '1 and 8 months', '72', '7 months', '1 and 10 months',\n",
       "       '4 and 2 months', '2 and 2 months', '2 and 1 months',\n",
       "       '4 and 5 months', '3 and and 0 months', '3 and 1 month',\n",
       "       '2 and 8 months', '5 and 2 months', '92', '82', '4 and 7 months',\n",
       "       '4 and 9 months', '5 and 7 months', '83', '3 and 7 months ',\n",
       "       '4 and 11 months', '5 and 4 months', '1 and 1 month',\n",
       "       '3 and 1 months', '100', '78', '5 and 5 months', '5 and 8 months',\n",
       "       '3 and 9 months', '5 and 6 months', '4 and 8 months',\n",
       "       '6 and 0 months', '74', '6 months', '5 and 3 months',\n",
       "       '1 and 7 months', '2 and 4 months ', '4 and 4 months', '7 months ',\n",
       "       '1 and 2 months', '4 and 6 months', '2 and 1 month', '79',\n",
       "       '4 and 0 months ', '4 and 3 months'], dtype=object)"
      ]
     },
     "execution_count": 9,
     "metadata": {},
     "output_type": "execute_result"
    }
   ],
   "source": [
    "Census_Data['age_at_last_birthday'].unique()"
   ]
  },
  {
   "cell_type": "code",
   "execution_count": 10,
   "metadata": {},
   "outputs": [],
   "source": [
    "def age_clean(data,under_1_value = 1, pandas = 'yes'):\n",
    "    clean_age = []\n",
    "    if pandas == 'yes':\n",
    "        data_lst = data.tolist()\n",
    "    else:\n",
    "        data_lst = data\n",
    "    for datum in data_lst:\n",
    "        if 'month' in str(datum):\n",
    "            if 'and' in str(datum):\n",
    "                clean_age.append(str(datum).split(' ')[0])\n",
    "            else:\n",
    "                clean_age.append(str(under_1_value))\n",
    "        else:\n",
    "            clean_age.append(datum)\n",
    "    return clean_age"
   ]
  },
  {
   "cell_type": "code",
   "execution_count": 11,
   "metadata": {},
   "outputs": [],
   "source": [
    "dirty_age = Census_Data['age_at_last_birthday']\n",
    "#dirty_age\n",
    "clean_age = age_clean(dirty_age,under_1_value = 1, pandas = 'yes')"
   ]
  },
  {
   "cell_type": "code",
   "execution_count": 12,
   "metadata": {},
   "outputs": [],
   "source": [
    "Census_Data['Age'] = clean_age"
   ]
  },
  {
   "cell_type": "code",
   "execution_count": 13,
   "metadata": {},
   "outputs": [
    {
     "data": {
      "text/plain": [
       "array(['26', '27', '25', '8', '46', '34', '19', '15', '12', '9', '21',\n",
       "       '5', '0', '2', '58', '35', '23', '18', '13', '56', '41', '20',\n",
       "       '39', '7', '24', '51', '43', '17', '14', '60', '22', '54', '48',\n",
       "       '10', '28', '30', '11', '32', '31', '29', '50', '49', '1', '63',\n",
       "       '33', '6', '64', '3', '37', '55', '36', '57', '53', '16', '87',\n",
       "       '81', '38', '4', '65', '45', '40', '76', '47', '44', '75', '42',\n",
       "       '52', '61', '68', '69', '77', '105', '59', '62', 'Null', '84',\n",
       "       '80', '70', 'un - (80)', '67', 'Un.', '73', '71', '66', '90', '85',\n",
       "       '72', '92', '82', '83', '100', '78', '74', '79'], dtype=object)"
      ]
     },
     "execution_count": 13,
     "metadata": {},
     "output_type": "execute_result"
    }
   ],
   "source": [
    "Census_Data=Census_Data.dropna()\n",
    "Census_Data['Age'].unique()"
   ]
  },
  {
   "cell_type": "code",
   "execution_count": 14,
   "metadata": {},
   "outputs": [
    {
     "data": {
      "text/plain": [
       "(4244, 7)"
      ]
     },
     "execution_count": 14,
     "metadata": {},
     "output_type": "execute_result"
    }
   ],
   "source": [
    "Census_Data.shape"
   ]
  },
  {
   "cell_type": "code",
   "execution_count": 15,
   "metadata": {},
   "outputs": [
    {
     "name": "stdout",
     "output_type": "stream",
     "text": [
      "Empty DataFrame\n",
      "Columns: [color_race, sex, age_at_last_birthday, occupation, census_year, grouped_occu, Age]\n",
      "Index: []\n"
     ]
    }
   ],
   "source": [
    "print(Census_Data[Census_Data.isnull().any(axis=1)].head())"
   ]
  },
  {
   "cell_type": "code",
   "execution_count": 16,
   "metadata": {},
   "outputs": [],
   "source": [
    "Census_Data['Age'] = pd.to_numeric(Census_Data['Age'], errors='coerce')"
   ]
  },
  {
   "cell_type": "code",
   "execution_count": 17,
   "metadata": {},
   "outputs": [
    {
     "data": {
      "text/plain": [
       "array([ 26.,  27.,  25.,   8.,  46.,  34.,  19.,  15.,  12.,   9.,  21.,\n",
       "         5.,   0.,   2.,  58.,  35.,  23.,  18.,  13.,  56.,  41.,  20.,\n",
       "        39.,   7.,  24.,  51.,  43.,  17.,  14.,  60.,  22.,  54.,  48.,\n",
       "        10.,  28.,  30.,  11.,  32.,  31.,  29.,  50.,  49.,   1.,  63.,\n",
       "        33.,   6.,  64.,   3.,  37.,  55.,  36.,  57.,  53.,  16.,  87.,\n",
       "        81.,  38.,   4.,  65.,  45.,  40.,  76.,  47.,  44.,  75.,  42.,\n",
       "        52.,  61.,  68.,  69.,  77., 105.,  59.,  62.,  nan,  84.,  80.,\n",
       "        70.,  67.,  73.,  71.,  66.,  90.,  85.,  72.,  92.,  82.,  83.,\n",
       "       100.,  78.,  74.,  79.])"
      ]
     },
     "execution_count": 17,
     "metadata": {},
     "output_type": "execute_result"
    }
   ],
   "source": [
    "Census_Data['Age'].unique()"
   ]
  },
  {
   "cell_type": "code",
   "execution_count": 18,
   "metadata": {},
   "outputs": [
    {
     "data": {
      "text/plain": [
       "color_race              False\n",
       "sex                     False\n",
       "age_at_last_birthday    False\n",
       "occupation              False\n",
       "census_year             False\n",
       "grouped_occu            False\n",
       "Age                      True\n",
       "dtype: bool"
      ]
     },
     "execution_count": 18,
     "metadata": {},
     "output_type": "execute_result"
    }
   ],
   "source": [
    "Census_Data.isnull().any()"
   ]
  },
  {
   "cell_type": "code",
   "execution_count": 19,
   "metadata": {},
   "outputs": [],
   "source": [
    "Census_Data=Census_Data.dropna()"
   ]
  },
  {
   "cell_type": "code",
   "execution_count": 20,
   "metadata": {},
   "outputs": [
    {
     "data": {
      "text/plain": [
       "color_race              False\n",
       "sex                     False\n",
       "age_at_last_birthday    False\n",
       "occupation              False\n",
       "census_year             False\n",
       "grouped_occu            False\n",
       "Age                     False\n",
       "dtype: bool"
      ]
     },
     "execution_count": 20,
     "metadata": {},
     "output_type": "execute_result"
    }
   ],
   "source": [
    "Census_Data.isnull().any()"
   ]
  },
  {
   "cell_type": "code",
   "execution_count": 21,
   "metadata": {},
   "outputs": [
    {
     "data": {
      "text/plain": [
       "(4240, 7)"
      ]
     },
     "execution_count": 21,
     "metadata": {},
     "output_type": "execute_result"
    }
   ],
   "source": [
    "Census_Data.shape"
   ]
  },
  {
   "cell_type": "code",
   "execution_count": 22,
   "metadata": {},
   "outputs": [
    {
     "data": {
      "text/plain": [
       "array(['B', 'W', 'Mu', 'M', 'M/W', 'My', 'Jp'], dtype=object)"
      ]
     },
     "execution_count": 22,
     "metadata": {},
     "output_type": "execute_result"
    }
   ],
   "source": [
    "Census_Data['color_race'].unique()"
   ]
  },
  {
   "cell_type": "code",
   "execution_count": 23,
   "metadata": {},
   "outputs": [],
   "source": [
    "Census_Data['color_race'].replace(['Mu', 'M', 'M/W', 'My'], \"B\", inplace=True)"
   ]
  },
  {
   "cell_type": "code",
   "execution_count": 24,
   "metadata": {},
   "outputs": [
    {
     "data": {
      "text/plain": [
       "array(['B', 'W', 'Jp'], dtype=object)"
      ]
     },
     "execution_count": 24,
     "metadata": {},
     "output_type": "execute_result"
    }
   ],
   "source": [
    "Census_Data['color_race'].unique()"
   ]
  },
  {
   "cell_type": "code",
   "execution_count": 25,
   "metadata": {},
   "outputs": [
    {
     "data": {
      "text/plain": [
       "array(['B', 'W'], dtype=object)"
      ]
     },
     "execution_count": 25,
     "metadata": {},
     "output_type": "execute_result"
    }
   ],
   "source": [
    "Census_Data = Census_Data[Census_Data.color_race != 'Jp']\n",
    "Census_Data['color_race'].unique()"
   ]
  },
  {
   "cell_type": "code",
   "execution_count": 26,
   "metadata": {},
   "outputs": [
    {
     "data": {
      "text/plain": [
       "array(['F', 'M', 'FM'], dtype=object)"
      ]
     },
     "execution_count": 26,
     "metadata": {},
     "output_type": "execute_result"
    }
   ],
   "source": [
    "Census_Data['sex'].unique()"
   ]
  },
  {
   "cell_type": "code",
   "execution_count": 27,
   "metadata": {},
   "outputs": [
    {
     "data": {
      "text/plain": [
       "array(['F', 'M'], dtype=object)"
      ]
     },
     "execution_count": 27,
     "metadata": {},
     "output_type": "execute_result"
    }
   ],
   "source": [
    "Census_Data = Census_Data[Census_Data.sex != 'FM']\n",
    "Census_Data['sex'].unique()"
   ]
  },
  {
   "cell_type": "code",
   "execution_count": 28,
   "metadata": {},
   "outputs": [
    {
     "data": {
      "text/plain": [
       "array([1900, 1920, 1910], dtype=int64)"
      ]
     },
     "execution_count": 28,
     "metadata": {},
     "output_type": "execute_result"
    }
   ],
   "source": [
    "Census_Data['census_year'].unique()"
   ]
  },
  {
   "cell_type": "code",
   "execution_count": 29,
   "metadata": {},
   "outputs": [
    {
     "data": {
      "text/plain": [
       "array(['Unskilled', 'Student', 'Missing Occupations', 'Skilled Labor',\n",
       "       'Skilled Professionals'], dtype=object)"
      ]
     },
     "execution_count": 29,
     "metadata": {},
     "output_type": "execute_result"
    }
   ],
   "source": [
    "Census_Data['grouped_occu'].unique()"
   ]
  },
  {
   "cell_type": "code",
   "execution_count": 30,
   "metadata": {},
   "outputs": [
    {
     "data": {
      "text/plain": [
       "(4236, 7)"
      ]
     },
     "execution_count": 30,
     "metadata": {},
     "output_type": "execute_result"
    }
   ],
   "source": [
    "Census_Data.shape"
   ]
  },
  {
   "cell_type": "code",
   "execution_count": 31,
   "metadata": {},
   "outputs": [],
   "source": [
    "Census_Data.rename(columns={'color_race': 'Race', 'sex': 'Sex', 'census_year':'Year',\n",
    "                           'grouped_occu':'Occ'}, inplace=True)"
   ]
  },
  {
   "cell_type": "code",
   "execution_count": 32,
   "metadata": {},
   "outputs": [
    {
     "data": {
      "text/html": [
       "<div>\n",
       "<style scoped>\n",
       "    .dataframe tbody tr th:only-of-type {\n",
       "        vertical-align: middle;\n",
       "    }\n",
       "\n",
       "    .dataframe tbody tr th {\n",
       "        vertical-align: top;\n",
       "    }\n",
       "\n",
       "    .dataframe thead th {\n",
       "        text-align: right;\n",
       "    }\n",
       "</style>\n",
       "<table border=\"1\" class=\"dataframe\">\n",
       "  <thead>\n",
       "    <tr style=\"text-align: right;\">\n",
       "      <th></th>\n",
       "      <th>Race</th>\n",
       "      <th>Sex</th>\n",
       "      <th>age_at_last_birthday</th>\n",
       "      <th>occupation</th>\n",
       "      <th>Year</th>\n",
       "      <th>Occ</th>\n",
       "      <th>Age</th>\n",
       "    </tr>\n",
       "  </thead>\n",
       "  <tbody>\n",
       "    <tr>\n",
       "      <th>0</th>\n",
       "      <td>B</td>\n",
       "      <td>F</td>\n",
       "      <td>26</td>\n",
       "      <td>Servant</td>\n",
       "      <td>1900</td>\n",
       "      <td>Unskilled</td>\n",
       "      <td>26.0</td>\n",
       "    </tr>\n",
       "    <tr>\n",
       "      <th>1</th>\n",
       "      <td>B</td>\n",
       "      <td>M</td>\n",
       "      <td>27</td>\n",
       "      <td>Drayman</td>\n",
       "      <td>1900</td>\n",
       "      <td>Unskilled</td>\n",
       "      <td>27.0</td>\n",
       "    </tr>\n",
       "    <tr>\n",
       "      <th>2</th>\n",
       "      <td>B</td>\n",
       "      <td>F</td>\n",
       "      <td>25</td>\n",
       "      <td>Laundress</td>\n",
       "      <td>1900</td>\n",
       "      <td>Unskilled</td>\n",
       "      <td>25.0</td>\n",
       "    </tr>\n",
       "    <tr>\n",
       "      <th>3</th>\n",
       "      <td>B</td>\n",
       "      <td>F</td>\n",
       "      <td>25</td>\n",
       "      <td>Servant</td>\n",
       "      <td>1900</td>\n",
       "      <td>Unskilled</td>\n",
       "      <td>25.0</td>\n",
       "    </tr>\n",
       "    <tr>\n",
       "      <th>4</th>\n",
       "      <td>B</td>\n",
       "      <td>F</td>\n",
       "      <td>8</td>\n",
       "      <td>At School</td>\n",
       "      <td>1900</td>\n",
       "      <td>Student</td>\n",
       "      <td>8.0</td>\n",
       "    </tr>\n",
       "    <tr>\n",
       "      <th>5</th>\n",
       "      <td>B</td>\n",
       "      <td>M</td>\n",
       "      <td>46</td>\n",
       "      <td>Day Laborer</td>\n",
       "      <td>1900</td>\n",
       "      <td>Unskilled</td>\n",
       "      <td>46.0</td>\n",
       "    </tr>\n",
       "    <tr>\n",
       "      <th>6</th>\n",
       "      <td>B</td>\n",
       "      <td>F</td>\n",
       "      <td>34</td>\n",
       "      <td>Null</td>\n",
       "      <td>1900</td>\n",
       "      <td>Missing Occupations</td>\n",
       "      <td>34.0</td>\n",
       "    </tr>\n",
       "    <tr>\n",
       "      <th>7</th>\n",
       "      <td>B</td>\n",
       "      <td>M</td>\n",
       "      <td>19</td>\n",
       "      <td>Drayman</td>\n",
       "      <td>1900</td>\n",
       "      <td>Unskilled</td>\n",
       "      <td>19.0</td>\n",
       "    </tr>\n",
       "    <tr>\n",
       "      <th>8</th>\n",
       "      <td>B</td>\n",
       "      <td>F</td>\n",
       "      <td>15</td>\n",
       "      <td>Null</td>\n",
       "      <td>1900</td>\n",
       "      <td>Missing Occupations</td>\n",
       "      <td>15.0</td>\n",
       "    </tr>\n",
       "    <tr>\n",
       "      <th>9</th>\n",
       "      <td>B</td>\n",
       "      <td>M</td>\n",
       "      <td>12</td>\n",
       "      <td>At School</td>\n",
       "      <td>1900</td>\n",
       "      <td>Student</td>\n",
       "      <td>12.0</td>\n",
       "    </tr>\n",
       "  </tbody>\n",
       "</table>\n",
       "</div>"
      ],
      "text/plain": [
       "  Race Sex age_at_last_birthday   occupation  Year                  Occ   Age\n",
       "0    B   F                   26      Servant  1900            Unskilled  26.0\n",
       "1    B   M                   27      Drayman  1900            Unskilled  27.0\n",
       "2    B   F                   25    Laundress  1900            Unskilled  25.0\n",
       "3    B   F                   25      Servant  1900            Unskilled  25.0\n",
       "4    B   F                    8    At School  1900              Student   8.0\n",
       "5    B   M                   46  Day Laborer  1900            Unskilled  46.0\n",
       "6    B   F                   34         Null  1900  Missing Occupations  34.0\n",
       "7    B   M                   19      Drayman  1900            Unskilled  19.0\n",
       "8    B   F                   15         Null  1900  Missing Occupations  15.0\n",
       "9    B   M                   12    At School  1900              Student  12.0"
      ]
     },
     "execution_count": 32,
     "metadata": {},
     "output_type": "execute_result"
    }
   ],
   "source": [
    "Census_Data.head(10)"
   ]
  },
  {
   "cell_type": "code",
   "execution_count": 33,
   "metadata": {},
   "outputs": [
    {
     "data": {
      "text/html": [
       "<div>\n",
       "<style scoped>\n",
       "    .dataframe tbody tr th:only-of-type {\n",
       "        vertical-align: middle;\n",
       "    }\n",
       "\n",
       "    .dataframe tbody tr th {\n",
       "        vertical-align: top;\n",
       "    }\n",
       "\n",
       "    .dataframe thead th {\n",
       "        text-align: right;\n",
       "    }\n",
       "</style>\n",
       "<table border=\"1\" class=\"dataframe\">\n",
       "  <thead>\n",
       "    <tr style=\"text-align: right;\">\n",
       "      <th></th>\n",
       "      <th>Race</th>\n",
       "      <th>Sex</th>\n",
       "      <th>occupation</th>\n",
       "      <th>Year</th>\n",
       "      <th>Occ</th>\n",
       "      <th>Age</th>\n",
       "    </tr>\n",
       "  </thead>\n",
       "  <tbody>\n",
       "    <tr>\n",
       "      <th>0</th>\n",
       "      <td>B</td>\n",
       "      <td>F</td>\n",
       "      <td>Servant</td>\n",
       "      <td>1900</td>\n",
       "      <td>Unskilled</td>\n",
       "      <td>26.0</td>\n",
       "    </tr>\n",
       "    <tr>\n",
       "      <th>1</th>\n",
       "      <td>B</td>\n",
       "      <td>M</td>\n",
       "      <td>Drayman</td>\n",
       "      <td>1900</td>\n",
       "      <td>Unskilled</td>\n",
       "      <td>27.0</td>\n",
       "    </tr>\n",
       "    <tr>\n",
       "      <th>2</th>\n",
       "      <td>B</td>\n",
       "      <td>F</td>\n",
       "      <td>Laundress</td>\n",
       "      <td>1900</td>\n",
       "      <td>Unskilled</td>\n",
       "      <td>25.0</td>\n",
       "    </tr>\n",
       "    <tr>\n",
       "      <th>3</th>\n",
       "      <td>B</td>\n",
       "      <td>F</td>\n",
       "      <td>Servant</td>\n",
       "      <td>1900</td>\n",
       "      <td>Unskilled</td>\n",
       "      <td>25.0</td>\n",
       "    </tr>\n",
       "    <tr>\n",
       "      <th>4</th>\n",
       "      <td>B</td>\n",
       "      <td>F</td>\n",
       "      <td>At School</td>\n",
       "      <td>1900</td>\n",
       "      <td>Student</td>\n",
       "      <td>8.0</td>\n",
       "    </tr>\n",
       "  </tbody>\n",
       "</table>\n",
       "</div>"
      ],
      "text/plain": [
       "  Race Sex occupation  Year        Occ   Age\n",
       "0    B   F    Servant  1900  Unskilled  26.0\n",
       "1    B   M    Drayman  1900  Unskilled  27.0\n",
       "2    B   F  Laundress  1900  Unskilled  25.0\n",
       "3    B   F    Servant  1900  Unskilled  25.0\n",
       "4    B   F  At School  1900    Student   8.0"
      ]
     },
     "execution_count": 33,
     "metadata": {},
     "output_type": "execute_result"
    }
   ],
   "source": [
    "del Census_Data['age_at_last_birthday']\n",
    "Census_Data.head(5)"
   ]
  },
  {
   "cell_type": "code",
   "execution_count": 34,
   "metadata": {},
   "outputs": [],
   "source": [
    "Census_Data = Census_Data[Census_Data.Occ != 'Missing Occupations']"
   ]
  },
  {
   "cell_type": "code",
   "execution_count": 35,
   "metadata": {},
   "outputs": [
    {
     "data": {
      "text/plain": [
       "(2837, 6)"
      ]
     },
     "execution_count": 35,
     "metadata": {},
     "output_type": "execute_result"
    }
   ],
   "source": [
    "Census_Data.shape"
   ]
  },
  {
   "cell_type": "code",
   "execution_count": 36,
   "metadata": {},
   "outputs": [
    {
     "data": {
      "text/html": [
       "<div>\n",
       "<style scoped>\n",
       "    .dataframe tbody tr th:only-of-type {\n",
       "        vertical-align: middle;\n",
       "    }\n",
       "\n",
       "    .dataframe tbody tr th {\n",
       "        vertical-align: top;\n",
       "    }\n",
       "\n",
       "    .dataframe thead th {\n",
       "        text-align: right;\n",
       "    }\n",
       "</style>\n",
       "<table border=\"1\" class=\"dataframe\">\n",
       "  <thead>\n",
       "    <tr style=\"text-align: right;\">\n",
       "      <th></th>\n",
       "      <th>Race</th>\n",
       "      <th>Sex</th>\n",
       "      <th>occupation</th>\n",
       "      <th>Year</th>\n",
       "      <th>Occ</th>\n",
       "      <th>Age</th>\n",
       "    </tr>\n",
       "  </thead>\n",
       "  <tbody>\n",
       "    <tr>\n",
       "      <th>0</th>\n",
       "      <td>B</td>\n",
       "      <td>F</td>\n",
       "      <td>Servant</td>\n",
       "      <td>1900</td>\n",
       "      <td>Unskilled</td>\n",
       "      <td>26.0</td>\n",
       "    </tr>\n",
       "    <tr>\n",
       "      <th>1</th>\n",
       "      <td>B</td>\n",
       "      <td>M</td>\n",
       "      <td>Drayman</td>\n",
       "      <td>1900</td>\n",
       "      <td>Unskilled</td>\n",
       "      <td>27.0</td>\n",
       "    </tr>\n",
       "    <tr>\n",
       "      <th>2</th>\n",
       "      <td>B</td>\n",
       "      <td>F</td>\n",
       "      <td>Laundress</td>\n",
       "      <td>1900</td>\n",
       "      <td>Unskilled</td>\n",
       "      <td>25.0</td>\n",
       "    </tr>\n",
       "    <tr>\n",
       "      <th>3</th>\n",
       "      <td>B</td>\n",
       "      <td>F</td>\n",
       "      <td>Servant</td>\n",
       "      <td>1900</td>\n",
       "      <td>Unskilled</td>\n",
       "      <td>25.0</td>\n",
       "    </tr>\n",
       "    <tr>\n",
       "      <th>4</th>\n",
       "      <td>B</td>\n",
       "      <td>F</td>\n",
       "      <td>At School</td>\n",
       "      <td>1900</td>\n",
       "      <td>Student</td>\n",
       "      <td>8.0</td>\n",
       "    </tr>\n",
       "  </tbody>\n",
       "</table>\n",
       "</div>"
      ],
      "text/plain": [
       "  Race Sex occupation  Year        Occ   Age\n",
       "0    B   F    Servant  1900  Unskilled  26.0\n",
       "1    B   M    Drayman  1900  Unskilled  27.0\n",
       "2    B   F  Laundress  1900  Unskilled  25.0\n",
       "3    B   F    Servant  1900  Unskilled  25.0\n",
       "4    B   F  At School  1900    Student   8.0"
      ]
     },
     "execution_count": 36,
     "metadata": {},
     "output_type": "execute_result"
    }
   ],
   "source": [
    "Census_Data.head(5)"
   ]
  },
  {
   "cell_type": "code",
   "execution_count": 37,
   "metadata": {},
   "outputs": [
    {
     "data": {
      "image/png": "[encoded data removed]",
      "text/plain": [
       "<Figure size 432x288 with 1 Axes>"
      ]
     },
     "metadata": {},
     "output_type": "display_data"
    }
   ],
   "source": [
    "sns.countplot(x = 'Race',data=Census_Data)\n",
    "plt.show()"
   ]
  },
  {
   "cell_type": "code",
   "execution_count": 38,
   "metadata": {},
   "outputs": [
    {
     "data": {
      "text/plain": [
       "<matplotlib.axes._subplots.AxesSubplot at 0x279d0f92b70>"
      ]
     },
     "execution_count": 38,
     "metadata": {},
     "output_type": "execute_result"
    },
    {
     "data": {
      "image/png": "[encoded data removed]",
      "text/plain": [
       "<Figure size 432x288 with 1 Axes>"
      ]
     },
     "metadata": {},
     "output_type": "display_data"
    }
   ],
   "source": [
    "sns.countplot(x='Year',hue='Race',data=Census_Data,palette='RdBu_r')"
   ]
  },
  {
   "cell_type": "code",
   "execution_count": 39,
   "metadata": {},
   "outputs": [
    {
     "data": {
      "image/png": "[encoded data removed]",
      "text/plain": [
       "<Figure size 432x288 with 1 Axes>"
      ]
     },
     "metadata": {},
     "output_type": "display_data"
    }
   ],
   "source": [
    "sns.countplot(x = 'Age',data=Census_Data)\n",
    "plt.show()\n",
    "\n"
   ]
  },
  {
   "cell_type": "code",
   "execution_count": 40,
   "metadata": {},
   "outputs": [
    {
     "data": {
      "text/plain": [
       "<matplotlib.axes._subplots.AxesSubplot at 0x279d0ed3668>"
      ]
     },
     "execution_count": 40,
     "metadata": {},
     "output_type": "execute_result"
    },
    {
     "data": {
      "image/png": "[encoded data removed]",
      "text/plain": [
       "<Figure size 432x288 with 1 Axes>"
      ]
     },
     "metadata": {},
     "output_type": "display_data"
    }
   ],
   "source": [
    "Census_Data['Age'].hist(bins=25,color='darkred',alpha=0.7)"
   ]
  },
  {
   "cell_type": "code",
   "execution_count": 41,
   "metadata": {},
   "outputs": [
    {
     "data": {
      "image/png": "[encoded data removed]",
      "text/plain": [
       "<Figure size 432x288 with 1 Axes>"
      ]
     },
     "metadata": {},
     "output_type": "display_data"
    }
   ],
   "source": [
    "sns.countplot(x = 'Sex',data=Census_Data)\n",
    "plt.show()"
   ]
  },
  {
   "cell_type": "code",
   "execution_count": 42,
   "metadata": {},
   "outputs": [
    {
     "data": {
      "image/png": "[encoded data removed]",
      "text/plain": [
       "<Figure size 432x288 with 1 Axes>"
      ]
     },
     "metadata": {},
     "output_type": "display_data"
    }
   ],
   "source": [
    "sns.countplot(x = 'Year',data=Census_Data)\n",
    "plt.show()"
   ]
  },
  {
   "cell_type": "code",
   "execution_count": 43,
   "metadata": {},
   "outputs": [],
   "source": [
    "age_ranges= [0,11,19,40,65,110]\n",
    "age_labels = ['age_0-11','age_12-19','age_20-40','age_40-65','age_Above-65']\n",
    "Census_Data['Age'] = pd.cut(Census_Data['Age'], bins=age_ranges, labels=age_labels)"
   ]
  },
  {
   "cell_type": "code",
   "execution_count": 44,
   "metadata": {},
   "outputs": [
    {
     "data": {
      "text/html": [
       "<div>\n",
       "<style scoped>\n",
       "    .dataframe tbody tr th:only-of-type {\n",
       "        vertical-align: middle;\n",
       "    }\n",
       "\n",
       "    .dataframe tbody tr th {\n",
       "        vertical-align: top;\n",
       "    }\n",
       "\n",
       "    .dataframe thead th {\n",
       "        text-align: right;\n",
       "    }\n",
       "</style>\n",
       "<table border=\"1\" class=\"dataframe\">\n",
       "  <thead>\n",
       "    <tr style=\"text-align: right;\">\n",
       "      <th></th>\n",
       "      <th>Race</th>\n",
       "      <th>Sex</th>\n",
       "      <th>occupation</th>\n",
       "      <th>Year</th>\n",
       "      <th>Occ</th>\n",
       "      <th>Age</th>\n",
       "    </tr>\n",
       "  </thead>\n",
       "  <tbody>\n",
       "    <tr>\n",
       "      <th>0</th>\n",
       "      <td>B</td>\n",
       "      <td>F</td>\n",
       "      <td>Servant</td>\n",
       "      <td>1900</td>\n",
       "      <td>Unskilled</td>\n",
       "      <td>age_20-40</td>\n",
       "    </tr>\n",
       "    <tr>\n",
       "      <th>1</th>\n",
       "      <td>B</td>\n",
       "      <td>M</td>\n",
       "      <td>Drayman</td>\n",
       "      <td>1900</td>\n",
       "      <td>Unskilled</td>\n",
       "      <td>age_20-40</td>\n",
       "    </tr>\n",
       "    <tr>\n",
       "      <th>2</th>\n",
       "      <td>B</td>\n",
       "      <td>F</td>\n",
       "      <td>Laundress</td>\n",
       "      <td>1900</td>\n",
       "      <td>Unskilled</td>\n",
       "      <td>age_20-40</td>\n",
       "    </tr>\n",
       "    <tr>\n",
       "      <th>3</th>\n",
       "      <td>B</td>\n",
       "      <td>F</td>\n",
       "      <td>Servant</td>\n",
       "      <td>1900</td>\n",
       "      <td>Unskilled</td>\n",
       "      <td>age_20-40</td>\n",
       "    </tr>\n",
       "    <tr>\n",
       "      <th>4</th>\n",
       "      <td>B</td>\n",
       "      <td>F</td>\n",
       "      <td>At School</td>\n",
       "      <td>1900</td>\n",
       "      <td>Student</td>\n",
       "      <td>age_0-11</td>\n",
       "    </tr>\n",
       "  </tbody>\n",
       "</table>\n",
       "</div>"
      ],
      "text/plain": [
       "  Race Sex occupation  Year        Occ        Age\n",
       "0    B   F    Servant  1900  Unskilled  age_20-40\n",
       "1    B   M    Drayman  1900  Unskilled  age_20-40\n",
       "2    B   F  Laundress  1900  Unskilled  age_20-40\n",
       "3    B   F    Servant  1900  Unskilled  age_20-40\n",
       "4    B   F  At School  1900    Student   age_0-11"
      ]
     },
     "execution_count": 44,
     "metadata": {},
     "output_type": "execute_result"
    }
   ],
   "source": [
    "Census_Data.head(5)"
   ]
  },
  {
   "cell_type": "code",
   "execution_count": 45,
   "metadata": {},
   "outputs": [
    {
     "data": {
      "image/png": "[encoded data removed]",
      "text/plain": [
       "<Figure size 432x288 with 1 Axes>"
      ]
     },
     "metadata": {},
     "output_type": "display_data"
    }
   ],
   "source": [
    "sns.countplot(x = 'Occ',data=Census_Data)\n",
    "plt.show()"
   ]
  },
  {
   "cell_type": "code",
   "execution_count": 46,
   "metadata": {},
   "outputs": [
    {
     "data": {
      "text/plain": [
       "Index(['occupation', 'Occ', 'Race_B', 'Race_W', 'Sex_F', 'Sex_M', 'Year_1900',\n",
       "       'Year_1910', 'Year_1920', 'Age_age_0-11', 'Age_age_12-19',\n",
       "       'Age_age_20-40', 'Age_age_40-65', 'Age_age_Above-65'],\n",
       "      dtype='object')"
      ]
     },
     "execution_count": 46,
     "metadata": {},
     "output_type": "execute_result"
    }
   ],
   "source": [
    "data2 = pd.get_dummies(Census_Data, columns =['Race','Sex', 'Year','Age'])\n",
    "data2.columns"
   ]
  },
  {
   "cell_type": "code",
   "execution_count": 47,
   "metadata": {},
   "outputs": [
    {
     "data": {
      "text/html": [
       "<div>\n",
       "<style scoped>\n",
       "    .dataframe tbody tr th:only-of-type {\n",
       "        vertical-align: middle;\n",
       "    }\n",
       "\n",
       "    .dataframe tbody tr th {\n",
       "        vertical-align: top;\n",
       "    }\n",
       "\n",
       "    .dataframe thead th {\n",
       "        text-align: right;\n",
       "    }\n",
       "</style>\n",
       "<table border=\"1\" class=\"dataframe\">\n",
       "  <thead>\n",
       "    <tr style=\"text-align: right;\">\n",
       "      <th></th>\n",
       "      <th>occupation</th>\n",
       "      <th>Occ</th>\n",
       "      <th>Race_B</th>\n",
       "      <th>Race_W</th>\n",
       "      <th>Sex_F</th>\n",
       "      <th>Sex_M</th>\n",
       "      <th>Year_1900</th>\n",
       "      <th>Year_1910</th>\n",
       "      <th>Year_1920</th>\n",
       "      <th>Age_age_0-11</th>\n",
       "      <th>Age_age_12-19</th>\n",
       "      <th>Age_age_20-40</th>\n",
       "      <th>Age_age_40-65</th>\n",
       "      <th>Age_age_Above-65</th>\n",
       "    </tr>\n",
       "  </thead>\n",
       "  <tbody>\n",
       "    <tr>\n",
       "      <th>0</th>\n",
       "      <td>Servant</td>\n",
       "      <td>Unskilled</td>\n",
       "      <td>1</td>\n",
       "      <td>0</td>\n",
       "      <td>1</td>\n",
       "      <td>0</td>\n",
       "      <td>1</td>\n",
       "      <td>0</td>\n",
       "      <td>0</td>\n",
       "      <td>0</td>\n",
       "      <td>0</td>\n",
       "      <td>1</td>\n",
       "      <td>0</td>\n",
       "      <td>0</td>\n",
       "    </tr>\n",
       "    <tr>\n",
       "      <th>1</th>\n",
       "      <td>Drayman</td>\n",
       "      <td>Unskilled</td>\n",
       "      <td>1</td>\n",
       "      <td>0</td>\n",
       "      <td>0</td>\n",
       "      <td>1</td>\n",
       "      <td>1</td>\n",
       "      <td>0</td>\n",
       "      <td>0</td>\n",
       "      <td>0</td>\n",
       "      <td>0</td>\n",
       "      <td>1</td>\n",
       "      <td>0</td>\n",
       "      <td>0</td>\n",
       "    </tr>\n",
       "    <tr>\n",
       "      <th>2</th>\n",
       "      <td>Laundress</td>\n",
       "      <td>Unskilled</td>\n",
       "      <td>1</td>\n",
       "      <td>0</td>\n",
       "      <td>1</td>\n",
       "      <td>0</td>\n",
       "      <td>1</td>\n",
       "      <td>0</td>\n",
       "      <td>0</td>\n",
       "      <td>0</td>\n",
       "      <td>0</td>\n",
       "      <td>1</td>\n",
       "      <td>0</td>\n",
       "      <td>0</td>\n",
       "    </tr>\n",
       "    <tr>\n",
       "      <th>3</th>\n",
       "      <td>Servant</td>\n",
       "      <td>Unskilled</td>\n",
       "      <td>1</td>\n",
       "      <td>0</td>\n",
       "      <td>1</td>\n",
       "      <td>0</td>\n",
       "      <td>1</td>\n",
       "      <td>0</td>\n",
       "      <td>0</td>\n",
       "      <td>0</td>\n",
       "      <td>0</td>\n",
       "      <td>1</td>\n",
       "      <td>0</td>\n",
       "      <td>0</td>\n",
       "    </tr>\n",
       "    <tr>\n",
       "      <th>4</th>\n",
       "      <td>At School</td>\n",
       "      <td>Student</td>\n",
       "      <td>1</td>\n",
       "      <td>0</td>\n",
       "      <td>1</td>\n",
       "      <td>0</td>\n",
       "      <td>1</td>\n",
       "      <td>0</td>\n",
       "      <td>0</td>\n",
       "      <td>1</td>\n",
       "      <td>0</td>\n",
       "      <td>0</td>\n",
       "      <td>0</td>\n",
       "      <td>0</td>\n",
       "    </tr>\n",
       "  </tbody>\n",
       "</table>\n",
       "</div>"
      ],
      "text/plain": [
       "  occupation        Occ  Race_B  Race_W  Sex_F  Sex_M  Year_1900  Year_1910  \\\n",
       "0    Servant  Unskilled       1       0      1      0          1          0   \n",
       "1    Drayman  Unskilled       1       0      0      1          1          0   \n",
       "2  Laundress  Unskilled       1       0      1      0          1          0   \n",
       "3    Servant  Unskilled       1       0      1      0          1          0   \n",
       "4  At School    Student       1       0      1      0          1          0   \n",
       "\n",
       "   Year_1920  Age_age_0-11  Age_age_12-19  Age_age_20-40  Age_age_40-65  \\\n",
       "0          0             0              0              1              0   \n",
       "1          0             0              0              1              0   \n",
       "2          0             0              0              1              0   \n",
       "3          0             0              0              1              0   \n",
       "4          0             1              0              0              0   \n",
       "\n",
       "   Age_age_Above-65  \n",
       "0                 0  \n",
       "1                 0  \n",
       "2                 0  \n",
       "3                 0  \n",
       "4                 0  "
      ]
     },
     "execution_count": 47,
     "metadata": {},
     "output_type": "execute_result"
    }
   ],
   "source": [
    "data2.head()"
   ]
  },
  {
   "cell_type": "code",
   "execution_count": 48,
   "metadata": {},
   "outputs": [
    {
     "data": {
      "text/plain": [
       "Occ                 object\n",
       "Race_B               uint8\n",
       "Race_W               uint8\n",
       "Sex_F                uint8\n",
       "Sex_M                uint8\n",
       "Year_1900            uint8\n",
       "Year_1910            uint8\n",
       "Year_1920            uint8\n",
       "Age_age_0-11         uint8\n",
       "Age_age_12-19        uint8\n",
       "Age_age_20-40        uint8\n",
       "Age_age_40-65        uint8\n",
       "Age_age_Above-65     uint8\n",
       "dtype: object"
      ]
     },
     "execution_count": 48,
     "metadata": {},
     "output_type": "execute_result"
    }
   ],
   "source": [
    "del data2['occupation']\n",
    "data2 = data2.apply(pd.to_numeric, errors='ignore')\n",
    "data2.dtypes"
   ]
  },
  {
   "cell_type": "code",
   "execution_count": 49,
   "metadata": {},
   "outputs": [
    {
     "data": {
      "text/plain": [
       "(2837, 13)"
      ]
     },
     "execution_count": 49,
     "metadata": {},
     "output_type": "execute_result"
    }
   ],
   "source": [
    "data2.shape"
   ]
  },
  {
   "cell_type": "code",
   "execution_count": 50,
   "metadata": {},
   "outputs": [
    {
     "data": {
      "text/html": [
       "<div>\n",
       "<style scoped>\n",
       "    .dataframe tbody tr th:only-of-type {\n",
       "        vertical-align: middle;\n",
       "    }\n",
       "\n",
       "    .dataframe tbody tr th {\n",
       "        vertical-align: top;\n",
       "    }\n",
       "\n",
       "    .dataframe thead th {\n",
       "        text-align: right;\n",
       "    }\n",
       "</style>\n",
       "<table border=\"1\" class=\"dataframe\">\n",
       "  <thead>\n",
       "    <tr style=\"text-align: right;\">\n",
       "      <th></th>\n",
       "      <th>Occ</th>\n",
       "      <th>Race_B</th>\n",
       "      <th>Race_W</th>\n",
       "      <th>Sex_F</th>\n",
       "      <th>Sex_M</th>\n",
       "      <th>Year_1900</th>\n",
       "      <th>Year_1910</th>\n",
       "      <th>Year_1920</th>\n",
       "      <th>Age_age_0-11</th>\n",
       "      <th>Age_age_12-19</th>\n",
       "      <th>Age_age_20-40</th>\n",
       "      <th>Age_age_40-65</th>\n",
       "      <th>Age_age_Above-65</th>\n",
       "    </tr>\n",
       "  </thead>\n",
       "  <tbody>\n",
       "    <tr>\n",
       "      <th>0</th>\n",
       "      <td>Unskilled</td>\n",
       "      <td>1</td>\n",
       "      <td>0</td>\n",
       "      <td>1</td>\n",
       "      <td>0</td>\n",
       "      <td>1</td>\n",
       "      <td>0</td>\n",
       "      <td>0</td>\n",
       "      <td>0</td>\n",
       "      <td>0</td>\n",
       "      <td>1</td>\n",
       "      <td>0</td>\n",
       "      <td>0</td>\n",
       "    </tr>\n",
       "    <tr>\n",
       "      <th>1</th>\n",
       "      <td>Unskilled</td>\n",
       "      <td>1</td>\n",
       "      <td>0</td>\n",
       "      <td>0</td>\n",
       "      <td>1</td>\n",
       "      <td>1</td>\n",
       "      <td>0</td>\n",
       "      <td>0</td>\n",
       "      <td>0</td>\n",
       "      <td>0</td>\n",
       "      <td>1</td>\n",
       "      <td>0</td>\n",
       "      <td>0</td>\n",
       "    </tr>\n",
       "    <tr>\n",
       "      <th>2</th>\n",
       "      <td>Unskilled</td>\n",
       "      <td>1</td>\n",
       "      <td>0</td>\n",
       "      <td>1</td>\n",
       "      <td>0</td>\n",
       "      <td>1</td>\n",
       "      <td>0</td>\n",
       "      <td>0</td>\n",
       "      <td>0</td>\n",
       "      <td>0</td>\n",
       "      <td>1</td>\n",
       "      <td>0</td>\n",
       "      <td>0</td>\n",
       "    </tr>\n",
       "    <tr>\n",
       "      <th>3</th>\n",
       "      <td>Unskilled</td>\n",
       "      <td>1</td>\n",
       "      <td>0</td>\n",
       "      <td>1</td>\n",
       "      <td>0</td>\n",
       "      <td>1</td>\n",
       "      <td>0</td>\n",
       "      <td>0</td>\n",
       "      <td>0</td>\n",
       "      <td>0</td>\n",
       "      <td>1</td>\n",
       "      <td>0</td>\n",
       "      <td>0</td>\n",
       "    </tr>\n",
       "    <tr>\n",
       "      <th>4</th>\n",
       "      <td>Student</td>\n",
       "      <td>1</td>\n",
       "      <td>0</td>\n",
       "      <td>1</td>\n",
       "      <td>0</td>\n",
       "      <td>1</td>\n",
       "      <td>0</td>\n",
       "      <td>0</td>\n",
       "      <td>1</td>\n",
       "      <td>0</td>\n",
       "      <td>0</td>\n",
       "      <td>0</td>\n",
       "      <td>0</td>\n",
       "    </tr>\n",
       "  </tbody>\n",
       "</table>\n",
       "</div>"
      ],
      "text/plain": [
       "         Occ  Race_B  Race_W  Sex_F  Sex_M  Year_1900  Year_1910  Year_1920  \\\n",
       "0  Unskilled       1       0      1      0          1          0          0   \n",
       "1  Unskilled       1       0      0      1          1          0          0   \n",
       "2  Unskilled       1       0      1      0          1          0          0   \n",
       "3  Unskilled       1       0      1      0          1          0          0   \n",
       "4    Student       1       0      1      0          1          0          0   \n",
       "\n",
       "   Age_age_0-11  Age_age_12-19  Age_age_20-40  Age_age_40-65  Age_age_Above-65  \n",
       "0             0              0              1              0                 0  \n",
       "1             0              0              1              0                 0  \n",
       "2             0              0              1              0                 0  \n",
       "3             0              0              1              0                 0  \n",
       "4             1              0              0              0                 0  "
      ]
     },
     "execution_count": 50,
     "metadata": {},
     "output_type": "execute_result"
    }
   ],
   "source": [
    "data2.head()"
   ]
  },
  {
   "cell_type": "code",
   "execution_count": 51,
   "metadata": {},
   "outputs": [],
   "source": [
    "train,test = train_test_split(data2,test_size=0.2,random_state=7)"
   ]
  },
  {
   "cell_type": "code",
   "execution_count": 52,
   "metadata": {},
   "outputs": [
    {
     "name": "stdout",
     "output_type": "stream",
     "text": [
      "train shape:   \n",
      "(2269, 13)\n",
      "test shape:    \n",
      "(568, 13)\n",
      "Unique classes with count : \n",
      "Unskilled                1577\n",
      "Skilled Labor             488\n",
      "Skilled Professionals     106\n",
      "Student                    98\n",
      "Name: Occ, dtype: int64\n",
      "data description : \n",
      "            Race_B       Race_W        Sex_F        Sex_M    Year_1900  \\\n",
      "count  2269.000000  2269.000000  2269.000000  2269.000000  2269.000000   \n",
      "mean      0.862054     0.137946     0.382107     0.617893     0.174526   \n",
      "std       0.344920     0.344920     0.486010     0.486010     0.379645   \n",
      "min       0.000000     0.000000     0.000000     0.000000     0.000000   \n",
      "25%       1.000000     0.000000     0.000000     0.000000     0.000000   \n",
      "50%       1.000000     0.000000     0.000000     1.000000     0.000000   \n",
      "75%       1.000000     0.000000     1.000000     1.000000     0.000000   \n",
      "max       1.000000     1.000000     1.000000     1.000000     1.000000   \n",
      "\n",
      "         Year_1910    Year_1920  Age_age_0-11  Age_age_12-19  Age_age_20-40  \\\n",
      "count  2269.000000  2269.000000   2269.000000    2269.000000    2269.000000   \n",
      "mean      0.052005     0.773468      0.026003       0.119436       0.651829   \n",
      "std       0.222087     0.418679      0.159178       0.324372       0.476496   \n",
      "min       0.000000     0.000000      0.000000       0.000000       0.000000   \n",
      "25%       0.000000     1.000000      0.000000       0.000000       0.000000   \n",
      "50%       0.000000     1.000000      0.000000       0.000000       1.000000   \n",
      "75%       0.000000     1.000000      0.000000       0.000000       1.000000   \n",
      "max       1.000000     1.000000      1.000000       1.000000       1.000000   \n",
      "\n",
      "       Age_age_40-65  Age_age_Above-65  \n",
      "count    2269.000000       2269.000000  \n",
      "mean        0.191274          0.011459  \n",
      "std         0.393391          0.106454  \n",
      "min         0.000000          0.000000  \n",
      "25%         0.000000          0.000000  \n",
      "50%         0.000000          0.000000  \n",
      "75%         0.000000          0.000000  \n",
      "max         1.000000          1.000000  \n"
     ]
    }
   ],
   "source": [
    "print (\"train shape:   \")\n",
    "print(train.shape)\n",
    "print (\"test shape:    \")\n",
    "print(test.shape)\n",
    "print (\"Unique classes with count : \")\n",
    "print(pd.value_counts(train['Occ']))\n",
    "print (\"data description : \")\n",
    "print(train.describe())"
   ]
  },
  {
   "cell_type": "code",
   "execution_count": 53,
   "metadata": {},
   "outputs": [
    {
     "name": "stdout",
     "output_type": "stream",
     "text": [
      "<class 'pandas.core.frame.DataFrame'>\n",
      "Int64Index: 2269 entries, 3184 to 279\n",
      "Data columns (total 13 columns):\n",
      "Occ                 2269 non-null object\n",
      "Race_B              2269 non-null uint8\n",
      "Race_W              2269 non-null uint8\n",
      "Sex_F               2269 non-null uint8\n",
      "Sex_M               2269 non-null uint8\n",
      "Year_1900           2269 non-null uint8\n",
      "Year_1910           2269 non-null uint8\n",
      "Year_1920           2269 non-null uint8\n",
      "Age_age_0-11        2269 non-null uint8\n",
      "Age_age_12-19       2269 non-null uint8\n",
      "Age_age_20-40       2269 non-null uint8\n",
      "Age_age_40-65       2269 non-null uint8\n",
      "Age_age_Above-65    2269 non-null uint8\n",
      "dtypes: object(1), uint8(12)\n",
      "memory usage: 62.0+ KB\n",
      "None\n"
     ]
    }
   ],
   "source": [
    "#checking missing values\n",
    "print (train.info())\n",
    "#No null values"
   ]
  },
  {
   "cell_type": "code",
   "execution_count": 54,
   "metadata": {},
   "outputs": [],
   "source": [
    "#Modelling\n",
    "train['Occ'][train['Occ']=='Unskilled']=0\n",
    "train['Occ'][train['Occ']=='Skilled Labor']=1\n",
    "train['Occ'][train['Occ']=='Skilled Professionals']=2\n",
    "train['Occ'][train['Occ']=='Student']=3\n",
    "test['Occ'][test['Occ']=='Unskilled']=0\n",
    "test['Occ'][test['Occ']=='Skilled Labor']=1\n",
    "test['Occ'][test['Occ']=='Skilled Professionals']=2\n",
    "test['Occ'][test['Occ']=='Student']=3\n",
    "\n",
    "X = train.iloc[:,1:]\n",
    "y = train.iloc[:,0]\n",
    "y = pd.to_numeric(y)\n",
    "y_test=pd.to_numeric(test.iloc[:,0])\n",
    "\n",
    "\n",
    "\n"
   ]
  },
  {
   "cell_type": "code",
   "execution_count": 55,
   "metadata": {},
   "outputs": [],
   "source": [
    "#importing libraries\n",
    "import pandas as pd\n",
    "from matplotlib import pyplot as plt\n",
    "import seaborn as sns\n",
    "from sklearn.model_selection import train_test_split\n",
    "from sklearn.tree import DecisionTreeClassifier\n",
    "from sklearn import model_selection\n",
    "from sklearn.metrics import classification_report\n",
    "from sklearn.metrics import confusion_matrix\n",
    "from sklearn.metrics import accuracy_score\n",
    "from sklearn.linear_model import LogisticRegression\n",
    "from sklearn.neighbors import KNeighborsClassifier\n",
    "from sklearn.discriminant_analysis import LinearDiscriminantAnalysis\n",
    "from sklearn.naive_bayes import GaussianNB\n",
    "from sklearn.svm import SVC"
   ]
  },
  {
   "cell_type": "code",
   "execution_count": 56,
   "metadata": {},
   "outputs": [],
   "source": [
    "# Spot Check Algorithms\n",
    "models = []\n",
    "models.append(('LogisticRegression', LogisticRegression()))\n",
    "models.append(('DecisionTreeClassifier', DecisionTreeClassifier()))\n",
    "models.append(('LinearDiscriminantAnalysis', LinearDiscriminantAnalysis()))\n",
    "models.append(('KNeighborsClassifier', KNeighborsClassifier()))\n",
    "models.append(('GaussianNB', GaussianNB()))\n",
    "models.append(('SVC', SVC()))\n",
    "# evaluate each model in turn\n",
    "scoring = 'accuracy'"
   ]
  },
  {
   "cell_type": "code",
   "execution_count": 57,
   "metadata": {},
   "outputs": [
    {
     "name": "stdout",
     "output_type": "stream",
     "text": [
      "LogisticRegression: 0.721467 (0.023496)\n",
      "DecisionTreeClassifier: 0.715728 (0.026653)\n",
      "LinearDiscriminantAnalysis: 0.705164 (0.029248)\n"
     ]
    },
    {
     "name": "stderr",
     "output_type": "stream",
     "text": [
      "C:\\Users\\User\\Miniconda3\\envs\\Tensorflow_11_Oct_2018\\lib\\site-packages\\sklearn\\discriminant_analysis.py:388: UserWarning: Variables are collinear.\n",
      "  warnings.warn(\"Variables are collinear.\")\n",
      "C:\\Users\\User\\Miniconda3\\envs\\Tensorflow_11_Oct_2018\\lib\\site-packages\\sklearn\\discriminant_analysis.py:388: UserWarning: Variables are collinear.\n",
      "  warnings.warn(\"Variables are collinear.\")\n",
      "C:\\Users\\User\\Miniconda3\\envs\\Tensorflow_11_Oct_2018\\lib\\site-packages\\sklearn\\discriminant_analysis.py:388: UserWarning: Variables are collinear.\n",
      "  warnings.warn(\"Variables are collinear.\")\n",
      "C:\\Users\\User\\Miniconda3\\envs\\Tensorflow_11_Oct_2018\\lib\\site-packages\\sklearn\\discriminant_analysis.py:388: UserWarning: Variables are collinear.\n",
      "  warnings.warn(\"Variables are collinear.\")\n",
      "C:\\Users\\User\\Miniconda3\\envs\\Tensorflow_11_Oct_2018\\lib\\site-packages\\sklearn\\discriminant_analysis.py:388: UserWarning: Variables are collinear.\n",
      "  warnings.warn(\"Variables are collinear.\")\n",
      "C:\\Users\\User\\Miniconda3\\envs\\Tensorflow_11_Oct_2018\\lib\\site-packages\\sklearn\\discriminant_analysis.py:388: UserWarning: Variables are collinear.\n",
      "  warnings.warn(\"Variables are collinear.\")\n",
      "C:\\Users\\User\\Miniconda3\\envs\\Tensorflow_11_Oct_2018\\lib\\site-packages\\sklearn\\discriminant_analysis.py:388: UserWarning: Variables are collinear.\n",
      "  warnings.warn(\"Variables are collinear.\")\n",
      "C:\\Users\\User\\Miniconda3\\envs\\Tensorflow_11_Oct_2018\\lib\\site-packages\\sklearn\\discriminant_analysis.py:388: UserWarning: Variables are collinear.\n",
      "  warnings.warn(\"Variables are collinear.\")\n",
      "C:\\Users\\User\\Miniconda3\\envs\\Tensorflow_11_Oct_2018\\lib\\site-packages\\sklearn\\discriminant_analysis.py:388: UserWarning: Variables are collinear.\n",
      "  warnings.warn(\"Variables are collinear.\")\n",
      "C:\\Users\\User\\Miniconda3\\envs\\Tensorflow_11_Oct_2018\\lib\\site-packages\\sklearn\\discriminant_analysis.py:388: UserWarning: Variables are collinear.\n",
      "  warnings.warn(\"Variables are collinear.\")\n"
     ]
    },
    {
     "name": "stdout",
     "output_type": "stream",
     "text": [
      "KNeighborsClassifier: 0.691065 (0.060970)\n",
      "GaussianNB: 0.170987 (0.044832)\n",
      "SVC: 0.724110 (0.024982)\n"
     ]
    }
   ],
   "source": [
    "results = []\n",
    "names = []\n",
    "for name, model in models:\n",
    "\tkfold = model_selection.KFold(n_splits=10, random_state=7)\n",
    "\tcv_results = model_selection.cross_val_score(model, X,y, cv=kfold, scoring=scoring)\n",
    "\tresults.append(cv_results)\n",
    "\tnames.append(name)\n",
    "\tmsg = \"%s: %f (%f)\" % (name, cv_results.mean(), cv_results.std())\n",
    "\tprint(msg)"
   ]
  },
  {
   "cell_type": "code",
   "execution_count": 58,
   "metadata": {},
   "outputs": [
    {
     "name": "stdout",
     "output_type": "stream",
     "text": [
      "SVC Performance\n",
      "0.7235915492957746\n",
      "[[388   0   0   6]\n",
      " [114   0   0   4]\n",
      " [ 33   0   0   0]\n",
      " [  0   0   0  23]]\n",
      "              precision    recall  f1-score   support\n",
      "\n",
      "           0       0.73      0.98      0.84       394\n",
      "           1       0.00      0.00      0.00       118\n",
      "           2       0.00      0.00      0.00        33\n",
      "           3       0.70      1.00      0.82        23\n",
      "\n",
      "   micro avg       0.72      0.72      0.72       568\n",
      "   macro avg       0.36      0.50      0.41       568\n",
      "weighted avg       0.53      0.72      0.61       568\n",
      "\n"
     ]
    },
    {
     "name": "stderr",
     "output_type": "stream",
     "text": [
      "C:\\Users\\User\\Miniconda3\\envs\\Tensorflow_11_Oct_2018\\lib\\site-packages\\sklearn\\metrics\\classification.py:1143: UndefinedMetricWarning: Precision and F-score are ill-defined and being set to 0.0 in labels with no predicted samples.\n",
      "  'precision', 'predicted', average, warn_for)\n",
      "C:\\Users\\User\\Miniconda3\\envs\\Tensorflow_11_Oct_2018\\lib\\site-packages\\sklearn\\metrics\\classification.py:1143: UndefinedMetricWarning: Precision and F-score are ill-defined and being set to 0.0 in labels with no predicted samples.\n",
      "  'precision', 'predicted', average, warn_for)\n",
      "C:\\Users\\User\\Miniconda3\\envs\\Tensorflow_11_Oct_2018\\lib\\site-packages\\sklearn\\metrics\\classification.py:1143: UndefinedMetricWarning: Precision and F-score are ill-defined and being set to 0.0 in labels with no predicted samples.\n",
      "  'precision', 'predicted', average, warn_for)\n"
     ]
    }
   ],
   "source": [
    "# Make predictions on validation dataset\n",
    "print (\"SVC Performance\")\n",
    "SVM = SVC()\n",
    "SVM.fit(X,y)\n",
    "predictions = SVM.predict(test.iloc[:,1:])\n",
    "print(accuracy_score(y_test, predictions))\n",
    "print(confusion_matrix(y_test, predictions))\n",
    "print(classification_report(y_test, predictions))\n"
   ]
  },
  {
   "cell_type": "code",
   "execution_count": 59,
   "metadata": {},
   "outputs": [
    {
     "name": "stdout",
     "output_type": "stream",
     "text": [
      "KNN Performance\n",
      "0.6954225352112676\n",
      "[[367  23   0   4]\n",
      " [105  12   0   1]\n",
      " [ 32   1   0   0]\n",
      " [  7   0   0  16]]\n",
      "              precision    recall  f1-score   support\n",
      "\n",
      "           0       0.72      0.93      0.81       394\n",
      "           1       0.33      0.10      0.16       118\n",
      "           2       0.00      0.00      0.00        33\n",
      "           3       0.76      0.70      0.73        23\n",
      "\n",
      "   micro avg       0.70      0.70      0.70       568\n",
      "   macro avg       0.45      0.43      0.42       568\n",
      "weighted avg       0.60      0.70      0.62       568\n",
      "\n"
     ]
    },
    {
     "name": "stderr",
     "output_type": "stream",
     "text": [
      "C:\\Users\\User\\Miniconda3\\envs\\Tensorflow_11_Oct_2018\\lib\\site-packages\\sklearn\\metrics\\classification.py:1143: UndefinedMetricWarning: Precision and F-score are ill-defined and being set to 0.0 in labels with no predicted samples.\n",
      "  'precision', 'predicted', average, warn_for)\n",
      "C:\\Users\\User\\Miniconda3\\envs\\Tensorflow_11_Oct_2018\\lib\\site-packages\\sklearn\\metrics\\classification.py:1143: UndefinedMetricWarning: Precision and F-score are ill-defined and being set to 0.0 in labels with no predicted samples.\n",
      "  'precision', 'predicted', average, warn_for)\n",
      "C:\\Users\\User\\Miniconda3\\envs\\Tensorflow_11_Oct_2018\\lib\\site-packages\\sklearn\\metrics\\classification.py:1143: UndefinedMetricWarning: Precision and F-score are ill-defined and being set to 0.0 in labels with no predicted samples.\n",
      "  'precision', 'predicted', average, warn_for)\n"
     ]
    }
   ],
   "source": [
    "print (\"KNN Performance\")\n",
    "KNN = KNeighborsClassifier()\n",
    "KNN.fit(X,y)\n",
    "predictions = KNN.predict(test.iloc[:,1:])\n",
    "print (accuracy_score(y_test, predictions))\n",
    "print (confusion_matrix(y_test, predictions))\n",
    "print (classification_report(y_test, predictions))"
   ]
  },
  {
   "cell_type": "code",
   "execution_count": 60,
   "metadata": {},
   "outputs": [
    {
     "data": {
      "image/png": "[encoded data removed]",
      "text/plain": [
       "<Figure size 720x576 with 2 Axes>"
      ]
     },
     "metadata": {},
     "output_type": "display_data"
    }
   ],
   "source": [
    "correlation_matrix = train.corr()\n",
    "plt.figure(figsize=(10,8))\n",
    "ax = sns.heatmap(correlation_matrix, vmax=1, square=True, annot=True,fmt='.2f', cmap ='GnBu', cbar_kws={\"shrink\": .5}, robust=True)\n",
    "plt.title('Correlation matrix between the features', fontsize=20)\n",
    "plt.show()"
   ]
  },
  {
   "cell_type": "markdown",
   "metadata": {},
   "source": [
    "## PCA Projection to 2D"
   ]
  },
  {
   "cell_type": "code",
   "execution_count": 61,
   "metadata": {},
   "outputs": [
    {
     "data": {
      "text/plain": [
       "Index(['Occ', 'Race_B', 'Race_W', 'Sex_F', 'Sex_M', 'Year_1900', 'Year_1910',\n",
       "       'Year_1920', 'Age_age_0-11', 'Age_age_12-19', 'Age_age_20-40',\n",
       "       'Age_age_40-65', 'Age_age_Above-65'],\n",
       "      dtype='object')"
      ]
     },
     "execution_count": 61,
     "metadata": {},
     "output_type": "execute_result"
    }
   ],
   "source": [
    "data2.columns"
   ]
  },
  {
   "cell_type": "code",
   "execution_count": 62,
   "metadata": {},
   "outputs": [],
   "source": [
    "features = ['Race_B', 'Race_W', 'Sex_F', 'Sex_M', 'Year_1900', 'Year_1910',\n",
    "       'Year_1920', 'Age_age_0-11', 'Age_age_12-19', 'Age_age_20-40',\n",
    "       'Age_age_40-65', 'Age_age_Above-65']"
   ]
  },
  {
   "cell_type": "code",
   "execution_count": 63,
   "metadata": {},
   "outputs": [],
   "source": [
    "x = data2.loc[:, features].values"
   ]
  },
  {
   "cell_type": "code",
   "execution_count": 64,
   "metadata": {},
   "outputs": [],
   "source": [
    "y = data2.loc[:,['Occ']].values"
   ]
  },
  {
   "cell_type": "code",
   "execution_count": 65,
   "metadata": {},
   "outputs": [
    {
     "data": {
      "text/html": [
       "<div>\n",
       "<style scoped>\n",
       "    .dataframe tbody tr th:only-of-type {\n",
       "        vertical-align: middle;\n",
       "    }\n",
       "\n",
       "    .dataframe tbody tr th {\n",
       "        vertical-align: top;\n",
       "    }\n",
       "\n",
       "    .dataframe thead th {\n",
       "        text-align: right;\n",
       "    }\n",
       "</style>\n",
       "<table border=\"1\" class=\"dataframe\">\n",
       "  <thead>\n",
       "    <tr style=\"text-align: right;\">\n",
       "      <th></th>\n",
       "      <th>Race_B</th>\n",
       "      <th>Race_W</th>\n",
       "      <th>Sex_F</th>\n",
       "      <th>Sex_M</th>\n",
       "      <th>Year_1900</th>\n",
       "      <th>Year_1910</th>\n",
       "      <th>Year_1920</th>\n",
       "      <th>Age_age_0-11</th>\n",
       "      <th>Age_age_12-19</th>\n",
       "      <th>Age_age_20-40</th>\n",
       "      <th>Age_age_40-65</th>\n",
       "      <th>Age_age_Above-65</th>\n",
       "    </tr>\n",
       "  </thead>\n",
       "  <tbody>\n",
       "    <tr>\n",
       "      <th>0</th>\n",
       "      <td>1</td>\n",
       "      <td>0</td>\n",
       "      <td>1</td>\n",
       "      <td>0</td>\n",
       "      <td>1</td>\n",
       "      <td>0</td>\n",
       "      <td>0</td>\n",
       "      <td>0</td>\n",
       "      <td>0</td>\n",
       "      <td>1</td>\n",
       "      <td>0</td>\n",
       "      <td>0</td>\n",
       "    </tr>\n",
       "    <tr>\n",
       "      <th>1</th>\n",
       "      <td>1</td>\n",
       "      <td>0</td>\n",
       "      <td>0</td>\n",
       "      <td>1</td>\n",
       "      <td>1</td>\n",
       "      <td>0</td>\n",
       "      <td>0</td>\n",
       "      <td>0</td>\n",
       "      <td>0</td>\n",
       "      <td>1</td>\n",
       "      <td>0</td>\n",
       "      <td>0</td>\n",
       "    </tr>\n",
       "    <tr>\n",
       "      <th>2</th>\n",
       "      <td>1</td>\n",
       "      <td>0</td>\n",
       "      <td>1</td>\n",
       "      <td>0</td>\n",
       "      <td>1</td>\n",
       "      <td>0</td>\n",
       "      <td>0</td>\n",
       "      <td>0</td>\n",
       "      <td>0</td>\n",
       "      <td>1</td>\n",
       "      <td>0</td>\n",
       "      <td>0</td>\n",
       "    </tr>\n",
       "    <tr>\n",
       "      <th>3</th>\n",
       "      <td>1</td>\n",
       "      <td>0</td>\n",
       "      <td>1</td>\n",
       "      <td>0</td>\n",
       "      <td>1</td>\n",
       "      <td>0</td>\n",
       "      <td>0</td>\n",
       "      <td>0</td>\n",
       "      <td>0</td>\n",
       "      <td>1</td>\n",
       "      <td>0</td>\n",
       "      <td>0</td>\n",
       "    </tr>\n",
       "    <tr>\n",
       "      <th>4</th>\n",
       "      <td>1</td>\n",
       "      <td>0</td>\n",
       "      <td>1</td>\n",
       "      <td>0</td>\n",
       "      <td>1</td>\n",
       "      <td>0</td>\n",
       "      <td>0</td>\n",
       "      <td>1</td>\n",
       "      <td>0</td>\n",
       "      <td>0</td>\n",
       "      <td>0</td>\n",
       "      <td>0</td>\n",
       "    </tr>\n",
       "  </tbody>\n",
       "</table>\n",
       "</div>"
      ],
      "text/plain": [
       "   Race_B  Race_W  Sex_F  Sex_M  Year_1900  Year_1910  Year_1920  \\\n",
       "0       1       0      1      0          1          0          0   \n",
       "1       1       0      0      1          1          0          0   \n",
       "2       1       0      1      0          1          0          0   \n",
       "3       1       0      1      0          1          0          0   \n",
       "4       1       0      1      0          1          0          0   \n",
       "\n",
       "   Age_age_0-11  Age_age_12-19  Age_age_20-40  Age_age_40-65  Age_age_Above-65  \n",
       "0             0              0              1              0                 0  \n",
       "1             0              0              1              0                 0  \n",
       "2             0              0              1              0                 0  \n",
       "3             0              0              1              0                 0  \n",
       "4             1              0              0              0                 0  "
      ]
     },
     "execution_count": 65,
     "metadata": {},
     "output_type": "execute_result"
    }
   ],
   "source": [
    "pd.DataFrame(data = x, columns = features).head()"
   ]
  },
  {
   "cell_type": "code",
   "execution_count": 66,
   "metadata": {},
   "outputs": [],
   "source": [
    "from sklearn.decomposition import PCA\n",
    "pca = PCA(n_components=2)"
   ]
  },
  {
   "cell_type": "code",
   "execution_count": 67,
   "metadata": {},
   "outputs": [],
   "source": [
    "principalComponents = pca.fit_transform(x)"
   ]
  },
  {
   "cell_type": "code",
   "execution_count": 68,
   "metadata": {},
   "outputs": [],
   "source": [
    "principalDf = pd.DataFrame(data = principalComponents\n",
    "             , columns = ['principal component 1', 'principal component 2'])"
   ]
  },
  {
   "cell_type": "code",
   "execution_count": 69,
   "metadata": {},
   "outputs": [
    {
     "data": {
      "text/html": [
       "<div>\n",
       "<style scoped>\n",
       "    .dataframe tbody tr th:only-of-type {\n",
       "        vertical-align: middle;\n",
       "    }\n",
       "\n",
       "    .dataframe tbody tr th {\n",
       "        vertical-align: top;\n",
       "    }\n",
       "\n",
       "    .dataframe thead th {\n",
       "        text-align: right;\n",
       "    }\n",
       "</style>\n",
       "<table border=\"1\" class=\"dataframe\">\n",
       "  <thead>\n",
       "    <tr style=\"text-align: right;\">\n",
       "      <th></th>\n",
       "      <th>principal component 1</th>\n",
       "      <th>principal component 2</th>\n",
       "    </tr>\n",
       "  </thead>\n",
       "  <tbody>\n",
       "    <tr>\n",
       "      <th>0</th>\n",
       "      <td>1.000068</td>\n",
       "      <td>0.319555</td>\n",
       "    </tr>\n",
       "    <tr>\n",
       "      <th>1</th>\n",
       "      <td>-0.384219</td>\n",
       "      <td>0.362736</td>\n",
       "    </tr>\n",
       "    <tr>\n",
       "      <th>2</th>\n",
       "      <td>1.000068</td>\n",
       "      <td>0.319555</td>\n",
       "    </tr>\n",
       "    <tr>\n",
       "      <th>3</th>\n",
       "      <td>1.000068</td>\n",
       "      <td>0.319555</td>\n",
       "    </tr>\n",
       "    <tr>\n",
       "      <th>4</th>\n",
       "      <td>0.975304</td>\n",
       "      <td>1.057047</td>\n",
       "    </tr>\n",
       "  </tbody>\n",
       "</table>\n",
       "</div>"
      ],
      "text/plain": [
       "   principal component 1  principal component 2\n",
       "0               1.000068               0.319555\n",
       "1              -0.384219               0.362736\n",
       "2               1.000068               0.319555\n",
       "3               1.000068               0.319555\n",
       "4               0.975304               1.057047"
      ]
     },
     "execution_count": 69,
     "metadata": {},
     "output_type": "execute_result"
    }
   ],
   "source": [
    "principalDf.head(5)"
   ]
  },
  {
   "cell_type": "code",
   "execution_count": 70,
   "metadata": {},
   "outputs": [
    {
     "data": {
      "text/html": [
       "<div>\n",
       "<style scoped>\n",
       "    .dataframe tbody tr th:only-of-type {\n",
       "        vertical-align: middle;\n",
       "    }\n",
       "\n",
       "    .dataframe tbody tr th {\n",
       "        vertical-align: top;\n",
       "    }\n",
       "\n",
       "    .dataframe thead th {\n",
       "        text-align: right;\n",
       "    }\n",
       "</style>\n",
       "<table border=\"1\" class=\"dataframe\">\n",
       "  <thead>\n",
       "    <tr style=\"text-align: right;\">\n",
       "      <th></th>\n",
       "      <th>Occ</th>\n",
       "    </tr>\n",
       "  </thead>\n",
       "  <tbody>\n",
       "    <tr>\n",
       "      <th>0</th>\n",
       "      <td>Unskilled</td>\n",
       "    </tr>\n",
       "    <tr>\n",
       "      <th>1</th>\n",
       "      <td>Unskilled</td>\n",
       "    </tr>\n",
       "    <tr>\n",
       "      <th>2</th>\n",
       "      <td>Unskilled</td>\n",
       "    </tr>\n",
       "    <tr>\n",
       "      <th>3</th>\n",
       "      <td>Unskilled</td>\n",
       "    </tr>\n",
       "    <tr>\n",
       "      <th>4</th>\n",
       "      <td>Student</td>\n",
       "    </tr>\n",
       "  </tbody>\n",
       "</table>\n",
       "</div>"
      ],
      "text/plain": [
       "         Occ\n",
       "0  Unskilled\n",
       "1  Unskilled\n",
       "2  Unskilled\n",
       "3  Unskilled\n",
       "4    Student"
      ]
     },
     "execution_count": 70,
     "metadata": {},
     "output_type": "execute_result"
    }
   ],
   "source": [
    "data2[['Occ']].head()"
   ]
  },
  {
   "cell_type": "code",
   "execution_count": 71,
   "metadata": {},
   "outputs": [
    {
     "data": {
      "text/html": [
       "<div>\n",
       "<style scoped>\n",
       "    .dataframe tbody tr th:only-of-type {\n",
       "        vertical-align: middle;\n",
       "    }\n",
       "\n",
       "    .dataframe tbody tr th {\n",
       "        vertical-align: top;\n",
       "    }\n",
       "\n",
       "    .dataframe thead th {\n",
       "        text-align: right;\n",
       "    }\n",
       "</style>\n",
       "<table border=\"1\" class=\"dataframe\">\n",
       "  <thead>\n",
       "    <tr style=\"text-align: right;\">\n",
       "      <th></th>\n",
       "      <th>principal component 1</th>\n",
       "      <th>principal component 2</th>\n",
       "      <th>Occ</th>\n",
       "    </tr>\n",
       "  </thead>\n",
       "  <tbody>\n",
       "    <tr>\n",
       "      <th>0</th>\n",
       "      <td>1.000068</td>\n",
       "      <td>0.319555</td>\n",
       "      <td>Unskilled</td>\n",
       "    </tr>\n",
       "    <tr>\n",
       "      <th>1</th>\n",
       "      <td>-0.384219</td>\n",
       "      <td>0.362736</td>\n",
       "      <td>Unskilled</td>\n",
       "    </tr>\n",
       "    <tr>\n",
       "      <th>2</th>\n",
       "      <td>1.000068</td>\n",
       "      <td>0.319555</td>\n",
       "      <td>Unskilled</td>\n",
       "    </tr>\n",
       "    <tr>\n",
       "      <th>3</th>\n",
       "      <td>1.000068</td>\n",
       "      <td>0.319555</td>\n",
       "      <td>Unskilled</td>\n",
       "    </tr>\n",
       "    <tr>\n",
       "      <th>4</th>\n",
       "      <td>0.975304</td>\n",
       "      <td>1.057047</td>\n",
       "      <td>Student</td>\n",
       "    </tr>\n",
       "  </tbody>\n",
       "</table>\n",
       "</div>"
      ],
      "text/plain": [
       "   principal component 1  principal component 2        Occ\n",
       "0               1.000068               0.319555  Unskilled\n",
       "1              -0.384219               0.362736  Unskilled\n",
       "2               1.000068               0.319555  Unskilled\n",
       "3               1.000068               0.319555  Unskilled\n",
       "4               0.975304               1.057047    Student"
      ]
     },
     "execution_count": 71,
     "metadata": {},
     "output_type": "execute_result"
    }
   ],
   "source": [
    "finalDf = pd.concat([principalDf, data2[['Occ']]], axis = 1)\n",
    "finalDf.head(5)"
   ]
  },
  {
   "cell_type": "code",
   "execution_count": 72,
   "metadata": {},
   "outputs": [
    {
     "data": {
      "image/png": "[encoded data removed]",
      "text/plain": [
       "<Figure size 576x576 with 1 Axes>"
      ]
     },
     "metadata": {},
     "output_type": "display_data"
    }
   ],
   "source": [
    "fig = plt.figure(figsize = (8,8))\n",
    "ax = fig.add_subplot(1,1,1) \n",
    "ax.set_xlabel('Principal Component 1', fontsize = 15)\n",
    "ax.set_ylabel('Principal Component 2', fontsize = 15)\n",
    "ax.set_title('2 Component PCA', fontsize = 20)\n",
    "\n",
    "\n",
    "targets = ['Unskilled', 'Student', 'Skilled Labor','Skilled Professionals']\n",
    "colors = ['b', 'r','g','orange']\n",
    "for target, color in zip(targets,colors):\n",
    "    indicesToKeep = finalDf['Occ'] == target\n",
    "    ax.scatter(finalDf.loc[indicesToKeep, 'principal component 1']\n",
    "               , finalDf.loc[indicesToKeep, 'principal component 2']\n",
    "               , c = color\n",
    "               , s = 50)\n",
    "ax.legend(targets)\n",
    "ax.grid()"
   ]
  },
  {
   "cell_type": "code",
   "execution_count": 73,
   "metadata": {},
   "outputs": [
    {
     "data": {
      "text/plain": [
       "array([0.29820049, 0.2284117 ])"
      ]
     },
     "execution_count": 73,
     "metadata": {},
     "output_type": "execute_result"
    }
   ],
   "source": [
    "pca.explained_variance_ratio_"
   ]
  },
  {
   "cell_type": "markdown",
   "metadata": {},
   "source": [
    "## Receiver Operating Characteristic (ROC)"
   ]
  },
  {
   "cell_type": "markdown",
   "metadata": {},
   "source": [
    "Example of Receiver Operating Characteristic (ROC) metric to evaluate classifier output quality.\n",
    "\n",
    "ROC curves typically feature true positive rate on the Y axis, and false positive rate on the X axis. This means that the top left corner of the plot is the “ideal” point - a false positive rate of zero, and a true positive rate of one. This is not very realistic, but it does mean that a larger area under the curve (AUC) is usually better.\n",
    "\n",
    "The “steepness” of ROC curves is also important, since it is ideal to maximize the true positive rate while minimizing the false positive rate."
   ]
  },
  {
   "cell_type": "code",
   "execution_count": 76,
   "metadata": {},
   "outputs": [
    {
     "data": {
      "text/html": [
       "<div>\n",
       "<style scoped>\n",
       "    .dataframe tbody tr th:only-of-type {\n",
       "        vertical-align: middle;\n",
       "    }\n",
       "\n",
       "    .dataframe tbody tr th {\n",
       "        vertical-align: top;\n",
       "    }\n",
       "\n",
       "    .dataframe thead th {\n",
       "        text-align: right;\n",
       "    }\n",
       "</style>\n",
       "<table border=\"1\" class=\"dataframe\">\n",
       "  <thead>\n",
       "    <tr style=\"text-align: right;\">\n",
       "      <th></th>\n",
       "      <th>Occ</th>\n",
       "      <th>Race_B</th>\n",
       "      <th>Race_W</th>\n",
       "      <th>Sex_F</th>\n",
       "      <th>Sex_M</th>\n",
       "      <th>Year_1900</th>\n",
       "      <th>Year_1910</th>\n",
       "      <th>Year_1920</th>\n",
       "      <th>Age_age_0-11</th>\n",
       "      <th>Age_age_12-19</th>\n",
       "      <th>Age_age_20-40</th>\n",
       "      <th>Age_age_40-65</th>\n",
       "      <th>Age_age_Above-65</th>\n",
       "    </tr>\n",
       "  </thead>\n",
       "  <tbody>\n",
       "    <tr>\n",
       "      <th>0</th>\n",
       "      <td>Unskilled</td>\n",
       "      <td>1</td>\n",
       "      <td>0</td>\n",
       "      <td>1</td>\n",
       "      <td>0</td>\n",
       "      <td>1</td>\n",
       "      <td>0</td>\n",
       "      <td>0</td>\n",
       "      <td>0</td>\n",
       "      <td>0</td>\n",
       "      <td>1</td>\n",
       "      <td>0</td>\n",
       "      <td>0</td>\n",
       "    </tr>\n",
       "    <tr>\n",
       "      <th>1</th>\n",
       "      <td>Unskilled</td>\n",
       "      <td>1</td>\n",
       "      <td>0</td>\n",
       "      <td>0</td>\n",
       "      <td>1</td>\n",
       "      <td>1</td>\n",
       "      <td>0</td>\n",
       "      <td>0</td>\n",
       "      <td>0</td>\n",
       "      <td>0</td>\n",
       "      <td>1</td>\n",
       "      <td>0</td>\n",
       "      <td>0</td>\n",
       "    </tr>\n",
       "    <tr>\n",
       "      <th>2</th>\n",
       "      <td>Unskilled</td>\n",
       "      <td>1</td>\n",
       "      <td>0</td>\n",
       "      <td>1</td>\n",
       "      <td>0</td>\n",
       "      <td>1</td>\n",
       "      <td>0</td>\n",
       "      <td>0</td>\n",
       "      <td>0</td>\n",
       "      <td>0</td>\n",
       "      <td>1</td>\n",
       "      <td>0</td>\n",
       "      <td>0</td>\n",
       "    </tr>\n",
       "    <tr>\n",
       "      <th>3</th>\n",
       "      <td>Unskilled</td>\n",
       "      <td>1</td>\n",
       "      <td>0</td>\n",
       "      <td>1</td>\n",
       "      <td>0</td>\n",
       "      <td>1</td>\n",
       "      <td>0</td>\n",
       "      <td>0</td>\n",
       "      <td>0</td>\n",
       "      <td>0</td>\n",
       "      <td>1</td>\n",
       "      <td>0</td>\n",
       "      <td>0</td>\n",
       "    </tr>\n",
       "    <tr>\n",
       "      <th>4</th>\n",
       "      <td>Student</td>\n",
       "      <td>1</td>\n",
       "      <td>0</td>\n",
       "      <td>1</td>\n",
       "      <td>0</td>\n",
       "      <td>1</td>\n",
       "      <td>0</td>\n",
       "      <td>0</td>\n",
       "      <td>1</td>\n",
       "      <td>0</td>\n",
       "      <td>0</td>\n",
       "      <td>0</td>\n",
       "      <td>0</td>\n",
       "    </tr>\n",
       "  </tbody>\n",
       "</table>\n",
       "</div>"
      ],
      "text/plain": [
       "         Occ  Race_B  Race_W  Sex_F  Sex_M  Year_1900  Year_1910  Year_1920  \\\n",
       "0  Unskilled       1       0      1      0          1          0          0   \n",
       "1  Unskilled       1       0      0      1          1          0          0   \n",
       "2  Unskilled       1       0      1      0          1          0          0   \n",
       "3  Unskilled       1       0      1      0          1          0          0   \n",
       "4    Student       1       0      1      0          1          0          0   \n",
       "\n",
       "   Age_age_0-11  Age_age_12-19  Age_age_20-40  Age_age_40-65  Age_age_Above-65  \n",
       "0             0              0              1              0                 0  \n",
       "1             0              0              1              0                 0  \n",
       "2             0              0              1              0                 0  \n",
       "3             0              0              1              0                 0  \n",
       "4             1              0              0              0                 0  "
      ]
     },
     "execution_count": 76,
     "metadata": {},
     "output_type": "execute_result"
    }
   ],
   "source": [
    "data2.head()"
   ]
  },
  {
   "cell_type": "code",
   "execution_count": 77,
   "metadata": {},
   "outputs": [
    {
     "data": {
      "text/plain": [
       "Index(['Race_B', 'Race_W', 'Sex_F', 'Sex_M', 'Year_1900', 'Year_1910',\n",
       "       'Year_1920', 'Age_age_0-11', 'Age_age_12-19', 'Age_age_20-40',\n",
       "       'Age_age_40-65', 'Age_age_Above-65', 'Occ_Skilled Labor',\n",
       "       'Occ_Skilled Professionals', 'Occ_Student', 'Occ_Unskilled'],\n",
       "      dtype='object')"
      ]
     },
     "execution_count": 77,
     "metadata": {},
     "output_type": "execute_result"
    }
   ],
   "source": [
    "#data2[\"Occ\"]=data2[\"Occ\"].astype(int)\n",
    "data3 = pd.get_dummies(data2, columns =['Occ'])\n",
    "data3.columns"
   ]
  },
  {
   "cell_type": "code",
   "execution_count": 78,
   "metadata": {},
   "outputs": [],
   "source": [
    "import numpy as np\n",
    "import matplotlib.pyplot as plt\n",
    "from itertools import cycle\n",
    "\n",
    "from sklearn import svm, datasets\n",
    "from sklearn.metrics import roc_curve, auc\n",
    "from sklearn.model_selection import train_test_split\n",
    "from sklearn.preprocessing import label_binarize\n",
    "from sklearn.multiclass import OneVsRestClassifier\n",
    "from scipy import interp\n"
   ]
  },
  {
   "cell_type": "code",
   "execution_count": 79,
   "metadata": {},
   "outputs": [],
   "source": [
    "y = label_binarize(y, classes=[0, 1, 2])\n",
    "n_classes = y.shape[1]"
   ]
  },
  {
   "cell_type": "code",
   "execution_count": 80,
   "metadata": {},
   "outputs": [],
   "source": [
    "X = data3.iloc[:,:-4].values\n",
    "y = data3.iloc[:,-4:].values"
   ]
  },
  {
   "cell_type": "code",
   "execution_count": 81,
   "metadata": {},
   "outputs": [
    {
     "data": {
      "text/plain": [
       "array([[1, 0, 1, ..., 1, 0, 0],\n",
       "       [1, 0, 0, ..., 1, 0, 0],\n",
       "       [1, 0, 1, ..., 1, 0, 0],\n",
       "       ...,\n",
       "       [1, 0, 0, ..., 1, 0, 0],\n",
       "       [1, 0, 0, ..., 1, 0, 0],\n",
       "       [1, 0, 0, ..., 1, 0, 0]], dtype=uint8)"
      ]
     },
     "execution_count": 81,
     "metadata": {},
     "output_type": "execute_result"
    }
   ],
   "source": [
    "X"
   ]
  },
  {
   "cell_type": "code",
   "execution_count": 82,
   "metadata": {},
   "outputs": [
    {
     "data": {
      "text/plain": [
       "array([[0, 0, 0, 1],\n",
       "       [0, 0, 0, 1],\n",
       "       [0, 0, 0, 1],\n",
       "       ...,\n",
       "       [0, 0, 0, 1],\n",
       "       [0, 0, 0, 1],\n",
       "       [0, 0, 0, 1]], dtype=uint8)"
      ]
     },
     "execution_count": 82,
     "metadata": {},
     "output_type": "execute_result"
    }
   ],
   "source": [
    "y"
   ]
  },
  {
   "cell_type": "code",
   "execution_count": 83,
   "metadata": {},
   "outputs": [],
   "source": [
    "n_classes = 4"
   ]
  },
  {
   "cell_type": "code",
   "execution_count": 84,
   "metadata": {},
   "outputs": [],
   "source": [
    "# Add noisy features to make the problem harder\n",
    "random_state = np.random.RandomState(0)\n",
    "n_samples, n_features = X.shape\n",
    "X = np.c_[X, random_state.randn(n_samples, 200 * n_features)]\n",
    "\n",
    "\n",
    "# shuffle and split training and test sets\n",
    "X_train, X_test, y_train, y_test = train_test_split(X, y, test_size=.5,\n",
    "                                                    random_state=0)\n",
    "\n",
    "# Learn to predict each class against the other\n",
    "classifier = OneVsRestClassifier(svm.SVC(kernel='linear', probability=True,\n",
    "                                 random_state=random_state))\n",
    "y_score = classifier.fit(X_train, y_train).decision_function(X_test)\n",
    "\n",
    "# Compute ROC curve and ROC area for each class\n",
    "fpr = dict()\n",
    "tpr = dict()\n",
    "roc_auc = dict()\n",
    "for i in range(n_classes):\n",
    "    fpr[i], tpr[i], _ = roc_curve(y_test[:, i], y_score[:, i])\n",
    "    roc_auc[i] = auc(fpr[i], tpr[i])\n",
    "\n",
    "# Compute micro-average ROC curve and ROC area\n",
    "fpr[\"micro\"], tpr[\"micro\"], _ = roc_curve(y_test.ravel(), y_score.ravel())\n",
    "roc_auc[\"micro\"] = auc(fpr[\"micro\"], tpr[\"micro\"])"
   ]
  },
  {
   "cell_type": "code",
   "execution_count": 85,
   "metadata": {},
   "outputs": [
    {
     "data": {
      "image/png": "[encoded data removed]",
      "text/plain": [
       "<Figure size 432x288 with 1 Axes>"
      ]
     },
     "metadata": {},
     "output_type": "display_data"
    }
   ],
   "source": [
    "# Compute macro-average ROC curve and ROC area\n",
    "lw = 2\n",
    "# First aggregate all false positive rates\n",
    "all_fpr = np.unique(np.concatenate([fpr[i] for i in range(n_classes)]))\n",
    "\n",
    "# Then interpolate all ROC curves at this points\n",
    "mean_tpr = np.zeros_like(all_fpr)\n",
    "for i in range(n_classes):\n",
    "    mean_tpr += interp(all_fpr, fpr[i], tpr[i])\n",
    "\n",
    "# Finally average it and compute AUC\n",
    "mean_tpr /= n_classes\n",
    "\n",
    "fpr[\"macro\"] = all_fpr\n",
    "tpr[\"macro\"] = mean_tpr\n",
    "roc_auc[\"macro\"] = auc(fpr[\"macro\"], tpr[\"macro\"])\n",
    "\n",
    "# Plot all ROC curves\n",
    "plt.figure()\n",
    "plt.plot(fpr[\"micro\"], tpr[\"micro\"],\n",
    "         label='micro-average ROC curve (area = {0:0.2f})'\n",
    "               ''.format(roc_auc[\"micro\"]),\n",
    "         color='deeppink', linestyle=':', linewidth=4)\n",
    "\n",
    "plt.plot(fpr[\"macro\"], tpr[\"macro\"],\n",
    "         label='macro-average ROC curve (area = {0:0.2f})'\n",
    "               ''.format(roc_auc[\"macro\"]),\n",
    "         color='navy', linestyle=':', linewidth=4)\n",
    "\n",
    "colors = cycle(['aqua', 'darkorange', 'cornflowerblue','green'])\n",
    "for i, color in zip(range(n_classes), colors):\n",
    "    plt.plot(fpr[i], tpr[i], color=color, lw=lw,\n",
    "             label='ROC curve of class {0} (area = {1:0.2f})'\n",
    "             ''.format(i, roc_auc[i]))\n",
    "\n",
    "plt.plot([0, 1], [0, 1], 'k--', lw=lw)\n",
    "plt.xlim([0.0, 1.0])\n",
    "plt.ylim([0.0, 1.05])\n",
    "plt.xlabel('False Positive Rate')\n",
    "plt.ylabel('True Positive Rate')\n",
    "plt.title('Some extension of Receiver operating characteristic to multi-class')\n",
    "plt.legend(loc=\"lower right\")\n",
    "plt.show()\n"
   ]
  },
  {
   "cell_type": "code",
   "execution_count": null,
   "metadata": {},
   "outputs": [],
   "source": []
  },
  {
   "cell_type": "code",
   "execution_count": null,
   "metadata": {},
   "outputs": [],
   "source": []
  },
  {
   "cell_type": "code",
   "execution_count": null,
   "metadata": {},
   "outputs": [],
   "source": []
  }
 ],
 "metadata": {
  "kernelspec": {
   "display_name": "Python 3",
   "language": "python",
   "name": "python3"
  },
  "language_info": {
   "codemirror_mode": {
    "name": "ipython",
    "version": 3
   },
   "file_extension": ".py",
   "mimetype": "text/x-python",
   "name": "python",
   "nbconvert_exporter": "python",
   "pygments_lexer": "ipython3",
   "version": "3.6.6"
  }
 },
 "nbformat": 4,
 "nbformat_minor": 2
}
