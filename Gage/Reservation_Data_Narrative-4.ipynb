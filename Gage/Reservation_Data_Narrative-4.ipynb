{
 "cells": [
  {
   "cell_type": "markdown",
   "metadata": {},
   "source": [
    "# Cleaning the Age Column"
   ]
  },
  {
   "cell_type": "code",
   "execution_count": 41,
   "metadata": {},
   "outputs": [],
   "source": [
    "import pandas as pd\n",
    "import numpy as np\n",
    "import xlrd\n",
    "import matplotlib.pyplot as plt\n",
    "import seaborn as sns\n",
    "import re"
   ]
  },
  {
   "cell_type": "markdown",
   "metadata": {},
   "source": [
    "# Reading in Census Data"
   ]
  },
  {
   "cell_type": "code",
   "execution_count": 42,
   "metadata": {},
   "outputs": [],
   "source": [
    "xls = pd.ExcelFile('data/Reservation Census.xlsx')\n",
    "df_1900 = pd.read_excel(xls, '1900 Census')\n",
    "df_1910 = pd.read_excel(xls, '1910 Census')\n",
    "df_1920 = pd.read_excel(xls, '1920 Census')"
   ]
  },
  {
   "cell_type": "markdown",
   "metadata": {},
   "source": [
    "## Preview of 1900 - 1920 Census Data"
   ]
  },
  {
   "cell_type": "code",
   "execution_count": 43,
   "metadata": {},
   "outputs": [],
   "source": [
    "df_1900['Year'] = 1900\n",
    "df_1910['Year'] = 1910\n",
    "df_1920['Year'] = 1920\n",
    "df_1900_rsac = df_1900[[\"Age at last birthday (8)\",'Year']]\n",
    "df_1910_rsac = df_1910[['Age at last birthday (8)','Year']]\n",
    "df_1920_rsac = df_1920[[\"Age at last birthday (8)\",'Year']]"
   ]
  },
  {
   "cell_type": "code",
   "execution_count": 44,
   "metadata": {},
   "outputs": [
    {
     "data": {
      "text/html": [
       "<div>\n",
       "<style scoped>\n",
       "    .dataframe tbody tr th:only-of-type {\n",
       "        vertical-align: middle;\n",
       "    }\n",
       "\n",
       "    .dataframe tbody tr th {\n",
       "        vertical-align: top;\n",
       "    }\n",
       "\n",
       "    .dataframe thead th {\n",
       "        text-align: right;\n",
       "    }\n",
       "</style>\n",
       "<table border=\"1\" class=\"dataframe\">\n",
       "  <thead>\n",
       "    <tr style=\"text-align: right;\">\n",
       "      <th></th>\n",
       "      <th>Age</th>\n",
       "      <th>Year</th>\n",
       "    </tr>\n",
       "  </thead>\n",
       "  <tbody>\n",
       "    <tr>\n",
       "      <th>0</th>\n",
       "      <td>26</td>\n",
       "      <td>1900</td>\n",
       "    </tr>\n",
       "    <tr>\n",
       "      <th>1</th>\n",
       "      <td>27</td>\n",
       "      <td>1900</td>\n",
       "    </tr>\n",
       "    <tr>\n",
       "      <th>2</th>\n",
       "      <td>25</td>\n",
       "      <td>1900</td>\n",
       "    </tr>\n",
       "    <tr>\n",
       "      <th>3</th>\n",
       "      <td>25</td>\n",
       "      <td>1900</td>\n",
       "    </tr>\n",
       "    <tr>\n",
       "      <th>4</th>\n",
       "      <td>8</td>\n",
       "      <td>1900</td>\n",
       "    </tr>\n",
       "  </tbody>\n",
       "</table>\n",
       "</div>"
      ],
      "text/plain": [
       "  Age  Year\n",
       "0  26  1900\n",
       "1  27  1900\n",
       "2  25  1900\n",
       "3  25  1900\n",
       "4   8  1900"
      ]
     },
     "execution_count": 44,
     "metadata": {},
     "output_type": "execute_result"
    }
   ],
   "source": [
    "\n",
    "df_1900_rsac.rename(columns={'Age at last birthday (8)': 'Age'}, inplace=True)\n",
    "df_1900_rsac.head()"
   ]
  },
  {
   "cell_type": "markdown",
   "metadata": {},
   "source": [
    "## Preview of 1910 Census Data"
   ]
  },
  {
   "cell_type": "code",
   "execution_count": 45,
   "metadata": {},
   "outputs": [
    {
     "data": {
      "text/html": [
       "<div>\n",
       "<style scoped>\n",
       "    .dataframe tbody tr th:only-of-type {\n",
       "        vertical-align: middle;\n",
       "    }\n",
       "\n",
       "    .dataframe tbody tr th {\n",
       "        vertical-align: top;\n",
       "    }\n",
       "\n",
       "    .dataframe thead th {\n",
       "        text-align: right;\n",
       "    }\n",
       "</style>\n",
       "<table border=\"1\" class=\"dataframe\">\n",
       "  <thead>\n",
       "    <tr style=\"text-align: right;\">\n",
       "      <th></th>\n",
       "      <th>Age</th>\n",
       "      <th>Year</th>\n",
       "    </tr>\n",
       "  </thead>\n",
       "  <tbody>\n",
       "    <tr>\n",
       "      <th>0</th>\n",
       "      <td>27</td>\n",
       "      <td>1910</td>\n",
       "    </tr>\n",
       "    <tr>\n",
       "      <th>1</th>\n",
       "      <td>23</td>\n",
       "      <td>1910</td>\n",
       "    </tr>\n",
       "    <tr>\n",
       "      <th>2</th>\n",
       "      <td>15</td>\n",
       "      <td>1910</td>\n",
       "    </tr>\n",
       "    <tr>\n",
       "      <th>3</th>\n",
       "      <td>28</td>\n",
       "      <td>1910</td>\n",
       "    </tr>\n",
       "    <tr>\n",
       "      <th>4</th>\n",
       "      <td>25</td>\n",
       "      <td>1910</td>\n",
       "    </tr>\n",
       "  </tbody>\n",
       "</table>\n",
       "</div>"
      ],
      "text/plain": [
       "  Age  Year\n",
       "0  27  1910\n",
       "1  23  1910\n",
       "2  15  1910\n",
       "3  28  1910\n",
       "4  25  1910"
      ]
     },
     "execution_count": 45,
     "metadata": {},
     "output_type": "execute_result"
    }
   ],
   "source": [
    "\n",
    "df_1910_rsac.rename(columns={'Age at last birthday (8)': 'Age'}, inplace=True)\n",
    "df_1910_rsac.head()"
   ]
  },
  {
   "cell_type": "markdown",
   "metadata": {},
   "source": [
    "## Preview of 1920 Census Data"
   ]
  },
  {
   "cell_type": "code",
   "execution_count": 46,
   "metadata": {},
   "outputs": [
    {
     "data": {
      "text/html": [
       "<div>\n",
       "<style scoped>\n",
       "    .dataframe tbody tr th:only-of-type {\n",
       "        vertical-align: middle;\n",
       "    }\n",
       "\n",
       "    .dataframe tbody tr th {\n",
       "        vertical-align: top;\n",
       "    }\n",
       "\n",
       "    .dataframe thead th {\n",
       "        text-align: right;\n",
       "    }\n",
       "</style>\n",
       "<table border=\"1\" class=\"dataframe\">\n",
       "  <thead>\n",
       "    <tr style=\"text-align: right;\">\n",
       "      <th></th>\n",
       "      <th>Age</th>\n",
       "      <th>Year</th>\n",
       "    </tr>\n",
       "  </thead>\n",
       "  <tbody>\n",
       "    <tr>\n",
       "      <th>0</th>\n",
       "      <td>32</td>\n",
       "      <td>1920</td>\n",
       "    </tr>\n",
       "    <tr>\n",
       "      <th>1</th>\n",
       "      <td>27</td>\n",
       "      <td>1920</td>\n",
       "    </tr>\n",
       "    <tr>\n",
       "      <th>2</th>\n",
       "      <td>9</td>\n",
       "      <td>1920</td>\n",
       "    </tr>\n",
       "    <tr>\n",
       "      <th>3</th>\n",
       "      <td>5 and 0 months</td>\n",
       "      <td>1920</td>\n",
       "    </tr>\n",
       "    <tr>\n",
       "      <th>4</th>\n",
       "      <td>3</td>\n",
       "      <td>1920</td>\n",
       "    </tr>\n",
       "  </tbody>\n",
       "</table>\n",
       "</div>"
      ],
      "text/plain": [
       "              Age  Year\n",
       "0              32  1920\n",
       "1              27  1920\n",
       "2               9  1920\n",
       "3  5 and 0 months  1920\n",
       "4               3  1920"
      ]
     },
     "execution_count": 46,
     "metadata": {},
     "output_type": "execute_result"
    }
   ],
   "source": [
    "\n",
    "df_1920_rsac.rename(columns={'Age at last birthday (8)': 'Age'}, inplace=True)\n",
    "df_1920_rsac.head()"
   ]
  },
  {
   "cell_type": "code",
   "execution_count": 47,
   "metadata": {},
   "outputs": [
    {
     "data": {
      "text/plain": [
       "array([26, 27, 25, 8, 46, 34, 19, 15, 12, 9, 21, 5, '1 month', 2, 58, 35,\n",
       "       23, 18, 13, 56, 41, 20, 39, 7, 24, 51, 43, 17, 14, 60, '2 months',\n",
       "       22, 54, 48, 10, 28, 30, 11, 32, 31, 29, 50, 49, 1, 63, 33, 6, 64,\n",
       "       3, 37, 55, 36, 57, 53, 16, 87, 81, 38, 4, 65, 45, 40, 76,\n",
       "       '5 months', 47, 44, 75, 42, '10 months', 52, 61, 68, 69, 77, 105,\n",
       "       59, '4 months', 62, '11 months', nan, 84, 80], dtype=object)"
      ]
     },
     "execution_count": 47,
     "metadata": {},
     "output_type": "execute_result"
    }
   ],
   "source": [
    "#df_1900_rsac.dropna(inplace = True) \n",
    "df_1900_rsac.Age.unique()"
   ]
  },
  {
   "cell_type": "code",
   "execution_count": 48,
   "metadata": {},
   "outputs": [
    {
     "name": "stderr",
     "output_type": "stream",
     "text": [
      "c:\\users\\user\\appdata\\local\\programs\\python\\python36\\lib\\site-packages\\ipykernel_launcher.py:2: SettingWithCopyWarning: \n",
      "A value is trying to be set on a copy of a slice from a DataFrame.\n",
      "Try using .loc[row_indexer,col_indexer] = value instead\n",
      "\n",
      "See the caveats in the documentation: http://pandas.pydata.org/pandas-docs/stable/indexing.html#indexing-view-versus-copy\n",
      "  \n",
      "c:\\users\\user\\appdata\\local\\programs\\python\\python36\\lib\\site-packages\\ipykernel_launcher.py:3: SettingWithCopyWarning: \n",
      "A value is trying to be set on a copy of a slice from a DataFrame.\n",
      "Try using .loc[row_indexer,col_indexer] = value instead\n",
      "\n",
      "See the caveats in the documentation: http://pandas.pydata.org/pandas-docs/stable/indexing.html#indexing-view-versus-copy\n",
      "  This is separate from the ipykernel package so we can avoid doing imports until\n",
      "c:\\users\\user\\appdata\\local\\programs\\python\\python36\\lib\\site-packages\\ipykernel_launcher.py:4: SettingWithCopyWarning: \n",
      "A value is trying to be set on a copy of a slice from a DataFrame.\n",
      "Try using .loc[row_indexer,col_indexer] = value instead\n",
      "\n",
      "See the caveats in the documentation: http://pandas.pydata.org/pandas-docs/stable/indexing.html#indexing-view-versus-copy\n",
      "  after removing the cwd from sys.path.\n"
     ]
    }
   ],
   "source": [
    "#pd.to_numeric(df_1900_rsac.Age, errors='ignore').head()\n",
    "df_1900_rsac[\"Age\"] = df_1900_rsac[\"Age\"].astype('str')\n",
    "df_1910_rsac[\"Age\"] = df_1910_rsac[\"Age\"].astype('str')\n",
    "df_1920_rsac[\"Age\"] = df_1920_rsac[\"Age\"].astype('str')"
   ]
  },
  {
   "cell_type": "code",
   "execution_count": 49,
   "metadata": {},
   "outputs": [
    {
     "name": "stderr",
     "output_type": "stream",
     "text": [
      "c:\\users\\user\\appdata\\local\\programs\\python\\python36\\lib\\site-packages\\ipykernel_launcher.py:7: SettingWithCopyWarning: \n",
      "A value is trying to be set on a copy of a slice from a DataFrame\n",
      "\n",
      "See the caveats in the documentation: http://pandas.pydata.org/pandas-docs/stable/indexing.html#indexing-view-versus-copy\n",
      "  import sys\n",
      "c:\\users\\user\\appdata\\local\\programs\\python\\python36\\lib\\site-packages\\ipykernel_launcher.py:11: SettingWithCopyWarning: \n",
      "A value is trying to be set on a copy of a slice from a DataFrame\n",
      "\n",
      "See the caveats in the documentation: http://pandas.pydata.org/pandas-docs/stable/indexing.html#indexing-view-versus-copy\n",
      "  # This is added back by InteractiveShellApp.init_path()\n"
     ]
    }
   ],
   "source": [
    "\n",
    "\n",
    "for i in range (0 ,len(df_1900_rsac.Age)):    \n",
    "    num_list = [int(s) for s in re.findall(r'\\b\\d+\\b', df_1900_rsac.Age[i])]\n",
    "\n",
    "    if len(num_list) == 1:\n",
    "        df_1900_rsac.Age[i] = round(num_list[0],1)\n",
    "    elif len(num_list) == 2:\n",
    "        df_1900_rsac.Age[i] = round((num_list[0] + (num_list[1]/12)),1)    \n",
    "    else:\n",
    "        df_1900_rsac.Age[i] = df_1900_rsac.Age[i]    \n"
   ]
  },
  {
   "cell_type": "code",
   "execution_count": 50,
   "metadata": {},
   "outputs": [
    {
     "data": {
      "text/plain": [
       "array([26, 27, 25, 8, 46, 34, 19, 15, 12, 9, 21, 5, 1, 2, 58, 35, 23, 18,\n",
       "       13, 56, 41, 20, 39, 7, 24, 51, 43, 17, 14, 60, 22, 54, 48, 10, 28,\n",
       "       30, 11, 32, 31, 29, 50, 49, 63, 33, 6, 64, 3, 37, 55, 36, 57, 53,\n",
       "       16, 87, 81, 38, 4, 65, 45, 40, 76, 47, 44, 75, 42, 52, 61, 68, 69,\n",
       "       77, 105, 59, 62, 'nan', 84, 80], dtype=object)"
      ]
     },
     "execution_count": 50,
     "metadata": {},
     "output_type": "execute_result"
    }
   ],
   "source": [
    "df_1900_rsac.Age.unique()"
   ]
  },
  {
   "cell_type": "code",
   "execution_count": 51,
   "metadata": {},
   "outputs": [
    {
     "name": "stderr",
     "output_type": "stream",
     "text": [
      "c:\\users\\user\\appdata\\local\\programs\\python\\python36\\lib\\site-packages\\ipykernel_launcher.py:5: SettingWithCopyWarning: \n",
      "A value is trying to be set on a copy of a slice from a DataFrame\n",
      "\n",
      "See the caveats in the documentation: http://pandas.pydata.org/pandas-docs/stable/indexing.html#indexing-view-versus-copy\n",
      "  \"\"\"\n",
      "c:\\users\\user\\appdata\\local\\programs\\python\\python36\\lib\\site-packages\\ipykernel_launcher.py:7: SettingWithCopyWarning: \n",
      "A value is trying to be set on a copy of a slice from a DataFrame\n",
      "\n",
      "See the caveats in the documentation: http://pandas.pydata.org/pandas-docs/stable/indexing.html#indexing-view-versus-copy\n",
      "  import sys\n",
      "c:\\users\\user\\appdata\\local\\programs\\python\\python36\\lib\\site-packages\\ipykernel_launcher.py:9: SettingWithCopyWarning: \n",
      "A value is trying to be set on a copy of a slice from a DataFrame\n",
      "\n",
      "See the caveats in the documentation: http://pandas.pydata.org/pandas-docs/stable/indexing.html#indexing-view-versus-copy\n",
      "  if __name__ == '__main__':\n"
     ]
    }
   ],
   "source": [
    "for i in range (0 ,len(df_1920_rsac.Age)):    \n",
    "    num_list = [int(s) for s in re.findall(r'\\b\\d+\\b', df_1920_rsac.Age[i])]\n",
    "\n",
    "    if len(num_list) == 1:\n",
    "        df_1920_rsac.Age[i] = round(num_list[0],1)\n",
    "    elif len(num_list) == 2:\n",
    "        df_1920_rsac.Age[i] = round((num_list[0] + (num_list[1]/12)),1)     \n",
    "    else:\n",
    "        df_1920_rsac.Age[i] = df_1920_rsac.Age[i]    "
   ]
  },
  {
   "cell_type": "code",
   "execution_count": 52,
   "metadata": {},
   "outputs": [
    {
     "data": {
      "text/plain": [
       "array([32, 27, 9, 5.0, 3, 2, 35, 26, 51, 23, 28, 43, 30, 31, 40, 33, 2.2,\n",
       "       29, 62, 53, 21, 8, 5.1, 3.8, 11, 70, 80, 25, 13, 42, 39, 34, 38,\n",
       "       19, 15, 3.9, 50, 45, 60, 65, 2.9, 47, 14, 17, 10, 52, 6, 1, 16, 24,\n",
       "       5.9, 67, 44, 37, 22, 18, 55, 20, 54, 36, 48, 4.0, 'Un.', 7, 6.1,\n",
       "       4.1, 2.5, 4.8, 1.3, 12, 57, 2.4, 61, 73, 56, 49, 2.8, 1.8, 41, 69,\n",
       "       59, 46, 0, 3.2, 5.8, 3.5, 7.8, 3.7, 3.6, 71, 1.5, 3.4, 66, 3.3,\n",
       "       1.9, 64, 90, 85, 68, 2.3, 1.4, 1.7, 63, 72, 75, 58, 4.2, 2.1, 4.4,\n",
       "       76, 3.1, 2.7, 5.2, 92, 82, 4.6, 5.6, 83, 4.9, 5.3, 1.1, 100, 77,\n",
       "       78, 5.4, 5.7, 5.5, 4.7, 74, 1.6, 4.3, 1.2, 4.5, 79], dtype=object)"
      ]
     },
     "execution_count": 52,
     "metadata": {},
     "output_type": "execute_result"
    }
   ],
   "source": [
    "df_1920_rsac.Age.unique()"
   ]
  },
  {
   "cell_type": "code",
   "execution_count": 30,
   "metadata": {},
   "outputs": [
    {
     "data": {
      "text/plain": [
       "15.4"
      ]
     },
     "execution_count": 30,
     "metadata": {},
     "output_type": "execute_result"
    }
   ],
   "source": []
  }
 ],
 "metadata": {
  "kernelspec": {
   "display_name": "Python 3",
   "language": "python",
   "name": "python3"
  },
  "language_info": {
   "codemirror_mode": {
    "name": "ipython",
    "version": 3
   },
   "file_extension": ".py",
   "mimetype": "text/x-python",
   "name": "python",
   "nbconvert_exporter": "python",
   "pygments_lexer": "ipython3",
   "version": "3.6.0"
  }
 },
 "nbformat": 4,
 "nbformat_minor": 2
}
