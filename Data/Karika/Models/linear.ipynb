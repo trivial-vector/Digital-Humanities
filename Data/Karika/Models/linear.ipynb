{
 "cells": [
  {
   "cell_type": "code",
   "execution_count": 31,
   "metadata": {},
   "outputs": [],
   "source": [
    "import pandas as pd\n",
    "import matplotlib.pyplot as plt\n",
    "import numpy as np\n",
    "\n",
    "from sklearn.model_selection import train_test_split\n",
    "from sklearn.preprocessing import LabelEncoder\n",
    "from sklearn.svm import SVC \n",
    "from sklearn.metrics import classification_report\n"
   ]
  },
  {
   "cell_type": "code",
   "execution_count": 32,
   "metadata": {},
   "outputs": [
    {
     "data": {
      "text/plain": [
       "line_number               808\n",
       "house_number              808\n",
       "street_name               808\n",
       "last_name                 808\n",
       "given_name                808\n",
       "relation                  808\n",
       "color_race                808\n",
       "sex                       808\n",
       "age_at_last_birthday      808\n",
       "occupation                808\n",
       "own_or_rent               808\n",
       "owned_free_or_mortgage    808\n",
       "house_or_farm             808\n",
       "my_notes                  808\n",
       "file_name                 808\n",
       "census_year               808\n",
       "dtype: int64"
      ]
     },
     "execution_count": 32,
     "metadata": {},
     "output_type": "execute_result"
    }
   ],
   "source": [
    "censuses_data = pd.read_csv(\"./CSV/censuses.csv\")\n",
    "censuses_data = censuses_data[censuses_data[\"census_year\"] == 1900]\n",
    "censuses_data.count()"
   ]
  },
  {
   "cell_type": "code",
   "execution_count": 33,
   "metadata": {},
   "outputs": [
    {
     "data": {
      "text/plain": [
       "line_number               321\n",
       "house_number              321\n",
       "street_name               321\n",
       "last_name                 321\n",
       "given_name                321\n",
       "relation                  321\n",
       "color_race                321\n",
       "sex                       321\n",
       "age_at_last_birthday      321\n",
       "occupation                321\n",
       "own_or_rent               321\n",
       "owned_free_or_mortgage    321\n",
       "house_or_farm             321\n",
       "my_notes                  321\n",
       "file_name                 321\n",
       "census_year               321\n",
       "dtype: int64"
      ]
     },
     "execution_count": 33,
     "metadata": {},
     "output_type": "execute_result"
    }
   ],
   "source": [
    "# Separate out the occupation which are null/ none (LATER we can test our model again these cases)\n",
    "occupation_missing_mask = (censuses_data[\"occupation\"].str.contains('None')) | (censuses_data[\"occupation\"].str.contains('Null'))\n",
    "df_missing_occupation = censuses_data[occupation_missing_mask]\n",
    "df_missing_occupation.count()"
   ]
  },
  {
   "cell_type": "code",
   "execution_count": 34,
   "metadata": {},
   "outputs": [
    {
     "name": "stdout",
     "output_type": "stream",
     "text": [
      "(487, 4) (487,)\n"
     ]
    }
   ],
   "source": [
    "# Prepare our X & y to create model with labelled 'occupation' column\n",
    "\n",
    "# prepare new df where occupation column is All labelled\n",
    "df_all_occupation = censuses_data[occupation_missing_mask == False]\n",
    "\n",
    "# include following features that MAY influence occupation field -\n",
    "# relation, color_race, sex, age_at_last_birthday\n",
    "X = df_all_occupation[[\"relation\",\"color_race\",\"sex\",\"age_at_last_birthday\"]]\n",
    "y = df_all_occupation[\"occupation\"]\n",
    "print(X.shape, y.shape)"
   ]
  },
  {
   "cell_type": "code",
   "execution_count": 35,
   "metadata": {},
   "outputs": [
    {
     "data": {
      "text/html": [
       "<div>\n",
       "<style scoped>\n",
       "    .dataframe tbody tr th:only-of-type {\n",
       "        vertical-align: middle;\n",
       "    }\n",
       "\n",
       "    .dataframe tbody tr th {\n",
       "        vertical-align: top;\n",
       "    }\n",
       "\n",
       "    .dataframe thead th {\n",
       "        text-align: right;\n",
       "    }\n",
       "</style>\n",
       "<table border=\"1\" class=\"dataframe\">\n",
       "  <thead>\n",
       "    <tr style=\"text-align: right;\">\n",
       "      <th></th>\n",
       "      <th>age_at_last_birthday</th>\n",
       "      <th>relation_Adopted Daughter</th>\n",
       "      <th>relation_Boarder</th>\n",
       "      <th>relation_Brother</th>\n",
       "      <th>relation_Brother-in-law</th>\n",
       "      <th>relation_Cousin</th>\n",
       "      <th>relation_Daughter</th>\n",
       "      <th>relation_Daughter-in-law</th>\n",
       "      <th>relation_Father</th>\n",
       "      <th>relation_Granddaughter</th>\n",
       "      <th>...</th>\n",
       "      <th>relation_Son</th>\n",
       "      <th>relation_Son-in-law</th>\n",
       "      <th>relation_Step-Daughter</th>\n",
       "      <th>relation_Stepdaughter</th>\n",
       "      <th>relation_Stepson</th>\n",
       "      <th>relation_Wife</th>\n",
       "      <th>color_race_B</th>\n",
       "      <th>color_race_W</th>\n",
       "      <th>sex_F</th>\n",
       "      <th>sex_M</th>\n",
       "    </tr>\n",
       "  </thead>\n",
       "  <tbody>\n",
       "    <tr>\n",
       "      <th>0</th>\n",
       "      <td>26</td>\n",
       "      <td>0</td>\n",
       "      <td>1</td>\n",
       "      <td>0</td>\n",
       "      <td>0</td>\n",
       "      <td>0</td>\n",
       "      <td>0</td>\n",
       "      <td>0</td>\n",
       "      <td>0</td>\n",
       "      <td>0</td>\n",
       "      <td>...</td>\n",
       "      <td>0</td>\n",
       "      <td>0</td>\n",
       "      <td>0</td>\n",
       "      <td>0</td>\n",
       "      <td>0</td>\n",
       "      <td>0</td>\n",
       "      <td>1</td>\n",
       "      <td>0</td>\n",
       "      <td>1</td>\n",
       "      <td>0</td>\n",
       "    </tr>\n",
       "    <tr>\n",
       "      <th>1</th>\n",
       "      <td>27</td>\n",
       "      <td>0</td>\n",
       "      <td>1</td>\n",
       "      <td>0</td>\n",
       "      <td>0</td>\n",
       "      <td>0</td>\n",
       "      <td>0</td>\n",
       "      <td>0</td>\n",
       "      <td>0</td>\n",
       "      <td>0</td>\n",
       "      <td>...</td>\n",
       "      <td>0</td>\n",
       "      <td>0</td>\n",
       "      <td>0</td>\n",
       "      <td>0</td>\n",
       "      <td>0</td>\n",
       "      <td>0</td>\n",
       "      <td>1</td>\n",
       "      <td>0</td>\n",
       "      <td>0</td>\n",
       "      <td>1</td>\n",
       "    </tr>\n",
       "    <tr>\n",
       "      <th>2</th>\n",
       "      <td>25</td>\n",
       "      <td>0</td>\n",
       "      <td>0</td>\n",
       "      <td>0</td>\n",
       "      <td>0</td>\n",
       "      <td>0</td>\n",
       "      <td>0</td>\n",
       "      <td>0</td>\n",
       "      <td>0</td>\n",
       "      <td>0</td>\n",
       "      <td>...</td>\n",
       "      <td>0</td>\n",
       "      <td>0</td>\n",
       "      <td>0</td>\n",
       "      <td>0</td>\n",
       "      <td>0</td>\n",
       "      <td>0</td>\n",
       "      <td>1</td>\n",
       "      <td>0</td>\n",
       "      <td>1</td>\n",
       "      <td>0</td>\n",
       "    </tr>\n",
       "    <tr>\n",
       "      <th>3</th>\n",
       "      <td>25</td>\n",
       "      <td>0</td>\n",
       "      <td>1</td>\n",
       "      <td>0</td>\n",
       "      <td>0</td>\n",
       "      <td>0</td>\n",
       "      <td>0</td>\n",
       "      <td>0</td>\n",
       "      <td>0</td>\n",
       "      <td>0</td>\n",
       "      <td>...</td>\n",
       "      <td>0</td>\n",
       "      <td>0</td>\n",
       "      <td>0</td>\n",
       "      <td>0</td>\n",
       "      <td>0</td>\n",
       "      <td>0</td>\n",
       "      <td>1</td>\n",
       "      <td>0</td>\n",
       "      <td>1</td>\n",
       "      <td>0</td>\n",
       "    </tr>\n",
       "    <tr>\n",
       "      <th>4</th>\n",
       "      <td>8</td>\n",
       "      <td>0</td>\n",
       "      <td>0</td>\n",
       "      <td>0</td>\n",
       "      <td>0</td>\n",
       "      <td>0</td>\n",
       "      <td>1</td>\n",
       "      <td>0</td>\n",
       "      <td>0</td>\n",
       "      <td>0</td>\n",
       "      <td>...</td>\n",
       "      <td>0</td>\n",
       "      <td>0</td>\n",
       "      <td>0</td>\n",
       "      <td>0</td>\n",
       "      <td>0</td>\n",
       "      <td>0</td>\n",
       "      <td>1</td>\n",
       "      <td>0</td>\n",
       "      <td>1</td>\n",
       "      <td>0</td>\n",
       "    </tr>\n",
       "  </tbody>\n",
       "</table>\n",
       "<p>5 rows × 30 columns</p>\n",
       "</div>"
      ],
      "text/plain": [
       "  age_at_last_birthday  relation_Adopted Daughter  relation_Boarder  \\\n",
       "0                   26                          0                 1   \n",
       "1                   27                          0                 1   \n",
       "2                   25                          0                 0   \n",
       "3                   25                          0                 1   \n",
       "4                    8                          0                 0   \n",
       "\n",
       "   relation_Brother  relation_Brother-in-law  relation_Cousin  \\\n",
       "0                 0                        0                0   \n",
       "1                 0                        0                0   \n",
       "2                 0                        0                0   \n",
       "3                 0                        0                0   \n",
       "4                 0                        0                0   \n",
       "\n",
       "   relation_Daughter  relation_Daughter-in-law  relation_Father  \\\n",
       "0                  0                         0                0   \n",
       "1                  0                         0                0   \n",
       "2                  0                         0                0   \n",
       "3                  0                         0                0   \n",
       "4                  1                         0                0   \n",
       "\n",
       "   relation_Granddaughter  ...    relation_Son  relation_Son-in-law  \\\n",
       "0                       0  ...               0                    0   \n",
       "1                       0  ...               0                    0   \n",
       "2                       0  ...               0                    0   \n",
       "3                       0  ...               0                    0   \n",
       "4                       0  ...               0                    0   \n",
       "\n",
       "   relation_Step-Daughter  relation_Stepdaughter  relation_Stepson  \\\n",
       "0                       0                      0                 0   \n",
       "1                       0                      0                 0   \n",
       "2                       0                      0                 0   \n",
       "3                       0                      0                 0   \n",
       "4                       0                      0                 0   \n",
       "\n",
       "   relation_Wife  color_race_B  color_race_W  sex_F  sex_M  \n",
       "0              0             1             0      1      0  \n",
       "1              0             1             0      0      1  \n",
       "2              0             1             0      1      0  \n",
       "3              0             1             0      1      0  \n",
       "4              0             1             0      1      0  \n",
       "\n",
       "[5 rows x 30 columns]"
      ]
     },
     "execution_count": 35,
     "metadata": {},
     "output_type": "execute_result"
    }
   ],
   "source": [
    "# using get_dummies get binary coded for categorical data\n",
    "X = pd.get_dummies(X, columns=[\"relation\",\"color_race\", \"sex\"])\n",
    "X.head()"
   ]
  },
  {
   "cell_type": "code",
   "execution_count": 36,
   "metadata": {},
   "outputs": [],
   "source": [
    "# Split the data into training and test sets\n",
    "X_train, X_test, y_train, y_test = train_test_split(X, y, random_state=1, test_size=1/3)"
   ]
  },
  {
   "cell_type": "code",
   "execution_count": 37,
   "metadata": {},
   "outputs": [
    {
     "data": {
      "text/plain": [
       "SVC(C=1.0, cache_size=200, class_weight=None, coef0=0.0,\n",
       "  decision_function_shape='ovr', degree=3, gamma='auto_deprecated',\n",
       "  kernel='linear', max_iter=-1, probability=False, random_state=None,\n",
       "  shrinking=True, tol=0.001, verbose=False)"
      ]
     },
     "execution_count": 37,
     "metadata": {},
     "output_type": "execute_result"
    }
   ],
   "source": [
    "model = SVC(kernel='linear')\n",
    "model.fit(X_train, y_train)"
   ]
  },
  {
   "cell_type": "code",
   "execution_count": 38,
   "metadata": {},
   "outputs": [
    {
     "name": "stdout",
     "output_type": "stream",
     "text": [
      "Test Acc: 0.528\n"
     ]
    }
   ],
   "source": [
    "print('Test Acc: %.3f' % model.score(X_test, y_test))"
   ]
  },
  {
   "cell_type": "code",
   "execution_count": null,
   "metadata": {},
   "outputs": [],
   "source": [
    "predictions = model.predict(X_test)\n",
    "print(classification_report(y_test, predictions,\n",
    "                            target_names=target_names))"
   ]
  }
 ],
 "metadata": {
  "kernelspec": {
   "display_name": "Python 3",
   "language": "python",
   "name": "python3"
  },
  "language_info": {
   "codemirror_mode": {
    "name": "ipython",
    "version": 3
   },
   "file_extension": ".py",
   "mimetype": "text/x-python",
   "name": "python",
   "nbconvert_exporter": "python",
   "pygments_lexer": "ipython3",
   "version": "3.7.1"
  }
 },
 "nbformat": 4,
 "nbformat_minor": 2
}
