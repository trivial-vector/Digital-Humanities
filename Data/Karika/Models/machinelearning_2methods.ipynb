{
 "cells": [
  {
   "cell_type": "code",
   "execution_count": 1,
   "metadata": {},
   "outputs": [],
   "source": [
    "# Dependencies\n",
    "import numpy as np\n",
    "import pandas as pd"
   ]
  },
  {
   "cell_type": "code",
   "execution_count": 2,
   "metadata": {},
   "outputs": [
    {
     "data": {
      "text/html": [
       "<div>\n",
       "<style scoped>\n",
       "    .dataframe tbody tr th:only-of-type {\n",
       "        vertical-align: middle;\n",
       "    }\n",
       "\n",
       "    .dataframe tbody tr th {\n",
       "        vertical-align: top;\n",
       "    }\n",
       "\n",
       "    .dataframe thead th {\n",
       "        text-align: right;\n",
       "    }\n",
       "</style>\n",
       "<table border=\"1\" class=\"dataframe\">\n",
       "  <thead>\n",
       "    <tr style=\"text-align: right;\">\n",
       "      <th></th>\n",
       "      <th>line_number</th>\n",
       "      <th>house_number</th>\n",
       "      <th>street_name</th>\n",
       "      <th>last_name</th>\n",
       "      <th>given_name</th>\n",
       "      <th>relation</th>\n",
       "      <th>color_race</th>\n",
       "      <th>sex</th>\n",
       "      <th>age_at_last_birthday</th>\n",
       "      <th>occupation</th>\n",
       "      <th>own_or_rent</th>\n",
       "      <th>owned_free_or_mortgage</th>\n",
       "      <th>house_or_farm</th>\n",
       "      <th>my_notes</th>\n",
       "      <th>file_name</th>\n",
       "      <th>census_year</th>\n",
       "    </tr>\n",
       "  </thead>\n",
       "  <tbody>\n",
       "    <tr>\n",
       "      <th>0</th>\n",
       "      <td>65</td>\n",
       "      <td>830</td>\n",
       "      <td>Arthur St</td>\n",
       "      <td>Brown</td>\n",
       "      <td>Eliza</td>\n",
       "      <td>Boarder</td>\n",
       "      <td>B</td>\n",
       "      <td>F</td>\n",
       "      <td>26</td>\n",
       "      <td>Servant</td>\n",
       "      <td>Null</td>\n",
       "      <td>Null</td>\n",
       "      <td>Null</td>\n",
       "      <td>Null</td>\n",
       "      <td>1900 census ED 70 page 2</td>\n",
       "      <td>1900</td>\n",
       "    </tr>\n",
       "    <tr>\n",
       "      <th>1</th>\n",
       "      <td>63</td>\n",
       "      <td>830</td>\n",
       "      <td>Arthur St</td>\n",
       "      <td>Butcher</td>\n",
       "      <td>John H.</td>\n",
       "      <td>Boarder</td>\n",
       "      <td>B</td>\n",
       "      <td>M</td>\n",
       "      <td>27</td>\n",
       "      <td>Drayman</td>\n",
       "      <td>Null</td>\n",
       "      <td>Null</td>\n",
       "      <td>Null</td>\n",
       "      <td>Null</td>\n",
       "      <td>1900 census ED 70 page 2</td>\n",
       "      <td>1900</td>\n",
       "    </tr>\n",
       "    <tr>\n",
       "      <th>2</th>\n",
       "      <td>61</td>\n",
       "      <td>830</td>\n",
       "      <td>Arthur St</td>\n",
       "      <td>Olliver</td>\n",
       "      <td>Marsha</td>\n",
       "      <td>Head</td>\n",
       "      <td>B</td>\n",
       "      <td>F</td>\n",
       "      <td>25</td>\n",
       "      <td>Laundress</td>\n",
       "      <td>Rent</td>\n",
       "      <td>Null</td>\n",
       "      <td>House</td>\n",
       "      <td>Null</td>\n",
       "      <td>1900 census ED 70 page 2</td>\n",
       "      <td>1900</td>\n",
       "    </tr>\n",
       "    <tr>\n",
       "      <th>3</th>\n",
       "      <td>64</td>\n",
       "      <td>830</td>\n",
       "      <td>Arthur St</td>\n",
       "      <td>Spivey</td>\n",
       "      <td>Neata</td>\n",
       "      <td>Boarder</td>\n",
       "      <td>B</td>\n",
       "      <td>F</td>\n",
       "      <td>25</td>\n",
       "      <td>Servant</td>\n",
       "      <td>Null</td>\n",
       "      <td>Null</td>\n",
       "      <td>Null</td>\n",
       "      <td>Null</td>\n",
       "      <td>1900 census ED 70 page 2</td>\n",
       "      <td>1900</td>\n",
       "    </tr>\n",
       "    <tr>\n",
       "      <th>4</th>\n",
       "      <td>62</td>\n",
       "      <td>830</td>\n",
       "      <td>Arthur St</td>\n",
       "      <td>Wells</td>\n",
       "      <td>Ethel</td>\n",
       "      <td>Daughter</td>\n",
       "      <td>B</td>\n",
       "      <td>F</td>\n",
       "      <td>8</td>\n",
       "      <td>At School</td>\n",
       "      <td>Null</td>\n",
       "      <td>Null</td>\n",
       "      <td>Null</td>\n",
       "      <td>Null</td>\n",
       "      <td>1900 census ED 70 page 2</td>\n",
       "      <td>1900</td>\n",
       "    </tr>\n",
       "  </tbody>\n",
       "</table>\n",
       "</div>"
      ],
      "text/plain": [
       "   line_number house_number street_name last_name given_name  relation  \\\n",
       "0           65          830   Arthur St     Brown      Eliza   Boarder   \n",
       "1           63          830   Arthur St   Butcher    John H.   Boarder   \n",
       "2           61          830   Arthur St   Olliver     Marsha      Head   \n",
       "3           64          830   Arthur St    Spivey      Neata   Boarder   \n",
       "4           62          830   Arthur St     Wells      Ethel  Daughter   \n",
       "\n",
       "  color_race sex age_at_last_birthday occupation own_or_rent  \\\n",
       "0          B   F                   26    Servant        Null   \n",
       "1          B   M                   27    Drayman        Null   \n",
       "2          B   F                   25  Laundress        Rent   \n",
       "3          B   F                   25    Servant        Null   \n",
       "4          B   F                    8  At School        Null   \n",
       "\n",
       "  owned_free_or_mortgage house_or_farm my_notes                 file_name  \\\n",
       "0                   Null          Null     Null  1900 census ED 70 page 2   \n",
       "1                   Null          Null     Null  1900 census ED 70 page 2   \n",
       "2                   Null         House     Null  1900 census ED 70 page 2   \n",
       "3                   Null          Null     Null  1900 census ED 70 page 2   \n",
       "4                   Null          Null     Null  1900 census ED 70 page 2   \n",
       "\n",
       "   census_year  \n",
       "0         1900  \n",
       "1         1900  \n",
       "2         1900  \n",
       "3         1900  \n",
       "4         1900  "
      ]
     },
     "execution_count": 2,
     "metadata": {},
     "output_type": "execute_result"
    }
   ],
   "source": [
    "censuses_data = pd.read_csv(\"./CSV/censuses.csv\")\n",
    "censuses_data = censuses_data[censuses_data[\"census_year\"] == 1900]\n",
    "censuses_data.head()"
   ]
  },
  {
   "cell_type": "code",
   "execution_count": 3,
   "metadata": {},
   "outputs": [
    {
     "data": {
      "text/plain": [
       "line_number               321\n",
       "house_number              321\n",
       "street_name               321\n",
       "last_name                 321\n",
       "given_name                321\n",
       "relation                  321\n",
       "color_race                321\n",
       "sex                       321\n",
       "age_at_last_birthday      321\n",
       "occupation                321\n",
       "own_or_rent               321\n",
       "owned_free_or_mortgage    321\n",
       "house_or_farm             321\n",
       "my_notes                  321\n",
       "file_name                 321\n",
       "census_year               321\n",
       "dtype: int64"
      ]
     },
     "execution_count": 3,
     "metadata": {},
     "output_type": "execute_result"
    }
   ],
   "source": [
    "# Separate out the occupation which are null/ none (LATER we can test our model again these cases)\n",
    "occupation_missing_mask = (censuses_data[\"occupation\"].str.contains('None')) | (censuses_data[\"occupation\"].str.contains('Null'))\n",
    "df_missing_occupation = censuses_data[occupation_missing_mask]\n",
    "df_missing_occupation.count()"
   ]
  },
  {
   "cell_type": "code",
   "execution_count": 27,
   "metadata": {},
   "outputs": [
    {
     "data": {
      "text/plain": [
       "array(['Boarder', 'Head', 'Daughter', 'Son', 'Granddaughter', 'Nephew',\n",
       "       'Son-in-law', 'Niece', 'Cousin', 'Step-Daughter', 'Brother',\n",
       "       'Wife', 'Sister', 'Lodger', 'Stepson', 'Stepdaughter', 'Partner',\n",
       "       'Father', 'Grandson', 'Brother-in-law', 'Daughter-in-law',\n",
       "       'Adopted Daughter', 'Servant', 'Sister-in-law', 'Roomer'],\n",
       "      dtype=object)"
      ]
     },
     "execution_count": 27,
     "metadata": {},
     "output_type": "execute_result"
    }
   ],
   "source": [
    "# prepare new df where occupation column is All labelled\n",
    "df_all_occupation = censuses_data[occupation_missing_mask == False]\n",
    "df_all_occupation.relation.unique()"
   ]
  },
  {
   "cell_type": "code",
   "execution_count": 28,
   "metadata": {},
   "outputs": [
    {
     "name": "stderr",
     "output_type": "stream",
     "text": [
      "D:\\Users\\kshah\\Anaconda3\\lib\\site-packages\\pandas\\core\\generic.py:5890: SettingWithCopyWarning: \n",
      "A value is trying to be set on a copy of a slice from a DataFrame\n",
      "\n",
      "See the caveats in the documentation: http://pandas.pydata.org/pandas-docs/stable/indexing.html#indexing-view-versus-copy\n",
      "  self._update_inplace(new_data)\n"
     ]
    }
   ],
   "source": [
    "# Prepare our X & y to create model with labelled 'occupation' column\n",
    "\n",
    "# include following features that MAY influence occupation field -\n",
    "# color_race, sex, age_at_last_birthday, occupation\n",
    "newdata = df_all_occupation[[\"relation\",\"color_race\",\"sex\",\"age_at_last_birthday\", \"occupation\"]]\n",
    "\n",
    "newdata[\"color_race\"].replace(\"B\", 1, inplace=True) # Replace B by 1\n",
    "newdata[\"color_race\"].replace(\"W\", 0, inplace=True) # Replace W by 0\n",
    "\n",
    "newdata[\"sex\"].replace(\"M\", 1, inplace=True) # Replace M by 1\n",
    "newdata[\"sex\"].replace(\"F\", 0, inplace=True) # Replace F by 0"
   ]
  },
  {
   "cell_type": "code",
   "execution_count": 29,
   "metadata": {},
   "outputs": [
    {
     "name": "stdout",
     "output_type": "stream",
     "text": [
      "{'Boarder': 1, 'Head': 2, 'Daughter': 3, 'Son': 4, 'Granddaughter': 5, 'Nephew': 6, 'Son-in-law': 7, 'Niece': 8, 'Cousin': 9, 'Step-Daughter': 10, 'Brother': 11, 'Wife': 12, 'Sister': 13, 'Lodger': 14, 'Stepson': 15, 'Stepdaughter': 16, 'Partner': 17, 'Father': 18, 'Grandson': 19, 'Brother-in-law': 20, 'Daughter-in-law': 21, 'Adopted Daughter': 22, 'Servant': 23, 'Sister-in-law': 24, 'Roomer': 25}\n"
     ]
    }
   ],
   "source": [
    "# Create dictionary to convert relation into unique numbers\n",
    "relation = {}\n",
    "counter = 1\n",
    "for rel in newdata[\"relation\"].unique():\n",
    "    relation[rel] = counter\n",
    "    counter += 1\n",
    "print(relation)"
   ]
  },
  {
   "cell_type": "code",
   "execution_count": 5,
   "metadata": {},
   "outputs": [
    {
     "name": "stdout",
     "output_type": "stream",
     "text": [
      "{'Servant': 1, 'Drayman': 2, 'Laundress': 3, 'At School': 4, 'Day Laborer': 5, 'Janitor': 6, 'Coachman': 7, 'Expressman': 8, 'Farm Laborer': 9, 'Mason': 10, 'Nurse': 11, 'Railroad Laborer': 12, 'Cook': 13, 'Housework': 14, 'Bartender': 15, 'Seamstress': 16, 'Carpenter': 17, 'Barber': 18, 'Gardener': 19, 'Porter': 20, 'Tailor': 21, 'Teamster': 22, 'Dishwasher (hotel)': 23, 'Bricklayer': 24, 'Baker': 25, 'Upholsterer': 26, 'Blacksmith': 27, 'Drummer': 28, 'Chopping Wood': 29, 'Hotel Waiter': 30, 'Clergyman': 31, 'Musician': 32, 'Office Girl': 33, 'Stock Raiser': 34, 'Mid-wife': 35, 'Teacher': 36, 'Gravedigger': 37, 'Yardman': 38, 'Sexton': 39, 'Painter': 40, 'Woodchopper': 41, 'Hairdresser': 42, 'Brick Mason': 43, 'Brick Burner': 44, 'Huckster': 45, 'Agent (Machines)': 46, 'Iron Molder': 47, 'Machinist': 48, 'Errand Boy': 49, 'Jeweler': 50, 'Waiter': 51, 'Cotton Sampler': 52, 'Fireman': 53, 'Grocer': 54, 'Shoemaker': 55, 'Laundryman': 56, 'Bale Hides': 57, 'Landlord': 58, 'Bottling (Brewery)': 59}\n"
     ]
    }
   ],
   "source": [
    "# Create dictionary to convert occupation into unique numbers\n",
    "occupation = {}\n",
    "counter = 1\n",
    "for occ in newdata[\"occupation\"].unique():\n",
    "    occupation[occ] = counter\n",
    "    counter += 1\n",
    "print(occupation)"
   ]
  },
  {
   "cell_type": "code",
   "execution_count": 30,
   "metadata": {},
   "outputs": [
    {
     "data": {
      "text/html": [
       "<div>\n",
       "<style scoped>\n",
       "    .dataframe tbody tr th:only-of-type {\n",
       "        vertical-align: middle;\n",
       "    }\n",
       "\n",
       "    .dataframe tbody tr th {\n",
       "        vertical-align: top;\n",
       "    }\n",
       "\n",
       "    .dataframe thead th {\n",
       "        text-align: right;\n",
       "    }\n",
       "</style>\n",
       "<table border=\"1\" class=\"dataframe\">\n",
       "  <thead>\n",
       "    <tr style=\"text-align: right;\">\n",
       "      <th></th>\n",
       "      <th>relation</th>\n",
       "      <th>color_race</th>\n",
       "      <th>sex</th>\n",
       "      <th>age_at_last_birthday</th>\n",
       "      <th>occupation</th>\n",
       "    </tr>\n",
       "  </thead>\n",
       "  <tbody>\n",
       "    <tr>\n",
       "      <th>0</th>\n",
       "      <td>1</td>\n",
       "      <td>1</td>\n",
       "      <td>0</td>\n",
       "      <td>26</td>\n",
       "      <td>1</td>\n",
       "    </tr>\n",
       "    <tr>\n",
       "      <th>1</th>\n",
       "      <td>1</td>\n",
       "      <td>1</td>\n",
       "      <td>1</td>\n",
       "      <td>27</td>\n",
       "      <td>2</td>\n",
       "    </tr>\n",
       "    <tr>\n",
       "      <th>2</th>\n",
       "      <td>2</td>\n",
       "      <td>1</td>\n",
       "      <td>0</td>\n",
       "      <td>25</td>\n",
       "      <td>3</td>\n",
       "    </tr>\n",
       "    <tr>\n",
       "      <th>3</th>\n",
       "      <td>1</td>\n",
       "      <td>1</td>\n",
       "      <td>0</td>\n",
       "      <td>25</td>\n",
       "      <td>1</td>\n",
       "    </tr>\n",
       "    <tr>\n",
       "      <th>4</th>\n",
       "      <td>3</td>\n",
       "      <td>1</td>\n",
       "      <td>0</td>\n",
       "      <td>8</td>\n",
       "      <td>4</td>\n",
       "    </tr>\n",
       "  </tbody>\n",
       "</table>\n",
       "</div>"
      ],
      "text/plain": [
       "   relation  color_race  sex age_at_last_birthday  occupation\n",
       "0         1           1    0                   26           1\n",
       "1         1           1    1                   27           2\n",
       "2         2           1    0                   25           3\n",
       "3         1           1    0                   25           1\n",
       "4         3           1    0                    8           4"
      ]
     },
     "execution_count": 30,
     "metadata": {},
     "output_type": "execute_result"
    }
   ],
   "source": [
    "newdata[\"relation\"].replace(relation, inplace=True) # replace relation text by number\n",
    "newdata[\"occupation\"].replace(occupation, inplace=True) # replace occupation text by number\n",
    "\n",
    "newdata.head()"
   ]
  },
  {
   "cell_type": "code",
   "execution_count": 53,
   "metadata": {},
   "outputs": [
    {
     "name": "stdout",
     "output_type": "stream",
     "text": [
      "(487, 4) (487,)\n"
     ]
    }
   ],
   "source": [
    "# METHOD 1: Using Logistic regression method\n",
    "X = newdata.drop([\"sex\"], axis=1)\n",
    "y = newdata[\"sex\"]\n",
    "\n",
    "print(X.shape, y.shape)"
   ]
  },
  {
   "cell_type": "code",
   "execution_count": 45,
   "metadata": {},
   "outputs": [],
   "source": [
    "# Split data for Train & test purpose\n",
    "from sklearn.model_selection import train_test_split\n",
    "X_train, X_test, y_train, y_test = train_test_split(X, y, random_state=185, test_size=1/3)"
   ]
  },
  {
   "cell_type": "code",
   "execution_count": 46,
   "metadata": {},
   "outputs": [
    {
     "name": "stdout",
     "output_type": "stream",
     "text": [
      "Training Data Score: 0.6697530864197531\n",
      "Testing Data Score: 0.6196319018404908\n"
     ]
    },
    {
     "name": "stderr",
     "output_type": "stream",
     "text": [
      "D:\\Users\\kshah\\Anaconda3\\lib\\site-packages\\sklearn\\linear_model\\logistic.py:433: FutureWarning: Default solver will be changed to 'lbfgs' in 0.22. Specify a solver to silence this warning.\n",
      "  FutureWarning)\n"
     ]
    }
   ],
   "source": [
    "from sklearn.linear_model import LogisticRegression\n",
    "classifier = LogisticRegression()\n",
    "\n",
    "classifier.fit(X_train,y_train)\n",
    "\n",
    "print(f\"Training Data Score: {classifier.score(X_train, y_train)}\")\n",
    "print(f\"Testing Data Score: {classifier.score(X_test, y_test)}\")"
   ]
  },
  {
   "cell_type": "code",
   "execution_count": 76,
   "metadata": {},
   "outputs": [],
   "source": [
    "# METHOD 2: Using K-mean clustering method\n",
    "\n",
    "from sklearn.cluster import KMeans\n",
    "kmeans = KMeans(n_clusters=59)\n",
    "\n",
    "# Fit the model to the data\n",
    "kmeans.fit(newdata)\n",
    "\n",
    "predicted_clusters = kmeans.predict(newdata)"
   ]
  },
  {
   "cell_type": "code",
   "execution_count": 80,
   "metadata": {
    "scrolled": true
   },
   "outputs": [
    {
     "data": {
      "image/png": "[encoded data removed]",
      "text/plain": [
       "<Figure size 432x288 with 1 Axes>"
      ]
     },
     "metadata": {
      "needs_background": "light"
     },
     "output_type": "display_data"
    }
   ],
   "source": [
    "import matplotlib.pyplot as plt\n",
    "\n",
    "plt.scatter(newdata[\"relation\"], newdata[\"occupation\"],c=predicted_clusters, s=50, cmap='viridis')\n",
    "plt.title(\"relation Vs occupation\")\n",
    "plt.xlabel(\"relation\")\n",
    "plt.ylabel(\"occupation\")\n",
    "plt.show()"
   ]
  },
  {
   "cell_type": "code",
   "execution_count": 83,
   "metadata": {},
   "outputs": [
    {
     "data": {
      "image/png": "[encoded data removed]",
      "text/plain": [
       "<Figure size 432x288 with 1 Axes>"
      ]
     },
     "metadata": {
      "needs_background": "light"
     },
     "output_type": "display_data"
    }
   ],
   "source": [
    "plt.scatter(newdata[\"color_race\"], newdata[\"occupation\"],c=predicted_clusters, s=150, cmap='viridis')\n",
    "plt.title(\"color_race Vs occupation\")\n",
    "plt.xlabel(\"color_race\")\n",
    "plt.ylabel(\"occupation\")\n",
    "plt.show()"
   ]
  },
  {
   "cell_type": "code",
   "execution_count": null,
   "metadata": {},
   "outputs": [],
   "source": []
  }
 ],
 "metadata": {
  "kernelspec": {
   "display_name": "Python 3",
   "language": "python",
   "name": "python3"
  },
  "language_info": {
   "codemirror_mode": {
    "name": "ipython",
    "version": 3
   },
   "file_extension": ".py",
   "mimetype": "text/x-python",
   "name": "python",
   "nbconvert_exporter": "python",
   "pygments_lexer": "ipython3",
   "version": "3.7.1"
  }
 },
 "nbformat": 4,
 "nbformat_minor": 2
}
